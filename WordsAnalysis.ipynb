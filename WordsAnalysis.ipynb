{
 "cells": [
  {
   "cell_type": "markdown",
   "metadata": {},
   "source": [
    "## WORD ANALYSIS\n",
    "\n",
    "This analysis searches through pubmed for papers that mention specific ERPs. It then scrapes the titles, words, and years of all those papers such that this data can be used for further analysis. \n",
    "\n",
    "Here:\n",
    "- Words analysis: scrapes for ERP papers, pulls out words in abstracts for analysis. "
   ]
  },
  {
   "cell_type": "code",
   "execution_count": 1,
   "metadata": {
    "collapsed": false
   },
   "outputs": [],
   "source": [
    "# Import ERPSC Code for Word Analysis\n",
    "from erpsc.words import *"
   ]
  },
  {
   "cell_type": "code",
   "execution_count": 2,
   "metadata": {
    "collapsed": true
   },
   "outputs": [],
   "source": [
    "# Initialize words-analysis object\n",
    "words = ERPSCWords()"
   ]
  },
  {
   "cell_type": "code",
   "execution_count": 3,
   "metadata": {
    "collapsed": true
   },
   "outputs": [],
   "source": [
    "# Add list of ERPs from file\n",
    "words.set_erps_file('erps.txt')"
   ]
  },
  {
   "cell_type": "code",
   "execution_count": null,
   "metadata": {
    "collapsed": false
   },
   "outputs": [],
   "source": [
    "# OR: Set small set of ERPs and terms for tests\n",
    "\n",
    "# Initialize test set of erp terms\n",
    "erps = ['P100', 'P300']\n",
    "\n",
    "# Set ERP terms\n",
    "words.set_erps(erps)"
   ]
  },
  {
   "cell_type": "code",
   "execution_count": 4,
   "metadata": {
    "collapsed": false
   },
   "outputs": [
    {
     "name": "stderr",
     "output_type": "stream",
     "text": [
      "/Users/thomasdonoghue/anaconda/lib/python2.7/site-packages/bs4/__init__.py:166: UserWarning: No parser was explicitly specified, so I'm using the best available HTML parser for this system (\"lxml\"). This usually isn't a problem, but if you run this code on another system, or in a different virtual environment, it may use a different parser and behave differently.\n",
      "\n",
      "To get rid of this warning, change this:\n",
      "\n",
      " BeautifulSoup([your markup])\n",
      "\n",
      "to this:\n",
      "\n",
      " BeautifulSoup([your markup], \"lxml\")\n",
      "\n",
      "  markup_type=markup_type))\n"
     ]
    }
   ],
   "source": [
    "# Scrape word data for all ERP abstracts\n",
    "words.scrape_data()"
   ]
  },
  {
   "cell_type": "code",
   "execution_count": 5,
   "metadata": {
    "collapsed": true
   },
   "outputs": [],
   "source": [
    "# Combine words from each article together\n",
    "words.combine_words()"
   ]
  },
  {
   "cell_type": "code",
   "execution_count": 6,
   "metadata": {
    "collapsed": false
   },
   "outputs": [],
   "source": [
    "# Compute frequency distributions for words for each ERP\n",
    "words.freq_dists()"
   ]
  },
  {
   "cell_type": "code",
   "execution_count": 7,
   "metadata": {
    "collapsed": false
   },
   "outputs": [
    {
     "name": "stdout",
     "output_type": "stream",
     "text": [
      "P50 :  (p , protein , associated , expression , levels , results , significantly , studies , increased , lag3 , \n",
      "P100 :  visual , log , nfκb , relb , processing , gene , patients , cells , changes , kinase , \n",
      "P200 :  auditory , component , compared , participants , results , processing , pain , also , placebo , speech , \n",
      "P300 :  visual , expression , categorization , cancer , mnte-2-pyp , results , study , showed , elderly , protein , \n",
      "P3a :  auditory , sensory , processing , cognitive , event-related , response , study , erp , neural , speech , \n",
      "P3b :  target , participants , attention , study , control , response , sensory , results , oddball , p3a , \n",
      "P400 :  e1a , complex , protein , n-terminal , study , end , chromatin , observed , histone , also , \n",
      "P600 :  processing , effect , n400 , erp , language , word , sentences , results , metaphor , context , \n",
      "N50 :  assembly , genome , sequence , length , genes , assembled , unigenes , reads , gene , transcriptome , \n",
      "N100 :  auditory , pain , sensory , processing , brain , speech , chronic , compared , used , potential , \n",
      "N170 :  faces , visual , processing , emotional , social , event-related , facial , face , study , elicited , \n",
      "N200 :  participants , memory , control , emotional , associated , face , results , event-related , arousal , cognitive , \n",
      "MMN :  auditory , speech , processing , results , mismatch , negativity , study , brain , language , responses , \n",
      "N2b :  study , ttn , (p , rbm20 , titin , could , patients , neck , glides , rare , \n",
      "N2c :  cell , squamous , treatment , neuronal , new , neck , lipids , carbene , lymph , transsynaptic , \n",
      "N270 :  processing , conflict , two , task , results , visual , different , stimuli , study , erp , \n",
      "N2pc :  attention , visual , target , attentional , search , objects , two , spatial , participants , results , \n",
      "N300 :  pm , related , prospective , brain , erp , results , used , showed , event-related , neural , \n",
      "N400 :  word , processing , priming , showed , effect , words , semantic , results , event-related , language , \n",
      "N600 :  negative , frontal , areas , left , results , potentials , right , urban , posterior , positive , \n",
      "C1 :  istamycin , alkyl , alcohol , (n , neurological , adult , curcumin , patients , type , isomer , \n",
      "LPC :  atx , effects , liver , fear , may , expression , results , acid , density , treatment , \n",
      "MRPC :  cells , cell , expression , frua , retinal , site , mrpc2 , promoter , binding , xanthus , \n",
      "CNV :  number , copy , cnvs , using , patients , genetic , tenascin-c , detection , variants , identified , \n",
      "PINV :  eiec , response , shigella , expression , control , virulence , grade , patients , negative , protein , \n",
      "ERN :  group , patients , task , performance , error , cognitive , monitoring , control , study , error-related , \n",
      "ELAN :  purkinje , cell , hearing , greater , dustfall , attention , child , results , cases , et , \n",
      "CPS :  extraction , (cps) , antioxidant , study , using , o. , counseling , hcps , present , results , \n",
      "LRP :  response , cell , (lrp) , growth , also , (p , cells , t. , lr , chinensis , \n",
      "LDN :  cell , expression , stress , hepcidin , treatment , er , tcf12 , protein , de , using , \n",
      "ORN :  strain , diet , sc , spike , infection , hs , 0.05) , avp , treatment , results , \n",
      "SEP :  single , fatigue , study , patients , learning , cells , japanese , population , based , results , \n",
      "VsEP :  vestibular , potentials , function , evoked , hair , mice , latencies , functional , results , cochlear , \n",
      "BP :  patients , effect , protein , c. , wbv , psk1 , may , temperate , first , salinity , \n"
     ]
    }
   ],
   "source": [
    "# Check which words are most frequency for each ERP\n",
    "words.check_words(10)"
   ]
  },
  {
   "cell_type": "code",
   "execution_count": 8,
   "metadata": {
    "collapsed": false
   },
   "outputs": [],
   "source": [
    "# Save pickle of word object\n",
    "words.save_pickle('test')"
   ]
  },
  {
   "cell_type": "code",
   "execution_count": 9,
   "metadata": {
    "collapsed": true
   },
   "outputs": [],
   "source": [
    "# Load word pickle object\n",
    "words = load_pickle_words('test')"
   ]
  },
  {
   "cell_type": "code",
   "execution_count": null,
   "metadata": {
    "collapsed": true
   },
   "outputs": [],
   "source": []
  }
 ],
 "metadata": {
  "kernelspec": {
   "display_name": "Python 2",
   "language": "python",
   "name": "python2"
  },
  "language_info": {
   "codemirror_mode": {
    "name": "ipython",
    "version": 2
   },
   "file_extension": ".py",
   "mimetype": "text/x-python",
   "name": "python",
   "nbconvert_exporter": "python",
   "pygments_lexer": "ipython2",
   "version": "2.7.11"
  }
 },
 "nbformat": 4,
 "nbformat_minor": 0
}
