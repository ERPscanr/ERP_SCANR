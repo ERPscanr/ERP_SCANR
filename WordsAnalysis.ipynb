{
 "cells": [
  {
   "cell_type": "markdown",
   "metadata": {},
   "source": [
    "## WORD ANALYSIS\n",
    "\n",
    "This analysis searches through pubmed for papers that mention specific ERPs. It then scrapes the titles, words, and years of all those papers such that this data can be used for further analysis. \n",
    "\n",
    "Here:\n",
    "- Words analysis: scrapes for ERP papers, pulls out words in abstracts for analysis. "
   ]
  },
  {
   "cell_type": "code",
   "execution_count": 1,
   "metadata": {
    "collapsed": false
   },
   "outputs": [],
   "source": [
    "# Import ERPSC Code for Word Analysis\n",
    "from erpsc.words import *"
   ]
  },
  {
   "cell_type": "code",
   "execution_count": 2,
   "metadata": {
    "collapsed": true
   },
   "outputs": [],
   "source": [
    "# Initialize words-analysis object\n",
    "words = ERPSCWords()"
   ]
  },
  {
   "cell_type": "code",
   "execution_count": 3,
   "metadata": {
    "collapsed": false
   },
   "outputs": [],
   "source": [
    "# Add list of ERPs from file, and list of exclusion words\n",
    "words.set_erps_file('erps.txt')\n",
    "words.set_exclusions_file('erps_exclude.txt')"
   ]
  },
  {
   "cell_type": "code",
   "execution_count": null,
   "metadata": {
    "collapsed": false
   },
   "outputs": [],
   "source": [
    "# OR: Set small set of ERPs and terms for tests\n",
    "\n",
    "# Initialize test set of erp terms\n",
    "erps = ['P100', 'P300']\n",
    "exc = ['protein', '']\n",
    "\n",
    "# Set ERP terms\n",
    "words.set_erps(erps)\n",
    "words.set_exclusions(exc)"
   ]
  },
  {
   "cell_type": "code",
   "execution_count": 4,
   "metadata": {
    "collapsed": false
   },
   "outputs": [
    {
     "name": "stderr",
     "output_type": "stream",
     "text": [
      "/Users/thomasdonoghue/anaconda/lib/python2.7/site-packages/bs4/__init__.py:166: UserWarning: No parser was explicitly specified, so I'm using the best available HTML parser for this system (\"lxml\"). This usually isn't a problem, but if you run this code on another system, or in a different virtual environment, it may use a different parser and behave differently.\n",
      "\n",
      "To get rid of this warning, change this:\n",
      "\n",
      " BeautifulSoup([your markup])\n",
      "\n",
      "to this:\n",
      "\n",
      " BeautifulSoup([your markup], \"lxml\")\n",
      "\n",
      "  markup_type=markup_type))\n"
     ]
    }
   ],
   "source": [
    "# Scrape word data for all ERP abstracts\n",
    "words.scrape_data()"
   ]
  },
  {
   "cell_type": "code",
   "execution_count": 5,
   "metadata": {
    "collapsed": true
   },
   "outputs": [],
   "source": [
    "# Combine words from each article together\n",
    "words.combine_words()"
   ]
  },
  {
   "cell_type": "code",
   "execution_count": 6,
   "metadata": {
    "collapsed": false
   },
   "outputs": [],
   "source": [
    "# Compute frequency distributions for words for each ERP\n",
    "words.freq_dists()"
   ]
  },
  {
   "cell_type": "code",
   "execution_count": 7,
   "metadata": {
    "collapsed": false
   },
   "outputs": [
    {
     "name": "stdout",
     "output_type": "stream",
     "text": [
      "P50 :  studies , brain , data , adolescence , drug , time , results , found , across , expression , sleep , melanomas , aas , associated , older , increased , using , adolescent , transmission , gene , \n",
      "P100 :  visual , cells , log , patients , phage , cell , l. , study , dt , cb , monocytogenes , evoked , emotional , expression , used , also , results , activation , bacteria , may , \n",
      "P200 :  auditory , component , compared , participants , results , processing , pain , also , placebo , speech , infant , n100 , study , music , whether , erp , perception , amplitude , cognitive , cells , \n",
      "P300 :  visual , cell , liver , categorization , results , auditory , proliferation , potential , effects , plumbagin , event-related , gpc3-as1 , cancer , density , elderly , study , processing , information , may , showed , \n",
      "P3a :  auditory , sensory , processing , cognitive , event-related , response , study , erp , neural , speech , p3b , behavioral , results , attention , increased , trials , negativity , older , showed , pd , \n",
      "P3b :  target , participants , attention , study , control , response , sensory , results , oddball , p3a , auditory , effects , stimuli , behavioral , task , processing , event-related , erp , may , attentional , \n",
      "P400 :  study , infants , faces , compared , erp , processing , induced , amplitude , brain , component , event-related , seizures , perception , social , suggest , face , observed , pic , p400, , results , \n",
      "P600 :  processing , effect , n400 , erp , language , word , sentences , results , metaphor , context , sentence , elicited , semantic , two , event-related , observed , also , words , learning , study , \n",
      "N50 :  genes , unigenes , transcriptome , expression , gene , length , sequencing , data , study , reads , used , obtained , raw , among , using , sequence , assembled , exercise , total , number , \n",
      "N100 :  auditory , pain , sensory , processing , brain , speech , chronic , compared , used , potential , placebo , different , neural , stimuli , acute , cortical , responses , sai , top-down , healthy , \n",
      "N170 :  faces , visual , processing , emotional , social , event-related , facial , face , study , elicited , effects , early , neutral , participants , perception , potential , results , information , words , stimuli , \n",
      "N200 :  participants , memory , control , emotional , associated , face , results , event-related , arousal , cognitive , patients , processing , brain , perceptual , study , top-down , stimuli , erp , ms , auditory , \n",
      "MMN :  auditory , speech , processing , results , mismatch , negativity , study , brain , language , responses , whether , present , sound , stimuli , using , compared , experience , stimulus , showed , neural , \n",
      "N2b :  study , (p , patients , could , oropharyngeal , neck , cancer , titin , glides , tumor , lexemes , level , outcomes , (δrrm) , high , carcinoma , see , rbm20 , lymph , cross-bridge , \n",
      "N2c :  complexes , diazoalkane , derivatives , ar1 , ar2 , carbene , using , processing , components , neuronal , new , length , bond, , attention , ph, , transsynaptic , ligand , neurons , react , weak , \n",
      "N270 :  processing , conflict , two , task , results , visual , different , stimuli , study , erp , cognitive , component , potential , information , elicited , target , children , condition , mismatch , amplitude , \n",
      "N2pc :  attention , visual , target , attentional , search , objects , two , spatial , participants , results , selection , targets , earlier , temporal , effects , features , task , information , face , faces , \n",
      "N300 :  pm , related , prospective , brain , erp , results , used , showed , event-related , neural , study , memory , erps , different , task , specific , significant , associated , amplitude , perceptual , \n",
      "N400 :  word , processing , priming , showed , effect , words , semantic , results , event-related , language , related , effects , l2 , target , speakers , face , learning , potentials , information , used , \n",
      "N600 :  negative , frontal , areas , left , results , potentials , right , urban , posterior , positive , erp , cortex , rural , semantic , trwc , women , one , associative , simulations , analysis , \n",
      "C1 :  alkyl , (n , alcohol , adult , curcumin , neurological , patients , type , isomer , using , fractures , radical , due , c1-inh , c2 , effect , study , clinical , significantly , injury , \n",
      "LPC :  atx , effects , results , fear , study , expression , density , human , acid , present , signaling , biomarkers , activation , memory , may , inhibitory , endothelial , also , cell , cells , \n",
      "MRPC :  expression , frua , mrp , developmental , complex , fruiting , protein , xanthus , transcription , binding , site , development , two , activity , promoter , mrpa , cells , gene , genes , myxococcus , \n",
      "CNV :  choroidal , retinal , tenascin-c , (cnv) , neovascularization , t2 , growth , study , ms , patients , endothelial , uncl-sema3e , t1 , neovascular , imaging , eyes , factor , rpd , oct , development , \n",
      "PINV :  response , expression , negative , control , cnv , patients , variation , activation , grade , healthy , gene , method , protein , loss , controls , according , cortical , study , pathological , virulence , \n",
      "ERN :  group , patients , task , performance , error , cognitive , monitoring , control , study , error-related , results , may , whether , negativity , response , thermal , errors , cases , oxygen , controls , \n",
      "ELAN :  hearing , results , dustfall , attention , child , language , trace , clinical , elements , use , may , breast , unfamiliar , tremor , beijing , type , greater , valve , ankle1 , features , \n",
      "CPS :  (cps) , prior , study , using , o. , children , counseling , hcps , present , eating , different , health , could , may , hierarchical , responses , child , well , differences , cognitions , \n",
      "LRP :  response , cell , (lrp) , growth , also , (p , cells , t. , lr , chinensis , distractor , protein , stem , retention , motor , identified , weight , formation , radical , task , \n",
      "LDN :  hepcidin , er , study , response , donor , de , pressure , novo , stress , expression , present , laparoscopic , milk , injury , well , nephrectomy , also , bmp , less , farms , \n",
      "ORN :  diet , sc , spike , results , infection , hs , 0.05) , avp , pigs , olfactory , surface , treatment , bone , amino , 21 , used , study , changes , plasma , visual , \n",
      "SEP :  single , fatigue , study , patients , learning , cells , japanese , population , based , results , cell , effect , cognitive , imagery , nurr1 , showed , symptoms , pollen , vs. , suicide , \n",
      "VsEP :  vestibular , evoked , group , hair , potentials , effect , stimulation , function , cells , latencies , control , significant , vagus , (vsep) , results , cochlear , guinea , brainstem , potential , animals , \n",
      "BP :  effect , may , patients , genetic , current , 10 , wbv , novel , body , divergence , study , temperate , including , hypertension. , however, , changes , host , likely , control , (bp) , \n"
     ]
    }
   ],
   "source": [
    "# Check which words are most frequency for each ERP\n",
    "words.check_words(20)"
   ]
  },
  {
   "cell_type": "code",
   "execution_count": null,
   "metadata": {
    "collapsed": false
   },
   "outputs": [],
   "source": [
    "# Save pickle of word object\n",
    "words.save_pickle('test')"
   ]
  },
  {
   "cell_type": "code",
   "execution_count": null,
   "metadata": {
    "collapsed": true
   },
   "outputs": [],
   "source": [
    "# Load word pickle object\n",
    "words = load_pickle_words('test')"
   ]
  },
  {
   "cell_type": "code",
   "execution_count": null,
   "metadata": {
    "collapsed": true
   },
   "outputs": [],
   "source": []
  }
 ],
 "metadata": {
  "kernelspec": {
   "display_name": "Python 2",
   "language": "python",
   "name": "python2"
  },
  "language_info": {
   "codemirror_mode": {
    "name": "ipython",
    "version": 2
   },
   "file_extension": ".py",
   "mimetype": "text/x-python",
   "name": "python",
   "nbconvert_exporter": "python",
   "pygments_lexer": "ipython2",
   "version": "2.7.11"
  }
 },
 "nbformat": 4,
 "nbformat_minor": 0
}
