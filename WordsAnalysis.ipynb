{
 "cells": [
  {
   "cell_type": "markdown",
   "metadata": {},
   "source": [
    "## WORD ANALYSIS\n",
    "\n",
    "This analysis searches through pubmed for papers that mention specific ERPs. It then scrapes the titles, words, and years of all those papers such that this data can be used for further analysis. \n",
    "\n",
    "Here:\n",
    "- Words analysis: scrapes for ERP papers, pulls out words in abstracts for analysis. "
   ]
  },
  {
   "cell_type": "code",
   "execution_count": 1,
   "metadata": {
    "collapsed": false
   },
   "outputs": [],
   "source": [
    "# Import ERPSC Code for Word Analysis\n",
    "from erpsc.words import *"
   ]
  },
  {
   "cell_type": "code",
   "execution_count": 2,
   "metadata": {
    "collapsed": true
   },
   "outputs": [],
   "source": [
    "# Initialize words-analysis object\n",
    "words = ERPSCWords()"
   ]
  },
  {
   "cell_type": "code",
   "execution_count": 3,
   "metadata": {
    "collapsed": false
   },
   "outputs": [],
   "source": [
    "# Add list of ERPs from file, and list of exclusion words\n",
    "words.set_erps_file('erps.txt')\n",
    "words.set_exclusions_file('erps_exclude.txt')"
   ]
  },
  {
   "cell_type": "code",
   "execution_count": null,
   "metadata": {
    "collapsed": false
   },
   "outputs": [],
   "source": [
    "# OR: Set small set of ERPs and terms for tests\n",
    "\n",
    "# Initialize test set of erp terms\n",
    "erps = ['P100', 'P300']\n",
    "exc = ['protein', '']\n",
    "\n",
    "# Set ERP terms\n",
    "words.set_erps(erps)\n",
    "words.set_exclusions(exc)"
   ]
  },
  {
   "cell_type": "code",
   "execution_count": 4,
   "metadata": {
    "collapsed": false
   },
   "outputs": [
    {
     "name": "stderr",
     "output_type": "stream",
     "text": [
      "/Users/thomasdonoghue/anaconda/lib/python2.7/site-packages/bs4/__init__.py:166: UserWarning: No parser was explicitly specified, so I'm using the best available HTML parser for this system (\"lxml\"). This usually isn't a problem, but if you run this code on another system, or in a different virtual environment, it may use a different parser and behave differently.\n",
      "\n",
      "To get rid of this warning, change this:\n",
      "\n",
      " BeautifulSoup([your markup])\n",
      "\n",
      "to this:\n",
      "\n",
      " BeautifulSoup([your markup], \"lxml\")\n",
      "\n",
      "  markup_type=markup_type))\n"
     ]
    }
   ],
   "source": [
    "# Scrape word data for all ERP abstracts\n",
    "words.scrape_data()"
   ]
  },
  {
   "cell_type": "code",
   "execution_count": 5,
   "metadata": {
    "collapsed": true
   },
   "outputs": [],
   "source": [
    "# Combine words from each article together\n",
    "words.combine_words()"
   ]
  },
  {
   "cell_type": "code",
   "execution_count": 6,
   "metadata": {
    "collapsed": false
   },
   "outputs": [],
   "source": [
    "# Compute frequency distributions for words for each ERP\n",
    "words.freq_dists()"
   ]
  },
  {
   "cell_type": "code",
   "execution_count": 8,
   "metadata": {
    "collapsed": false
   },
   "outputs": [
    {
     "name": "stdout",
     "output_type": "stream",
     "text": [
      "P50 :  studies , brain , data , adolescence , drug , time , results , found , \n",
      "P100 :  visual , cells , log , patients , phage , cell , l. , study , \n",
      "P200 :  auditory , component , compared , participants , results , processing , pain , also , \n",
      "P300 :  visual , cell , liver , categorization , results , auditory , proliferation , potential , \n",
      "P3a :  auditory , sensory , processing , cognitive , event-related , response , study , erp , \n",
      "P3b :  target , participants , attention , study , control , response , sensory , results , \n",
      "P400 :  study , infants , faces , compared , erp , processing , induced , amplitude , \n",
      "P600 :  processing , effect , n400 , erp , language , word , sentences , results , \n",
      "N50 :  genes , unigenes , transcriptome , expression , gene , length , sequencing , data , \n",
      "N100 :  auditory , pain , sensory , processing , brain , speech , chronic , compared , \n",
      "N170 :  faces , visual , processing , emotional , social , event-related , facial , face , \n",
      "N200 :  participants , memory , control , emotional , associated , face , results , event-related , \n",
      "MMN :  auditory , speech , processing , results , mismatch , negativity , study , brain , \n",
      "N2b :  study , (p , patients , could , oropharyngeal , neck , cancer , titin , \n",
      "N2c :  complexes , diazoalkane , derivatives , ar1 , ar2 , carbene , using , processing , \n",
      "N270 :  processing , conflict , two , task , results , visual , different , stimuli , \n",
      "N2pc :  attention , visual , target , attentional , search , objects , two , spatial , \n",
      "N300 :  pm , related , prospective , brain , erp , results , used , showed , \n",
      "N400 :  word , processing , priming , showed , effect , words , semantic , results , \n",
      "N600 :  negative , frontal , areas , left , results , potentials , right , urban , \n",
      "C1 :  alkyl , (n , alcohol , adult , curcumin , neurological , patients , type , \n",
      "LPC :  atx , effects , results , fear , study , expression , density , human , \n",
      "MRPC :  expression , frua , mrp , developmental , complex , fruiting , protein , xanthus , \n",
      "CNV :  choroidal , retinal , tenascin-c , (cnv) , neovascularization , t2 , growth , study , \n",
      "PINV :  response , expression , negative , control , cnv , patients , variation , activation , \n",
      "ERN :  group , patients , task , performance , error , cognitive , monitoring , control , \n",
      "ELAN :  hearing , results , dustfall , attention , child , language , trace , clinical , \n",
      "CPS :  (cps) , prior , study , using , o. , children , counseling , hcps , \n",
      "LRP :  response , cell , (lrp) , growth , also , (p , cells , t. , \n",
      "LDN :  hepcidin , er , study , response , donor , de , pressure , novo , \n",
      "ORN :  diet , sc , spike , results , infection , hs , 0.05) , avp , \n",
      "SEP :  single , fatigue , study , patients , learning , cells , japanese , population , \n",
      "VsEP :  vestibular , evoked , group , hair , potentials , effect , stimulation , function , \n",
      "BP :  effect , may , patients , genetic , current , 10 , wbv , novel , \n"
     ]
    }
   ],
   "source": [
    "# Check which words are most frequency for each ERP\n",
    "words.check_words(8)"
   ]
  },
  {
   "cell_type": "code",
   "execution_count": null,
   "metadata": {
    "collapsed": false
   },
   "outputs": [],
   "source": [
    "# Save pickle of word object\n",
    "words.save_pickle('test')"
   ]
  },
  {
   "cell_type": "code",
   "execution_count": null,
   "metadata": {
    "collapsed": true
   },
   "outputs": [],
   "source": [
    "# Load word pickle object\n",
    "words = load_pickle_words('test')"
   ]
  },
  {
   "cell_type": "code",
   "execution_count": null,
   "metadata": {
    "collapsed": true
   },
   "outputs": [],
   "source": []
  }
 ],
 "metadata": {
  "kernelspec": {
   "display_name": "Python 2",
   "language": "python",
   "name": "python2"
  },
  "language_info": {
   "codemirror_mode": {
    "name": "ipython",
    "version": 2
   },
   "file_extension": ".py",
   "mimetype": "text/x-python",
   "name": "python",
   "nbconvert_exporter": "python",
   "pygments_lexer": "ipython2",
   "version": "2.7.11"
  }
 },
 "nbformat": 4,
 "nbformat_minor": 0
}
