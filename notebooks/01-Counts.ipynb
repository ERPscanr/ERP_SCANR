{
 "cells": [
  {
   "cell_type": "markdown",
   "metadata": {},
   "source": [
    "# Counts Analysis\n",
    "\n",
    "Co-occurence of terms analysis: check how often pre-selected cognitive terms appear in abstracts with ERP terms. \n",
    "\n",
    "This analysis searches through pubmed for papers that contain specified ERP and selected association terms.\n",
    "\n",
    "Data extracted is the count of the number of papers with both terms. This is used to infer the associated terms for each ERP."
   ]
  },
  {
   "cell_type": "code",
   "execution_count": 1,
   "metadata": {},
   "outputs": [],
   "source": [
    "%matplotlib inline\n",
    "\n",
    "import numpy as np\n",
    "import pandas as pd\n",
    "from scipy.stats import normaltest\n",
    "from sklearn.metrics.pairwise import cosine_similarity\n",
    "\n",
    "from lisc import Counts\n",
    "from lisc.utils import load_object\n",
    "from lisc.plts.counts import plot_matrix, plot_clustermap, plot_dendrogram\n",
    "\n",
    "from plts.group import plot_count_hist, plot_time_assocs"
   ]
  },
  {
   "cell_type": "markdown",
   "metadata": {},
   "source": [
    "## Setup"
   ]
  },
  {
   "cell_type": "code",
   "execution_count": 2,
   "metadata": {},
   "outputs": [],
   "source": [
    "# Settings\n",
    "CUR_DATA = 'load'               # 'load', 'file', 'test'\n",
    "TERM_TYPE = 'cognitive'         # 'cognitive', 'disease'\n",
    "SAVE_FIG = False"
   ]
  },
  {
   "cell_type": "code",
   "execution_count": 3,
   "metadata": {},
   "outputs": [],
   "source": [
    "# Set the location of the terms\n",
    "term_dir = '../terms/'"
   ]
  },
  {
   "cell_type": "code",
   "execution_count": 4,
   "metadata": {},
   "outputs": [],
   "source": [
    "# Initialize object for term count co-occurences\n",
    "counts = Counts()"
   ]
  },
  {
   "cell_type": "code",
   "execution_count": 5,
   "metadata": {},
   "outputs": [],
   "source": [
    "# Load ERPS and terms from file\n",
    "if CUR_DATA == 'file':\n",
    "\n",
    "    counts.add_terms_file('erps.txt', dim='A', directory=term_dir)\n",
    "    counts.add_terms_file('cognitive.txt', dim='B', directory=term_dir)    \n",
    "\n",
    "# OR: Set small set of ERPs and terms for tests\n",
    "elif CUR_DATA == 'test':\n",
    "\n",
    "    # Small test set of words\n",
    "    erps = [['P100', 'P1'], 'N400']\n",
    "    excludes = ['', ['protein', 'gene', 'cell']]\n",
    "    cog_terms = ['language', 'memory'] \n",
    "\n",
    "    # Add ERPs and terms\n",
    "    counts.add_terms(erps, dim='A')\n",
    "    counts.add_terms(excludes, term_type='exclusions', dim='A')\n",
    "    counts.add_terms(cog_terms, dim='B')\n",
    "\n",
    "# Load from pickle file\n",
    "elif CUR_DATA == 'load':\n",
    "\n",
    "    name = 'DisScrape.p'\n",
    "    counts = load_object(name)#, directory='.')\n",
    "\n",
    "else: \n",
    "    raise ValueError('Data setting not understood.')"
   ]
  },
  {
   "cell_type": "code",
   "execution_count": 6,
   "metadata": {},
   "outputs": [],
   "source": [
    "# If not loading, run the scrape\n",
    "if CUR_DATA in ['file', 'test']:\n",
    "    \n",
    "    # Scrape the co-occurence of terms data\n",
    "    counts.run_collection(db='pubmed', verbose=True)\n",
    "    \n",
    "    # Save pickle file of results\n",
    "    save_object(counts, 'test2')"
   ]
  },
  {
   "cell_type": "markdown",
   "metadata": {},
   "source": [
    "## Scrape Information"
   ]
  },
  {
   "cell_type": "code",
   "execution_count": 7,
   "metadata": {},
   "outputs": [
    {
     "data": {
      "text/plain": [
       "{'dbname': 'pubmed',\n",
       " 'menuname': 'PubMed',\n",
       " 'description': 'PubMed bibliographic record',\n",
       " 'dbbuild': 'Build210119-2212m.3',\n",
       " 'count': '32034250',\n",
       " 'lastupdate': '2021/01/20 15:07'}"
      ]
     },
     "execution_count": 7,
     "metadata": {},
     "output_type": "execute_result"
    }
   ],
   "source": [
    "# Check database information\n",
    "counts.meta_data.db_info"
   ]
  },
  {
   "cell_type": "code",
   "execution_count": 8,
   "metadata": {},
   "outputs": [
    {
     "data": {
      "text/plain": [
       "{'n_requests': 11,\n",
       " 'wait_time': 0.3333333333333333,\n",
       " 'start_time': '15:43:57 Thursday 21 January 2021',\n",
       " 'end_time': '15:44:03 Thursday 21 January 2021',\n",
       " 'logging': None}"
      ]
     },
     "execution_count": 8,
     "metadata": {},
     "output_type": "execute_result"
    }
   ],
   "source": [
    "# Check requester details\n",
    "counts.meta_data.requester"
   ]
  },
  {
   "cell_type": "markdown",
   "metadata": {},
   "source": [
    "# Global Summaries"
   ]
  },
  {
   "cell_type": "code",
   "execution_count": 9,
   "metadata": {},
   "outputs": [
    {
     "name": "stdout",
     "output_type": "stream",
     "text": [
      "The total # of ERP papers is \t\t 2081\n"
     ]
    },
    {
     "data": {
      "image/png": "[encoded data removed]",
      "text/plain": [
       "<Figure size 432x360 with 1 Axes>"
      ]
     },
     "metadata": {
      "needs_background": "light"
     },
     "output_type": "display_data"
    }
   ],
   "source": [
    "# Check the distribution of ERP papers\n",
    "print('The total # of ERP papers is \\t\\t {:.0f}'.format(sum(counts.terms['A'].counts)))\n",
    "#print('Test for normality (log-spaced) \\t t-val: {:1.2f} \\t p-val {:1.2f}'.format(\\\n",
    "#    *normaltest(np.log10(counts.terms['A'].counts))))\n",
    "plot_count_hist(np.log10(counts.terms['A'].counts))"
   ]
  },
  {
   "cell_type": "code",
   "execution_count": 10,
   "metadata": {},
   "outputs": [
    {
     "name": "stdout",
     "output_type": "stream",
     "text": [
      "The total # of association papers is \t\t 591863\n"
     ]
    },
    {
     "data": {
      "image/png": "[encoded data removed]",
      "text/plain": [
       "<Figure size 432x360 with 1 Axes>"
      ]
     },
     "metadata": {
      "needs_background": "light"
     },
     "output_type": "display_data"
    }
   ],
   "source": [
    "# Check the distribution of ERP papers\n",
    "print('The total # of association papers is \\t\\t {:.0f}'.format(sum(counts.terms['B'].counts)))\n",
    "#print('Test for normality (log-spaced) \\t t-val: {:1.2f} \\t p-val {:1.2f}'.format(\\\n",
    "#    *normaltest(np.log10(counts.terms['B'].counts))))\n",
    "plot_count_hist(np.log10(counts.terms['B'].counts))"
   ]
  },
  {
   "cell_type": "markdown",
   "metadata": {},
   "source": [
    "# Check Counts"
   ]
  },
  {
   "cell_type": "code",
   "execution_count": 11,
   "metadata": {},
   "outputs": [
    {
     "name": "stdout",
     "output_type": "stream",
     "text": [
      "The most studied term is  'N170'  with  1346  articles.\n",
      "The most studied term is  'visual'  with  435325  articles.\n"
     ]
    }
   ],
   "source": [
    "# Check the terms with the most papers\n",
    "counts.check_top(dim='A')\n",
    "counts.check_top(dim='B')"
   ]
  },
  {
   "cell_type": "code",
   "execution_count": 12,
   "metadata": {},
   "outputs": [
    {
     "name": "stdout",
     "output_type": "stream",
     "text": [
      "The number of documents found for each search term is:\n",
      "  'P600'   -    735\n",
      "  'N170'   -   1346\n"
     ]
    }
   ],
   "source": [
    "# Check how many papers were found for each ERP term\n",
    "counts.check_counts(dim='A')"
   ]
  },
  {
   "cell_type": "code",
   "execution_count": 13,
   "metadata": {},
   "outputs": [
    {
     "name": "stdout",
     "output_type": "stream",
     "text": [
      "The number of documents found for each search term is:\n",
      "  'language'   -   156538\n",
      "  'visual'     -   435325\n"
     ]
    }
   ],
   "source": [
    "# Check how many papers were found for each association term\n",
    "counts.check_counts(dim='B')"
   ]
  },
  {
   "cell_type": "code",
   "execution_count": 14,
   "metadata": {},
   "outputs": [
    {
     "name": "stdout",
     "output_type": "stream",
     "text": [
      "For  'P600'  the highest association is  'language'  with         316\n",
      "For  'N170'  the highest association is  'visual'    with         558\n"
     ]
    }
   ],
   "source": [
    "# Check the most commonly associated association term for each ERP\n",
    "counts.check_data()"
   ]
  },
  {
   "cell_type": "code",
   "execution_count": 15,
   "metadata": {},
   "outputs": [
    {
     "name": "stdout",
     "output_type": "stream",
     "text": [
      "For  'language'  the highest association is  'P600'  with         316\n",
      "For  'visual'    the highest association is  'N170'  with         558\n"
     ]
    }
   ],
   "source": [
    "# Check the most commonly associated ERP for each term\n",
    "counts.check_data(dim='B')"
   ]
  },
  {
   "cell_type": "markdown",
   "metadata": {},
   "source": [
    "## Select ERPs with enough articles"
   ]
  },
  {
   "cell_type": "code",
   "execution_count": 16,
   "metadata": {},
   "outputs": [
    {
     "data": {
      "text/plain": [
       "2"
      ]
     },
     "execution_count": 16,
     "metadata": {},
     "output_type": "execute_result"
    }
   ],
   "source": [
    "# Check how many ERPs currently\n",
    "counts.terms['A'].n_terms"
   ]
  },
  {
   "cell_type": "code",
   "execution_count": 17,
   "metadata": {},
   "outputs": [
    {
     "data": {
      "text/plain": [
       "2"
      ]
     },
     "execution_count": 17,
     "metadata": {},
     "output_type": "execute_result"
    }
   ],
   "source": [
    "# Drop to only keep ERPs with at least 50 papers\n",
    "counts.drop_data(50, dim='A')\n",
    "counts.terms['A'].n_terms"
   ]
  },
  {
   "cell_type": "markdown",
   "metadata": {},
   "source": [
    "## Group Level Plots"
   ]
  },
  {
   "cell_type": "code",
   "execution_count": 18,
   "metadata": {},
   "outputs": [],
   "source": [
    "# Compute the normalized score (percent association)\n",
    "counts.compute_score('normalize')"
   ]
  },
  {
   "cell_type": "code",
   "execution_count": 19,
   "metadata": {},
   "outputs": [],
   "source": [
    "# Grab labels, for convenience\n",
    "erp_labels = counts.terms['A'].labels\n",
    "term_labels = counts.terms['B'].labels"
   ]
  },
  {
   "cell_type": "code",
   "execution_count": 20,
   "metadata": {},
   "outputs": [
    {
     "data": {
      "image/png": "[encoded data removed]",
      "text/plain": [
       "<Figure size 432x288 with 2 Axes>"
      ]
     },
     "metadata": {
      "needs_background": "light"
     },
     "output_type": "display_data"
    }
   ],
   "source": [
    "# Plot the matrix of percent associations - ERPs & terms\n",
    "plot_matrix(counts.score, term_labels, erp_labels)#, figsize=(4, 4))"
   ]
  },
  {
   "cell_type": "markdown",
   "metadata": {},
   "source": [
    "### Similarity across ERPs & terms"
   ]
  },
  {
   "cell_type": "code",
   "execution_count": 21,
   "metadata": {},
   "outputs": [],
   "source": [
    "# Calculate similarity between all ERPs (based on term association percents)\n",
    "sim_erps = cosine_similarity(counts.score)"
   ]
  },
  {
   "cell_type": "code",
   "execution_count": 22,
   "metadata": {},
   "outputs": [
    {
     "data": {
      "image/png": "[encoded data removed]",
      "text/plain": [
       "<Figure size 432x288 with 2 Axes>"
      ]
     },
     "metadata": {
      "needs_background": "light"
     },
     "output_type": "display_data"
    }
   ],
   "source": [
    "# Plot similarity matrix between ERPs\n",
    "plot_matrix(sim_erps, erp_labels, erp_labels, square=True)#, figsize=(4, 4))"
   ]
  },
  {
   "cell_type": "code",
   "execution_count": 23,
   "metadata": {},
   "outputs": [],
   "source": [
    "# Calculate similarity between all terms (based on their associated ERPs)\n",
    "sim_terms = cosine_similarity(counts.score.T)"
   ]
  },
  {
   "cell_type": "code",
   "execution_count": 24,
   "metadata": {},
   "outputs": [
    {
     "data": {
      "image/png": "[encoded data removed]",
      "text/plain": [
       "<Figure size 432x288 with 2 Axes>"
      ]
     },
     "metadata": {
      "needs_background": "light"
     },
     "output_type": "display_data"
    }
   ],
   "source": [
    "# Plot similarity matrix between ERPs\n",
    "plot_matrix(sim_terms, term_labels, term_labels, square=True)"
   ]
  },
  {
   "cell_type": "markdown",
   "metadata": {},
   "source": [
    "### Clustermaps"
   ]
  },
  {
   "cell_type": "code",
   "execution_count": 25,
   "metadata": {},
   "outputs": [
    {
     "data": {
      "image/png": "[encoded data removed]",
      "text/plain": [
       "<Figure size 720x720 with 4 Axes>"
      ]
     },
     "metadata": {},
     "output_type": "display_data"
    }
   ],
   "source": [
    "# Plot a clustermap, clustering ERPs and terms based on similarity\n",
    "plot_clustermap(counts.score, term_labels, erp_labels, cmap='blue')"
   ]
  },
  {
   "cell_type": "code",
   "execution_count": 26,
   "metadata": {},
   "outputs": [
    {
     "data": {
      "image/png": "[encoded data removed]",
      "text/plain": [
       "<Figure size 720x720 with 4 Axes>"
      ]
     },
     "metadata": {},
     "output_type": "display_data"
    }
   ],
   "source": [
    "# Clustermap of ERP similarity\n",
    "plot_clustermap(sim_erps, erp_labels, erp_labels, 'blue', save_fig=SAVE_FIG)"
   ]
  },
  {
   "cell_type": "code",
   "execution_count": 27,
   "metadata": {},
   "outputs": [
    {
     "data": {
      "image/png": "[encoded data removed]",
      "text/plain": [
       "<Figure size 720x720 with 4 Axes>"
      ]
     },
     "metadata": {},
     "output_type": "display_data"
    }
   ],
   "source": [
    "# Plot the clustermap of term similarity\n",
    "plot_clustermap(sim_terms, term_labels, term_labels, 'blue', save_fig=SAVE_FIG)"
   ]
  },
  {
   "cell_type": "markdown",
   "metadata": {},
   "source": [
    "### Dendrograms"
   ]
  },
  {
   "cell_type": "code",
   "execution_count": 28,
   "metadata": {},
   "outputs": [
    {
     "data": {
      "image/png": "[encoded data removed]",
      "text/plain": [
       "<Figure size 432x288 with 1 Axes>"
      ]
     },
     "metadata": {},
     "output_type": "display_data"
    }
   ],
   "source": [
    "# Plot dendrogram of ERPs, based on percent associations with terms\n",
    "plot_dendrogram(counts.score, erp_labels)"
   ]
  },
  {
   "cell_type": "code",
   "execution_count": 29,
   "metadata": {},
   "outputs": [
    {
     "data": {
      "image/png": "[encoded data removed]",
      "text/plain": [
       "<Figure size 432x288 with 1 Axes>"
      ]
     },
     "metadata": {},
     "output_type": "display_data"
    }
   ],
   "source": [
    "# Plot dendrogram of termss, based on percent associations with ERPs\n",
    "plot_dendrogram(counts.score.T, term_labels)"
   ]
  },
  {
   "cell_type": "markdown",
   "metadata": {},
   "source": [
    "### Function correlates across time"
   ]
  },
  {
   "cell_type": "code",
   "execution_count": 30,
   "metadata": {},
   "outputs": [
    {
     "data": {
      "text/plain": [
       "2"
      ]
     },
     "execution_count": 30,
     "metadata": {},
     "output_type": "execute_result"
    }
   ],
   "source": [
    "# Drop to most common ERPs, and check how many are left\n",
    "counts.drop_data(100)\n",
    "counts.terms['A'].n_terms"
   ]
  },
  {
   "cell_type": "code",
   "execution_count": 31,
   "metadata": {},
   "outputs": [],
   "source": [
    "import numpy as np\n",
    "\n",
    "def extract_time_associations(counts):\n",
    "    \"\"\"Get time associations from canonically named ERP components.\"\"\"\n",
    "    \n",
    "    time_associations = []\n",
    "    \n",
    "    for erp_ind, erp in enumerate(counts.terms['A'].labels):\n",
    "\n",
    "        # List is: [word, P or N, latency]\n",
    "        temp  = [None, None, None]\n",
    "\n",
    "        # Get P/N & latency for ERPs with naming convention\n",
    "        if erp[1:].isdigit():\n",
    "\n",
    "            # Get P or N\n",
    "            if erp[0] == 'P':\n",
    "                temp[1] = 'P'\n",
    "            elif erp[0] == 'N':\n",
    "                temp[1] = 'N' \n",
    "\n",
    "            # Get latency\n",
    "            temp[2] = int(erp[1:])\n",
    "\n",
    "            # Get association\n",
    "            term_ind = np.argmax(counts.score[erp_ind, :])\n",
    "            temp[0] = counts.terms['B'].terms[term_ind][0]\n",
    "\n",
    "            # Collect ERP data\n",
    "            time_associations.append(temp)\n",
    "    \n",
    "    return time_associations"
   ]
  },
  {
   "cell_type": "code",
   "execution_count": 32,
   "metadata": {},
   "outputs": [
    {
     "data": {
      "image/png": "[encoded data removed]",
      "text/plain": [
       "<Figure size 864x360 with 1 Axes>"
      ]
     },
     "metadata": {},
     "output_type": "display_data"
    }
   ],
   "source": [
    "time_associations = extract_time_associations(counts)\n",
    "plot_time_assocs(time_associations)"
   ]
  }
 ],
 "metadata": {
  "anaconda-cloud": {},
  "kernelspec": {
   "display_name": "Python 3",
   "language": "python",
   "name": "python3"
  },
  "language_info": {
   "codemirror_mode": {
    "name": "ipython",
    "version": 3
   },
   "file_extension": ".py",
   "mimetype": "text/x-python",
   "name": "python",
   "nbconvert_exporter": "python",
   "pygments_lexer": "ipython3",
   "version": "3.8.3"
  }
 },
 "nbformat": 4,
 "nbformat_minor": 1
}
