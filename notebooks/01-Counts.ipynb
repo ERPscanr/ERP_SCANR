{
 "cells": [
  {
   "cell_type": "markdown",
   "metadata": {},
   "source": [
    "# Counts Analysis\n",
    "\n",
    "Co-occurence of terms analysis: check how often pre-selected cognitive terms appear in abstracts with ERP terms. \n",
    "\n",
    "This analysis searches through pubmed for papers that contain specified ERP and selected association terms.\n",
    "\n",
    "Data extracted is the count of the number of papers with both terms. This is used to infer the associated terms for each ERP."
   ]
  },
  {
   "cell_type": "code",
   "execution_count": 1,
   "metadata": {},
   "outputs": [],
   "source": [
    "%matplotlib inline\n",
    "\n",
    "import numpy as np\n",
    "from scipy.stats import normaltest\n",
    "\n",
    "from lisc import Counts\n",
    "from lisc.utils import SCDB, load_object\n",
    "from lisc.plts.counts import plot_matrix, plot_clustermap, plot_dendrogram"
   ]
  },
  {
   "cell_type": "code",
   "execution_count": 2,
   "metadata": {},
   "outputs": [],
   "source": [
    "# Import custom project code\n",
    "import sys\n",
    "sys.path.append('../code')\n",
    "from plts import plot_count_hist, plot_time_associations\n",
    "from analysis import get_time_associations"
   ]
  },
  {
   "cell_type": "markdown",
   "metadata": {},
   "source": [
    "## Setup"
   ]
  },
  {
   "cell_type": "code",
   "execution_count": 3,
   "metadata": {},
   "outputs": [],
   "source": [
    "# Settings\n",
    "SAVE_FIG = False"
   ]
  },
  {
   "cell_type": "code",
   "execution_count": 4,
   "metadata": {},
   "outputs": [],
   "source": [
    "# Set the file locations\n",
    "term_dir = '../terms/'\n",
    "db = SCDB('../data/')\n",
    "\n",
    "# Set the name of the file to load\n",
    "name = 'test'         # 'cognitive', 'disease', 'test'"
   ]
  },
  {
   "cell_type": "code",
   "execution_count": 5,
   "metadata": {},
   "outputs": [],
   "source": [
    "# Load the counts object\n",
    "counts = load_object('counts_' + name, directory=db)"
   ]
  },
  {
   "cell_type": "markdown",
   "metadata": {},
   "source": [
    "## Scrape Information"
   ]
  },
  {
   "cell_type": "code",
   "execution_count": 6,
   "metadata": {},
   "outputs": [
    {
     "data": {
      "text/plain": [
       "{'dbname': 'pubmed',\n",
       " 'menuname': 'PubMed',\n",
       " 'description': 'PubMed bibliographic record',\n",
       " 'dbbuild': 'Build210124-1313.1',\n",
       " 'count': '32053519',\n",
       " 'lastupdate': '2021/01/24 18:00'}"
      ]
     },
     "execution_count": 6,
     "metadata": {},
     "output_type": "execute_result"
    }
   ],
   "source": [
    "# Check database information\n",
    "counts.meta_data.db_info"
   ]
  },
  {
   "cell_type": "code",
   "execution_count": 7,
   "metadata": {},
   "outputs": [
    {
     "data": {
      "text/plain": [
       "{'n_requests': 16,\n",
       " 'wait_time': 0.1,\n",
       " 'start_time': '23:49:54 Monday 25 January 2021',\n",
       " 'end_time': '23:49:59 Monday 25 January 2021',\n",
       " 'logging': None}"
      ]
     },
     "execution_count": 7,
     "metadata": {},
     "output_type": "execute_result"
    }
   ],
   "source": [
    "# Check requester details\n",
    "counts.meta_data.requester"
   ]
  },
  {
   "cell_type": "markdown",
   "metadata": {},
   "source": [
    "# Global Summaries"
   ]
  },
  {
   "cell_type": "code",
   "execution_count": 8,
   "metadata": {},
   "outputs": [
    {
     "name": "stdout",
     "output_type": "stream",
     "text": [
      "The total # of ERP papers is \t\t 4617\n"
     ]
    },
    {
     "data": {
      "image/png": "[encoded data removed]",
      "text/plain": [
       "<Figure size 432x360 with 1 Axes>"
      ]
     },
     "metadata": {
      "needs_background": "light"
     },
     "output_type": "display_data"
    }
   ],
   "source": [
    "# Check the distribution of ERP papers\n",
    "print('The total # of ERP papers is \\t\\t {:.0f}'.format(sum(counts.terms['A'].counts)))\n",
    "#print('Test for normality (log-spaced) \\t t-val: {:1.2f} \\t p-val {:1.2f}'.format(\\\n",
    "#    *normaltest(np.log10(counts.terms['A'].counts))))\n",
    "plot_count_hist(np.log10(counts.terms['A'].counts))"
   ]
  },
  {
   "cell_type": "code",
   "execution_count": 9,
   "metadata": {},
   "outputs": [
    {
     "name": "stdout",
     "output_type": "stream",
     "text": [
      "The total # of association papers is \t\t 592235\n"
     ]
    },
    {
     "data": {
      "image/png": "[encoded data removed]",
      "text/plain": [
       "<Figure size 432x360 with 1 Axes>"
      ]
     },
     "metadata": {
      "needs_background": "light"
     },
     "output_type": "display_data"
    }
   ],
   "source": [
    "# Check the distribution of ERP papers\n",
    "print('The total # of association papers is \\t\\t {:.0f}'.format(sum(counts.terms['B'].counts)))\n",
    "#print('Test for normality (log-spaced) \\t t-val: {:1.2f} \\t p-val {:1.2f}'.format(\\\n",
    "#    *normaltest(np.log10(counts.terms['B'].counts))))\n",
    "plot_count_hist(np.log10(counts.terms['B'].counts))"
   ]
  },
  {
   "cell_type": "markdown",
   "metadata": {},
   "source": [
    "# Check Counts"
   ]
  },
  {
   "cell_type": "code",
   "execution_count": 10,
   "metadata": {},
   "outputs": [
    {
     "name": "stdout",
     "output_type": "stream",
     "text": [
      "The most studied term is  'N400'  with  2535  articles.\n",
      "The most studied term is  'visual'  with  435580  articles.\n"
     ]
    }
   ],
   "source": [
    "# Check the terms with the most papers\n",
    "counts.check_top(dim='A')\n",
    "counts.check_top(dim='B')"
   ]
  },
  {
   "cell_type": "code",
   "execution_count": 11,
   "metadata": {},
   "outputs": [
    {
     "name": "stdout",
     "output_type": "stream",
     "text": [
      "The number of documents found for each search term is:\n",
      "  'P600'   -    735\n",
      "  'N170'   -   1347\n",
      "  'N400'   -   2535\n"
     ]
    }
   ],
   "source": [
    "# Check how many papers were found for each ERP term\n",
    "counts.check_counts(dim='A')"
   ]
  },
  {
   "cell_type": "code",
   "execution_count": 12,
   "metadata": {},
   "outputs": [
    {
     "name": "stdout",
     "output_type": "stream",
     "text": [
      "The number of documents found for each search term is:\n",
      "  'language'   -   156655\n",
      "  'visual'     -   435580\n"
     ]
    }
   ],
   "source": [
    "# Check how many papers were found for each association term\n",
    "counts.check_counts(dim='B')"
   ]
  },
  {
   "cell_type": "code",
   "execution_count": 13,
   "metadata": {},
   "outputs": [
    {
     "name": "stdout",
     "output_type": "stream",
     "text": [
      "For  'P600'  the highest association is  'language'  with         316\n",
      "For  'N170'  the highest association is  'visual'    with         558\n",
      "For  'N400'  the highest association is  'language'  with         847\n"
     ]
    }
   ],
   "source": [
    "# Check the most commonly associated association term for each ERP\n",
    "counts.check_data()"
   ]
  },
  {
   "cell_type": "code",
   "execution_count": 14,
   "metadata": {},
   "outputs": [
    {
     "name": "stdout",
     "output_type": "stream",
     "text": [
      "For  'language'  the highest association is  'N400'  with         847\n",
      "For  'visual'    the highest association is  'N170'  with         558\n"
     ]
    }
   ],
   "source": [
    "# Check the most commonly associated ERP for each term\n",
    "counts.check_data(dim='B')"
   ]
  },
  {
   "cell_type": "markdown",
   "metadata": {},
   "source": [
    "## Select ERPs with enough articles"
   ]
  },
  {
   "cell_type": "code",
   "execution_count": 15,
   "metadata": {},
   "outputs": [
    {
     "data": {
      "text/plain": [
       "3"
      ]
     },
     "execution_count": 15,
     "metadata": {},
     "output_type": "execute_result"
    }
   ],
   "source": [
    "# Check how many ERPs currently\n",
    "counts.terms['A'].n_terms"
   ]
  },
  {
   "cell_type": "code",
   "execution_count": 16,
   "metadata": {},
   "outputs": [
    {
     "data": {
      "text/plain": [
       "3"
      ]
     },
     "execution_count": 16,
     "metadata": {},
     "output_type": "execute_result"
    }
   ],
   "source": [
    "# Drop to only keep ERPs with at least 50 papers\n",
    "counts.drop_data(50, dim='A')\n",
    "counts.terms['A'].n_terms"
   ]
  },
  {
   "cell_type": "markdown",
   "metadata": {},
   "source": [
    "## Group Level Plots"
   ]
  },
  {
   "cell_type": "code",
   "execution_count": 17,
   "metadata": {},
   "outputs": [],
   "source": [
    "# Compute the normalized score (percent association)\n",
    "counts.compute_score('normalize', dim='A')"
   ]
  },
  {
   "cell_type": "code",
   "execution_count": 18,
   "metadata": {},
   "outputs": [
    {
     "data": {
      "image/png": "[encoded data removed]",
      "text/plain": [
       "<Figure size 432x288 with 2 Axes>"
      ]
     },
     "metadata": {
      "needs_background": "light"
     },
     "output_type": "display_data"
    }
   ],
   "source": [
    "# Plot the matrix of percent associations - ERPs & terms\n",
    "plot_matrix(counts)"
   ]
  },
  {
   "cell_type": "markdown",
   "metadata": {},
   "source": [
    "### Similarity across ERPs"
   ]
  },
  {
   "cell_type": "code",
   "execution_count": 19,
   "metadata": {},
   "outputs": [],
   "source": [
    "# Calculate similarity between all ERPs (based on term association percents)\n",
    "counts.compute_score('similarity')"
   ]
  },
  {
   "cell_type": "code",
   "execution_count": 20,
   "metadata": {},
   "outputs": [
    {
     "data": {
      "image/png": "[encoded data removed]",
      "text/plain": [
       "<Figure size 432x288 with 2 Axes>"
      ]
     },
     "metadata": {
      "needs_background": "light"
     },
     "output_type": "display_data"
    }
   ],
   "source": [
    "# Plot similarity matrix between ERPs\n",
    "plot_matrix(counts)"
   ]
  },
  {
   "cell_type": "code",
   "execution_count": 21,
   "metadata": {},
   "outputs": [
    {
     "data": {
      "image/png": "[encoded data removed]",
      "text/plain": [
       "<Figure size 720x720 with 4 Axes>"
      ]
     },
     "metadata": {},
     "output_type": "display_data"
    }
   ],
   "source": [
    "# Plot a clustermap, clustering ERPs and terms based on similarity\n",
    "plot_clustermap(counts, cmap='blue')"
   ]
  },
  {
   "cell_type": "markdown",
   "metadata": {},
   "source": [
    "### Similarity across Terms"
   ]
  },
  {
   "cell_type": "code",
   "execution_count": 22,
   "metadata": {},
   "outputs": [],
   "source": [
    "# Calculate similarity between all terms (based on their associated ERPs)\n",
    "counts.compute_score('similarity', dim='B')"
   ]
  },
  {
   "cell_type": "code",
   "execution_count": 23,
   "metadata": {},
   "outputs": [
    {
     "data": {
      "image/png": "[encoded data removed]",
      "text/plain": [
       "<Figure size 432x288 with 2 Axes>"
      ]
     },
     "metadata": {},
     "output_type": "display_data"
    }
   ],
   "source": [
    "# Plot similarity matrix between terms\n",
    "plot_matrix(counts)"
   ]
  },
  {
   "cell_type": "code",
   "execution_count": 25,
   "metadata": {},
   "outputs": [
    {
     "data": {
      "image/png": "[encoded data removed]",
      "text/plain": [
       "<Figure size 720x720 with 4 Axes>"
      ]
     },
     "metadata": {},
     "output_type": "display_data"
    }
   ],
   "source": [
    "# Clustermap of term similarity\n",
    "plot_clustermap(counts, cmap='blue')"
   ]
  },
  {
   "cell_type": "markdown",
   "metadata": {},
   "source": [
    "### Dendrograms"
   ]
  },
  {
   "cell_type": "code",
   "execution_count": 26,
   "metadata": {},
   "outputs": [
    {
     "data": {
      "image/png": "[encoded data removed]",
      "text/plain": [
       "<Figure size 432x288 with 1 Axes>"
      ]
     },
     "metadata": {},
     "output_type": "display_data"
    }
   ],
   "source": [
    "# Plot dendrogram of ERPs, based on percent associations with terms\n",
    "plot_dendrogram(counts, attribute='counts')"
   ]
  },
  {
   "cell_type": "code",
   "execution_count": 27,
   "metadata": {},
   "outputs": [
    {
     "data": {
      "image/png": "[encoded data removed]",
      "text/plain": [
       "<Figure size 432x288 with 1 Axes>"
      ]
     },
     "metadata": {},
     "output_type": "display_data"
    }
   ],
   "source": [
    "# Plot dendrogram of termss, based on percent associations with ERPs\n",
    "plot_dendrogram(counts, attribute='counts', transpose=True)"
   ]
  },
  {
   "cell_type": "markdown",
   "metadata": {},
   "source": [
    "### Function correlates across time"
   ]
  },
  {
   "cell_type": "code",
   "execution_count": 34,
   "metadata": {},
   "outputs": [],
   "source": [
    "# Re-compute normalized score\n",
    "counts.compute_score('normalize')"
   ]
  },
  {
   "cell_type": "code",
   "execution_count": 35,
   "metadata": {},
   "outputs": [
    {
     "data": {
      "text/plain": [
       "3"
      ]
     },
     "execution_count": 35,
     "metadata": {},
     "output_type": "execute_result"
    }
   ],
   "source": [
    "# Drop to most common ERPs, and check how many are left\n",
    "counts.drop_data(100)\n",
    "counts.terms['A'].n_terms"
   ]
  },
  {
   "cell_type": "code",
   "execution_count": 36,
   "metadata": {},
   "outputs": [],
   "source": [
    "# Get the time and polarity information for the ERPs\n",
    "time_associations = get_time_associations(counts)"
   ]
  },
  {
   "cell_type": "code",
   "execution_count": 37,
   "metadata": {},
   "outputs": [
    {
     "data": {
      "image/png": "[encoded data removed]",
      "text/plain": [
       "<Figure size 864x360 with 1 Axes>"
      ]
     },
     "metadata": {},
     "output_type": "display_data"
    }
   ],
   "source": [
    "# Plot time associations\n",
    "plot_time_associations(time_associations)"
   ]
  }
 ],
 "metadata": {
  "anaconda-cloud": {},
  "kernelspec": {
   "display_name": "Python 3",
   "language": "python",
   "name": "python3"
  },
  "language_info": {
   "codemirror_mode": {
    "name": "ipython",
    "version": 3
   },
   "file_extension": ".py",
   "mimetype": "text/x-python",
   "name": "python",
   "nbconvert_exporter": "python",
   "pygments_lexer": "ipython3",
   "version": "3.8.3"
  }
 },
 "nbformat": 4,
 "nbformat_minor": 1
}
