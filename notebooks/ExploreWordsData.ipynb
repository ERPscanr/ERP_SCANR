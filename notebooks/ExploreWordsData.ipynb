{
 "cells": [
  {
   "cell_type": "code",
   "execution_count": 30,
   "metadata": {
    "collapsed": true
   },
   "outputs": [],
   "source": [
    "# Add erpsc to path\n",
    "import os\n",
    "import sys\n",
    "sys.path.append(os.getcwd)\n",
    "# ^ Update the above with a link to the folder that has 'erpsc' in it, if not currently in path"
   ]
  },
  {
   "cell_type": "code",
   "execution_count": 31,
   "metadata": {
    "collapsed": true
   },
   "outputs": [],
   "source": [
    "# Import erpsc\n",
    "from erpsc.base import Base\n",
    "from erpsc.core.db import ERPDB\n",
    "from erpsc.erp_data import ERPData\n",
    "from erpsc.erp_data_all import ERPDataAll"
   ]
  },
  {
   "cell_type": "code",
   "execution_count": 32,
   "metadata": {},
   "outputs": [],
   "source": [
    "# Add data to path\n",
    "db = ERPDB(False)\n",
    "db.project_path = os.path.join(os.getcwd(), 'dat')\n",
    "db.gen_paths()"
   ]
  },
  {
   "cell_type": "code",
   "execution_count": 33,
   "metadata": {},
   "outputs": [],
   "source": [
    "# Load raw data from a particular ERP\n",
    "erp_dat = ERPData('P300')\n",
    "erp_dat.load(db)"
   ]
  },
  {
   "cell_type": "code",
   "execution_count": 35,
   "metadata": {},
   "outputs": [
    {
     "data": {
      "text/plain": [
       "4992"
      ]
     },
     "execution_count": 35,
     "metadata": {},
     "output_type": "execute_result"
    }
   ],
   "source": [
    "# Check number of articles\n",
    "erp_dat.n_articles"
   ]
  },
  {
   "cell_type": "code",
   "execution_count": 36,
   "metadata": {},
   "outputs": [
    {
     "data": {
      "text/plain": [
       "[['amputation',\n",
       "  'event-related potential (erp)',\n",
       "  'mental rotation',\n",
       "  'n200',\n",
       "  'p300',\n",
       "  'rotation-related negativity (rrn)'],\n",
       " [],\n",
       " ['frn', 'p300', 'social distance', 'conflict', 'cooperation'],\n",
       " [],\n",
       " ['ssaep', 'frequency tagging', 'guitar', 'mobile eeg', 'music', 'oddball']]"
      ]
     },
     "execution_count": 36,
     "metadata": {},
     "output_type": "execute_result"
    }
   ],
   "source": [
    "# Keyword Data\n",
    "erp_dat.kws[:5]"
   ]
  },
  {
   "cell_type": "code",
   "execution_count": 40,
   "metadata": {},
   "outputs": [
    {
     "data": {
      "text/plain": [
       "['hybrid',\n",
       " 'brain',\n",
       " 'computer',\n",
       " 'interface',\n",
       " 'bci',\n",
       " 'based',\n",
       " 'motor',\n",
       " 'imagery',\n",
       " 'mi',\n",
       " 'p300',\n",
       " 'preferred',\n",
       " 'strategy',\n",
       " 'aiming',\n",
       " 'improve',\n",
       " 'detection',\n",
       " 'performance',\n",
       " 'combining',\n",
       " 'features',\n",
       " 'however',\n",
       " 'current',\n",
       " 'methods',\n",
       " 'used',\n",
       " 'combining',\n",
       " 'two',\n",
       " 'modalities',\n",
       " 'optimize',\n",
       " 'separately',\n",
       " 'result',\n",
       " 'optimal',\n",
       " 'performance',\n",
       " 'present',\n",
       " 'efficient',\n",
       " 'framework',\n",
       " 'optimize',\n",
       " 'together',\n",
       " 'concatenating',\n",
       " 'features',\n",
       " 'mi',\n",
       " 'p300',\n",
       " 'block',\n",
       " 'diagonal',\n",
       " 'form',\n",
       " 'linear',\n",
       " 'classifier',\n",
       " 'dual',\n",
       " 'spectral',\n",
       " 'norm',\n",
       " 'regularizer',\n",
       " 'applied',\n",
       " 'combined',\n",
       " 'features',\n",
       " 'framework',\n",
       " 'hybrid',\n",
       " 'features',\n",
       " 'mi',\n",
       " 'p300',\n",
       " 'learned',\n",
       " 'selected',\n",
       " 'combined',\n",
       " 'together',\n",
       " 'directly',\n",
       " 'experimental',\n",
       " 'results',\n",
       " 'data',\n",
       " 'set',\n",
       " 'hybrid',\n",
       " 'bci',\n",
       " 'based',\n",
       " 'mi',\n",
       " 'p300',\n",
       " 'provided',\n",
       " 'illustrate',\n",
       " 'competitive',\n",
       " 'performance',\n",
       " 'proposed',\n",
       " 'method',\n",
       " 'conventional',\n",
       " 'methods',\n",
       " 'provides',\n",
       " 'evidence',\n",
       " 'method',\n",
       " 'used',\n",
       " 'contributes',\n",
       " 'discrimination',\n",
       " 'performance',\n",
       " 'brain',\n",
       " 'state',\n",
       " 'hybrid',\n",
       " 'bci']"
      ]
     },
     "execution_count": 40,
     "metadata": {},
     "output_type": "execute_result"
    }
   ],
   "source": [
    "# Words are stored as a 'bag of words', with punctuation, and 'stopwords' already removed\n",
    "erp_dat.words[1]"
   ]
  },
  {
   "cell_type": "code",
   "execution_count": null,
   "metadata": {
    "collapsed": true
   },
   "outputs": [],
   "source": []
  }
 ],
 "metadata": {
  "kernelspec": {
   "display_name": "Python 3",
   "language": "python",
   "name": "python3"
  },
  "language_info": {
   "codemirror_mode": {
    "name": "ipython",
    "version": 3
   },
   "file_extension": ".py",
   "mimetype": "text/x-python",
   "name": "python",
   "nbconvert_exporter": "python",
   "pygments_lexer": "ipython3",
   "version": "3.6.1"
  }
 },
 "nbformat": 4,
 "nbformat_minor": 2
}
