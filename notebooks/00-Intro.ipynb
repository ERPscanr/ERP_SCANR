{
 "cells": [
  {
   "cell_type": "markdown",
   "metadata": {},
   "source": [
    "## ERP SCANR\n",
    "\n",
    "This notebook is the overview notebook for the ERP-SCANR project (erpsc).\n",
    "\n",
    "ERPSC is an attempt to use automated web-scraping and text mining to summarize research on ERPs. Hopefully this project will serve as a type of automated meta-analysis, and also a way to pull out patterns in ERP research.\n",
    "\n",
    "Logic:\n",
    "- At it's core, the erpsc code provides a base to set terms - both ERP terms and other terms, such as cognitive and/or disease terms - and mine papers for these terms, using the NCBI e-utils. You can also specify a list of 'exclusion words' that will be specifically avoided in ERP searches. \n",
    "\n",
    "Current analysis takes two forms:\n",
    "- Co-Occurence analysis: searches for co-occurences of terms (ERPs and others), and simply analyses how commonly these terms occur together, in both absolute and relative terms. \n",
    "- Word analysis:\n",
    "\n",
    "Settings:\n",
    "- Several settings can be set and are explorable. For example:\n",
    "    - Database: EUtils can search different databases, most relevantly, 'pubmed' or 'pmc', which have some differences.\n",
    "    - Search Area: although somewhat contingent upon the database, the search area can be set, for all 'TIAB' (title and abstract), 'ARTI' (all available article text), WORD (all searchable words), etc. \n",
    "\n",
    "The code in this notebook simply uses the base class to load and check the terms \n",
    "\n",
    "These notebooks just run the code and display results. The actual code is in the 'erpsc' custom module. "
   ]
  },
  {
   "cell_type": "code",
   "execution_count": 1,
   "metadata": {},
   "outputs": [],
   "source": [
    "# Import custom code\n",
    "from erpsc.base import Base"
   ]
  },
  {
   "cell_type": "code",
   "execution_count": 2,
   "metadata": {},
   "outputs": [],
   "source": [
    "# Load a test object to test all terms\n",
    "check = Base()"
   ]
  },
  {
   "cell_type": "code",
   "execution_count": 3,
   "metadata": {},
   "outputs": [],
   "source": [
    "# Load erps and cognitive terms from file\n",
    "check.set_erps_file()\n",
    "check.set_terms_file('cognitive')"
   ]
  },
  {
   "cell_type": "code",
   "execution_count": 4,
   "metadata": {},
   "outputs": [
    {
     "name": "stdout",
     "output_type": "stream",
     "text": [
      "List of ERPs used: \n",
      "\n",
      "P100\t : P100\n",
      "P150\t : P150\n",
      "P180\t : P180\n",
      "P200\t : P200\n",
      "P220\t : P220\n",
      "P240\t : P240\n",
      "P250\t : P250\n",
      "P270\t : P270\n",
      "P300\t : P300\n",
      "P3a\t : P3a\n",
      "P3b\t : P3b\n",
      "P340\t : P340\n",
      "P350\t : P350\n",
      "P400\t : P400\n",
      "P500\t : P500\n",
      "P550\t : P550\n",
      "P600\t : P600\n",
      "N75\t : N75\n",
      "N80\t : N80\n",
      "N90\t : N90\n",
      "N100\t : N100\n",
      "N110\t : N110\n",
      "N120\t : N120\n",
      "N130\t : N130\n",
      "N140\t : N140\n",
      "N150\t : N150\n",
      "N160\t : N160\n",
      "N170\t : N170\n",
      "N180\t : N180\n",
      "N190\t : N190\n",
      "N200\t : N200\n",
      "MMN\t : MMN, mismatch negativity\n",
      "N2a\t : N2a\n",
      "N2b\t : N2b\n",
      "N2c\t : N2c\n",
      "N240\t : N240\n",
      "N250\t : N250\n",
      "N270\t : N270\n",
      "N280\t : N280\n",
      "N2pc\t : N2pc\n",
      "N300\t : N300\n",
      "N320\t : N320\n",
      "N350\t : N350\n",
      "N380\t : N380\n",
      "N400\t : N400\n",
      "N450\t : N450\n",
      "N550\t : N550\n",
      "N600\t : N600\n",
      "N700\t : N700\n",
      "LPC\t : late positive component,  late positive complex\n",
      "LPP\t : late positive potential,  late positive potentials\n",
      "NSW\t : negative slow wave\n",
      "PSW\t : positive slow wave\n",
      "VPP\t : vertex positive potential\n",
      "CNV\t : contingent negative variation\n",
      "PINV\t : post imperative negative variation\n",
      "ELAN\t : early left anterior negativity\n",
      "LAN\t : left anterior negativity\n",
      "CPS\t : closure positive shift\n",
      "LRP\t : lateralized readiness potential\n",
      "LDN\t : late discriminative negativity\n",
      "ORN\t : object related negativity\n",
      "BP\t : readiness potential, bereitschaftspotential\n",
      "ERN\t : error related negativity\n",
      "Pe\t : error related positivity, error positivity, post error positivity\n",
      "CRN\t : correct related negativity, correct response negativity\n",
      "MFN\t : medial frontal negativity\n",
      "SPeN\t : stimulus preceding negativity\n",
      "FRN\t : feedback related negativity\n",
      "Pd\t : distractor positivity\n",
      "EDAN\t : early directing attention negativity\n",
      "LDAP\t : late directing attention positivity\n",
      "ADAN\t : anterior directing attention negativity\n",
      "EPN\t : early posterior negativity\n",
      "SN\t : selection negativity\n",
      "SP\t : selection positivity\n",
      "SPN\t : sustained posterior negativity\n",
      "SPCN\t : sustained posterior contralateral negativity\n",
      "RN\t : reversal negativity\n",
      "VsEP\t : vsep, vestibular sensory evoked potentials, vestibular evoked potentials\n",
      "MRPC\t : movement related cortical potential,  movement related cortical potentials\n",
      "FSP\t : frontal selection positivity,  fronto polar selection positivity\n",
      "pN\t : prefrontal negativity\n"
     ]
    }
   ],
   "source": [
    "# Check the ERPs that are being used. Entries in the same line as used as synonyms.\n",
    "check.check_erps()"
   ]
  },
  {
   "cell_type": "code",
   "execution_count": 5,
   "metadata": {},
   "outputs": [
    {
     "name": "stdout",
     "output_type": "stream",
     "text": [
      "List of terms used: \n",
      "\n",
      "attention\n",
      "arousal\n",
      "auditory, audition\n",
      "awareness\n",
      "categorization\n",
      "conflict\n",
      "decision making\n",
      "emotion, emotional\n",
      "error\n",
      "executive functions\n",
      "expectation\n",
      "face, facial\n",
      "grammar\n",
      "language\n",
      "learning\n",
      "memory\n",
      "motor\n",
      "movement\n",
      "number\n",
      "pain, nociception\n",
      "phonology, phonological\n",
      "prediction, predictive\n",
      "reading\n",
      "reasoning\n",
      "representation\n",
      "reward\n",
      "semantic, semantics\n",
      "sleep\n",
      "spatial\n",
      "speech\n",
      "social\n",
      "somatosensory\n",
      "tactile\n",
      "valence\n",
      "vision, visual\n",
      "working memory\n"
     ]
    }
   ],
   "source": [
    "# Check the cognitive terms used\n",
    "check.check_terms()"
   ]
  },
  {
   "cell_type": "code",
   "execution_count": 6,
   "metadata": {},
   "outputs": [
    {
     "name": "stdout",
     "output_type": "stream",
     "text": [
      "Unloading previous terms words.\n"
     ]
    }
   ],
   "source": [
    "# Load the disease terms to check\n",
    "check.set_terms_file('disease')"
   ]
  },
  {
   "cell_type": "code",
   "execution_count": 7,
   "metadata": {},
   "outputs": [
    {
     "name": "stdout",
     "output_type": "stream",
     "text": [
      "List of terms used: \n",
      "\n",
      "alcoholism\n",
      "addiction\n",
      "attention deficit hyperactivity disorder, ADHD\n",
      "alzheimer\n",
      "anorexia\n",
      "anxiety\n",
      "aphasia\n",
      "autism\n",
      "bipolar\n",
      "dementia\n",
      "depression\n",
      "down syndrome\n",
      "dyslexia\n",
      "epilepsy, seizure\n",
      "insomnia\n",
      "migraine\n",
      "mild cognitive impairment\n",
      "multiple sclerosis\n",
      "obsessive compulsive disorder\n",
      "parkinson\n",
      "personality disorder\n",
      "post traumatic stress disorder, PTSD\n",
      "psychosis\n",
      "schizophrenia\n",
      "stroke\n"
     ]
    }
   ],
   "source": [
    "# Check the disease terms\n",
    "check.check_terms()"
   ]
  },
  {
   "cell_type": "code",
   "execution_count": 8,
   "metadata": {},
   "outputs": [],
   "source": [
    "# Add exclusion words\n",
    "check.set_exclusions_file()"
   ]
  },
  {
   "cell_type": "code",
   "execution_count": 9,
   "metadata": {},
   "outputs": [
    {
     "name": "stdout",
     "output_type": "stream",
     "text": [
      "List of exclusion words used: \n",
      "\n",
      "P100\t : gene, virus, protein, cancer, acid, skin\n",
      "P150\t : protein, cell, dna, dynein, adhesion\n",
      "P180\t : protein, serum, plasma, rat, mice, feline\n",
      "P200\t : gene, protein, antibody, phosphate\n",
      "P220\t : protein, dna, postnatal\n",
      "P240\t : gene, protein, muscle, rat\n",
      "P250\t : protein, cell, postnatal\n",
      "P270\t : protein, promoter, rna\n",
      "P300\t : gene, protein, transcription, antibody, tumor, battery\n",
      "P3a\t : protein\n",
      "P3b\t : protein\n",
      "P340\t : molecular\n",
      "P350\t : protein\n",
      "P400\t : protein\n",
      "P500\t : protein, index, financial, cell\n",
      "P550\t : cell, peptide, protein, oil, bond\n",
      "P600\t : protein, gene\n",
      "N75\t : protein, cell, nitrogen, bacteria\n",
      "N80\t : protein, glycan, gene\n",
      "N90\t : protein, nitrogen, gene\n",
      "N100\t : gene, ketac\n",
      "N110\t : protein, quantum, hydrogen\n",
      "N120\t : nitrogen, protein, fertilizer\n",
      "N130\t : virus, amino, cancer\n",
      "N140\t : protein\n",
      "N150\t : nitrogen\n",
      "N160\t : protein\n",
      "N170\t : protein\n",
      "N180\t : fertilizer, protein, nitrogen\n",
      "N190\t : protein, amino, cell\n",
      "N200\t : protein, nitrogen\n",
      "MMN\t : micronutrients\n",
      "N2a\t : protein, cancer, cell, muscle, synthesis, toxin\n",
      "N2b\t : ttn, cancer, cardiac, protein, serum\n",
      "N2c\t : cell, cancer, protein, ligand, blood, synthesis\n",
      "N240\t : nitrogen, enzyme\n",
      "N250\t : protein\n",
      "N270\t : enzyme\n",
      "N280\t : pichia\n",
      "N2pc\t : \n",
      "N300\t : \n",
      "N320\t : cancer, dna\n",
      "N350\t : liver\n",
      "N380\t : protein, aneurysm\n",
      "N400\t : \n",
      "N450\t : \n",
      "N550\t : hydrogen, membrane\n",
      "N600\t : molecular, income, molecular\n",
      "N700\t : calcium\n",
      "LPC\t : \n",
      "LPP\t : \n",
      "NSW\t : \n",
      "PSW\t : \n",
      "VPP\t : \n",
      "CNV\t : \n",
      "PINV\t : \n",
      "ELAN\t : \n",
      "LAN\t : early\n",
      "CPS\t : \n",
      "LRP\t : \n",
      "LDN\t : \n",
      "ORN\t : \n",
      "BP\t : lateralized\n",
      "ERN\t : \n",
      "Pe\t : \n",
      "CRN\t : \n",
      "MFN\t : \n",
      "SPeN\t : \n",
      "FRN\t : \n",
      "Pd\t : \n",
      "EDAN\t : \n",
      "LDAP\t : \n",
      "ADAN\t : \n",
      "EPN\t : \n",
      "SN\t : \n",
      "SP\t : \n",
      "SPN\t : \n",
      "SPCN\t : \n",
      "RN\t : \n",
      "VsEP\t : vagus\n",
      "MRPC\t : \n",
      "FSP\t : \n",
      "pN\t : \n"
     ]
    }
   ],
   "source": [
    "# Check the exclusion terms used\n",
    "check.check_exclusions()"
   ]
  },
  {
   "cell_type": "code",
   "execution_count": null,
   "metadata": {},
   "outputs": [],
   "source": []
  },
  {
   "cell_type": "markdown",
   "metadata": {},
   "source": [
    "### Fixing File Numbering"
   ]
  },
  {
   "cell_type": "code",
   "execution_count": 10,
   "metadata": {},
   "outputs": [],
   "source": [
    "# from erpsc.core.utils import erp_file_numbers\n",
    "\n",
    "# path = '/Users/thomasdonoghue/Documents/GitCode/ERP_SCANR/erpsc/terms/'\n",
    "# f_names = ['erps.txt', 'erp_labels.txt', 'erps_exclude.txt', 'latencies.txt']\n",
    "\n",
    "# for f_name in f_names:\n",
    "#     erp_file_numbers(path + f_name)"
   ]
  }
 ],
 "metadata": {
  "anaconda-cloud": {},
  "kernelspec": {
   "display_name": "Python 3",
   "language": "python",
   "name": "python3"
  },
  "language_info": {
   "codemirror_mode": {
    "name": "ipython",
    "version": 3
   },
   "file_extension": ".py",
   "mimetype": "text/x-python",
   "name": "python",
   "nbconvert_exporter": "python",
   "pygments_lexer": "ipython3",
   "version": "3.7.3"
  }
 },
 "nbformat": 4,
 "nbformat_minor": 1
}
