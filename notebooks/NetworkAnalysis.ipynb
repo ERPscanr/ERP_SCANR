{
 "cells": [
  {
   "cell_type": "markdown",
   "metadata": {},
   "source": [
    "# Network Analysis of ERP-SCANR Data\n",
    "\n",
    "Words, words, words. "
   ]
  },
  {
   "cell_type": "code",
   "execution_count": 11,
   "metadata": {},
   "outputs": [],
   "source": [
    "%matplotlib inline\n",
    "\n",
    "import numpy as np\n",
    "import matplotlib.pyplot as plt\n",
    "\n",
    "import networkx as nx\n",
    "\n",
    "\n",
    "from lisc.utils import SCDB, load_object\n",
    "\n",
    "\n",
    "# ERP-SCANR code\n",
    "#from erpsc.core.io import load_pickle_obj"
   ]
  },
  {
   "cell_type": "code",
   "execution_count": 12,
   "metadata": {},
   "outputs": [],
   "source": [
    "# Set the name of the file to load\n",
    "name = 'test' # 'erps', 'test'"
   ]
  },
  {
   "cell_type": "code",
   "execution_count": 13,
   "metadata": {},
   "outputs": [],
   "source": [
    "# Set the file locations\n",
    "db = SCDB('../data/')"
   ]
  },
  {
   "cell_type": "code",
   "execution_count": 14,
   "metadata": {},
   "outputs": [],
   "source": [
    "# Load data\n",
    "words = load_object('words_' + name, directory=db, reload_results=True)"
   ]
  },
  {
   "cell_type": "code",
   "execution_count": 15,
   "metadata": {},
   "outputs": [],
   "source": [
    "# Functions to rescale edge weight to a new range for plotting\n",
    "# From here: http://stackoverflow.com/questions/929103/convert-a-number-range-to-another-range-maintaining-ratio\n",
    "def scale_number(unscaled, to_min, to_max, from_min, from_max):\n",
    "    return (to_max-to_min)*(unscaled-from_min)/(from_max-from_min)+to_min\n",
    "\n",
    "def scale_list(l, to_min, to_max):\n",
    "    return [scale_number(i, to_min, to_max, min(l), max(l)) for i in l]"
   ]
  },
  {
   "cell_type": "code",
   "execution_count": 18,
   "metadata": {},
   "outputs": [
    {
     "ename": "AttributeError",
     "evalue": "'Words' object has no attribute 'result_keys'",
     "output_type": "error",
     "traceback": [
      "\u001b[0;31m---------------------------------------------------------------------------\u001b[0m",
      "\u001b[0;31mAttributeError\u001b[0m                            Traceback (most recent call last)",
      "\u001b[0;32m<ipython-input-18-fa7cc4da9bd9>\u001b[0m in \u001b[0;36m<module>\u001b[0;34m\u001b[0m\n\u001b[1;32m      1\u001b[0m \u001b[0;31m# ?\u001b[0m\u001b[0;34m\u001b[0m\u001b[0;34m\u001b[0m\u001b[0;34m\u001b[0m\u001b[0m\n\u001b[1;32m      2\u001b[0m \u001b[0moverlaps\u001b[0m \u001b[0;34m=\u001b[0m \u001b[0mnp\u001b[0m\u001b[0;34m.\u001b[0m\u001b[0mzeros\u001b[0m\u001b[0;34m(\u001b[0m\u001b[0mshape\u001b[0m\u001b[0;34m=\u001b[0m\u001b[0;34m(\u001b[0m\u001b[0mwords\u001b[0m\u001b[0;34m.\u001b[0m\u001b[0mn_terms\u001b[0m\u001b[0;34m,\u001b[0m \u001b[0mwords\u001b[0m\u001b[0;34m.\u001b[0m\u001b[0mn_terms\u001b[0m\u001b[0;34m)\u001b[0m\u001b[0;34m)\u001b[0m\u001b[0;34m\u001b[0m\u001b[0;34m\u001b[0m\u001b[0m\n\u001b[0;32m----> 3\u001b[0;31m \u001b[0merps\u001b[0m \u001b[0;34m=\u001b[0m \u001b[0mwords\u001b[0m\u001b[0;34m.\u001b[0m\u001b[0mresult_keys\u001b[0m\u001b[0;34m\u001b[0m\u001b[0;34m\u001b[0m\u001b[0m\n\u001b[0m\u001b[1;32m      4\u001b[0m \u001b[0;34m\u001b[0m\u001b[0m\n\u001b[1;32m      5\u001b[0m \u001b[0;32mfor\u001b[0m \u001b[0mi\u001b[0m\u001b[0;34m,\u001b[0m \u001b[0mei\u001b[0m \u001b[0;32min\u001b[0m \u001b[0menumerate\u001b[0m\u001b[0;34m(\u001b[0m\u001b[0mwords\u001b[0m\u001b[0;34m.\u001b[0m\u001b[0mresult_keys\u001b[0m\u001b[0;34m)\u001b[0m\u001b[0;34m:\u001b[0m\u001b[0;34m\u001b[0m\u001b[0;34m\u001b[0m\u001b[0m\n",
      "\u001b[0;31mAttributeError\u001b[0m: 'Words' object has no attribute 'result_keys'"
     ]
    }
   ],
   "source": [
    "# ?\n",
    "overlaps = np.zeros(shape=(words.n_terms, words.n_terms))\n",
    "erps = words.result_keys\n",
    "\n",
    "for i, ei in enumerate(words.result_keys):\n",
    "    for j, ej in enumerate(words.result_keys):\n",
    "        overlaps[i, j] = len(set(words[ei].ids) & set(words[ej].ids))"
   ]
  },
  {
   "cell_type": "code",
   "execution_count": 17,
   "metadata": {},
   "outputs": [
    {
     "data": {
      "text/plain": [
       "2"
      ]
     },
     "execution_count": 17,
     "metadata": {},
     "output_type": "execute_result"
    }
   ],
   "source": [
    "words.n_terms"
   ]
  },
  {
   "cell_type": "code",
   "execution_count": 41,
   "metadata": {
    "collapsed": true
   },
   "outputs": [],
   "source": [
    "X = nx.Graph()\n",
    "\n",
    "X = nx.Graph()\n",
    "for i, erp in enumerate(erps):\n",
    "    if erp is '270':\n",
    "        continue\n",
    "    X.add_node(i)\n",
    "    X.node[i]['label'] = erp\n",
    "\n",
    "for i in range(words.n_erps):\n",
    "    for j in range(words.n_erps):\n",
    "        if overlaps[i, j] > 0:\n",
    "            X.add_edge(i, j, weight=overlaps[i, j])\n",
    "\n",
    "X.remove_node(80)"
   ]
  },
  {
   "cell_type": "code",
   "execution_count": 42,
   "metadata": {
    "collapsed": true
   },
   "outputs": [],
   "source": [
    "# Plotting Settings for all network plots\n",
    "f_size = (12, 8)\n",
    "alpha = 0.9\n",
    "node_size = 100\n",
    "#width = 0.25  # For unweighted graphs"
   ]
  },
  {
   "cell_type": "code",
   "execution_count": 43,
   "metadata": {
    "collapsed": true
   },
   "outputs": [],
   "source": [
    "# Get stuff for plotting\n",
    "weights = [X[u][v]['weight'] for u,v in X.edges()]\n",
    "widths = scale_list(weights, 0.5, 5)\n",
    "\n",
    "labels = {i : X.node[i]['label'] for i in X.nodes()}\n",
    "\n",
    "pos = nx.spring_layout(X)"
   ]
  },
  {
   "cell_type": "code",
   "execution_count": 45,
   "metadata": {
    "scrolled": false
   },
   "outputs": [
    {
     "data": {
      "text/plain": [
       "{0: Text(0.0271043,-0.0330032,'P100'),\n",
       " 1: Text(0.00280601,-0.0431807,'P150'),\n",
       " 2: Text(0.0421427,-0.0602158,'P180'),\n",
       " 3: Text(0.0171146,-0.0306202,'P200'),\n",
       " 4: Text(0.0108244,-0.0697607,'P220'),\n",
       " 5: Text(-0.00534029,-0.07467,'P240'),\n",
       " 6: Text(0.00929891,-0.0478924,'P250'),\n",
       " 7: Text(0.00410543,-0.083528,'P270'),\n",
       " 8: Text(0.0139753,-0.019191,'P300'),\n",
       " 9: Text(0.0231448,-0.010125,'P3a'),\n",
       " 10: Text(0.018356,-0.0100185,'P3b'),\n",
       " 11: Text(0.0312188,0.0307894,'P340'),\n",
       " 12: Text(-0.0100183,-0.0463712,'P350'),\n",
       " 13: Text(-0.0026153,-0.0183222,'P400'),\n",
       " 14: Text(-0.00528928,-0.0612769,'P500'),\n",
       " 15: Text(-0.0433977,-0.0304,'P550'),\n",
       " 16: Text(-0.83797,0.665411,'P600'),\n",
       " 17: Text(0.0379573,-0.0422058,'N75'),\n",
       " 18: Text(0.0433792,-0.0515128,'N80'),\n",
       " 19: Text(0.04499,-0.068869,'N90'),\n",
       " 20: Text(0.0208794,-0.0285735,'N100'),\n",
       " 21: Text(0.036132,-0.0930838,'N110'),\n",
       " 22: Text(0.0239281,-0.0587508,'N120'),\n",
       " 23: Text(0.039113,-0.0757119,'N130'),\n",
       " 24: Text(0.0357829,-0.0308288,'N140'),\n",
       " 25: Text(0.0162246,-0.0453393,'N150'),\n",
       " 26: Text(0.0511363,-0.0401621,'N160'),\n",
       " 27: Text(0.0199671,-0.0195365,'N170'),\n",
       " 28: Text(0.0279143,-0.07224,'N180'),\n",
       " 29: Text(-0.0336064,-0.0639484,'N190'),\n",
       " 30: Text(0.0148464,-0.0234812,'N200'),\n",
       " 31: Text(0.0261973,-0.0139114,'MMN'),\n",
       " 32: Text(0.0441968,0.0183157,'N2a'),\n",
       " 33: Text(0.0359177,-0.00341144,'N2b'),\n",
       " 34: Text(0.0517467,0.0307723,'N2c'),\n",
       " 35: Text(0.0640318,-0.0353146,'N240'),\n",
       " 36: Text(0.00977535,-0.0275226,'N250'),\n",
       " 37: Text(0.0462489,-0.0249355,'N270'),\n",
       " 38: Text(-0.0728236,-0.0631544,'N280'),\n",
       " 39: Text(0.0665189,0.0172267,'N2pc'),\n",
       " 40: Text(0.00584302,-0.0220762,'N300'),\n",
       " 41: Text(0.0598583,-0.0563285,'N320'),\n",
       " 42: Text(-0.0147944,-0.0376941,'N350'),\n",
       " 43: Text(-0.467515,1,'N400'),\n",
       " 44: Text(-0.0143153,-0.0199742,'N450'),\n",
       " 45: Text(-0.0326492,-0.0361951,'N550'),\n",
       " 46: Text(-0.0309846,0.0494501,'N600'),\n",
       " 47: Text(-0.0668738,-0.0288446,'N700'),\n",
       " 48: Text(0.0132096,-0.0316963,'LPC'),\n",
       " 49: Text(0.00473212,-0.00315184,'LPP'),\n",
       " 50: Text(-0.0152981,-0.00565027,'NSW'),\n",
       " 51: Text(0.00553041,0.00803582,'PSW'),\n",
       " 52: Text(0.0196537,0.0174442,'VPP'),\n",
       " 53: Text(0.00168911,-0.0235504,'CNV'),\n",
       " 54: Text(-0.025812,-0.0587475,'PINV'),\n",
       " 55: Text(-0.112674,-0.143269,'ELAN'),\n",
       " 56: Text(0.0732433,-0.18202,'CPS'),\n",
       " 57: Text(0.0248673,0.0022591,'LRP'),\n",
       " 58: Text(0.0590804,0.0736254,'LDiN'),\n",
       " 59: Text(0.0542208,0.00818066,'LDN'),\n",
       " 60: Text(-0.0415695,0.0351386,'ORN'),\n",
       " 61: Text(-0.0215616,-0.0322468,'BP'),\n",
       " 62: Text(-0.00552633,0.00564824,'ERN'),\n",
       " 63: Text(-0.0119694,0.0128143,'Pe'),\n",
       " 64: Text(-0.0210013,0.0189783,'CRN'),\n",
       " 65: Text(-0.0026378,0.0315705,'MFN'),\n",
       " 66: Text(-0.0305208,-0.0042655,'SPeN'),\n",
       " 67: Text(0.070478,-0.143634,'SPS'),\n",
       " 68: Text(-0.00123076,-0.00596797,'FRN'),\n",
       " 69: Text(0.0467562,0.175204,'Nc'),\n",
       " 70: Text(0.122582,0.0511599,'Pd'),\n",
       " 71: Text(0.108377,0.00877548,'EDAN'),\n",
       " 72: Text(0.0878364,-0.000288294,'ADAN'),\n",
       " 73: Text(0.0148304,0.000394104,'EPN'),\n",
       " 74: Text(0.0598028,-0.0045037,'SN'),\n",
       " 75: Text(-0.0802231,0.139473,'SPN'),\n",
       " 76: Text(0.0916346,0.0443587,'SPCN'),\n",
       " 77: Text(0.0944474,-0.0477146,'RN'),\n",
       " 78: Text(0.160444,-0.0811948,'RP'),\n",
       " 79: Text(-0.0854019,0.0862346,'VsEP'),\n",
       " 81: Text(-0.0424728,-0.0411763,'MRPC')}"
      ]
     },
     "execution_count": 45,
     "metadata": {},
     "output_type": "execute_result"
    },
    {
     "data": {
      "image/png": "[encoded data removed]",
      "text/plain": [
       "<matplotlib.figure.Figure at 0x1a2ae05710>"
      ]
     },
     "metadata": {},
     "output_type": "display_data"
    }
   ],
   "source": [
    "# Plot the ERP network\n",
    "plt.figure(figsize=f_size)\n",
    "nx.draw(X, pos=pos, node_size=node_size, alpha=alpha, width=widths)\n",
    "nx.draw_networkx_labels(X, pos, labels=labels, font_size=16)\n",
    "#plt.savefig('network.svg', transparent=True)"
   ]
  },
  {
   "cell_type": "code",
   "execution_count": 31,
   "metadata": {},
   "outputs": [
    {
     "ename": "NetworkXError",
     "evalue": "Found infinite path length because the graph is not connected",
     "output_type": "error",
     "traceback": [
      "\u001b[0;31m---------------------------------------------------------------------------\u001b[0m",
      "\u001b[0;31mNetworkXError\u001b[0m                             Traceback (most recent call last)",
      "\u001b[0;32m<ipython-input-31-7e2ff34fe29e>\u001b[0m in \u001b[0;36m<module>\u001b[0;34m()\u001b[0m\n\u001b[1;32m      1\u001b[0m \u001b[0;31m#\u001b[0m\u001b[0;34m\u001b[0m\u001b[0;34m\u001b[0m\u001b[0m\n\u001b[0;32m----> 2\u001b[0;31m \u001b[0mcenters\u001b[0m \u001b[0;34m=\u001b[0m \u001b[0mnx\u001b[0m\u001b[0;34m.\u001b[0m\u001b[0mcenter\u001b[0m\u001b[0;34m(\u001b[0m\u001b[0mX\u001b[0m\u001b[0;34m)\u001b[0m\u001b[0;34m\u001b[0m\u001b[0m\n\u001b[0m\u001b[1;32m      3\u001b[0m \u001b[0merp_centers\u001b[0m \u001b[0;34m=\u001b[0m \u001b[0;34m[\u001b[0m\u001b[0mlabels\u001b[0m\u001b[0;34m[\u001b[0m\u001b[0mi\u001b[0m\u001b[0;34m]\u001b[0m \u001b[0;32mfor\u001b[0m \u001b[0mi\u001b[0m \u001b[0;32min\u001b[0m \u001b[0mcenters\u001b[0m\u001b[0;34m]\u001b[0m\u001b[0;34m\u001b[0m\u001b[0m\n",
      "\u001b[0;32m~/anaconda/lib/python3.6/site-packages/networkx/algorithms/distance_measures.py\u001b[0m in \u001b[0;36mcenter\u001b[0;34m(G, e, usebounds)\u001b[0m\n\u001b[1;32m    351\u001b[0m         \u001b[0;32mreturn\u001b[0m \u001b[0mextrema_bounding\u001b[0m\u001b[0;34m(\u001b[0m\u001b[0mG\u001b[0m\u001b[0;34m,\u001b[0m \u001b[0mcompute\u001b[0m\u001b[0;34m=\u001b[0m\u001b[0;34m\"center\"\u001b[0m\u001b[0;34m)\u001b[0m\u001b[0;34m\u001b[0m\u001b[0m\n\u001b[1;32m    352\u001b[0m     \u001b[0;32mif\u001b[0m \u001b[0me\u001b[0m \u001b[0;32mis\u001b[0m \u001b[0;32mNone\u001b[0m\u001b[0;34m:\u001b[0m\u001b[0;34m\u001b[0m\u001b[0m\n\u001b[0;32m--> 353\u001b[0;31m         \u001b[0me\u001b[0m \u001b[0;34m=\u001b[0m \u001b[0meccentricity\u001b[0m\u001b[0;34m(\u001b[0m\u001b[0mG\u001b[0m\u001b[0;34m)\u001b[0m\u001b[0;34m\u001b[0m\u001b[0m\n\u001b[0m\u001b[1;32m    354\u001b[0m     \u001b[0mradius\u001b[0m \u001b[0;34m=\u001b[0m \u001b[0mmin\u001b[0m\u001b[0;34m(\u001b[0m\u001b[0me\u001b[0m\u001b[0;34m.\u001b[0m\u001b[0mvalues\u001b[0m\u001b[0;34m(\u001b[0m\u001b[0;34m)\u001b[0m\u001b[0;34m)\u001b[0m\u001b[0;34m\u001b[0m\u001b[0m\n\u001b[1;32m    355\u001b[0m     \u001b[0mp\u001b[0m \u001b[0;34m=\u001b[0m \u001b[0;34m[\u001b[0m\u001b[0mv\u001b[0m \u001b[0;32mfor\u001b[0m \u001b[0mv\u001b[0m \u001b[0;32min\u001b[0m \u001b[0me\u001b[0m \u001b[0;32mif\u001b[0m \u001b[0me\u001b[0m\u001b[0;34m[\u001b[0m\u001b[0mv\u001b[0m\u001b[0;34m]\u001b[0m \u001b[0;34m==\u001b[0m \u001b[0mradius\u001b[0m\u001b[0;34m]\u001b[0m\u001b[0;34m\u001b[0m\u001b[0m\n",
      "\u001b[0;32m~/anaconda/lib/python3.6/site-packages/networkx/algorithms/distance_measures.py\u001b[0m in \u001b[0;36meccentricity\u001b[0;34m(G, v, sp)\u001b[0m\n\u001b[1;32m    239\u001b[0m                 msg = ('Found infinite path length because the graph is not'\n\u001b[1;32m    240\u001b[0m                        ' connected')\n\u001b[0;32m--> 241\u001b[0;31m             \u001b[0;32mraise\u001b[0m \u001b[0mnetworkx\u001b[0m\u001b[0;34m.\u001b[0m\u001b[0mNetworkXError\u001b[0m\u001b[0;34m(\u001b[0m\u001b[0mmsg\u001b[0m\u001b[0;34m)\u001b[0m\u001b[0;34m\u001b[0m\u001b[0m\n\u001b[0m\u001b[1;32m    242\u001b[0m \u001b[0;34m\u001b[0m\u001b[0m\n\u001b[1;32m    243\u001b[0m         \u001b[0me\u001b[0m\u001b[0;34m[\u001b[0m\u001b[0mn\u001b[0m\u001b[0;34m]\u001b[0m \u001b[0;34m=\u001b[0m \u001b[0mmax\u001b[0m\u001b[0;34m(\u001b[0m\u001b[0mlength\u001b[0m\u001b[0;34m.\u001b[0m\u001b[0mvalues\u001b[0m\u001b[0;34m(\u001b[0m\u001b[0;34m)\u001b[0m\u001b[0;34m)\u001b[0m\u001b[0;34m\u001b[0m\u001b[0m\n",
      "\u001b[0;31mNetworkXError\u001b[0m: Found infinite path length because the graph is not connected"
     ]
    }
   ],
   "source": [
    "#\n",
    "centers = nx.center(X)\n",
    "erp_centers = [labels[i] for i in centers]"
   ]
  },
  {
   "cell_type": "code",
   "execution_count": 10,
   "metadata": {
    "collapsed": true
   },
   "outputs": [],
   "source": [
    "degs = X.degree()"
   ]
  },
  {
   "cell_type": "code",
   "execution_count": 11,
   "metadata": {},
   "outputs": [
    {
     "data": {
      "text/plain": [
       "0.0"
      ]
     },
     "execution_count": 11,
     "metadata": {},
     "output_type": "execute_result"
    }
   ],
   "source": [
    "nx.average_node_connectivity(X)"
   ]
  },
  {
   "cell_type": "code",
   "execution_count": null,
   "metadata": {
    "collapsed": true
   },
   "outputs": [],
   "source": [
    "nx.average_clustering(X)"
   ]
  },
  {
   "cell_type": "code",
   "execution_count": 49,
   "metadata": {},
   "outputs": [
    {
     "ename": "AttributeError",
     "evalue": "'DegreeView' object has no attribute 'values'",
     "output_type": "error",
     "traceback": [
      "\u001b[0;31m---------------------------------------------------------------------------\u001b[0m",
      "\u001b[0;31mAttributeError\u001b[0m                            Traceback (most recent call last)",
      "\u001b[0;32m<ipython-input-49-a5d7495fdece>\u001b[0m in \u001b[0;36m<module>\u001b[0;34m()\u001b[0m\n\u001b[1;32m      1\u001b[0m \u001b[0ma\u001b[0m \u001b[0;34m=\u001b[0m \u001b[0mnx\u001b[0m\u001b[0;34m.\u001b[0m\u001b[0mdegree\u001b[0m\u001b[0;34m(\u001b[0m\u001b[0mX\u001b[0m\u001b[0;34m)\u001b[0m\u001b[0;34m\u001b[0m\u001b[0m\n\u001b[0;32m----> 2\u001b[0;31m \u001b[0mprint\u001b[0m\u001b[0;34m(\u001b[0m\u001b[0mnp\u001b[0m\u001b[0;34m.\u001b[0m\u001b[0mmean\u001b[0m\u001b[0;34m(\u001b[0m\u001b[0mlist\u001b[0m\u001b[0;34m(\u001b[0m\u001b[0ma\u001b[0m\u001b[0;34m.\u001b[0m\u001b[0mvalues\u001b[0m\u001b[0;34m(\u001b[0m\u001b[0;34m)\u001b[0m\u001b[0;34m)\u001b[0m\u001b[0;34m)\u001b[0m\u001b[0;34m)\u001b[0m\u001b[0;34m\u001b[0m\u001b[0m\n\u001b[0m",
      "\u001b[0;31mAttributeError\u001b[0m: 'DegreeView' object has no attribute 'values'"
     ]
    }
   ],
   "source": [
    "a = nx.degree(X)\n",
    "print(np.mean(list(a.values())))"
   ]
  },
  {
   "cell_type": "code",
   "execution_count": null,
   "metadata": {
    "collapsed": true
   },
   "outputs": [],
   "source": [
    "X.node[8]"
   ]
  },
  {
   "cell_type": "code",
   "execution_count": null,
   "metadata": {
    "collapsed": true
   },
   "outputs": [],
   "source": [
    "X.node[70]"
   ]
  },
  {
   "cell_type": "code",
   "execution_count": 32,
   "metadata": {},
   "outputs": [
    {
     "ename": "NameError",
     "evalue": "name 'a' is not defined",
     "output_type": "error",
     "traceback": [
      "\u001b[0;31m---------------------------------------------------------------------------\u001b[0m",
      "\u001b[0;31mNameError\u001b[0m                                 Traceback (most recent call last)",
      "\u001b[0;32m<ipython-input-32-5d5e225441ce>\u001b[0m in \u001b[0;36m<module>\u001b[0;34m()\u001b[0m\n\u001b[0;32m----> 1\u001b[0;31m \u001b[0mbb\u001b[0m \u001b[0;34m=\u001b[0m \u001b[0mnp\u001b[0m\u001b[0;34m.\u001b[0m\u001b[0marray\u001b[0m\u001b[0;34m(\u001b[0m\u001b[0mlist\u001b[0m\u001b[0;34m(\u001b[0m\u001b[0ma\u001b[0m\u001b[0;34m.\u001b[0m\u001b[0mvalues\u001b[0m\u001b[0;34m(\u001b[0m\u001b[0;34m)\u001b[0m\u001b[0;34m)\u001b[0m\u001b[0;34m)\u001b[0m \u001b[0;34m>\u001b[0m \u001b[0;36m49\u001b[0m\u001b[0;34m\u001b[0m\u001b[0m\n\u001b[0m\u001b[1;32m      2\u001b[0m \u001b[0mhigh\u001b[0m \u001b[0;34m=\u001b[0m \u001b[0;34m[\u001b[0m\u001b[0mi\u001b[0m \u001b[0;32mfor\u001b[0m \u001b[0mi\u001b[0m\u001b[0;34m,\u001b[0m \u001b[0mx\u001b[0m \u001b[0;32min\u001b[0m \u001b[0menumerate\u001b[0m\u001b[0;34m(\u001b[0m\u001b[0mbb\u001b[0m\u001b[0;34m)\u001b[0m \u001b[0;32mif\u001b[0m \u001b[0mx\u001b[0m\u001b[0;34m]\u001b[0m\u001b[0;34m\u001b[0m\u001b[0m\n\u001b[1;32m      3\u001b[0m \u001b[0;32mfor\u001b[0m \u001b[0mh\u001b[0m \u001b[0;32min\u001b[0m \u001b[0mhigh\u001b[0m\u001b[0;34m:\u001b[0m\u001b[0;34m\u001b[0m\u001b[0m\n\u001b[1;32m      4\u001b[0m     \u001b[0mprint\u001b[0m\u001b[0;34m(\u001b[0m\u001b[0mX\u001b[0m\u001b[0;34m.\u001b[0m\u001b[0mnode\u001b[0m\u001b[0;34m[\u001b[0m\u001b[0mh\u001b[0m\u001b[0;34m]\u001b[0m\u001b[0;34m)\u001b[0m\u001b[0;34m\u001b[0m\u001b[0m\n",
      "\u001b[0;31mNameError\u001b[0m: name 'a' is not defined"
     ]
    }
   ],
   "source": [
    "bb = np.array(list(a.values())) > 49\n",
    "high = [i for i, x in enumerate(bb) if x]\n",
    "for h in high:\n",
    "    print(X.node[h])"
   ]
  },
  {
   "cell_type": "code",
   "execution_count": 48,
   "metadata": {},
   "outputs": [
    {
     "ename": "TypeError",
     "evalue": "'list' object is not callable",
     "output_type": "error",
     "traceback": [
      "\u001b[0;31m---------------------------------------------------------------------------\u001b[0m",
      "\u001b[0;31mTypeError\u001b[0m                                 Traceback (most recent call last)",
      "\u001b[0;32m<ipython-input-48-52315c5668a4>\u001b[0m in \u001b[0;36m<module>\u001b[0;34m()\u001b[0m\n\u001b[1;32m      1\u001b[0m \u001b[0mqq\u001b[0m \u001b[0;34m=\u001b[0m \u001b[0mwords\u001b[0m\u001b[0;34m[\u001b[0m\u001b[0;34m'N400'\u001b[0m\u001b[0;34m]\u001b[0m\u001b[0;34m\u001b[0m\u001b[0m\n\u001b[0;32m----> 2\u001b[0;31m \u001b[0mqq\u001b[0m\u001b[0;34m.\u001b[0m\u001b[0mwords\u001b[0m\u001b[0;34m(\u001b[0m\u001b[0;34m)\u001b[0m\u001b[0;34m\u001b[0m\u001b[0m\n\u001b[0m",
      "\u001b[0;31mTypeError\u001b[0m: 'list' object is not callable"
     ]
    }
   ],
   "source": [
    "qq = words['N400']\n",
    "qq."
   ]
  },
  {
   "cell_type": "code",
   "execution_count": null,
   "metadata": {
    "collapsed": true
   },
   "outputs": [],
   "source": []
  }
 ],
 "metadata": {
  "kernelspec": {
   "display_name": "Python 3",
   "language": "python",
   "name": "python3"
  },
  "language_info": {
   "codemirror_mode": {
    "name": "ipython",
    "version": 3
   },
   "file_extension": ".py",
   "mimetype": "text/x-python",
   "name": "python",
   "nbconvert_exporter": "python",
   "pygments_lexer": "ipython3",
   "version": "3.8.3"
  }
 },
 "nbformat": 4,
 "nbformat_minor": 2
}
