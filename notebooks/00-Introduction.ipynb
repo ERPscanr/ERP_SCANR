{
 "cells": [
  {
   "cell_type": "markdown",
   "metadata": {},
   "source": [
    "# ERP SCANR\n",
    "\n",
    "This notebook is the overview notebook for the ERP-SCANR project.\n",
    "\n",
    "The ERP-SCANR project uses automated literature collection and text mining to summarize research on ERPs. \n",
    "\n",
    "This project starts with curated collections of terms, including ERP terms, and potential associations, such as cognitive and disease terms. Automated literature collection then collects information from papers using those terms, using [LISC](https://lisc-tools.github.io/). \n",
    "\n",
    "Current analysis takes two forms:\n",
    "- `Count` analyses: searches for co-occurences of terms, between ERPs and associated terms\n",
    "    - This approach looks for patterns based on how commonly terms occur together\n",
    "- `Words` analyses: analyses text data from articles that discuss ERP related research\n",
    "    - This approach collects text and metadata from papers, and builds data driven profiles for ERP components\n",
    "\n",
    "This notebook introduces the terms that are used in the project."
   ]
  },
  {
   "cell_type": "code",
   "execution_count": 1,
   "metadata": {},
   "outputs": [],
   "source": [
    "from lisc.objects.base import Base"
   ]
  },
  {
   "cell_type": "code",
   "execution_count": 2,
   "metadata": {},
   "outputs": [],
   "source": [
    "# Set the location of the terms\n",
    "term_dir = '../terms/'"
   ]
  },
  {
   "cell_type": "code",
   "execution_count": 3,
   "metadata": {},
   "outputs": [],
   "source": [
    "# Load a test object to check the terms\n",
    "erps = Base()"
   ]
  },
  {
   "cell_type": "code",
   "execution_count": 4,
   "metadata": {},
   "outputs": [],
   "source": [
    "# Load erps and cognitive terms from file\n",
    "erps.add_terms_file('erps.txt', directory=term_dir)"
   ]
  },
  {
   "cell_type": "code",
   "execution_count": 5,
   "metadata": {},
   "outputs": [
    {
     "name": "stdout",
     "output_type": "stream",
     "text": [
      "List of terms used: \n",
      "\n",
      "P100                                          : P100\n",
      "P150                                          : P150\n",
      "P180                                          : P180\n",
      "P200                                          : P200\n",
      "P220                                          : P220\n",
      "P240                                          : P240\n",
      "P250                                          : P250\n",
      "P270                                          : P270\n",
      "P300                                          : P300\n",
      "P3a                                           : P3a\n",
      "P3b                                           : P3b\n",
      "P340                                          : P340\n",
      "P350                                          : P350\n",
      "P400                                          : P400\n",
      "P500                                          : P500\n",
      "P550                                          : P550\n",
      "P600                                          : P600\n",
      "N75                                           : N75\n",
      "N80                                           : N80\n",
      "N90                                           : N90\n",
      "N100                                          : N100\n",
      "N110                                          : N110\n",
      "N120                                          : N120\n",
      "N130                                          : N130\n",
      "N140                                          : N140\n",
      "N150                                          : N150\n",
      "N160                                          : N160\n",
      "N170                                          : N170\n",
      "N180                                          : N180\n",
      "N190                                          : N190\n",
      "N200                                          : N200\n",
      "MMN                                           : MMN, mismatch negativity\n",
      "N2a                                           : N2a\n",
      "N2b                                           : N2b\n",
      "N2c                                           : N2c\n",
      "N240                                          : N240\n",
      "N250                                          : N250\n",
      "N270                                          : N270\n",
      "N280                                          : N280\n",
      "N2pc                                          : N2pc\n",
      "N300                                          : N300\n",
      "N320                                          : N320\n",
      "N350                                          : N350\n",
      "N380                                          : N380\n",
      "N400                                          : N400\n",
      "N450                                          : N450\n",
      "N550                                          : N550\n",
      "N600                                          : N600\n",
      "N700                                          : N700\n",
      "late positive component                       : late positive component,  late positive complex\n",
      "late positive potential                       : late positive potential,  late positive potentials\n",
      "negative slow wave                            : negative slow wave\n",
      "positive slow wave                            : positive slow wave\n",
      "vertex positive potential                     : vertex positive potential\n",
      "contingent negative variation                 : contingent negative variation\n",
      "post imperative negative variation            : post imperative negative variation\n",
      "early left anterior negativity                : early left anterior negativity\n",
      "left anterior negativity                      : left anterior negativity\n",
      "closure positive shift                        : closure positive shift\n",
      "lateralized readiness potential               : lateralized readiness potential\n",
      "late discriminative negativity                : late discriminative negativity\n",
      "object related negativity                     : object related negativity\n",
      "readiness potential                           : readiness potential, bereitschaftspotential\n",
      "error related negativity                      : error related negativity\n",
      "error related positivity                      : error related positivity, error positivity, post error positivity\n",
      "correct related negativity                    : correct related negativity, correct response negativity\n",
      "medial frontal negativity                     : medial frontal negativity\n",
      "stimulus preceding negativity                 : stimulus preceding negativity\n",
      "feedback related negativity                   : feedback related negativity\n",
      "distractor positivity                         : distractor positivity\n",
      "early directing attention negativity          : early directing attention negativity\n",
      "late directing attention positivity           : late directing attention positivity\n",
      "anterior directing attention negativity       : anterior directing attention negativity\n",
      "early posterior negativity                    : early posterior negativity\n",
      "selection negativity                          : selection negativity\n",
      "selection positivity                          : selection positivity\n",
      "sustained posterior negativity                : sustained posterior negativity\n",
      "sustained posterior contralateral negativity  : sustained posterior contralateral negativity\n",
      "reversal negativity                           : reversal negativity\n",
      "vsep                                          : vsep, vestibular sensory evoked potentials, vestibular evoked potentials\n",
      "movement related cortical potential           : movement related cortical potential,  movement related cortical potentials\n",
      "frontal selection positivity                  : frontal selection positivity,  fronto polar selection positivity\n",
      "prefrontal negativity                         : prefrontal negativity\n"
     ]
    }
   ],
   "source": [
    "# Check the ERPs that are being used. Entries in the same line as used as synonyms.\n",
    "erps.check_terms()"
   ]
  },
  {
   "cell_type": "code",
   "execution_count": 6,
   "metadata": {},
   "outputs": [],
   "source": [
    "# Add exclusion words\n",
    "erps.add_terms_file('erps_exclude.txt', term_type='exclusions', directory=term_dir)"
   ]
  },
  {
   "cell_type": "code",
   "execution_count": 7,
   "metadata": {},
   "outputs": [
    {
     "name": "stdout",
     "output_type": "stream",
     "text": [
      "List of exclusions used: \n",
      "\n",
      "P100                                          : gene, virus, protein, cancer, acid, skin\n",
      "P150                                          : protein, cell, dna, dynein, adhesion\n",
      "P180                                          : protein, serum, plasma, rat, mice, feline\n",
      "P200                                          : gene, protein, antibody, phosphate\n",
      "P220                                          : protein, dna, postnatal\n",
      "P240                                          : gene, protein, muscle, rat\n",
      "P250                                          : protein, cell, postnatal\n",
      "P270                                          : protein, promoter, rna\n",
      "P300                                          : gene, protein, transcription, antibody, tumor, battery\n",
      "P3a                                           : protein\n",
      "P3b                                           : protein\n",
      "P340                                          : molecular\n",
      "P350                                          : protein\n",
      "P400                                          : protein\n",
      "P500                                          : protein, index, financial, cell\n",
      "P550                                          : cell, peptide, protein, oil, bond\n",
      "P600                                          : protein, gene\n",
      "N75                                           : protein, cell, nitrogen, bacteria\n",
      "N80                                           : protein, glycan, gene\n",
      "N90                                           : protein, nitrogen, gene\n",
      "N100                                          : gene, ketac\n",
      "N110                                          : protein, quantum, hydrogen\n",
      "N120                                          : nitrogen, protein, fertilizer\n",
      "N130                                          : virus, amino, cancer\n",
      "N140                                          : protein\n",
      "N150                                          : nitrogen\n",
      "N160                                          : protein\n",
      "N170                                          : protein\n",
      "N180                                          : fertilizer, protein, nitrogen\n",
      "N190                                          : protein, amino, cell\n",
      "N200                                          : protein, nitrogen\n",
      "MMN                                           : micronutrients\n",
      "N2a                                           : protein, cancer, cell, muscle, synthesis, toxin\n",
      "N2b                                           : ttn, cancer, cardiac, protein, serum\n",
      "N2c                                           : cell, cancer, protein, ligand, blood, synthesis\n",
      "N240                                          : nitrogen, enzyme\n",
      "N250                                          : protein\n",
      "N270                                          : enzyme\n",
      "N280                                          : pichia\n",
      "N2pc                                          : \n",
      "N300                                          : \n",
      "N320                                          : cancer, dna\n",
      "N350                                          : liver\n",
      "N380                                          : protein, aneurysm\n",
      "N400                                          : \n",
      "N450                                          : \n",
      "N550                                          : hydrogen, membrane\n",
      "N600                                          : molecular, income, molecular\n",
      "N700                                          : calcium\n",
      "late positive component                       : \n",
      "late positive potential                       : \n",
      "negative slow wave                            : \n",
      "positive slow wave                            : \n",
      "vertex positive potential                     : \n",
      "contingent negative variation                 : \n",
      "post imperative negative variation            : \n",
      "early left anterior negativity                : \n",
      "left anterior negativity                      : early\n",
      "closure positive shift                        : \n",
      "lateralized readiness potential               : \n",
      "late discriminative negativity                : \n",
      "object related negativity                     : \n",
      "readiness potential                           : lateralized\n",
      "error related negativity                      : \n",
      "error related positivity                      : \n",
      "correct related negativity                    : \n",
      "medial frontal negativity                     : \n",
      "stimulus preceding negativity                 : \n",
      "feedback related negativity                   : \n",
      "distractor positivity                         : \n",
      "early directing attention negativity          : \n",
      "late directing attention positivity           : \n",
      "anterior directing attention negativity       : \n",
      "early posterior negativity                    : \n",
      "selection negativity                          : \n",
      "selection positivity                          : \n",
      "sustained posterior negativity                : \n",
      "sustained posterior contralateral negativity  : \n",
      "reversal negativity                           : \n",
      "vsep                                          : vagus\n",
      "movement related cortical potential           : \n",
      "frontal selection positivity                  : \n",
      "prefrontal negativity                         : \n"
     ]
    }
   ],
   "source": [
    "# Check the exclusion terms used\n",
    "erps.check_terms('exclusions')"
   ]
  },
  {
   "cell_type": "markdown",
   "metadata": {},
   "source": [
    "### Cognitive Terms"
   ]
  },
  {
   "cell_type": "code",
   "execution_count": 8,
   "metadata": {},
   "outputs": [],
   "source": [
    "# Load cognitive terms from file\n",
    "cogs = Base()\n",
    "cogs.add_terms_file('cognitive.txt', directory=term_dir)"
   ]
  },
  {
   "cell_type": "code",
   "execution_count": 9,
   "metadata": {},
   "outputs": [
    {
     "name": "stdout",
     "output_type": "stream",
     "text": [
      "List of terms used: \n",
      "\n",
      "attention            : attention\n",
      "arousal              : arousal\n",
      "auditory             : auditory, audition\n",
      "awareness            : awareness\n",
      "categorization       : categorization\n",
      "conflict             : conflict\n",
      "decision making      : decision making\n",
      "emotion              : emotion, emotional\n",
      "error                : error\n",
      "executive functions  : executive functions\n",
      "expectation          : expectation\n",
      "face                 : face, facial\n",
      "grammar              : grammar\n",
      "language             : language\n",
      "learning             : learning\n",
      "memory               : memory\n",
      "motor                : motor\n",
      "movement             : movement\n",
      "number               : number\n",
      "pain                 : pain, nociception\n",
      "phonology            : phonology, phonological\n",
      "prediction           : prediction, predictive\n",
      "reading              : reading\n",
      "reasoning            : reasoning\n",
      "representation       : representation\n",
      "reward               : reward\n",
      "semantic             : semantic, semantics\n",
      "sleep                : sleep\n",
      "spatial              : spatial\n",
      "speech               : speech\n",
      "social               : social\n",
      "somatosensory        : somatosensory\n",
      "tactile              : tactile\n",
      "valence              : valence\n",
      "vision               : vision, visual\n",
      "working memory       : working memory\n"
     ]
    }
   ],
   "source": [
    "# Check the cognitive terms used\n",
    "cogs.check_terms()"
   ]
  },
  {
   "cell_type": "markdown",
   "metadata": {},
   "source": [
    "### Disease Terms"
   ]
  },
  {
   "cell_type": "code",
   "execution_count": 10,
   "metadata": {},
   "outputs": [],
   "source": [
    "# Load the disease terms from file\n",
    "disease = Base()\n",
    "disease.add_terms_file('disease.txt', directory=term_dir)"
   ]
  },
  {
   "cell_type": "code",
   "execution_count": 11,
   "metadata": {},
   "outputs": [
    {
     "name": "stdout",
     "output_type": "stream",
     "text": [
      "List of terms used: \n",
      "\n",
      "alcoholism                                : alcoholism\n",
      "addiction                                 : addiction\n",
      "attention deficit hyperactivity disorder  : attention deficit hyperactivity disorder, ADHD\n",
      "alzheimer                                 : alzheimer\n",
      "anorexia                                  : anorexia\n",
      "anxiety                                   : anxiety\n",
      "aphasia                                   : aphasia\n",
      "autism                                    : autism\n",
      "bipolar                                   : bipolar\n",
      "dementia                                  : dementia\n",
      "depression                                : depression\n",
      "down syndrome                             : down syndrome\n",
      "dyslexia                                  : dyslexia\n",
      "epilepsy                                  : epilepsy, seizure\n",
      "insomnia                                  : insomnia\n",
      "migraine                                  : migraine\n",
      "mild cognitive impairment                 : mild cognitive impairment\n",
      "multiple sclerosis                        : multiple sclerosis\n",
      "obsessive compulsive disorder             : obsessive compulsive disorder\n",
      "parkinson                                 : parkinson\n",
      "personality disorder                      : personality disorder\n",
      "post traumatic stress disorder            : post traumatic stress disorder, PTSD\n",
      "psychosis                                 : psychosis\n",
      "schizophrenia                             : schizophrenia\n",
      "stroke                                    : stroke\n"
     ]
    }
   ],
   "source": [
    "# Check the disease terms\n",
    "disease.check_terms()"
   ]
  }
 ],
 "metadata": {
  "anaconda-cloud": {},
  "kernelspec": {
   "display_name": "Python 3",
   "language": "python",
   "name": "python3"
  },
  "language_info": {
   "codemirror_mode": {
    "name": "ipython",
    "version": 3
   },
   "file_extension": ".py",
   "mimetype": "text/x-python",
   "name": "python",
   "nbconvert_exporter": "python",
   "pygments_lexer": "ipython3",
   "version": "3.8.3"
  }
 },
 "nbformat": 4,
 "nbformat_minor": 1
}
