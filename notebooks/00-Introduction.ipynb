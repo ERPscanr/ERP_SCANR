{
 "cells": [
  {
   "cell_type": "markdown",
   "metadata": {},
   "source": [
    "# ERP SCANR\n",
    "\n",
    "This notebook is the overview notebook for the ERP-SCANR project.\n",
    "\n",
    "The ERP-SCANR project uses automated literature collection and text mining to summarize research on ERPs. \n",
    "\n",
    "This project starts with curated collections of terms, including ERP terms, and potential associations, such as cognitive and disease terms. Automated literature collection then collects information from papers using those terms, using [LISC](https://lisc-tools.github.io/). \n",
    "\n",
    "Current analysis takes two forms:\n",
    "- `Count` analyses: searches for co-occurences of terms, between ERPs and associated terms\n",
    "    - This approach looks for patterns based on how commonly terms occur together\n",
    "- `Words` analyses: analyses text data from articles that discuss ERP related research\n",
    "    - This approach collects text and metadata from papers, and builds data driven profiles for ERP components\n",
    "\n",
    "This notebook introduces the terms that are used in the project."
   ]
  },
  {
   "cell_type": "code",
   "execution_count": 12,
   "metadata": {},
   "outputs": [],
   "source": [
    "# Import custom code\n",
    "from lisc.objects.base import Base"
   ]
  },
  {
   "cell_type": "code",
   "execution_count": 13,
   "metadata": {},
   "outputs": [],
   "source": [
    "# Set the location of the terms\n",
    "term_dir = '../terms/'"
   ]
  },
  {
   "cell_type": "code",
   "execution_count": 14,
   "metadata": {},
   "outputs": [],
   "source": [
    "# Load a test object to check the terms\n",
    "erps = Base()"
   ]
  },
  {
   "cell_type": "code",
   "execution_count": 4,
   "metadata": {},
   "outputs": [],
   "source": [
    "# Load erps and cognitive terms from file\n",
    "erps.add_terms_file('erps.txt', directory=term_dir)"
   ]
  },
  {
   "cell_type": "code",
   "execution_count": 5,
   "metadata": {},
   "outputs": [
    {
     "name": "stdout",
     "output_type": "stream",
     "text": [
      "List of terms used: \n",
      "\n",
      "01-P100                                          : 01-P100\n",
      "02-P150                                          : 02-P150\n",
      "03-P180                                          : 03-P180\n",
      "04-P200                                          : 04-P200\n",
      "05-P220                                          : 05-P220\n",
      "06-P240                                          : 06-P240\n",
      "07-P250                                          : 07-P250\n",
      "08-P270                                          : 08-P270\n",
      "09-P300                                          : 09-P300\n",
      "10-P3a                                           : 10-P3a\n",
      "11-P3b                                           : 11-P3b\n",
      "12-P340                                          : 12-P340\n",
      "13-P350                                          : 13-P350\n",
      "14-P400                                          : 14-P400\n",
      "15-P500                                          : 15-P500\n",
      "16-P550                                          : 16-P550\n",
      "17-P600                                          : 17-P600\n",
      "18-N75                                           : 18-N75\n",
      "19-N80                                           : 19-N80\n",
      "20-N90                                           : 20-N90\n",
      "21-N100                                          : 21-N100\n",
      "22-N110                                          : 22-N110\n",
      "23-N120                                          : 23-N120\n",
      "24-N130                                          : 24-N130\n",
      "25-N140                                          : 25-N140\n",
      "26-N150                                          : 26-N150\n",
      "27-N160                                          : 27-N160\n",
      "28-N170                                          : 28-N170\n",
      "29-N180                                          : 29-N180\n",
      "30-N190                                          : 30-N190\n",
      "31-N200                                          : 31-N200\n",
      "32-MMN                                           : 32-MMN, mismatch negativity\n",
      "33-N2a                                           : 33-N2a\n",
      "34-N2b                                           : 34-N2b\n",
      "35-N2c                                           : 35-N2c\n",
      "36-N240                                          : 36-N240\n",
      "37-N250                                          : 37-N250\n",
      "38-N270                                          : 38-N270\n",
      "39-N280                                          : 39-N280\n",
      "40-N2pc                                          : 40-N2pc\n",
      "41-N300                                          : 41-N300\n",
      "42-N320                                          : 42-N320\n",
      "43-N350                                          : 43-N350\n",
      "44-N380                                          : 44-N380\n",
      "45-N400                                          : 45-N400\n",
      "46-N450                                          : 46-N450\n",
      "47-N550                                          : 47-N550\n",
      "48-N600                                          : 48-N600\n",
      "49-N700                                          : 49-N700\n",
      "50-late positive component                       : 50-late positive component,  late positive complex\n",
      "51-late positive potential                       : 51-late positive potential,  late positive potentials\n",
      "52-negative slow wave                            : 52-negative slow wave\n",
      "53-positive slow wave                            : 53-positive slow wave\n",
      "54-vertex positive potential                     : 54-vertex positive potential\n",
      "55-contingent negative variation                 : 55-contingent negative variation\n",
      "56-post imperative negative variation            : 56-post imperative negative variation\n",
      "57-early left anterior negativity                : 57-early left anterior negativity\n",
      "58-left anterior negativity                      : 58-left anterior negativity\n",
      "59-closure positive shift                        : 59-closure positive shift\n",
      "60-lateralized readiness potential               : 60-lateralized readiness potential\n",
      "61-late discriminative negativity                : 61-late discriminative negativity\n",
      "62-object related negativity                     : 62-object related negativity\n",
      "63-readiness potential                           : 63-readiness potential, bereitschaftspotential\n",
      "64-error related negativity                      : 64-error related negativity\n",
      "65-error related positivity                      : 65-error related positivity, error positivity, post error positivity\n",
      "66-correct related negativity                    : 66-correct related negativity, correct response negativity\n",
      "67-medial frontal negativity                     : 67-medial frontal negativity\n",
      "68-stimulus preceding negativity                 : 68-stimulus preceding negativity\n",
      "69-feedback related negativity                   : 69-feedback related negativity\n",
      "70-distractor positivity                         : 70-distractor positivity\n",
      "71-early directing attention negativity          : 71-early directing attention negativity\n",
      "72-late directing attention positivity           : 72-late directing attention positivity\n",
      "73-anterior directing attention negativity       : 73-anterior directing attention negativity\n",
      "74-early posterior negativity                    : 74-early posterior negativity\n",
      "75-selection negativity                          : 75-selection negativity\n",
      "76-selection positivity                          : 76-selection positivity\n",
      "77-sustained posterior negativity                : 77-sustained posterior negativity\n",
      "78-sustained posterior contralateral negativity  : 78-sustained posterior contralateral negativity\n",
      "79-reversal negativity                           : 79-reversal negativity\n",
      "80-vsep                                          : 80-vsep, vestibular sensory evoked potentials, vestibular evoked potentials\n",
      "81-movement related cortical potential           : 81-movement related cortical potential,  movement related cortical potentials\n",
      "82-frontal selection positivity                  : 82-frontal selection positivity,  fronto polar selection positivity\n",
      "83-prefrontal negativity                         : 83-prefrontal negativity\n"
     ]
    }
   ],
   "source": [
    "# Check the ERPs that are being used. Entries in the same line as used as synonyms.\n",
    "erps.check_terms()"
   ]
  },
  {
   "cell_type": "code",
   "execution_count": 6,
   "metadata": {},
   "outputs": [],
   "source": [
    "# Add exclusion words\n",
    "erps.add_terms_file('erps_exclude.txt', term_type='exclusions', directory=term_dir)"
   ]
  },
  {
   "cell_type": "code",
   "execution_count": 7,
   "metadata": {},
   "outputs": [
    {
     "name": "stdout",
     "output_type": "stream",
     "text": [
      "List of exclusions used: \n",
      "\n",
      "01-P100                                          : 01-gene, virus, protein, cancer, acid, skin\n",
      "02-P150                                          : 02-protein, cell, dna, dynein, adhesion\n",
      "03-P180                                          : 03-protein, serum, plasma, rat, mice, feline\n",
      "04-P200                                          : 04-gene, protein, antibody, phosphate\n",
      "05-P220                                          : 05-protein, dna, postnatal\n",
      "06-P240                                          : 06-gene, protein, muscle, rat\n",
      "07-P250                                          : 07-protein, cell, postnatal\n",
      "08-P270                                          : 08-protein, promoter, rna\n",
      "09-P300                                          : 09-gene, protein, transcription, antibody, tumor, battery\n",
      "10-P3a                                           : 10-protein\n",
      "11-P3b                                           : 11-protein\n",
      "12-P340                                          : 12-molecular\n",
      "13-P350                                          : 13-protein\n",
      "14-P400                                          : 14-protein\n",
      "15-P500                                          : 15-protein, index, financial, cell\n",
      "16-P550                                          : 16-cell, peptide, protein, oil, bond\n",
      "17-P600                                          : 17-protein, gene\n",
      "18-N75                                           : 18-protein, cell, nitrogen, bacteria\n",
      "19-N80                                           : 19-protein, glycan, gene\n",
      "20-N90                                           : 20-protein, nitrogen, gene\n",
      "21-N100                                          : 21-gene, ketac\n",
      "22-N110                                          : 22-protein, quantum, hydrogen\n",
      "23-N120                                          : 23-nitrogen, protein, fertilizer\n",
      "24-N130                                          : 24-virus, amino, cancer\n",
      "25-N140                                          : 25-protein\n",
      "26-N150                                          : 26-nitrogen\n",
      "27-N160                                          : 27-protein\n",
      "28-N170                                          : 28-protein\n",
      "29-N180                                          : 29-fertilizer, protein, nitrogen\n",
      "30-N190                                          : 30-protein, amino, cell\n",
      "31-N200                                          : 31-protein, nitrogen\n",
      "32-MMN                                           : 32-micronutrients\n",
      "33-N2a                                           : 33-protein, cancer, cell, muscle, synthesis, toxin\n",
      "34-N2b                                           : 34-ttn, cancer, cardiac, protein, serum\n",
      "35-N2c                                           : 35-cell, cancer, protein, ligand, blood, synthesis\n",
      "36-N240                                          : 36-nitrogen, enzyme\n",
      "37-N250                                          : 37-protein\n",
      "38-N270                                          : 38-enzyme\n",
      "39-N280                                          : 39-pichia\n",
      "40-N2pc                                          : 40-\n",
      "41-N300                                          : 41-\n",
      "42-N320                                          : 42-cancer, dna\n",
      "43-N350                                          : 43-liver\n",
      "44-N380                                          : 44-protein, aneurysm\n",
      "45-N400                                          : 45-\n",
      "46-N450                                          : 46-\n",
      "47-N550                                          : 47-hydrogen, membrane\n",
      "48-N600                                          : 48-molecular, income, molecular\n",
      "49-N700                                          : 49-calcium\n",
      "50-late positive component                       : 50-\n",
      "51-late positive potential                       : 51-\n",
      "52-negative slow wave                            : 52-\n",
      "53-positive slow wave                            : 53-\n",
      "54-vertex positive potential                     : 54-\n",
      "55-contingent negative variation                 : 55-\n",
      "56-post imperative negative variation            : 56-\n",
      "57-early left anterior negativity                : 57-\n",
      "58-left anterior negativity                      : 58-early\n",
      "59-closure positive shift                        : 59-\n",
      "60-lateralized readiness potential               : 60-\n",
      "61-late discriminative negativity                : 61-\n",
      "62-object related negativity                     : 62-\n",
      "63-readiness potential                           : 63-lateralized\n",
      "64-error related negativity                      : 64-\n",
      "65-error related positivity                      : 65-\n",
      "66-correct related negativity                    : 66-\n",
      "67-medial frontal negativity                     : 67-\n",
      "68-stimulus preceding negativity                 : 68-\n",
      "69-feedback related negativity                   : 69-\n",
      "70-distractor positivity                         : 70-\n",
      "71-early directing attention negativity          : 71-\n",
      "72-late directing attention positivity           : 72-\n",
      "73-anterior directing attention negativity       : 73-\n",
      "74-early posterior negativity                    : 74-\n",
      "75-selection negativity                          : 75-\n",
      "76-selection positivity                          : 76-\n",
      "77-sustained posterior negativity                : 77-\n",
      "78-sustained posterior contralateral negativity  : 78-\n",
      "79-reversal negativity                           : 79-\n",
      "80-vsep                                          : 80-vagus\n",
      "81-movement related cortical potential           : 81-\n",
      "82-frontal selection positivity                  : 82-\n",
      "83-prefrontal negativity                         : 83-\n"
     ]
    }
   ],
   "source": [
    "# Check the exclusion terms used\n",
    "erps.check_terms('exclusions')"
   ]
  },
  {
   "cell_type": "markdown",
   "metadata": {},
   "source": [
    "### Cognitive Terms"
   ]
  },
  {
   "cell_type": "code",
   "execution_count": 8,
   "metadata": {},
   "outputs": [],
   "source": [
    "# Load cognitive terms from file\n",
    "cogs = Base()\n",
    "cogs.add_terms_file('cognitive.txt', directory=term_dir)"
   ]
  },
  {
   "cell_type": "code",
   "execution_count": 9,
   "metadata": {},
   "outputs": [
    {
     "name": "stdout",
     "output_type": "stream",
     "text": [
      "List of terms used: \n",
      "\n",
      "attention            : attention\n",
      "arousal              : arousal\n",
      "auditory             : auditory, audition\n",
      "awareness            : awareness\n",
      "categorization       : categorization\n",
      "conflict             : conflict\n",
      "decision making      : decision making\n",
      "emotion              : emotion, emotional\n",
      "error                : error\n",
      "executive functions  : executive functions\n",
      "expectation          : expectation\n",
      "face                 : face, facial\n",
      "grammar              : grammar\n",
      "language             : language\n",
      "learning             : learning\n",
      "memory               : memory\n",
      "motor                : motor\n",
      "movement             : movement\n",
      "number               : number\n",
      "pain                 : pain, nociception\n",
      "phonology            : phonology, phonological\n",
      "prediction           : prediction, predictive\n",
      "reading              : reading\n",
      "reasoning            : reasoning\n",
      "representation       : representation\n",
      "reward               : reward\n",
      "semantic             : semantic, semantics\n",
      "sleep                : sleep\n",
      "spatial              : spatial\n",
      "speech               : speech\n",
      "social               : social\n",
      "somatosensory        : somatosensory\n",
      "tactile              : tactile\n",
      "valence              : valence\n",
      "vision               : vision, visual\n",
      "working memory       : working memory\n"
     ]
    }
   ],
   "source": [
    "# Check the cognitive terms used\n",
    "cogs.check_terms()"
   ]
  },
  {
   "cell_type": "markdown",
   "metadata": {},
   "source": [
    "### Disease Terms"
   ]
  },
  {
   "cell_type": "code",
   "execution_count": 10,
   "metadata": {},
   "outputs": [],
   "source": [
    "# Load the disease terms from file\n",
    "disease = Base()\n",
    "disease.add_terms_file('disease.txt', directory=term_dir)"
   ]
  },
  {
   "cell_type": "code",
   "execution_count": 11,
   "metadata": {},
   "outputs": [
    {
     "name": "stdout",
     "output_type": "stream",
     "text": [
      "List of terms used: \n",
      "\n",
      "alcoholism                                : alcoholism\n",
      "addiction                                 : addiction\n",
      "attention deficit hyperactivity disorder  : attention deficit hyperactivity disorder, ADHD\n",
      "alzheimer                                 : alzheimer\n",
      "anorexia                                  : anorexia\n",
      "anxiety                                   : anxiety\n",
      "aphasia                                   : aphasia\n",
      "autism                                    : autism\n",
      "bipolar                                   : bipolar\n",
      "dementia                                  : dementia\n",
      "depression                                : depression\n",
      "down syndrome                             : down syndrome\n",
      "dyslexia                                  : dyslexia\n",
      "epilepsy                                  : epilepsy, seizure\n",
      "insomnia                                  : insomnia\n",
      "migraine                                  : migraine\n",
      "mild cognitive impairment                 : mild cognitive impairment\n",
      "multiple sclerosis                        : multiple sclerosis\n",
      "obsessive compulsive disorder             : obsessive compulsive disorder\n",
      "parkinson                                 : parkinson\n",
      "personality disorder                      : personality disorder\n",
      "post traumatic stress disorder            : post traumatic stress disorder, PTSD\n",
      "psychosis                                 : psychosis\n",
      "schizophrenia                             : schizophrenia\n",
      "stroke                                    : stroke\n"
     ]
    }
   ],
   "source": [
    "# Check the disease terms\n",
    "disease.check_terms()"
   ]
  }
 ],
 "metadata": {
  "anaconda-cloud": {},
  "kernelspec": {
   "display_name": "Python 3",
   "language": "python",
   "name": "python3"
  },
  "language_info": {
   "codemirror_mode": {
    "name": "ipython",
    "version": 3
   },
   "file_extension": ".py",
   "mimetype": "text/x-python",
   "name": "python",
   "nbconvert_exporter": "python",
   "pygments_lexer": "ipython3",
   "version": "3.8.3"
  }
 },
 "nbformat": 4,
 "nbformat_minor": 1
}
