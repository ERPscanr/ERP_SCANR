{
 "cells": [
  {
   "cell_type": "markdown",
   "metadata": {},
   "source": [
    "## ERP SCANR\n",
    "\n",
    "This notebook is the overview notebook for the ERP-SCANR project (erpsc).\n",
    "\n",
    "ERPSC is an attempt to use automated web-scraping and text mining to summarize research on ERPs. Hopefully this project will serve as a type of automated meta-analysis, and also a way to pull out patterns in ERP research.\n",
    "\n",
    "Logic:\n",
    "- At it's core, the erpsc code provides a base to set terms - both ERP terms and other terms, such as cognitive and/or disease terms - and mine papers for these terms, using the NCBI e-utils. You can also specify a list of 'exclusion words' that will be specifically avoided in ERP searches. \n",
    "\n",
    "Current analysis takes two forms:\n",
    "- Co-Occurence analysis: searches for co-occurences of terms (ERPs and others), and simply analyses how commonly these terms occur together, in both absolute and relative terms. \n",
    "- Word analysis:\n",
    "\n",
    "Settings:\n",
    "- Several settings can be set and are explorable. For example:\n",
    "    - Database: EUtils can search different databases, most relevantly, 'pubmed' or 'pmc', which have some differences.\n",
    "    - Search Area: although somewhat contingent upon the database, the search area can be set, for all 'TIAB' (title and abstract), 'ARTI' (all available article text), WORD (all searchable words), etc. \n",
    "\n",
    "Future Work:\n",
    "- \n",
    "\n",
    "\n",
    "\n",
    "\n",
    "The code in this notebook simply uses the base class to load and check the terms \n",
    "\n",
    "NOTE:\n",
    "- Known issue: Some ERP terms often return papers where the same name is used for something else. Will need some sort of quality control procedure to check that the papers that are scraped actually refer to what is wanted. \n",
    "\n",
    "These notebooks just run the code and display results. The actual code is in the 'erpsc' custom module. "
   ]
  },
  {
   "cell_type": "code",
   "execution_count": null,
   "metadata": {
    "collapsed": false
   },
   "outputs": [],
   "source": [
    "# Import custom code\n",
    "from erpsc.base import Base"
   ]
  },
  {
   "cell_type": "code",
   "execution_count": 2,
   "metadata": {
    "collapsed": true
   },
   "outputs": [],
   "source": [
    "# Load a test object to test all terms\n",
    "check = Base()"
   ]
  },
  {
   "cell_type": "code",
   "execution_count": 3,
   "metadata": {
    "collapsed": false
   },
   "outputs": [],
   "source": [
    "# Load erps and cognitive terms from file\n",
    "check.set_erps_file()\n",
    "check.set_terms_file('cognitive')"
   ]
  },
  {
   "cell_type": "code",
   "execution_count": 4,
   "metadata": {
    "collapsed": false
   },
   "outputs": [
    {
     "name": "stdout",
     "output_type": "stream",
     "text": [
      "List of ERPs used: \n",
      "\n",
      "P40\n",
      "P50\n",
      "P60\n",
      "P100, P1\n",
      "P200, P2\n",
      "P300, P3\n",
      "P3a\n",
      "P3b\n",
      "P340\n",
      "P350\n",
      "P400\n",
      "P600, syntactice positive shift,  SPS\n",
      "N50\n",
      "N60\n",
      "N80\n",
      "N100,  N1\n",
      "N140\n",
      "N170, Vertex Positive Potential, VPP\n",
      "N200, N2\n",
      "MMN, mismatch negativity, N2a\n",
      "N2a\n",
      "N2b\n",
      "N2c\n",
      "N240\n",
      "N270\n",
      "N2pc\n",
      "N300\n",
      "N400\n",
      "N450\n",
      "N600\n",
      "C1\n",
      "LPC, late positive component\n",
      "LPP,  late Positive Potential\n",
      "MRPC, movement-related cortical potential\n",
      "CNV, contingent negative variation\n",
      "PINV, post-imperative negative variation\n",
      "ERN, Ne, error related negativity\n",
      "ELAN, early left anterior negativity\n",
      "CPS, closure positive shift\n",
      "LRP, lateralized readiness potential\n",
      "LDN, late difference negativity\n",
      "ORN, object related negativity\n",
      "SEP, somatosensory evoked potential\n",
      "VsEP, vestibular evoked potential\n",
      "BP, pre-motor potential, readiness potential, Bereitschaftspotential\n",
      "Pe, error-related positivity, error positivity, post-error positivity\n",
      "CRN, correct-related negativity, correct response negativity\n",
      "MFN, Medial frontal negativity\n",
      "SPN, Stimulus-Preceding Negativity\n",
      "ADAN, Anterior directed-attention negativity\n",
      "FRN, Feedback-related negativity\n",
      "Nc, Negative central component\n",
      "Pd, Distractor Positivity\n",
      "EDAN, early directing attention negativity\n",
      "ADAN, anterior directing attention negativity\n",
      "NSW, negative slow wave\n",
      "PSW, positive slow wave\n",
      "EPN, early posterior negativity\n",
      "SN, selection negativity\n"
     ]
    }
   ],
   "source": [
    "# Check the ERPs that are being used. Entries in the same line as used as synonyms.\n",
    "check.check_erps()"
   ]
  },
  {
   "cell_type": "code",
   "execution_count": 5,
   "metadata": {
    "collapsed": false
   },
   "outputs": [
    {
     "name": "stdout",
     "output_type": "stream",
     "text": [
      "List of terms used: \n",
      "\n",
      "attention\n",
      "auditory, audition\n",
      "awareness\n",
      "categorization\n",
      "cognitive\n",
      "decision making\n",
      "emotion, emotional\n",
      "face, facial\n",
      "language\n",
      "learning\n",
      "memory\n",
      "motor\n",
      "pain\n",
      "phonology, phonological\n",
      "reasoning\n",
      "reward\n",
      "semantic, semantics\n",
      "spatial\n",
      "speech\n",
      "social\n",
      "somatosensory\n",
      "tactile\n",
      "vision, visual\n"
     ]
    }
   ],
   "source": [
    "# Check the cognitive terms used\n",
    "check.check_terms()"
   ]
  },
  {
   "cell_type": "code",
   "execution_count": 6,
   "metadata": {
    "collapsed": false
   },
   "outputs": [
    {
     "name": "stdout",
     "output_type": "stream",
     "text": [
      "Unloading previous terms words.\n"
     ]
    }
   ],
   "source": [
    "# Load the disease terms to check\n",
    "check.set_terms_file('disease')"
   ]
  },
  {
   "cell_type": "code",
   "execution_count": 7,
   "metadata": {
    "collapsed": false
   },
   "outputs": [
    {
     "name": "stdout",
     "output_type": "stream",
     "text": [
      "List of terms used: \n",
      "\n",
      "ADHD\n",
      "alchohol abuse\n",
      "alzheimer\n",
      "anorexia\n",
      "anxiety\n",
      "aphasia\n",
      "autism\n",
      "bipolar\n",
      "dementia\n",
      "depression\n",
      "dyslexia\n",
      "epilepsy, seizure\n",
      "insomnia\n",
      "migraine\n",
      "parkinson\n",
      "PTSD\n",
      "psychosis\n",
      "schizophrenia\n",
      "stroke\n"
     ]
    }
   ],
   "source": [
    "# Check the disease terms\n",
    "check.check_terms()"
   ]
  },
  {
   "cell_type": "code",
   "execution_count": 8,
   "metadata": {
    "collapsed": false
   },
   "outputs": [],
   "source": [
    "# Add exclusion words\n",
    "check.set_exclusions_file()"
   ]
  },
  {
   "cell_type": "code",
   "execution_count": 9,
   "metadata": {
    "collapsed": false
   },
   "outputs": [
    {
     "name": "stdout",
     "output_type": "stream",
     "text": [
      "List of exclusion words used: \n",
      "\n",
      "P40\t : \n",
      "P50\t : protein\n",
      "P60\t : \n",
      "P100\t : gene\n",
      "P200\t : \n",
      "P300\t : protein\n",
      "P3a\t : \n",
      "P3b\t : \n",
      "P340\t : \n",
      "P350\t : \n",
      "P400\t : protein\n",
      "P600\t : \n",
      "N50\t : genome\n",
      "N60\t : \n",
      "N80\t : \n",
      "N100\t : \n",
      "N140\t : \n",
      "N170\t : \n",
      "N200\t : \n",
      "MMN\t : \n",
      "N2a\t : \n",
      "N2b\t : ttn\n",
      "N2c\t : cell\n",
      "N240\t : \n",
      "N270\t : \n",
      "N2pc\t : \n",
      "N300\t : \n",
      "N400\t : \n",
      "N450\t : \n",
      "N600\t : \n",
      "C1\t : istamycin\n",
      "LPC\t : liver\n",
      "LPP\t : \n",
      "MRPC\t : cell\n",
      "CNV\t : number\n",
      "PINV\t : eiec\n",
      "ERN\t : \n",
      "ELAN\t : purkinje\n",
      "CPS\t : antioxidant\n",
      "LRP\t : \n",
      "LDN\t : cell\n",
      "ORN\t : strain\n",
      "SEP\t : \n",
      "VsEP\t : genetic\n",
      "BP\t : protein\n",
      "Pe\t : \n",
      "CRN\t : \n",
      "MFN\t : \n",
      "SPN\t : \n",
      "ADAN\t : \n",
      "FRN\t : \n",
      "Nc\t : \n",
      "Pd\t : \n",
      "EDAN\t : \n",
      "ADAN\t : \n",
      "NSW\t : \n",
      "PSW\t : \n",
      "EPN\t : \n",
      "SN\t : \n"
     ]
    }
   ],
   "source": [
    "# Check the exclusion terms used\n",
    "check.check_exclusions()"
   ]
  },
  {
   "cell_type": "code",
   "execution_count": null,
   "metadata": {
    "collapsed": true
   },
   "outputs": [],
   "source": []
  }
 ],
 "metadata": {
  "kernelspec": {
   "display_name": "Python 2",
   "language": "python",
   "name": "python2"
  },
  "language_info": {
   "codemirror_mode": {
    "name": "ipython",
    "version": 2
   },
   "file_extension": ".py",
   "mimetype": "text/x-python",
   "name": "python",
   "nbconvert_exporter": "python",
   "pygments_lexer": "ipython2",
   "version": "2.7.11"
  }
 },
 "nbformat": 4,
 "nbformat_minor": 0
}
