{
 "cells": [
  {
   "cell_type": "markdown",
   "metadata": {},
   "source": [
    "## Co-Occurence of Term Analysis\n",
    "\n",
    "Co-occurence of terms analysis: check how often pre-selected cognitive terms appear in abstracts with ERP terms. \n",
    "\n",
    "This analysis searches through pubmed for papers that contain specified ERP and COG terms. Data extracted is the count of the number of papers with both terms. This is used to infer what cognitive terms each ERP is affiliated with. \n",
    "\n",
    "NOTE:\n",
    "- COG terms here are a somewhat arbitrary selection: need a better set of terms, less arbitrarily selected. "
   ]
  },
  {
   "cell_type": "code",
   "execution_count": 1,
   "metadata": {
    "collapsed": false
   },
   "outputs": [],
   "source": [
    "# Import custom code\n",
    "from erpsc.count import Count\n",
    "from erpsc.core.io import save_pickle_obj, load_pickle_obj"
   ]
  },
  {
   "cell_type": "code",
   "execution_count": 3,
   "metadata": {
    "collapsed": false
   },
   "outputs": [],
   "source": [
    "# Initialize object for term count co-occurences. \n",
    "counts = Count()"
   ]
  },
  {
   "cell_type": "code",
   "execution_count": 5,
   "metadata": {
    "collapsed": false
   },
   "outputs": [],
   "source": [
    "counts.scrape_data?"
   ]
  },
  {
   "cell_type": "code",
   "execution_count": 3,
   "metadata": {
    "collapsed": false
   },
   "outputs": [],
   "source": [
    "# Load ERPS and terms from file\n",
    "counts.set_erps_file()\n",
    "counts.set_terms_file('cognitive')"
   ]
  },
  {
   "cell_type": "code",
   "execution_count": 4,
   "metadata": {
    "collapsed": false
   },
   "outputs": [
    {
     "name": "stdout",
     "output_type": "stream",
     "text": [
      "Unloading previous ERP words.\n",
      "Unloading previous terms words.\n"
     ]
    }
   ],
   "source": [
    "# OR: Set small set of ERPs and terms for tests\n",
    "\n",
    "# Small test set of words\n",
    "erps = ['N400', 'P600']\n",
    "cog_terms = ['language', 'memory'] \n",
    "\n",
    "# Add ERPs and terms\n",
    "counts.set_erps(erps)\n",
    "counts.set_terms(cog_terms)"
   ]
  },
  {
   "cell_type": "code",
   "execution_count": 6,
   "metadata": {
    "collapsed": false
   },
   "outputs": [],
   "source": [
    "# Scrape the co-occurence of terms data\n",
    "counts.scrape_data(db='pmc')"
   ]
  },
  {
   "cell_type": "code",
   "execution_count": 7,
   "metadata": {
    "collapsed": false
   },
   "outputs": [
    {
     "name": "stdout",
     "output_type": "stream",
     "text": [
      "For the  N400  the most common association is \t language   with \t %45.72\n",
      "For the  P600  the most common association is \t language   with \t %58.95\n"
     ]
    }
   ],
   "source": [
    "# Check the most commonly associated COG term for each ERP\n",
    "counts.check_cooc_erps()"
   ]
  },
  {
   "cell_type": "code",
   "execution_count": 8,
   "metadata": {
    "collapsed": false
   },
   "outputs": [
    {
     "name": "stdout",
     "output_type": "stream",
     "text": [
      "For  language     the strongest associated ERP is \t P600  with \t %58.95\n",
      "For  memory       the strongest associated ERP is \t N400  with \t %21.94\n"
     ]
    }
   ],
   "source": [
    "# Check the most commonly associated ERP for each term\n",
    "counts.check_cooc_terms()"
   ]
  },
  {
   "cell_type": "code",
   "execution_count": 9,
   "metadata": {
    "collapsed": false
   },
   "outputs": [
    {
     "name": "stdout",
     "output_type": "stream",
     "text": [
      "The most studied ERP is  N400    with     1914 papers\n",
      "The most studied term is  memory  with   225924  papers\n"
     ]
    }
   ],
   "source": [
    "# Check the terms with the most papers\n",
    "counts.check_top()"
   ]
  },
  {
   "cell_type": "code",
   "execution_count": 10,
   "metadata": {
    "collapsed": false
   },
   "outputs": [
    {
     "name": "stdout",
     "output_type": "stream",
     "text": [
      "N400  -     1914\n",
      "P600  -      553\n"
     ]
    }
   ],
   "source": [
    "# Check how many papers were found for each term - ERPs\n",
    "counts.check_counts('erp')"
   ]
  },
  {
   "cell_type": "code",
   "execution_count": 11,
   "metadata": {
    "collapsed": false
   },
   "outputs": [
    {
     "name": "stdout",
     "output_type": "stream",
     "text": [
      "language           -     146923\n",
      "memory             -     225924\n"
     ]
    }
   ],
   "source": [
    "# Check how many papers were found for each term - COGs\n",
    "counts.check_counts('term')"
   ]
  },
  {
   "cell_type": "code",
   "execution_count": null,
   "metadata": {
    "collapsed": false
   },
   "outputs": [],
   "source": [
    "# Save pickle file of results\n",
    "save_pickle_obj(counts, 'test2')"
   ]
  },
  {
   "cell_type": "code",
   "execution_count": null,
   "metadata": {
    "collapsed": false
   },
   "outputs": [],
   "source": [
    "# Load from pickle file\n",
    "counts = load_pickle_obj('test2_counts')"
   ]
  }
 ],
 "metadata": {
  "anaconda-cloud": {},
  "kernelspec": {
   "display_name": "Python [conda env:py35]",
   "language": "python",
   "name": "conda-env-py35-py"
  },
  "language_info": {
   "codemirror_mode": {
    "name": "ipython",
    "version": 3
   },
   "file_extension": ".py",
   "mimetype": "text/x-python",
   "name": "python",
   "nbconvert_exporter": "python",
   "pygments_lexer": "ipython3",
   "version": "3.5.2"
  }
 },
 "nbformat": 4,
 "nbformat_minor": 0
}
