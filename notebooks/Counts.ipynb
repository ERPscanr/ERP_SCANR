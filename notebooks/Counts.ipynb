{
 "cells": [
  {
   "cell_type": "markdown",
   "metadata": {},
   "source": [
    "## Counts Scraping\n",
    "\n",
    "Co-Occurence of Term Analysis\n",
    "\n",
    "Co-occurence of terms analysis: check how often pre-selected cognitive terms appear in abstracts with ERP terms. \n",
    "\n",
    "This analysis searches through pubmed for papers that contain specified ERP and COG terms. Data extracted is the count of the number of papers with both terms. This is used to infer what cognitive terms each ERP is affiliated with. \n",
    "\n",
    "NOTE:\n",
    "- COG terms here are a somewhat arbitrary selection: need a better set of terms, less arbitrarily selected. "
   ]
  },
  {
   "cell_type": "code",
   "execution_count": 1,
   "metadata": {
    "collapsed": true
   },
   "outputs": [],
   "source": [
    "# TODO:\n",
    "# - add erp_keys and term_keys list to use for axes\n",
    "# - fix duplicate erp terms\n",
    "# - clustering: latent factors on ERPs?"
   ]
  },
  {
   "cell_type": "code",
   "execution_count": 2,
   "metadata": {
    "collapsed": false
   },
   "outputs": [],
   "source": [
    "%load_ext autoreload "
   ]
  },
  {
   "cell_type": "code",
   "execution_count": 3,
   "metadata": {
    "collapsed": false
   },
   "outputs": [],
   "source": [
    "# Import custom code\n",
    "%autoreload 2\n",
    "from erpsc.count import Count\n",
    "from erpsc.core.io import save_pickle_obj, load_pickle_obj"
   ]
  },
  {
   "cell_type": "code",
   "execution_count": 4,
   "metadata": {
    "collapsed": false
   },
   "outputs": [],
   "source": [
    "# Initialize object for term count co-occurences. \n",
    "counts = Count()"
   ]
  },
  {
   "cell_type": "code",
   "execution_count": 5,
   "metadata": {
    "collapsed": false
   },
   "outputs": [],
   "source": [
    "# Load ERPS and terms from file\n",
    "counts.set_erps_file()\n",
    "counts.set_terms_file('cognitive')"
   ]
  },
  {
   "cell_type": "code",
   "execution_count": 6,
   "metadata": {
    "collapsed": false
   },
   "outputs": [
    {
     "name": "stdout",
     "output_type": "stream",
     "text": [
      "Unloading previous ERP words.\n",
      "Unloading previous terms words.\n"
     ]
    }
   ],
   "source": [
    "# OR: Set small set of ERPs and terms for tests\n",
    "\n",
    "# Small test set of words\n",
    "erps = [['P100', 'P1'], 'N400']\n",
    "excludes = ['', ['protein', 'gene', 'cell']]\n",
    "cog_terms = ['language', 'memory'] \n",
    "\n",
    "# Add ERPs and terms\n",
    "counts.set_erps(erps)\n",
    "counts.set_exclusions(excludes)\n",
    "counts.set_terms(cog_terms)"
   ]
  },
  {
   "cell_type": "code",
   "execution_count": 7,
   "metadata": {
    "collapsed": false
   },
   "outputs": [
    {
     "name": "stdout",
     "output_type": "stream",
     "text": [
      "Running counts for:  P100\n",
      "Running counts for:  N400\n"
     ]
    }
   ],
   "source": [
    "# Scrape the co-occurence of terms data\n",
    "counts.scrape_data(db='pubmed', verbose=True)"
   ]
  },
  {
   "cell_type": "code",
   "execution_count": null,
   "metadata": {
    "collapsed": true
   },
   "outputs": [],
   "source": [
    "# Save pickle file of results\n",
    "save_pickle_obj(counts, 'test2')"
   ]
  },
  {
   "cell_type": "code",
   "execution_count": null,
   "metadata": {
    "collapsed": true
   },
   "outputs": [],
   "source": [
    "# Load from pickle file\n",
    "counts = load_pickle_obj('CogScrape_counts')"
   ]
  },
  {
   "cell_type": "markdown",
   "metadata": {},
   "source": [
    "## Scrape Information"
   ]
  },
  {
   "cell_type": "code",
   "execution_count": 8,
   "metadata": {
    "collapsed": false
   },
   "outputs": [
    {
     "data": {
      "text/plain": [
       "{'count': '27035335',\n",
       " 'dbbuild': 'Build170322-2207m.1',\n",
       " 'dbname': 'pubmed',\n",
       " 'description': 'PubMed bibliographic record',\n",
       " 'lastupdate': '2017/03/23 02:08',\n",
       " 'menuname': 'PubMed'}"
      ]
     },
     "execution_count": 8,
     "metadata": {},
     "output_type": "execute_result"
    }
   ],
   "source": [
    "# Check database information\n",
    "counts.db_info"
   ]
  },
  {
   "cell_type": "code",
   "execution_count": 9,
   "metadata": {
    "collapsed": false
   },
   "outputs": [
    {
     "name": "stdout",
     "output_type": "stream",
     "text": [
      "Requester object is active: \t False\n",
      "Number of requests sent: \t 11\n",
      "Requester opened: \t\t 23:48 Wednesday 22 March\n",
      "Requester closed: \t\t 23:48 Wednesday 22 March\n"
     ]
    }
   ],
   "source": [
    "# Check requester details\n",
    "counts.req.check()"
   ]
  },
  {
   "cell_type": "markdown",
   "metadata": {},
   "source": [
    "# Check Counts"
   ]
  },
  {
   "cell_type": "code",
   "execution_count": 10,
   "metadata": {
    "collapsed": false
   },
   "outputs": [
    {
     "name": "stdout",
     "output_type": "stream",
     "text": [
      "For the  P100  the most common association is \t memory     with \t %00.86\n",
      "For the  N400  the most common association is \t language   with \t %31.33\n"
     ]
    }
   ],
   "source": [
    "# Check the most commonly associated COG term for each ERP\n",
    "counts.check_cooc_erps()"
   ]
  },
  {
   "cell_type": "code",
   "execution_count": 11,
   "metadata": {
    "collapsed": false
   },
   "outputs": [
    {
     "name": "stdout",
     "output_type": "stream",
     "text": [
      "For  language     the strongest associated ERP is \t N400  with \t %31.33\n",
      "For  memory       the strongest associated ERP is \t N400  with \t %19.69\n"
     ]
    }
   ],
   "source": [
    "# Check the most commonly associated ERP for each term\n",
    "counts.check_cooc_terms()"
   ]
  },
  {
   "cell_type": "code",
   "execution_count": 12,
   "metadata": {
    "collapsed": false
   },
   "outputs": [
    {
     "name": "stdout",
     "output_type": "stream",
     "text": [
      "The most studied ERP is  P100    with    29386 papers\n",
      "The most studied term is  memory  with   197776  papers\n"
     ]
    }
   ],
   "source": [
    "# Check the terms with the most papers\n",
    "counts.check_top()"
   ]
  },
  {
   "cell_type": "code",
   "execution_count": 13,
   "metadata": {
    "collapsed": false,
    "scrolled": true
   },
   "outputs": [
    {
     "name": "stdout",
     "output_type": "stream",
     "text": [
      "P100  -    29386\n",
      "N400  -     1915\n"
     ]
    }
   ],
   "source": [
    "# Check how many papers were found for each term - ERPs\n",
    "counts.check_counts('erp')"
   ]
  },
  {
   "cell_type": "code",
   "execution_count": 14,
   "metadata": {
    "collapsed": false
   },
   "outputs": [
    {
     "name": "stdout",
     "output_type": "stream",
     "text": [
      "language           -     112090\n",
      "memory             -     197776\n"
     ]
    }
   ],
   "source": [
    "# Check how many papers were found for each term - COGs\n",
    "counts.check_counts('term')"
   ]
  },
  {
   "cell_type": "markdown",
   "metadata": {},
   "source": [
    "## Viz / Exploration - Tests"
   ]
  },
  {
   "cell_type": "code",
   "execution_count": null,
   "metadata": {
    "collapsed": false
   },
   "outputs": [],
   "source": [
    "# Create axis labels\n",
    "counts.erp_labels = [erp[0] for erp in counts.erps]\n",
    "counts.term_labels = [term[0] for term in counts.terms]"
   ]
  },
  {
   "cell_type": "code",
   "execution_count": null,
   "metadata": {
    "collapsed": false
   },
   "outputs": [],
   "source": [
    "%autoreload 2\n",
    "%matplotlib inline\n",
    "\n",
    "import pandas as pd\n",
    "\n",
    "import sklearn.metrics.pairwise as pp\n",
    "\n",
    "import scipy.cluster.hierarchy as hier\n",
    "\n",
    "import seaborn as sns\n",
    "\n",
    "import matplotlib.pyplot as plt"
   ]
  },
  {
   "cell_type": "code",
   "execution_count": null,
   "metadata": {
    "collapsed": false
   },
   "outputs": [],
   "source": [
    "# Plot dat_percent of counts\n",
    "f, ax = plt.subplots(figsize=(10, 12))\n",
    "sns.heatmap(counts.dat_percent, square=False,\n",
    "            xticklabels=counts.term_labels, \n",
    "            yticklabels=counts.erp_labels)\n",
    "f.tight_layout()"
   ]
  },
  {
   "cell_type": "markdown",
   "metadata": {},
   "source": [
    "## Similarity ERPs"
   ]
  },
  {
   "cell_type": "code",
   "execution_count": null,
   "metadata": {
    "collapsed": false
   },
   "outputs": [],
   "source": [
    "# Calculate similarity between all ERPs\n",
    "sim = pp.cosine_similarity(counts.dat_percent)"
   ]
  },
  {
   "cell_type": "code",
   "execution_count": null,
   "metadata": {
    "collapsed": false
   },
   "outputs": [],
   "source": [
    "# Plot ERP similarities\n",
    "f, ax = plt.subplots(figsize=(12, 14))\n",
    "sns.heatmap(sim, square=True, \n",
    "            xticklabels=[term[0] for term in counts.erps],\n",
    "            yticklabels=[term[0] for term in counts.erps])\n",
    "f.tight_layout()"
   ]
  },
  {
   "cell_type": "code",
   "execution_count": null,
   "metadata": {
    "collapsed": false
   },
   "outputs": [],
   "source": [
    "# Create dataframes for plotting clustermaps\n",
    "dat_per_df = pd.DataFrame(counts.dat_percent,\n",
    "                          index=[term[0] for term in counts.erps],\n",
    "                          columns=[term[0] for term in counts.terms])\n",
    "sim_df = pd.DataFrame(sim,\n",
    "                      [term[0] for term in counts.erps],\n",
    "                      [term[0] for term in counts.erps])"
   ]
  },
  {
   "cell_type": "code",
   "execution_count": null,
   "metadata": {
    "collapsed": false
   },
   "outputs": [],
   "source": [
    "#\n",
    "cg = sns.clustermap(dat_per_df.T, method='complete', metric='cosine', figsize=(12, 10))\n",
    "_ = plt.setp(cg.ax_heatmap.yaxis.get_majorticklabels(), rotation=0)"
   ]
  },
  {
   "cell_type": "code",
   "execution_count": null,
   "metadata": {
    "collapsed": false
   },
   "outputs": [],
   "source": [
    "#\n",
    "cg = sns.clustermap(sim_df, method='complete', metric='cosine')\n",
    "_ = plt.setp(cg.ax_heatmap.yaxis.get_majorticklabels(), rotation=0)"
   ]
  },
  {
   "cell_type": "code",
   "execution_count": null,
   "metadata": {
    "collapsed": true
   },
   "outputs": [],
   "source": []
  },
  {
   "cell_type": "code",
   "execution_count": null,
   "metadata": {
    "collapsed": false
   },
   "outputs": [],
   "source": [
    "Y = hier.linkage(counts.dat_percent,\n",
    "                 method='complete',\n",
    "                 metric='cosine')\n",
    "\n",
    "plt.figure(figsize=(3,15))\n",
    "\n",
    "Z = hier.dendrogram(Y, orientation='left',\n",
    "                    labels=[term[0] for term in counts.erps],\n",
    "                    color_threshold=0.25,\n",
    "                    leaf_font_size=12)"
   ]
  },
  {
   "cell_type": "code",
   "execution_count": null,
   "metadata": {
    "collapsed": false
   },
   "outputs": [],
   "source": [
    "\"\"\"\n",
    "Y = hier.linkage(sim,\n",
    "                 method='complete',\n",
    "                 metric='cosine')\n",
    "\n",
    "plt.figure(figsize=(5,15))\n",
    "\n",
    "Z = hier.dendrogram(Y, orientation='left',\n",
    "                    labels=[term[0] for term in counts.erps],\n",
    "                    color_threshold=0.25,\n",
    "                    leaf_font_size=12)\n",
    "\"\"\""
   ]
  },
  {
   "cell_type": "code",
   "execution_count": null,
   "metadata": {
    "collapsed": false
   },
   "outputs": [],
   "source": [
    "\"\"\"\n",
    "# EXAMPLE CODE:\n",
    "# Compute and plot dendrogram.\n",
    "fig = pylab.figure()\n",
    "axdendro = fig.add_axes([0.09,0.1,0.2,0.8])\n",
    "Y = sch.linkage(D, method='centroid')\n",
    "Z = sch.dendrogram(Y, orientation='right')\n",
    "axdendro.set_xticks([])\n",
    "axdendro.set_yticks([])\n",
    "\n",
    "# Plot distance matrix.\n",
    "axmatrix = fig.add_axes([0.3,0.1,0.6,0.8])\n",
    "index = Z['leaves']\n",
    "D = D[index,:]\n",
    "D = D[:,index]\n",
    "im = axmatrix.matshow(D, aspect='auto', origin='lower')\n",
    "axmatrix.set_xticks([])\n",
    "axmatrix.set_yticks([])\n",
    "\"\"\""
   ]
  },
  {
   "cell_type": "code",
   "execution_count": null,
   "metadata": {
    "collapsed": true
   },
   "outputs": [],
   "source": []
  },
  {
   "cell_type": "code",
   "execution_count": null,
   "metadata": {
    "collapsed": true
   },
   "outputs": [],
   "source": []
  },
  {
   "cell_type": "code",
   "execution_count": null,
   "metadata": {
    "collapsed": true
   },
   "outputs": [],
   "source": []
  },
  {
   "cell_type": "markdown",
   "metadata": {},
   "source": [
    "## Similarity Terms"
   ]
  },
  {
   "cell_type": "code",
   "execution_count": null,
   "metadata": {
    "collapsed": true
   },
   "outputs": [],
   "source": [
    "# Calculate similarity between all terms\n",
    "sim_t = pp.cosine_similarity(counts.dat_percent.T)"
   ]
  },
  {
   "cell_type": "code",
   "execution_count": null,
   "metadata": {
    "collapsed": false
   },
   "outputs": [],
   "source": [
    "# Plot term similarities\n",
    "f, ax = plt.subplots(figsize=(12, 14))\n",
    "sns.heatmap(sim_t, square=True, \n",
    "            xticklabels=[term[0] for term in counts.terms],\n",
    "            yticklabels=[term[0] for term in counts.terms])\n",
    "f.tight_layout()"
   ]
  },
  {
   "cell_type": "code",
   "execution_count": null,
   "metadata": {
    "collapsed": false
   },
   "outputs": [],
   "source": [
    "#\n",
    "sim_t_df = pd.DataFrame(sim_t,\n",
    "                      [term[0] for term in counts.terms],\n",
    "                      [term[0] for term in counts.terms])"
   ]
  },
  {
   "cell_type": "code",
   "execution_count": null,
   "metadata": {
    "collapsed": true
   },
   "outputs": [],
   "source": [
    "sns.clustermap?"
   ]
  },
  {
   "cell_type": "code",
   "execution_count": null,
   "metadata": {
    "collapsed": false
   },
   "outputs": [],
   "source": [
    "#\n",
    "cg = sns.clustermap(sim_t_df, method='complete', metric='cosine')\n",
    "_ = plt.setp(cg.ax_heatmap.yaxis.get_majorticklabels(), rotation=0)"
   ]
  },
  {
   "cell_type": "code",
   "execution_count": null,
   "metadata": {
    "collapsed": false
   },
   "outputs": [],
   "source": [
    "Y = hier.linkage(counts.dat_percent.T,\n",
    "                 method='complete',\n",
    "                 metric='cosine')\n",
    "\n",
    "plt.figure(figsize=(3,15))\n",
    "\n",
    "Z = hier.dendrogram(Y, orientation='left',\n",
    "                    labels=[term[0] for term in counts.terms],\n",
    "                    color_threshold=0.25,\n",
    "                    leaf_font_size=12)"
   ]
  },
  {
   "cell_type": "code",
   "execution_count": null,
   "metadata": {
    "collapsed": false
   },
   "outputs": [],
   "source": [
    "\"\"\"\n",
    "Y = hier.linkage(sim_t,\n",
    "                 method='complete',\n",
    "                 metric='cosine')\n",
    "\n",
    "plt.figure(figsize=(5,15))\n",
    "\n",
    "Z = hier.dendrogram(Y, orientation='left',\n",
    "                    labels=[term[0] for term in counts.terms],\n",
    "                    color_threshold=0.25,\n",
    "                    leaf_font_size=12)\n",
    "\"\"\""
   ]
  },
  {
   "cell_type": "code",
   "execution_count": null,
   "metadata": {
    "collapsed": true
   },
   "outputs": [],
   "source": []
  }
 ],
 "metadata": {
  "anaconda-cloud": {},
  "kernelspec": {
   "display_name": "Python [conda env:py35]",
   "language": "python",
   "name": "conda-env-py35-py"
  },
  "language_info": {
   "codemirror_mode": {
    "name": "ipython",
    "version": 3
   },
   "file_extension": ".py",
   "mimetype": "text/x-python",
   "name": "python",
   "nbconvert_exporter": "python",
   "pygments_lexer": "ipython3",
   "version": "3.5.2"
  }
 },
 "nbformat": 4,
 "nbformat_minor": 0
}
