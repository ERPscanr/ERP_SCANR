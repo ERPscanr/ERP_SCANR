{
 "cells": [
  {
   "cell_type": "markdown",
   "metadata": {},
   "source": [
    "# Words Analysis\n",
    "\n",
    "This analysis analyses collected text and meta-data from scientific articles about that mention ERPs.\n",
    "\n",
    "Available information includes the titles, words, and years of all those papers such that this data can be used for further analysis."
   ]
  },
  {
   "cell_type": "code",
   "execution_count": 1,
   "metadata": {},
   "outputs": [],
   "source": [
    "%matplotlib inline\n",
    "\n",
    "import numpy as np\n",
    "\n",
    "from lisc import Words\n",
    "from lisc.data import Articles, ArticlesAll\n",
    "from lisc.utils import SCDB, load_object\n",
    "from lisc.utils.io import load_txt_file\n",
    "from lisc.plts.words import plot_years, plot_wordcloud\n",
    "from lisc.analysis.words import get_all_counts, get_all_values"
   ]
  },
  {
   "cell_type": "code",
   "execution_count": 2,
   "metadata": {},
   "outputs": [],
   "source": [
    "# Import custom project code\n",
    "import sys\n",
    "sys.path.append('../code')\n",
    "from plts import plot_count_hist"
   ]
  },
  {
   "cell_type": "markdown",
   "metadata": {},
   "source": [
    "## Setup"
   ]
  },
  {
   "cell_type": "code",
   "execution_count": 3,
   "metadata": {},
   "outputs": [],
   "source": [
    "# Settings\n",
    "SAVE_FIG = True"
   ]
  },
  {
   "cell_type": "code",
   "execution_count": 4,
   "metadata": {},
   "outputs": [],
   "source": [
    "# Set the file locations\n",
    "term_dir = '../terms/'\n",
    "figs_dir = '../data/figures/words'\n",
    "db = SCDB('../data/')"
   ]
  },
  {
   "cell_type": "code",
   "execution_count": 5,
   "metadata": {},
   "outputs": [],
   "source": [
    "# Set the name of the file to load\n",
    "name = 'erps' # 'erps', 'test'"
   ]
  },
  {
   "cell_type": "code",
   "execution_count": 6,
   "metadata": {},
   "outputs": [],
   "source": [
    "# Load the words object\n",
    "words = load_object('words_' + name, directory=db, reload_results=True)"
   ]
  },
  {
   "cell_type": "code",
   "execution_count": 7,
   "metadata": {},
   "outputs": [],
   "source": [
    "# Load exclusions for analysis\n",
    "exclusions = load_txt_file('analysis_exclusions.txt', term_dir, split_elements=False)"
   ]
  },
  {
   "cell_type": "markdown",
   "metadata": {},
   "source": [
    "### Check Database Information\n",
    "\n",
    "Check the metadata about the data collection, including checking the database data were collected from."
   ]
  },
  {
   "cell_type": "code",
   "execution_count": 8,
   "metadata": {},
   "outputs": [
    {
     "data": {
      "text/plain": [
       "{'dbname': 'pubmed',\n",
       " 'menuname': 'PubMed',\n",
       " 'description': 'PubMed bibliographic record',\n",
       " 'dbbuild': 'Build210226-2212m.3',\n",
       " 'count': '32200710',\n",
       " 'lastupdate': '2021/02/27 15:01'}"
      ]
     },
     "execution_count": 8,
     "metadata": {},
     "output_type": "execute_result"
    }
   ],
   "source": [
    "# Check database scrape info\n",
    "words.meta_data.db_info"
   ]
  },
  {
   "cell_type": "code",
   "execution_count": 9,
   "metadata": {},
   "outputs": [
    {
     "data": {
      "text/plain": [
       "{'n_requests': 457,\n",
       " 'wait_time': 0.1,\n",
       " 'start_time': '16:08:58 Sunday 28 February 2021',\n",
       " 'end_time': '16:40:10 Sunday 28 February 2021',\n",
       " 'logging': None}"
      ]
     },
     "execution_count": 9,
     "metadata": {},
     "output_type": "execute_result"
    }
   ],
   "source": [
    "# Check requester object info\n",
    "words.meta_data.requester"
   ]
  },
  {
   "cell_type": "markdown",
   "metadata": {},
   "source": [
    "## Data Organization"
   ]
  },
  {
   "cell_type": "code",
   "execution_count": 10,
   "metadata": {},
   "outputs": [],
   "source": [
    "# Collect ERPs into list of aggragated data objects\n",
    "all_data = [ArticlesAll(words[erp], exclusions=exclusions) for erp in words.labels]"
   ]
  },
  {
   "cell_type": "markdown",
   "metadata": {},
   "source": [
    "### Check Number of Articles"
   ]
  },
  {
   "cell_type": "code",
   "execution_count": 11,
   "metadata": {},
   "outputs": [
    {
     "name": "stdout",
     "output_type": "stream",
     "text": [
      "Number of ERPs: \t 88\n"
     ]
    }
   ],
   "source": [
    "# Check the number of ERPs \n",
    "print('Number of ERPs: \\t {}'.format(words.n_terms))"
   ]
  },
  {
   "cell_type": "code",
   "execution_count": 12,
   "metadata": {},
   "outputs": [
    {
     "name": "stdout",
     "output_type": "stream",
     "text": [
      "Number of papers: \t 30770\n"
     ]
    }
   ],
   "source": [
    "# Check the total number of articles in the collected dataset\n",
    "n_articles = [data.n_articles for data in all_data]\n",
    "total_article_count = sum(n_articles)\n",
    "print('Number of papers: \\t', total_article_count)"
   ]
  },
  {
   "cell_type": "code",
   "execution_count": 13,
   "metadata": {},
   "outputs": [
    {
     "data": {
      "image/png": "[encoded data removed]",
      "text/plain": [
       "<Figure size 432x360 with 1 Axes>"
      ]
     },
     "metadata": {
      "needs_background": "light"
     },
     "output_type": "display_data"
    }
   ],
   "source": [
    "# Plot the histogram of the number of ERP papers collected\n",
    "plot_count_hist(n_articles, True,\n",
    "                save_fig=SAVE_FIG, f_name='erp_hist.pdf', directory=figs_dir)"
   ]
  },
  {
   "cell_type": "code",
   "execution_count": 14,
   "metadata": {},
   "outputs": [],
   "source": [
    "# Collect all the DOIs across all papers\n",
    "dois = get_all_values(all_data, 'dois', unique=True)"
   ]
  },
  {
   "cell_type": "code",
   "execution_count": 15,
   "metadata": {},
   "outputs": [
    {
     "name": "stdout",
     "output_type": "stream",
     "text": [
      "Number of unique DOIs: \t 21332\n"
     ]
    }
   ],
   "source": [
    "# Check the number of unique papers, based on DOIs\n",
    "print('Number of unique DOIs: \\t', len(set(dois)))"
   ]
  },
  {
   "cell_type": "markdown",
   "metadata": {},
   "source": [
    "### Collect information across all ERPs & papers"
   ]
  },
  {
   "cell_type": "code",
   "execution_count": 16,
   "metadata": {},
   "outputs": [],
   "source": [
    "# Get global counts of authors and journals\n",
    "all_authors = get_all_counts(all_data, 'authors', combine=True)\n",
    "all_journals = get_all_counts(all_data, 'journals', combine=True)"
   ]
  },
  {
   "cell_type": "code",
   "execution_count": 17,
   "metadata": {},
   "outputs": [
    {
     "name": "stdout",
     "output_type": "stream",
     "text": [
      "Most common authors:\n",
      "    Näätänen R      \t 330\n",
      "    Wang Y          \t 254\n",
      "    Schröger E      \t 196\n",
      "    Zhang Y         \t 187\n",
      "    Polich J        \t 184\n",
      "    Holcomb PJ      \t 180\n",
      "    Li H            \t 172\n",
      "    Friederici AD   \t 168\n",
      "    Wang L          \t 164\n",
      "    Li Y            \t 156\n"
     ]
    }
   ],
   "source": [
    "# Check the most common authors\n",
    "common_authors = all_authors.most_common(10)\n",
    "print('Most common authors:')\n",
    "for (author, count) in common_authors:\n",
    "    print('    {:15s} \\t {}'.format(' '.join(author), count))"
   ]
  },
  {
   "cell_type": "code",
   "execution_count": 18,
   "metadata": {},
   "outputs": [
    {
     "name": "stdout",
     "output_type": "stream",
     "text": [
      "Most common journals:\n",
      "    Psychophysiology                                        \t 1483\n",
      "    International journal of psychophysiology               \t 1132\n",
      "    Neuropsychologia                                        \t 985\n",
      "    Clinical neurophysiology                                \t 934\n",
      "    Biological psychology                                   \t 898\n",
      "    Brain research                                          \t 803\n",
      "    Neuroreport                                             \t 720\n",
      "    Journal of cognitive neuroscience                       \t 710\n",
      "    PloS one                                                \t 681\n",
      "    Electroencephalography and clinical neurophysiology     \t 663\n"
     ]
    }
   ],
   "source": [
    "# Check the most common journals\n",
    "common_journals = all_journals.most_common(10)\n",
    "print('Most common journals:')\n",
    "for (journal, count) in common_journals:\n",
    "    print('    {:55s} \\t {}'.format(journal.split(':')[0], count))"
   ]
  },
  {
   "cell_type": "markdown",
   "metadata": {},
   "source": [
    "## Check Words"
   ]
  },
  {
   "cell_type": "code",
   "execution_count": 19,
   "metadata": {},
   "outputs": [
    {
     "name": "stdout",
     "output_type": "stream",
     "text": [
      "P100  : visual, patients, vep, latency, evoked\n",
      "P150  : patients, group, cells, study, two\n",
      "P170  : control, components, potentials, early, visual\n",
      "P180  : cells, patients, cortex, study, cortical\n",
      "P200  : patients, processing, p300, amplitude, erp\n",
      "P220  : cells, de, amplitude, potentials, components\n",
      "P230  : ms, components, differences, stimuli, visual\n",
      "P240  : amplitude, stimuli, potentials, stimulus, processing\n",
      "P250  : patients, processing, components, amplitude, task\n",
      "P270  : stimuli, stimulus, stimulation, amplitude, components\n",
      "P300  : patients, amplitude, study, latency, cognitive\n",
      "P3a   : patients, stimuli, auditory, p3b, processing\n",
      "P3b   : task, processing, stimuli, p3a, amplitude\n",
      "P340  : pain, seps, patients, potentials, training\n",
      "P350  : erps, erp, processing, stimuli, components\n",
      "P400  : faces, infants, stimuli, amplitude, processing\n",
      "P500  : p, different, erp, subjects, study\n",
      "P550  : subjects, task, sounds, larger, group\n",
      "P600  : processing, syntactic, semantic, sentences, n400\n",
      "N100  : auditory, patients, amplitude, p300, subjects\n",
      "N110  : pain, empathy, potentials, nerve, stimulation\n",
      "N120  : patients, potentials, amplitude, somatosensory, stimuli\n",
      "N130  : evoked, components, amplitude, potentials, attention\n",
      "N140  : somatosensory, stimuli, attention, amplitude, potentials\n",
      "N150  : pain, stimuli, potentials, components, visual\n",
      "N160  : visual, amplitude, potentials, stimuli, processing\n",
      "N170  : faces, face, processing, facial, erp\n",
      "N180  : visual, stimuli, potentials, areas, recorded\n",
      "N190  : body, processing, stimuli, visual, effects\n",
      "N200  : p300, patients, amplitude, erp, processing\n",
      "N2a   : cells, patients, activity, treatment, study\n",
      "N2b   : stimuli, auditory, processing, task, attention\n",
      "N2c   : task, response, processing, components, one\n",
      "N2pc  : attention, target, attentional, visual, search\n",
      "N240  : stimuli, potentials, evoked, component, components\n",
      "N250  : faces, face, processing, erp, effects\n",
      "N270  : conflict, condition, processing, visual, different\n",
      "N280  : words, processing, elicited, group, ms\n",
      "N290  : faces, infants, face, processing, p400\n",
      "N300  : processing, erp, components, erps, study\n",
      "N320  : words, task, orthographic, results, erps\n",
      "N350  : sleep, amplitude, stimuli, erps, processing\n",
      "N400  : semantic, words, processing, word, effect\n",
      "N450  : conflict, task, control, processing, cognitive\n",
      "N550  : sleep, k-complex, amplitude, stimuli, evoked\n",
      "N600  : processing, negative, positive, results, erp\n",
      "N700  : words, visual, stimulus, concrete, stimuli\n",
      "MMN   : auditory, patients, mismatch, negativity, processing\n",
      "LPC   : positive, late, lpc, component, processing\n",
      "LPP   : late, processing, words, posterior, positivity\n",
      "NSW   : negative, slow, wave, memory, task\n",
      "PSW   : positive, slow, wave, processing, memory\n",
      "VPP   : faces, processing, vpp, potential, face\n",
      "CNV   : cnv, negative, variation, contingent, patients\n",
      "PINV  : cnv, negative, pinv, patients, variation\n",
      "ELAN  : syntactic, early, negativity, left, anterior\n",
      "LAN   : processing, negativity, syntactic, lan, words\n",
      "CPS   : prosodic, cps, boundary, boundaries, processing\n",
      "LRP   : response, lrp, motor, potential, task\n",
      "LDN   : children, mmn, negativity, ldn, auditory\n",
      "ORN   : auditory, sound, sounds, concurrent, segregation\n",
      "BP    : motor, movement, potential, bp, movements\n",
      "ERN   : ern, error, negativity, task, error-related\n",
      "Pe    : error, pe, ern, task, monitoring\n",
      "CRN   : ern, crn, negativity, monitoring, error\n",
      "MFN   : mfn, frontal, negativity, medial, participants\n",
      "SPeN  : spn, reward, negativity, anticipation, task\n",
      "FRN   : feedback, frn, negativity, reward, task\n",
      "Pd    : distractor, target, attentional, attention, suppression\n",
      "EDAN  : attention, orienting, directing, cues, negativity\n",
      "LDAP  : attention, orienting, directing, spatial, late\n",
      "ADAN  : attention, negativity, spatial, directing, cues\n",
      "EPN   : emotional, epn, processing, early, pictures\n",
      "SN    : selection, attention, visual, processing, stimuli\n",
      "SP    : selection, attention, visual, target, processing\n",
      "SPN   : symmetry, spn, patterns, visual, regularity\n",
      "SPCN  : spcn, memory, visual, attention, contralateral\n",
      "PCN   : visual, attention, spcn, memory, target\n",
      "VsEP  : vestibular, evoked, potentials, response, responses\n",
      "MRPC  : movement, motor, cortical, mrcp, movements\n",
      "FSP   : selection, attention, visual, target, frontal\n",
      "pN    : prefrontal, activity, pn, task, components\n",
      "LPN   : memory, lpn, erp, source, negativity\n",
      "LPP   : late, processing, words, posterior, positivity\n",
      "EFN   : negativity, language, early, processing, frontal\n",
      "FN400 : memory, recognition, effect, familiarity, erp\n",
      "PMN   : phonological, processing, pmn, n400, language\n",
      "VAN   : awareness, visual, van, task, stimulus\n"
     ]
    }
   ],
   "source": [
    "# Check most common words\n",
    "for data in all_data:\n",
    "    data.check_frequencies(n_check=5)"
   ]
  },
  {
   "cell_type": "code",
   "execution_count": 20,
   "metadata": {},
   "outputs": [
    {
     "name": "stdout",
     "output_type": "stream",
     "text": [
      "P100  : visual evoked potential, visual evoked potentials, event-related potentials, n170, eeg\n",
      "P150  : event-related potentials, pregabalin, aging, metabolomics, erps\n",
      "P170  : congenital hypothyroidism, iodine diet, psychiatric diseases, thyroid hormones, attention\n",
      "P180  : transcranial magnetic stimulation, tms-eeg, electroencephalography, metabolomics, targeted metabolomics\n",
      "P200  : event-related potentials, erp, erps, n400, eeg\n",
      "P220  : cause-specific infant mortality, maternal education, maternal employment, paternal education, paternal employment\n",
      "P230  : adipose tissue, arcuate nucleus of the hypothalamus, early-life stress, microglia, neuroinflammation\n",
      "P240  : eeg, somatosensory cortex, touch, chinese three-character verb–object metaphor, contextual effect\n",
      "P250  : erps, mlpa, n170, p100, velocardiofacial syndrome\n",
      "P270  : directed transfer function/adaptive directed transfer function, stereoscopic depth, visual discomfort, visual evoked potential, face\n",
      "P300  : event-related potentials, erp, eeg, event-related potential, attention\n",
      "P3a   : event-related potentials, attention, p300, eeg, mismatch negativity\n",
      "P3b   : p300, event-related potentials, attention, eeg, erp\n",
      "P340  : auditory processing, eeg, late discriminative negativity (ldn), mismatch negativity (mmn), n250\n",
      "P350  : erps, eye gaze, joint attention, social interaction, virtual reality\n",
      "P400  : infancy, erp, event-related potentials, erps, face processing\n",
      "P500  : bitcoin, covid-19, asia, developing countries, philippines\n",
      "P550  : e. coli, inca, blavim-1, common region, erp\n",
      "P600  : n400, erp, event-related potentials, erps, syntax\n",
      "N100  : event-related potentials, electroencephalography, eeg, schizophrenia, erp\n",
      "N110  : erp, empathy, pain, brassica napus, s haplotype\n",
      "N120  : attention, movement, cortical reactivity, transcranial direct current stimulation, evoked potentials\n",
      "N130  : erp, localized surface plasmon resonances, silver nanoparticle (arrays), surface enhanced raman scattering, affordances\n",
      "N140  : event-related potentials, p300, somatosensory evoked potentials, eeg, somatosensory cortex\n",
      "N150  : event-related potentials, visual evoked potentials, c1, evoked potentials, calcium\n",
      "N160  : bacterial community, carbon dioxide, greenhouse gases, n fertilization, nitrous oxide\n",
      "N170  : erp, event-related potentials, face processing, eeg, face perception\n",
      "N180  : erls, erps, lps, nociceptive electrical stimuli, sustained spatial attention\n",
      "N190  : p3, readiness potential, self-other distinction, early posterior negativity (epn), visual structural encoding\n",
      "N200  : event-related potentials, p300, erp, eeg, erps\n",
      "N2a   : alzheimer’s disease, autophagy, parkinson’s disease, apoptosis, p3\n",
      "N2b   : erps, event-related potentials, p3, attention, principal components analysis (pca)\n",
      "N2c   : principal components analysis (pca), event-related potentials (erps), cognitive control, equiprobable go/no-go task, erps\n",
      "N2pc  : attention, visual search, erp, eeg, attentional capture\n",
      "N240  : event-related potentials, nociception, touch, direct gaze, face processing\n",
      "N250  : n170, event-related potentials, erp, face recognition, n400\n",
      "N270  : event-related potential (erp), change detection, brand extension, stereotype, n400\n",
      "N280  : transcranial magnetic stimulation, cortical reactivity, electroencephalography, motor cortex excitability, source localization\n",
      "N290  : event-related potentials, face processing, infants, infancy, erp\n",
      "N300  : erps, event-related potentials, n400, eeg, erp\n",
      "N320  : bacterial community, carbon dioxide, greenhouse gases, n fertilization, nitrous oxide\n",
      "N350  : event-related potentials, erp, erps, sleep, brain-computer interface\n",
      "N400  : event-related potentials, erps, erp, p600, eeg\n",
      "N450  : event-related potentials, erp, cognitive control, stroop, erps\n",
      "N550  : k-complex, pyrolysis, consciousness, down state, gamma activity\n",
      "N600  : electron transfer, exciplex, femtosecond absorption spectroscopy, photosynthesis, primary charge separation\n",
      "N700  : event-related potential, imageability, n400, autism spectrum disorder, eeg\n",
      "MMN   : mismatch negativity (mmn), schizophrenia, eeg, event-related potentials, erp\n",
      "LPC   : lpc, event-related potentials, n400, erp, erps\n",
      "LPP   : erp, erps, n400, event-related potentials, eeg oscillations\n",
      "NSW   : working memory, attention, erp, event-related potentials, eeg\n",
      "PSW   : event-related potentials, erp, erps, working memory, slow wave\n",
      "VPP   : n170, event-related potentials, face processing, vpp, erps\n",
      "CNV   : eeg, event-related potentials, cnv, erp, event-related potential\n",
      "PINV  : bipolar disorder, contingent negative variation, deficit schizophrenia, event-related potentials\n",
      "ELAN  : language, eeg, auditory system, disorders of consciousness, event-related potentials\n",
      "LAN   : lan, p600, erp, n400, event-related potentials\n",
      "CPS   : closure positive shift (cps), prosody, event-related potentials (erp), prosodic boundary cues, prosody processing\n",
      "LRP   : lrp, eeg, event-related potentials, erps, event-related potential\n",
      "LDN   : mismatch negativity, children, mmn, p3a, dyslexia\n",
      "ORN   : auditory scene analysis, object-related negativity (orn), concurrent sound segregation, orn, binaural processing\n",
      "BP    : eeg, volition, free will, erp, voluntary action\n",
      "ERN   : error-related negativity, ern, performance monitoring, event-related potentials, cognitive control\n",
      "Pe    : error-related negativity, performance monitoring, error processing, erp, event-related potentials\n",
      "CRN   : error-related negativity, performance monitoring, crn, error positivity, error-related negativity (ern)\n",
      "MFN   : erp, mfn, ultimatum game, event-related potentials, cognitive control\n",
      "SPeN  : stimulus-preceding negativity, event-related potentials, feedback-related negativity, reward, anticipation\n",
      "FRN   : feedback-related negativity, frn, feedback-related negativity (frn), p300, p3\n",
      "Pd    : n2pc, visual search, pd, working memory, event-related potentials\n",
      "EDAN  : adan, edan, spatial attention, attention, erps\n",
      "LDAP  : attention, erps, spatial neglect, beta-band, cnv\n",
      "ADAN  : adan, attention, edan, erps, spatial attention\n",
      "EPN   : emotion, epn, erp, early posterior negativity (epn), attention\n",
      "SN    : erp, attention, selective attention, category learning, swloreta\n",
      "SP    : visual attention, attention-deficit/hyperactivity disorder, p300, contingent negative variation, electroencephalography\n",
      "SPN   : symmetry, erps, holographic model, perceptual goodness, event-related potentials\n",
      "SPCN  : attention, n2pc, spcn, eeg, visual working memory\n",
      "PCN   : attention, n2pc, eeg, spcn, visual search\n",
      "VsEP  : non-nasa center, nasa discipline neuroscience, vestibular, utricle, vestibular system\n",
      "MRPC  : movement-related cortical potential, eeg, movement-related cortical potentials, electroencephalography (eeg), brain-computer interface\n",
      "FSP   : attention-deficit/hyperactivity disorder, p300, contingent negative variation, electroencephalography, theta activity\n",
      "pN    : erp, bereitschaftspotential, eeg, pn, motor behavior\n",
      "LPN   : event-related potentials, source memory, eeg, item memory, lpn\n",
      "LPP   : erp, erps, n400, event-related potentials, eeg oscillations\n",
      "EFN   : cognition, eeg, learning, adolescence, attention\n",
      "FN400 : familiarity, event-related potentials, recollection, erp, recognition memory\n",
      "PMN   : n400, pmn, mmn, event-related potentials, phonology\n",
      "VAN   : consciousness, eeg, awareness, inattentional blindness, late positivity\n"
     ]
    }
   ],
   "source": [
    "# Check most common keywords\n",
    "for data in all_data:\n",
    "    data.check_frequencies('keywords', n_check=5)"
   ]
  },
  {
   "cell_type": "markdown",
   "metadata": {},
   "source": [
    "### Summaries"
   ]
  },
  {
   "cell_type": "code",
   "execution_count": 21,
   "metadata": {},
   "outputs": [
    {
     "name": "stdout",
     "output_type": "stream",
     "text": [
      "N100 :\n",
      "  Number of articles: \t\t 1020\n",
      "  First publication: \t\t 1980\n",
      "  Most common author: \t\t Boutros NN\n",
      "    number of publications: \t 33\n",
      "  Most common journal: \t\t Clinical neurophysiology : official journal of the International Federation of Clinical Neurophysiology\n",
      "    number of publications: \t 55 \n",
      "\n"
     ]
    }
   ],
   "source": [
    "# Check an example summary\n",
    "ind = 19\n",
    "all_data[ind].create_summary()\n",
    "all_data[ind].print_summary()"
   ]
  },
  {
   "cell_type": "markdown",
   "metadata": {},
   "source": [
    "### WordCloud Plots"
   ]
  },
  {
   "cell_type": "code",
   "execution_count": 22,
   "metadata": {},
   "outputs": [
    {
     "data": {
      "image/png": "[encoded data removed]",
      "text/plain": [
       "<Figure size 576x576 with 1 Axes>"
      ]
     },
     "metadata": {
      "needs_background": "light"
     },
     "output_type": "display_data"
    }
   ],
   "source": [
    "# Create a wordcloud\n",
    "plot_wordcloud(all_data[ind].words, 20)"
   ]
  },
  {
   "cell_type": "markdown",
   "metadata": {},
   "source": [
    "### Data Plots"
   ]
  },
  {
   "cell_type": "code",
   "execution_count": 23,
   "metadata": {},
   "outputs": [
    {
     "data": {
      "image/png": "[encoded data removed]",
      "text/plain": [
       "<Figure size 720x360 with 1 Axes>"
      ]
     },
     "metadata": {
      "needs_background": "light"
     },
     "output_type": "display_data"
    }
   ],
   "source": [
    "# Check an example history plot\n",
    "plot_years(all_data[ind].years, [None, 2020])"
   ]
  },
  {
   "cell_type": "code",
   "execution_count": 24,
   "metadata": {},
   "outputs": [
    {
     "name": "stdout",
     "output_type": "stream",
     "text": [
      "P100 \t 1821\n",
      "P150 \t 217\n",
      "P170 \t 39\n",
      "P180 \t 92\n",
      "P200 \t 843\n",
      "P220 \t 50\n",
      "P230 \t 27\n",
      "P240 \t 31\n",
      "P250 \t 97\n",
      "P270 \t 17\n",
      "P300 \t 6110\n",
      "P3a \t 1007\n",
      "P3b \t 1054\n",
      "P340 \t 10\n",
      "P350 \t 72\n",
      "P400 \t 180\n",
      "P500 \t 66\n",
      "P550 \t 16\n",
      "P600 \t 708\n",
      "N100 \t 1020\n",
      "N110 \t 22\n",
      "N120 \t 56\n",
      "N130 \t 40\n",
      "N140 \t 176\n",
      "N150 \t 120\n",
      "N160 \t 64\n",
      "N170 \t 1357\n",
      "N180 \t 38\n",
      "N190 \t 23\n",
      "N200 \t 769\n",
      "N2a \t 174\n",
      "N2b \t 233\n",
      "N2c \t 35\n",
      "N2pc \t 497\n",
      "N240 \t 19\n",
      "N250 \t 265\n",
      "N270 \t 66\n",
      "N280 \t 23\n",
      "N290 \t 51\n",
      "N300 \t 195\n",
      "N320 \t 25\n",
      "N350 \t 83\n",
      "N400 \t 2555\n",
      "N450 \t 177\n",
      "N550 \t 52\n",
      "N600 \t 16\n",
      "N700 \t 18\n",
      "MMN \t 3601\n",
      "LPC \t 641\n",
      "LPP \t 23\n",
      "NSW \t 102\n",
      "PSW \t 111\n",
      "VPP \t 57\n",
      "CNV \t 1004\n",
      "PINV \t 32\n",
      "ELAN \t 33\n",
      "LAN \t 54\n",
      "CPS \t 37\n",
      "LRP \t 300\n",
      "LDN \t 35\n",
      "ORN \t 37\n",
      "BP \t 521\n",
      "ERN \t 1017\n",
      "Pe \t 301\n",
      "CRN \t 92\n",
      "MFN \t 94\n",
      "SPeN \t 122\n",
      "FRN \t 574\n",
      "Pd \t 22\n",
      "EDAN \t 22\n",
      "LDAP \t 15\n",
      "ADAN \t 29\n",
      "EPN \t 235\n",
      "SN \t 76\n",
      "SP \t 33\n",
      "SPN \t 19\n",
      "SPCN \t 41\n",
      "PCN \t 62\n",
      "VsEP \t 193\n",
      "MRPC \t 297\n",
      "FSP \t 20\n",
      "pN \t 23\n",
      "LPN \t 28\n",
      "LPP \t 23\n",
      "EFN \t 10\n",
      "FN400 \t 165\n",
      "PMN \t 12\n",
      "VAN \t 31\n"
     ]
    }
   ],
   "source": [
    "# Check how many articles were found per ERP\n",
    "for data in all_data:\n",
    "    print(data.label, '\\t', data.n_articles)"
   ]
  }
 ],
 "metadata": {
  "anaconda-cloud": {},
  "kernelspec": {
   "display_name": "Python 3",
   "language": "python",
   "name": "python3"
  },
  "language_info": {
   "codemirror_mode": {
    "name": "ipython",
    "version": 3
   },
   "file_extension": ".py",
   "mimetype": "text/x-python",
   "name": "python",
   "nbconvert_exporter": "python",
   "pygments_lexer": "ipython3",
   "version": "3.8.3"
  }
 },
 "nbformat": 4,
 "nbformat_minor": 1
}
