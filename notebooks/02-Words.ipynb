{
 "cells": [
  {
   "cell_type": "markdown",
   "metadata": {},
   "source": [
    "# Words Analysis\n",
    "\n",
    "This analysis analyses collected text and meta-data from scientific articles about that mention ERPs.\n",
    "\n",
    "Available information includes the titles, words, and years of all those papers such that this data can be used for further analysis."
   ]
  },
  {
   "cell_type": "code",
   "execution_count": 1,
   "metadata": {},
   "outputs": [],
   "source": [
    "%matplotlib inline\n",
    "\n",
    "from lisc import Words\n",
    "from lisc.data import Articles, ArticlesAll\n",
    "from lisc.utils import save_object, load_object\n",
    "from lisc.plts.words import plot_years, plot_wordcloud\n",
    "from lisc.analysis.words import get_all_counts, get_all_values"
   ]
  },
  {
   "cell_type": "markdown",
   "metadata": {},
   "source": [
    "## Setup"
   ]
  },
  {
   "cell_type": "code",
   "execution_count": 2,
   "metadata": {},
   "outputs": [],
   "source": [
    "# Settings\n",
    "CUR_DATA = 'load'               # 'load', 'file', 'test'\n",
    "SAVE_FIG = False"
   ]
  },
  {
   "cell_type": "code",
   "execution_count": 3,
   "metadata": {},
   "outputs": [],
   "source": [
    "# Set the location of the terms\n",
    "term_dir = '../terms/'"
   ]
  },
  {
   "cell_type": "code",
   "execution_count": 4,
   "metadata": {},
   "outputs": [],
   "source": [
    "# Initialize words-analysis object\n",
    "words = Words()"
   ]
  },
  {
   "cell_type": "code",
   "execution_count": 5,
   "metadata": {},
   "outputs": [],
   "source": [
    "# Add list of ERPs from file, and list of exclusion words\n",
    "if CUR_DATA == 'file':\n",
    "\n",
    "    words.add_terms_file('erps.txt', directory=term_dir)\n",
    "    words.add_terms_file('exclusions.txt', term_type='exclusions', directory=term_dir)\n",
    "    \n",
    "# OR: Set small set of ERPs and terms for tests    \n",
    "elif CUR_DATA == 'test':\n",
    "    \n",
    "    erps = [['P180'], ['N240']]\n",
    "    exclusions = [['protein', 'q21'], ['cancer', 'histone', 'cell']]\n",
    "\n",
    "    words.add_terms(erps)\n",
    "    words.add_terms(exclusions, term_type='exclusions')\n",
    "\n",
    "# Load from pickle file\n",
    "elif CUR_DATA == 'load':\n",
    "    \n",
    "    name = 'BaseScrape.p'\n",
    "    words = load_object(name)\n",
    "\n",
    "else: \n",
    "    raise ValueError('Data setting not understood.')"
   ]
  },
  {
   "cell_type": "code",
   "execution_count": 6,
   "metadata": {},
   "outputs": [],
   "source": [
    "# If not loading, run the scrape\n",
    "if CUR_DATA in ['file', 'test']:\n",
    "    \n",
    "    # Scrape word data for all ERP abstracts\n",
    "    words.run_collection(db='pubmed', retmax='5', usehistory=False)\n",
    "    \n",
    "    # Save pickle of word object\n",
    "    save_object(words, 'test')"
   ]
  },
  {
   "cell_type": "markdown",
   "metadata": {},
   "source": [
    "### Check Database Information"
   ]
  },
  {
   "cell_type": "code",
   "execution_count": 7,
   "metadata": {},
   "outputs": [
    {
     "data": {
      "text/plain": [
       "{'dbname': 'pubmed',\n",
       " 'menuname': 'PubMed',\n",
       " 'description': 'PubMed bibliographic record',\n",
       " 'dbbuild': 'Build210119-2212m.3',\n",
       " 'count': '32034250',\n",
       " 'lastupdate': '2021/01/20 15:07'}"
      ]
     },
     "execution_count": 7,
     "metadata": {},
     "output_type": "execute_result"
    }
   ],
   "source": [
    "# Check database scrape info\n",
    "words.meta_data.db_info"
   ]
  },
  {
   "cell_type": "code",
   "execution_count": 8,
   "metadata": {},
   "outputs": [
    {
     "data": {
      "text/plain": [
       "{'n_requests': 5,\n",
       " 'wait_time': 0.3333333333333333,\n",
       " 'start_time': '15:51:18 Thursday 21 January 2021',\n",
       " 'end_time': '15:51:21 Thursday 21 January 2021',\n",
       " 'logging': None}"
      ]
     },
     "execution_count": 8,
     "metadata": {},
     "output_type": "execute_result"
    }
   ],
   "source": [
    "# Check requester object info\n",
    "words.meta_data.requester"
   ]
  },
  {
   "cell_type": "markdown",
   "metadata": {},
   "source": [
    "## Data Organization"
   ]
  },
  {
   "cell_type": "code",
   "execution_count": 9,
   "metadata": {},
   "outputs": [],
   "source": [
    "# Check if data not loaded, and reload if so\n",
    "for erp in words.labels:\n",
    "    if not words[erp].n_articles:\n",
    "        words[erp].load()"
   ]
  },
  {
   "cell_type": "code",
   "execution_count": 10,
   "metadata": {},
   "outputs": [],
   "source": [
    "# Collect ERPs into list of aggragated data objects\n",
    "all_data = [ArticlesAll(words[erp]) for erp in words.labels]"
   ]
  },
  {
   "cell_type": "markdown",
   "metadata": {},
   "source": [
    "### Check Number of Articles"
   ]
  },
  {
   "cell_type": "code",
   "execution_count": 11,
   "metadata": {},
   "outputs": [
    {
     "name": "stdout",
     "output_type": "stream",
     "text": [
      "Number of ERPs: \t 2\n"
     ]
    }
   ],
   "source": [
    "# Check the number of ERPs \n",
    "print('Number of ERPs: \\t {}'.format(words.n_terms))"
   ]
  },
  {
   "cell_type": "code",
   "execution_count": 12,
   "metadata": {},
   "outputs": [
    {
     "name": "stdout",
     "output_type": "stream",
     "text": [
      "Number of papers: \t 10\n"
     ]
    }
   ],
   "source": [
    "# Check the total number of articles in the collected dataset\n",
    "total_article_count = sum([data.n_articles for data in all_data])\n",
    "print('Number of papers: \\t', total_article_count)"
   ]
  },
  {
   "cell_type": "code",
   "execution_count": 13,
   "metadata": {},
   "outputs": [],
   "source": [
    "# Collet all the DOIs across all papers\n",
    "dois = get_all_values(all_data, 'dois', unique=True)"
   ]
  },
  {
   "cell_type": "code",
   "execution_count": 14,
   "metadata": {},
   "outputs": [
    {
     "name": "stdout",
     "output_type": "stream",
     "text": [
      "Number of unique DOIs: \t 10\n"
     ]
    }
   ],
   "source": [
    "# Check the number of unique papers, based on DOIs\n",
    "print('Number of unique DOIs: \\t', len(set(dois)))"
   ]
  },
  {
   "cell_type": "markdown",
   "metadata": {},
   "source": [
    "### Collect information across all ERPs & papers"
   ]
  },
  {
   "cell_type": "code",
   "execution_count": 15,
   "metadata": {},
   "outputs": [],
   "source": [
    "# Get global counts of authors and journals\n",
    "all_authors = get_all_counts(all_data, 'authors', combine=True)\n",
    "all_journals = get_all_counts(all_data, 'journals', combine=True)"
   ]
  },
  {
   "cell_type": "code",
   "execution_count": 16,
   "metadata": {},
   "outputs": [
    {
     "data": {
      "text/plain": [
       "[(('Li', 'Y'), 2), (('Mendoza-Medialdea', 'MT'), 1)]"
      ]
     },
     "execution_count": 16,
     "metadata": {},
     "output_type": "execute_result"
    }
   ],
   "source": [
    "# Check the most common authors\n",
    "all_authors.most_common(2)"
   ]
  },
  {
   "cell_type": "code",
   "execution_count": 17,
   "metadata": {},
   "outputs": [
    {
     "data": {
      "text/plain": [
       "[('International journal of psychophysiology : official journal of the International Organization of Psychophysiology',\n",
       "  1),\n",
       " ('Brain sciences', 1)]"
      ]
     },
     "execution_count": 17,
     "metadata": {},
     "output_type": "execute_result"
    }
   ],
   "source": [
    "# Check the most common journals\n",
    "all_journals.most_common(2)"
   ]
  },
  {
   "cell_type": "markdown",
   "metadata": {},
   "source": [
    "## Check Words"
   ]
  },
  {
   "cell_type": "code",
   "execution_count": 18,
   "metadata": {},
   "outputs": [
    {
     "name": "stdout",
     "output_type": "stream",
     "text": [
      "P100  : patients , response , visual , stimuli , emotional\n",
      "N100  : positive , empathy , ap , curing , gaze\n"
     ]
    }
   ],
   "source": [
    "# Check most common words\n",
    "for data in all_data:\n",
    "    data.check_frequencies(n_check=5)"
   ]
  },
  {
   "cell_type": "code",
   "execution_count": 19,
   "metadata": {},
   "outputs": [
    {
     "name": "stdout",
     "output_type": "stream",
     "text": [
      "P100  : event-related potentials , disgust , exogenous attention , fear , interoceptive accuracy\n",
      "N100  : affective priming , fluency processing , n100/p200 , n400 , negativity bias\n"
     ]
    }
   ],
   "source": [
    "# Check most common keywords\n",
    "for data in all_data:\n",
    "    data.check_frequencies('keywords', n_check=5)"
   ]
  },
  {
   "cell_type": "markdown",
   "metadata": {},
   "source": [
    "### Summaries"
   ]
  },
  {
   "cell_type": "code",
   "execution_count": 20,
   "metadata": {},
   "outputs": [
    {
     "name": "stdout",
     "output_type": "stream",
     "text": [
      "P100 :\n",
      "  Number of articles: \t\t 5\n",
      "  First publication: \t\t 2020\n",
      "  Most common author: \t\t Mendoza-Medialdea MT\n",
      "    number of publications: \t 1\n",
      "  Most common journal: \t\t International journal of psychophysiology : official journal of the International Organization of Psychophysiology\n",
      "    number of publications: \t 1 \n",
      "\n"
     ]
    }
   ],
   "source": [
    "# Check an example summary\n",
    "ind = 0\n",
    "all_data[ind].create_summary()\n",
    "all_data[ind].print_summary()"
   ]
  },
  {
   "cell_type": "markdown",
   "metadata": {},
   "source": [
    "### WordCloud Plots"
   ]
  },
  {
   "cell_type": "code",
   "execution_count": 21,
   "metadata": {},
   "outputs": [
    {
     "data": {
      "image/png": "[encoded data removed]",
      "text/plain": [
       "<Figure size 576x576 with 1 Axes>"
      ]
     },
     "metadata": {
      "needs_background": "light"
     },
     "output_type": "display_data"
    }
   ],
   "source": [
    "# Create a wordcloud\n",
    "plot_wordcloud(all_data[ind].words, 20)"
   ]
  },
  {
   "cell_type": "markdown",
   "metadata": {},
   "source": [
    "### Data Plots"
   ]
  },
  {
   "cell_type": "code",
   "execution_count": 22,
   "metadata": {},
   "outputs": [
    {
     "data": {
      "image/png": "[encoded data removed]",
      "text/plain": [
       "<Figure size 720x360 with 1 Axes>"
      ]
     },
     "metadata": {
      "needs_background": "light"
     },
     "output_type": "display_data"
    }
   ],
   "source": [
    "# Check an example history plot\n",
    "plot_years(all_data[ind].years)"
   ]
  }
 ],
 "metadata": {
  "anaconda-cloud": {},
  "kernelspec": {
   "display_name": "Python 3",
   "language": "python",
   "name": "python3"
  },
  "language_info": {
   "codemirror_mode": {
    "name": "ipython",
    "version": 3
   },
   "file_extension": ".py",
   "mimetype": "text/x-python",
   "name": "python",
   "nbconvert_exporter": "python",
   "pygments_lexer": "ipython3",
   "version": "3.8.3"
  }
 },
 "nbformat": 4,
 "nbformat_minor": 1
}
