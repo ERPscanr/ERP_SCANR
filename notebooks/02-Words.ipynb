{
 "cells": [
  {
   "cell_type": "markdown",
   "metadata": {},
   "source": [
    "# Words Analysis\n",
    "\n",
    "This analysis analyses collected text and meta-data from scientific articles about that mention ERPs.\n",
    "\n",
    "Available information includes the titles, words, and years of all those papers such that this data can be used for further analysis."
   ]
  },
  {
   "cell_type": "code",
   "execution_count": 1,
   "metadata": {},
   "outputs": [],
   "source": [
    "%matplotlib inline\n",
    "\n",
    "import numpy as np\n",
    "\n",
    "from lisc import Words\n",
    "from lisc.data import Articles, ArticlesAll\n",
    "from lisc.utils import SCDB, load_object\n",
    "from lisc.utils.io import load_txt_file\n",
    "from lisc.plts.words import plot_years, plot_wordcloud\n",
    "from lisc.analysis.words import get_all_counts, get_all_values"
   ]
  },
  {
   "cell_type": "code",
   "execution_count": 2,
   "metadata": {},
   "outputs": [],
   "source": [
    "# Import custom project code\n",
    "import sys\n",
    "sys.path.append('../code')\n",
    "from plts import plot_count_hist"
   ]
  },
  {
   "cell_type": "markdown",
   "metadata": {},
   "source": [
    "## Setup"
   ]
  },
  {
   "cell_type": "code",
   "execution_count": 3,
   "metadata": {},
   "outputs": [],
   "source": [
    "# Settings\n",
    "SAVE_FIG = True"
   ]
  },
  {
   "cell_type": "code",
   "execution_count": 4,
   "metadata": {},
   "outputs": [],
   "source": [
    "# Set the file locations\n",
    "term_dir = '../terms/'\n",
    "figs_dir = '../data/figures/words'\n",
    "db = SCDB('../data/')\n",
    "\n",
    "# Set the name of the file to load\n",
    "name = 'erps' # 'erps', 'test'"
   ]
  },
  {
   "cell_type": "code",
   "execution_count": 5,
   "metadata": {},
   "outputs": [],
   "source": [
    "# Load the words object\n",
    "words = load_object('words_' + name, directory=db, reload_results=True)"
   ]
  },
  {
   "cell_type": "code",
   "execution_count": 6,
   "metadata": {},
   "outputs": [],
   "source": [
    "# Load exclusions for analysis\n",
    "exclusions = load_txt_file('analysis_exclusions.txt', term_dir, split_elements=False)"
   ]
  },
  {
   "cell_type": "markdown",
   "metadata": {},
   "source": [
    "### Check Database Information\n",
    "\n",
    "Check the metadata about the data collection, including checking the database data were collected from."
   ]
  },
  {
   "cell_type": "code",
   "execution_count": 7,
   "metadata": {},
   "outputs": [
    {
     "data": {
      "text/plain": [
       "{'dbname': 'pubmed',\n",
       " 'menuname': 'PubMed',\n",
       " 'description': 'PubMed bibliographic record',\n",
       " 'dbbuild': 'Build210125-2212m.3',\n",
       " 'count': '32062284',\n",
       " 'lastupdate': '2021/01/26 14:58'}"
      ]
     },
     "execution_count": 7,
     "metadata": {},
     "output_type": "execute_result"
    }
   ],
   "source": [
    "# Check database scrape info\n",
    "words.meta_data.db_info"
   ]
  },
  {
   "cell_type": "code",
   "execution_count": 8,
   "metadata": {},
   "outputs": [
    {
     "data": {
      "text/plain": [
       "{'n_requests': 452,\n",
       " 'wait_time': 0.1,\n",
       " 'start_time': '01:22:51 Wednesday 27 January 2021',\n",
       " 'end_time': '01:54:55 Wednesday 27 January 2021',\n",
       " 'logging': None}"
      ]
     },
     "execution_count": 8,
     "metadata": {},
     "output_type": "execute_result"
    }
   ],
   "source": [
    "# Check requester object info\n",
    "words.meta_data.requester"
   ]
  },
  {
   "cell_type": "markdown",
   "metadata": {},
   "source": [
    "## HACK"
   ]
  },
  {
   "cell_type": "code",
   "execution_count": 9,
   "metadata": {},
   "outputs": [],
   "source": [
    "words._labels = [val[0] for val in words.terms]"
   ]
  },
  {
   "cell_type": "markdown",
   "metadata": {},
   "source": [
    "## Data Organization"
   ]
  },
  {
   "cell_type": "code",
   "execution_count": 10,
   "metadata": {},
   "outputs": [],
   "source": [
    "# Collect ERPs into list of aggragated data objects\n",
    "all_data = [ArticlesAll(words[erp], exclusions=exclusions) for erp in words.labels]"
   ]
  },
  {
   "cell_type": "markdown",
   "metadata": {},
   "source": [
    "### Check Number of Articles"
   ]
  },
  {
   "cell_type": "code",
   "execution_count": 11,
   "metadata": {},
   "outputs": [
    {
     "name": "stdout",
     "output_type": "stream",
     "text": [
      "Number of ERPs: \t 83\n"
     ]
    }
   ],
   "source": [
    "# Check the number of ERPs \n",
    "print('Number of ERPs: \\t {}'.format(words.n_terms))"
   ]
  },
  {
   "cell_type": "code",
   "execution_count": 12,
   "metadata": {},
   "outputs": [
    {
     "name": "stdout",
     "output_type": "stream",
     "text": [
      "Number of papers: \t 32145\n"
     ]
    }
   ],
   "source": [
    "# Check the total number of articles in the collected dataset\n",
    "n_articles = [data.n_articles for data in all_data]\n",
    "total_article_count = sum(n_articles)\n",
    "print('Number of papers: \\t', total_article_count)"
   ]
  },
  {
   "cell_type": "code",
   "execution_count": 13,
   "metadata": {},
   "outputs": [
    {
     "data": {
      "image/png": "[encoded data removed]",
      "text/plain": [
       "<Figure size 432x360 with 1 Axes>"
      ]
     },
     "metadata": {
      "needs_background": "light"
     },
     "output_type": "display_data"
    }
   ],
   "source": [
    "plot_count_hist(n_articles, True,\n",
    "                save_fig=SAVE_FIG, f_name='erp_hist.pdf', directory=figs_dir)"
   ]
  },
  {
   "cell_type": "code",
   "execution_count": 14,
   "metadata": {},
   "outputs": [],
   "source": [
    "# Collect all the DOIs across all papers\n",
    "#dois = get_all_values(all_data, 'dois', unique=True)"
   ]
  },
  {
   "cell_type": "code",
   "execution_count": 15,
   "metadata": {},
   "outputs": [],
   "source": [
    "# Check the number of unique papers, based on DOIs\n",
    "#print('Number of unique DOIs: \\t', len(set(dois)))"
   ]
  },
  {
   "cell_type": "markdown",
   "metadata": {},
   "source": [
    "### Collect information across all ERPs & papers"
   ]
  },
  {
   "cell_type": "code",
   "execution_count": 16,
   "metadata": {},
   "outputs": [],
   "source": [
    "# Get global counts of authors and journals\n",
    "all_authors = get_all_counts(all_data, 'authors', combine=True)\n",
    "all_journals = get_all_counts(all_data, 'journals', combine=True)"
   ]
  },
  {
   "cell_type": "code",
   "execution_count": 17,
   "metadata": {},
   "outputs": [
    {
     "data": {
      "text/plain": [
       "[(('Näätänen', 'R'), 330),\n",
       " (('Wang', 'Y'), 271),\n",
       " (('Hajcak', 'G'), 207),\n",
       " (('Zhang', 'Y'), 197),\n",
       " (('Schröger', 'E'), 193),\n",
       " (('Polich', 'J'), 184),\n",
       " (('Li', 'H'), 180),\n",
       " (('Holcomb', 'PJ'), 176),\n",
       " (('Wang', 'L'), 172),\n",
       " (('Friederici', 'AD'), 169)]"
      ]
     },
     "execution_count": 17,
     "metadata": {},
     "output_type": "execute_result"
    }
   ],
   "source": [
    "# Check the most common authors\n",
    "all_authors.most_common(10)"
   ]
  },
  {
   "cell_type": "code",
   "execution_count": 18,
   "metadata": {},
   "outputs": [
    {
     "data": {
      "text/plain": [
       "[('Psychophysiology', 1525),\n",
       " ('International journal of psychophysiology : official journal of the International Organization of Psychophysiology',\n",
       "  1157),\n",
       " ('Biological psychology', 975),\n",
       " ('Neuropsychologia', 965),\n",
       " ('Clinical neurophysiology : official journal of the International Federation of Clinical Neurophysiology',\n",
       "  946),\n",
       " ('Brain research', 793),\n",
       " ('Neuroreport', 732),\n",
       " ('PloS one', 719),\n",
       " ('Journal of cognitive neuroscience', 685),\n",
       " ('Neuroscience letters', 680)]"
      ]
     },
     "execution_count": 18,
     "metadata": {},
     "output_type": "execute_result"
    }
   ],
   "source": [
    "# Check the most common journals\n",
    "all_journals.most_common(10)"
   ]
  },
  {
   "cell_type": "markdown",
   "metadata": {},
   "source": [
    "## Check Words"
   ]
  },
  {
   "cell_type": "code",
   "execution_count": 19,
   "metadata": {},
   "outputs": [
    {
     "name": "stdout",
     "output_type": "stream",
     "text": [
      "P100  : visual, patients, vep, latency, evoked\n",
      "P150  : patients, group, cells, study, two\n",
      "P180  : cells, dna, activity, human, polymerase\n",
      "P200  : patients, processing, p300, amplitude, erp\n",
      "P220  : cells, expression, de, cell, lymphocytes\n",
      "P240  : amplitude, stimuli, potentials, stimulus, processing\n",
      "P250  : patients, processing, components, amplitude, task\n",
      "P270  : stimuli, stimulus, stimulation, amplitude, components\n",
      "P300  : patients, amplitude, study, latency, cognitive\n",
      "P3a   : patients, stimuli, auditory, p3b, processing\n",
      "P3b   : task, processing, stimuli, p3a, patients\n",
      "P340  : pain, seps, patients, potentials, results\n",
      "P350  : erps, erp, processing, stimuli, components\n",
      "P400  : faces, infants, stimuli, amplitude, processing\n",
      "P500  : p, different, group, study, two\n",
      "P550  : subjects, task, sounds, larger, group\n",
      "P600  : processing, syntactic, semantic, sentences, n400\n",
      "N75   : visual, vep, patients, p100, evoked\n",
      "N80   : patients, visual, potentials, evoked, p\n",
      "N90   : potentials, patients, stimulation, evoked, recorded\n",
      "N100  : auditory, patients, amplitude, p300, subjects\n",
      "N110  : pain, empathy, potentials, nerve, stimulation\n",
      "N120  : patients, potentials, amplitude, somatosensory, stimuli\n",
      "N130  : evoked, components, amplitude, potentials, results\n",
      "N140  : somatosensory, stimuli, attention, amplitude, potentials\n",
      "N150  : pain, stimuli, potentials, components, visual\n",
      "N160  : visual, antibodies, bnabs, amplitude, hiv-1\n",
      "N170  : faces, face, processing, facial, erp\n",
      "N180  : visual, stimuli, potentials, areas, recorded\n",
      "N190  : body, processing, stimuli, visual, effects\n",
      "N200  : p300, patients, amplitude, erp, processing\n",
      "MMN   : auditory, mismatch, patients, negativity, processing\n",
      "N2a   : cells, patients, expression, activity, study\n",
      "N2b   : patients, neck, stimuli, auditory, processing\n",
      "N2c   : patients, n, neurons, response, primary\n",
      "N240  : stimuli, potentials, evoked, component, components\n",
      "N250  : faces, face, processing, erp, effects\n",
      "N270  : conflict, condition, processing, visual, different\n",
      "N280  : words, processing, group, ms, erps\n",
      "N2pc  : attention, target, attentional, visual, search\n",
      "N300  : processing, erp, erps, components, results\n",
      "N320  : words, task, mll, results, orthographic\n",
      "N350  : sleep, amplitude, stimuli, erps, processing\n",
      "N380  : name, showed, effect, ones, group\n",
      "N400  : semantic, words, processing, word, effect\n",
      "N450  : conflict, task, control, processing, cognitive\n",
      "N550  : sleep, k-complex, amplitude, stimuli, evoked\n",
      "N600  : processing, negative, positive, erp, potentials\n",
      "N700  : words, visual, stimulus, concrete, processing\n",
      "late positive component : positive, late, lpc, component, processing\n",
      "late positive potential : lpp, emotional, positive, potential, late\n",
      "negative slow wave : negative, slow, wave, memory, task\n",
      "positive slow wave : positive, slow, wave, processing, memory\n",
      "vertex positive potential : faces, processing, vpp, potential, face\n",
      "contingent negative variation : cnv, negative, variation, contingent, patients\n",
      "post imperative negative variation : cnv, negative, pinv, patients, variation\n",
      "early left anterior negativity : syntactic, early, negativity, left, anterior\n",
      "left anterior negativity : processing, negativity, syntactic, lan, words\n",
      "closure positive shift : prosodic, cps, boundary, boundaries, processing\n",
      "lateralized readiness potential : response, lrp, motor, potential, task\n",
      "late discriminative negativity : children, mmn, negativity, ldn, auditory\n",
      "object related negativity : auditory, sound, sounds, concurrent, segregation\n",
      "readiness potential : motor, movement, potential, bp, movements\n",
      "error related negativity : ern, error, negativity, task, error-related\n",
      "error related positivity : error, pe, ern, task, monitoring\n",
      "correct related negativity : ern, crn, negativity, monitoring, error\n",
      "medial frontal negativity : mfn, frontal, negativity, medial, participants\n",
      "stimulus preceding negativity : spn, reward, negativity, anticipation, task\n",
      "feedback related negativity : feedback, frn, negativity, reward, task\n",
      "distractor positivity : distractor, target, attentional, attention, suppression\n",
      "early directing attention negativity : attention, orienting, directing, cues, negativity\n",
      "late directing attention positivity : attention, orienting, directing, spatial, late\n",
      "anterior directing attention negativity : attention, negativity, spatial, directing, cues\n",
      "early posterior negativity : emotional, epn, processing, early, pictures\n",
      "selection negativity : selection, attention, visual, processing, stimuli\n",
      "selection positivity : selection, attention, visual, target, processing\n",
      "sustained posterior negativity : symmetry, spn, patterns, visual, regularity\n",
      "sustained posterior contralateral negativity : spcn, memory, visual, attention, contralateral\n",
      "reversal negativity : perceptual, reversal, perception, stimulus, reversals\n",
      "vsep  : vestibular, evoked, potentials, response, responses\n",
      "movement related cortical potential : movement, motor, cortical, mrcp, movements\n",
      "frontal selection positivity : selection, attention, visual, target, frontal\n",
      "prefrontal negativity : prefrontal, activity, pn, task, components\n"
     ]
    }
   ],
   "source": [
    "# Check most common words\n",
    "for data in all_data:\n",
    "    data.check_frequencies(n_check=5)"
   ]
  },
  {
   "cell_type": "code",
   "execution_count": 20,
   "metadata": {},
   "outputs": [
    {
     "name": "stdout",
     "output_type": "stream",
     "text": [
      "P100  : visual evoked potential, visual evoked potentials, event-related potentials, n170, eeg\n",
      "P150  : metabolomics, event-related potentials, pregabalin, aging, erps\n",
      "P180  : tms-eeg, transcranial magnetic stimulation, metabolomics, electroencephalography, targeted metabolomics\n",
      "P200  : event-related potentials, erp, erps, n400, eeg\n",
      "P220  : cause-specific infant mortality, maternal education, maternal employment, paternal education, paternal employment\n",
      "P240  : eeg, somatosensory cortex, touch, chinese three-character verb–object metaphor, contextual effect\n",
      "P250  : erps, mlpa, n170, p100, velocardiofacial syndrome\n",
      "P270  : arabidopsis thaliana, medicago truncatula, pisum sativum, plant hormone, rhizophagus irregularis\n",
      "P300  : event-related potentials, erp, eeg, event-related potential, attention\n",
      "P3a   : event-related potentials, attention, p300, mismatch negativity, eeg\n",
      "P3b   : p300, event-related potentials, attention, erp, eeg\n",
      "P340  : ascorbic acid, auditory processing, eeg, late discriminative negativity (ldn), mismatch negativity (mmn)\n",
      "P350  : erps, eye gaze, joint attention, social interaction, virtual reality\n",
      "P400  : infancy, erp, event-related potentials, h2a.z, erps\n",
      "P500  : bitcoin, covid-19, injection pain, propofol, asia\n",
      "P550  : e. coli, inca, blavim-1, common region, erp\n",
      "P600  : n400, erp, event-related potentials, erps, syntax\n",
      "N75   : visual evoked potential, visual evoked potentials, habituation, migraine, retinopathy\n",
      "N80   : endometriosis, n80 steel, nitrogen, phosphorus, cost\n",
      "N90   : genital warts, phellinus linteus, wnt/β-catenin, colorectal cancer, dehydroxyhispolon methyl ether\n",
      "N100  : event-related potentials, schizophrenia, electroencephalography, eeg, erp\n",
      "N110  : erp, empathy, pain, brassica napus, s haplotype\n",
      "N120  : attention, movement, cortical reactivity, transcranial direct current stimulation, evoked potentials\n",
      "N130  : erp, amylin receptors, asn-linked n-acetylglucosamine, fluorescence polarization, peptide hormones\n",
      "N140  : event-related potentials, p300, somatosensory evoked potentials, eeg, somatosensory cortex\n",
      "N150  : event-related potentials, visual evoked potentials, c1, evoked potentials, brain-computer interface\n",
      "N160  : hiv-1, broadly neutralizing antibodies, v2 apex bnabs, infants, interprotomer interactions\n",
      "N170  : erp, event-related potentials, face processing, face perception, emotion\n",
      "N180  : erls, erps, lps, nociceptive electrical stimuli, sustained spatial attention\n",
      "N190  : p3, readiness potential, self-other distinction, early posterior negativity (epn), visual structural encoding\n",
      "N200  : event-related potentials, p300, erp, eeg, erps\n",
      "MMN   : mismatch negativity (mmn), schizophrenia, eeg, event-related potentials, erp\n",
      "N2a   : autophagy, alzheimer’s disease, apoptosis, oxidative stress, alzheimer's disease\n",
      "N2b   : erps, event-related potentials, p3, attention, principal components analysis (pca)\n",
      "N2c   : principal components analysis (pca), event-related potentials (erps), cognitive control, equiprobable go/no-go task, erps\n",
      "N240  : event-related potentials, nociception, touch, a1899, a293\n",
      "N250  : n170, event-related potentials, erp, face recognition, n400\n",
      "N270  : event-related potential (erp), change detection, brand extension, stereotype, n400\n",
      "N280  : n280-380, emotional stroop, event-related potentials (erps), institutional care, psychosocial deprivation\n",
      "N2pc  : attention, visual search, erp, eeg, attentional capture\n",
      "N300  : erps, event-related potentials, n400, eeg, prospective memory\n",
      "N320  : a40926, co-expression, egfp, n. gerenzanensis, promoter engineering\n",
      "N350  : event-related potentials, erp, erps, sleep, brain-computer interface\n",
      "N380  : \n",
      "N400  : event-related potentials, erps, erp, p600, eeg\n",
      "N450  : event-related potentials, erp, cognitive control, stroop, erps\n",
      "N550  : k-complex, pyrolysis, consciousness, down state, gamma activity\n",
      "N600  : emotional valence, event-related potentials, global-local processing, insight problem solving, africa\n",
      "N700  : event-related potential, imageability, n400, n-linked glycosylation, glycoprotein b\n",
      "late positive component : lpc, event-related potentials, n400, erp, erps\n",
      "late positive potential : emotion, lpp, event-related potentials, erp, emotion regulation\n",
      "negative slow wave : working memory, attention, erp, eeg, p300\n",
      "positive slow wave : event-related potentials, erp, erps, working memory, slow wave\n",
      "vertex positive potential : n170, event-related potentials, face processing, vpp, erps\n",
      "contingent negative variation : eeg, event-related potentials, cnv, erp, event-related potential\n",
      "post imperative negative variation : bipolar disorder, contingent negative variation, deficit schizophrenia, event-related potentials\n",
      "early left anterior negativity : language, eeg, auditory system, disorders of consciousness, event-related potentials\n",
      "left anterior negativity : lan, p600, erp, n400, event-related potentials\n",
      "closure positive shift : closure positive shift (cps), prosody, event-related potentials (erp), prosodic boundary cues, prosody processing\n",
      "lateralized readiness potential : lrp, eeg, event-related potentials, erps, event-related potential\n",
      "late discriminative negativity : mismatch negativity, children, mmn, p3a, dyslexia\n",
      "object related negativity : auditory scene analysis, object-related negativity (orn), concurrent sound segregation, orn, binaural processing\n",
      "readiness potential : eeg, volition, free will, erp, voluntary action\n",
      "error related negativity : error-related negativity, ern, performance monitoring, event-related potentials, cognitive control\n",
      "error related positivity : error-related negativity, performance monitoring, event-related potentials, cognitive control, erp\n",
      "correct related negativity : error-related negativity, performance monitoring, crn, error-related negativity (ern), n2\n",
      "medial frontal negativity : erp, mfn, ultimatum game, event-related potentials, eeg\n",
      "stimulus preceding negativity : stimulus-preceding negativity, event-related potentials, feedback-related negativity, reward, anticipation\n",
      "feedback related negativity : feedback-related negativity, frn, feedback-related negativity (frn), p300, p3\n",
      "distractor positivity : n2pc, visual search, pd, working memory, event-related potentials\n",
      "early directing attention negativity : adan, edan, spatial attention, attention, erps\n",
      "late directing attention positivity : attention, erps, spatial neglect, beta-band, cnv\n",
      "anterior directing attention negativity : adan, attention, edan, erps, spatial attention\n",
      "early posterior negativity : emotion, epn, erp, early posterior negativity (epn), attention\n",
      "selection negativity : erp, attention, selective attention, category learning, swloreta\n",
      "selection positivity : visual attention, attention-deficit/hyperactivity disorder, p300, contingent negative variation, electroencephalography\n",
      "sustained posterior negativity : symmetry, erps, holographic model, perceptual goodness, event-related potentials\n",
      "sustained posterior contralateral negativity : attention, n2pc, spcn, eeg, visual working memory\n",
      "reversal negativity : bistable perception, erps, necker cube, eeg, perceptual multistability\n",
      "vsep  : non-nasa center, nasa discipline neuroscience, vestibular, utricle, vestibular system\n",
      "movement related cortical potential : movement-related cortical potential, eeg, movement-related cortical potentials, electroencephalography (eeg), brain-computer interface\n",
      "frontal selection positivity : attention-deficit/hyperactivity disorder, p300, contingent negative variation, electroencephalography, theta activity\n",
      "prefrontal negativity : erp, bereitschaftspotential, eeg, pn, motor behavior\n"
     ]
    }
   ],
   "source": [
    "# Check most common keywords\n",
    "for data in all_data:\n",
    "    data.check_frequencies('keywords', n_check=5)"
   ]
  },
  {
   "cell_type": "markdown",
   "metadata": {},
   "source": [
    "### Summaries"
   ]
  },
  {
   "cell_type": "code",
   "execution_count": 21,
   "metadata": {},
   "outputs": [
    {
     "name": "stdout",
     "output_type": "stream",
     "text": [
      "N90 :\n",
      "  Number of articles: \t\t 53\n",
      "  First publication: \t\t 1975\n",
      "  Most common author: \t\t Allison T\n",
      "    number of publications: \t 3\n",
      "  Most common journal: \t\t Electroencephalography and clinical neurophysiology\n",
      "    number of publications: \t 4 \n",
      "\n"
     ]
    }
   ],
   "source": [
    "# Check an example summary\n",
    "ind = 19\n",
    "all_data[ind].create_summary()\n",
    "all_data[ind].print_summary()"
   ]
  },
  {
   "cell_type": "markdown",
   "metadata": {},
   "source": [
    "### WordCloud Plots"
   ]
  },
  {
   "cell_type": "code",
   "execution_count": 22,
   "metadata": {},
   "outputs": [
    {
     "data": {
      "image/png": "[encoded data removed]",
      "text/plain": [
       "<Figure size 576x576 with 1 Axes>"
      ]
     },
     "metadata": {
      "needs_background": "light"
     },
     "output_type": "display_data"
    }
   ],
   "source": [
    "# Create a wordcloud\n",
    "plot_wordcloud(all_data[ind].words, 20)"
   ]
  },
  {
   "cell_type": "markdown",
   "metadata": {},
   "source": [
    "### Data Plots"
   ]
  },
  {
   "cell_type": "code",
   "execution_count": 23,
   "metadata": {},
   "outputs": [
    {
     "data": {
      "image/png": "[encoded data removed]",
      "text/plain": [
       "<Figure size 720x360 with 1 Axes>"
      ]
     },
     "metadata": {
      "needs_background": "light"
     },
     "output_type": "display_data"
    }
   ],
   "source": [
    "# Check an example history plot\n",
    "plot_years(all_data[ind].years, [None, 2020])"
   ]
  },
  {
   "cell_type": "code",
   "execution_count": 24,
   "metadata": {},
   "outputs": [
    {
     "name": "stdout",
     "output_type": "stream",
     "text": [
      "P100 \t 1839\n",
      "P150 \t 231\n",
      "P180 \t 131\n",
      "P200 \t 897\n",
      "P220 \t 73\n",
      "P240 \t 34\n",
      "P250 \t 102\n",
      "P270 \t 22\n",
      "P300 \t 6153\n",
      "P3a \t 1010\n",
      "P3b \t 1073\n",
      "P340 \t 16\n",
      "P350 \t 73\n",
      "P400 \t 224\n",
      "P500 \t 73\n",
      "P550 \t 18\n",
      "P600 \t 701\n",
      "N75 \t 234\n",
      "N80 \t 126\n",
      "N90 \t 53\n",
      "N100 \t 1037\n",
      "N110 \t 28\n",
      "N120 \t 57\n",
      "N130 \t 45\n",
      "N140 \t 177\n",
      "N150 \t 127\n",
      "N160 \t 82\n",
      "N170 \t 1345\n",
      "N180 \t 41\n",
      "N190 \t 24\n",
      "N200 \t 764\n",
      "MMN \t 3622\n",
      "N2a \t 271\n",
      "N2b \t 323\n",
      "N2c \t 67\n",
      "N240 \t 21\n",
      "N250 \t 264\n",
      "N270 \t 66\n",
      "N280 \t 22\n",
      "N2pc \t 495\n",
      "N300 \t 205\n",
      "N320 \t 33\n",
      "N350 \t 84\n",
      "N380 \t 8\n",
      "N400 \t 2538\n",
      "N450 \t 175\n",
      "N550 \t 52\n",
      "N600 \t 15\n",
      "N700 \t 21\n",
      "late positive component \t 634\n",
      "late positive potential \t 906\n",
      "negative slow wave \t 101\n",
      "positive slow wave \t 110\n",
      "vertex positive potential \t 57\n",
      "contingent negative variation \t 1000\n",
      "post imperative negative variation \t 32\n",
      "early left anterior negativity \t 33\n",
      "left anterior negativity \t 53\n",
      "closure positive shift \t 37\n",
      "lateralized readiness potential \t 299\n",
      "late discriminative negativity \t 35\n",
      "object related negativity \t 37\n",
      "readiness potential \t 517\n",
      "error related negativity \t 998\n",
      "error related positivity \t 298\n",
      "correct related negativity \t 91\n",
      "medial frontal negativity \t 93\n",
      "stimulus preceding negativity \t 120\n",
      "feedback related negativity \t 566\n",
      "distractor positivity \t 22\n",
      "early directing attention negativity \t 22\n",
      "late directing attention positivity \t 15\n",
      "anterior directing attention negativity \t 29\n",
      "early posterior negativity \t 235\n",
      "selection negativity \t 76\n",
      "selection positivity \t 33\n",
      "sustained posterior negativity \t 19\n",
      "sustained posterior contralateral negativity \t 41\n",
      "reversal negativity \t 11\n",
      "vsep \t 193\n",
      "movement related cortical potential \t 297\n",
      "frontal selection positivity \t 20\n",
      "prefrontal negativity \t 23\n"
     ]
    }
   ],
   "source": [
    "# Check how many articles were found per ERP\n",
    "for data in all_data:\n",
    "    print(data.label, '\\t', data.n_articles)"
   ]
  }
 ],
 "metadata": {
  "anaconda-cloud": {},
  "kernelspec": {
   "display_name": "Python 3",
   "language": "python",
   "name": "python3"
  },
  "language_info": {
   "codemirror_mode": {
    "name": "ipython",
    "version": 3
   },
   "file_extension": ".py",
   "mimetype": "text/x-python",
   "name": "python",
   "nbconvert_exporter": "python",
   "pygments_lexer": "ipython3",
   "version": "3.8.3"
  }
 },
 "nbformat": 4,
 "nbformat_minor": 1
}
