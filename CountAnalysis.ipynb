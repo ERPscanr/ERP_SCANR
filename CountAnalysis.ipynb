{
 "cells": [
  {
   "cell_type": "markdown",
   "metadata": {},
   "source": [
    "## Co-Occurence of Term Analysis\n",
    "\n",
    "Co-occurence of terms analysis: check how often pre-selected cognitive terms appear in abstracts with ERP terms. \n",
    "\n",
    "This analysis searches through pubmed for papers that contain specified ERP and COG terms. Data extracted is the count of the number of papers with both terms. This is used to infer what cognitive terms each ERP is affiliated with. \n",
    "\n",
    "NOTE:\n",
    "- COG terms here are a somewhat arbitrary selection: need a better set of terms, less arbitrarily selected. "
   ]
  },
  {
   "cell_type": "code",
   "execution_count": 8,
   "metadata": {
    "collapsed": false
   },
   "outputs": [],
   "source": [
    "# Import custom code\n",
    "from erpsc.count import *"
   ]
  },
  {
   "cell_type": "code",
   "execution_count": 9,
   "metadata": {
    "collapsed": true
   },
   "outputs": [],
   "source": [
    "# Initialize object for term count co-occurences. \n",
    "counts = ERPSCCount()"
   ]
  },
  {
   "cell_type": "code",
   "execution_count": 10,
   "metadata": {
    "collapsed": false
   },
   "outputs": [],
   "source": [
    "# Load ERPS and terms from file\n",
    "counts.set_erps_file('erps.txt')\n",
    "counts.set_terms_file('cognitive_terms.txt')"
   ]
  },
  {
   "cell_type": "code",
   "execution_count": 3,
   "metadata": {
    "collapsed": false
   },
   "outputs": [],
   "source": [
    "# OR: Set small set of ERPs and terms for tests\n",
    "\n",
    "# Small test set of words\n",
    "erps = ['N400', 'P600']\n",
    "cog_terms = ['language', 'memory'] \n",
    "\n",
    "# Add ERPs and terms\n",
    "counts.set_erps(erps)\n",
    "counts.set_terms(cog_terms)"
   ]
  },
  {
   "cell_type": "code",
   "execution_count": 11,
   "metadata": {
    "collapsed": false
   },
   "outputs": [],
   "source": [
    "# Scrape the co-occurence of terms data\n",
    "counts.scrape_data()"
   ]
  },
  {
   "cell_type": "code",
   "execution_count": 12,
   "metadata": {
    "collapsed": false
   },
   "outputs": [
    {
     "name": "stdout",
     "output_type": "stream",
     "text": [
      "For the  P50   the most common association is \t cognitive  with \t %06.65\n",
      "For the  P100  the most common association is \t vision     with \t %10.50\n",
      "For the  P200  the most common association is \t auditory   with \t %32.91\n",
      "For the  P300  the most common association is \t auditory   with \t %20.94\n",
      "For the  P3a   the most common association is \t auditory   with \t %51.16\n",
      "For the  P3b   the most common association is \t attention  with \t %41.61\n",
      "For the  P400  the most common association is \t cognitive  with \t %12.64\n",
      "For the  P600  the most common association is \t language   with \t %58.72\n",
      "For the  N50   the most common association is \t somatosensory with \t %09.29\n",
      "For the  N100  the most common association is \t auditory   with \t %63.55\n",
      "For the  N170  the most common association is \t face       with \t %73.54\n",
      "For the  N200  the most common association is \t cognitive  with \t %34.24\n",
      "For the  MMN   the most common association is \t auditory   with \t %67.71\n",
      "For the  N2b   the most common association is \t auditory   with \t %20.97\n",
      "For the  N2c   the most common association is \t attention  with \t %04.26\n",
      "For the  N270  the most common association is \t attention  with \t %30.36\n",
      "For the  N2pc  the most common association is \t attention  with \t %89.10\n",
      "For the  N300  the most common association is \t cognitive  with \t %26.67\n",
      "For the  N400  the most common association is \t language   with \t %45.48\n",
      "For the  N600  the most common association is \t auditory   with \t %25.00\n",
      "For the  C1    the most common association is \t pain       with \t %04.49\n",
      "For the  LPC   the most common association is \t cognitive  with \t %05.42\n",
      "For the  MRPC  the most common association is \t social     with \t %04.44\n",
      "For the  CNV   the most common association is \t vision     with \t %11.02\n",
      "For the  PINV  the most common association is \t auditory   with \t %13.98\n",
      "For the  ERN   the most common association is \t cognitive  with \t %28.21\n",
      "For the  ELAN  the most common association is \t cognitive  with \t %06.91\n",
      "For the  CPS   the most common association is \t social     with \t %04.93\n",
      "For the  LRP   the most common association is \t motor      with \t %04.45\n",
      "For the  LDN   the most common association is \t pain       with \t %12.98\n",
      "For the  ORN   the most common association is \t pain       with \t %04.73\n",
      "For the  SEP   the most common association is \t social     with \t %02.69\n",
      "For the  VsEP  the most common association is \t auditory   with \t %51.52\n",
      "For the  BP    the most common association is \t social     with \t %01.12\n"
     ]
    }
   ],
   "source": [
    "# Check the most commonly associated COG term for each ERP\n",
    "counts.check_cooc_erps()"
   ]
  },
  {
   "cell_type": "code",
   "execution_count": 13,
   "metadata": {
    "collapsed": false
   },
   "outputs": [
    {
     "name": "stdout",
     "output_type": "stream",
     "text": [
      "For  language             the strongest associated ERP is \t P600  with \t %58.72\n",
      "For  memory               the strongest associated ERP is \t N400  with \t %22.05\n",
      "For  attention            the strongest associated ERP is \t N2pc  with \t %89.10\n",
      "For  motor                the strongest associated ERP is \t MMN   with \t %14.58\n",
      "For  decision making      the strongest associated ERP is \t ERN   with \t %04.68\n",
      "For  vision               the strongest associated ERP is \t CNV   with \t %11.02\n",
      "For  pain                 the strongest associated ERP is \t LDN   with \t %12.98\n",
      "For  auditory             the strongest associated ERP is \t MMN   with \t %67.71\n",
      "For  emotion              the strongest associated ERP is \t N170  with \t %16.61\n",
      "For  categorization       the strongest associated ERP is \t N170  with \t %07.41\n",
      "For  reward               the strongest associated ERP is \t ERN   with \t %05.99\n",
      "For  spatial              the strongest associated ERP is \t N2pc  with \t %37.07\n",
      "For  somatosensory        the strongest associated ERP is \t VsEP  with \t %24.24\n",
      "For  face                 the strongest associated ERP is \t N170  with \t %73.54\n",
      "For  cognitive            the strongest associated ERP is \t P3b   with \t %37.52\n",
      "For  awareness            the strongest associated ERP is \t ERN   with \t %06.64\n",
      "For  tactile              the strongest associated ERP is \t P100  with \t %01.76\n",
      "For  pain                 the strongest associated ERP is \t LDN   with \t %12.98\n",
      "For  learning             the strongest associated ERP is \t N400  with \t %14.38\n",
      "For  reasoning            the strongest associated ERP is \t N600  with \t %08.33\n",
      "For  social               the strongest associated ERP is \t N170  with \t %20.63\n"
     ]
    }
   ],
   "source": [
    "# Check the most commonly associated ERP for each term\n",
    "counts.check_cooc_terms()"
   ]
  },
  {
   "cell_type": "code",
   "execution_count": 14,
   "metadata": {
    "collapsed": false
   },
   "outputs": [
    {
     "name": "stdout",
     "output_type": "stream",
     "text": [
      "The most studied ERP is  ['SEP', 'somatosensory evoked potential']  with  2210240 papers\n",
      "The most studied term is  social  with   691910  papers\n"
     ]
    }
   ],
   "source": [
    "# Check the terms with the most papers\n",
    "counts.check_top()"
   ]
  },
  {
   "cell_type": "code",
   "execution_count": 15,
   "metadata": {
    "collapsed": false
   },
   "outputs": [
    {
     "name": "stdout",
     "output_type": "stream",
     "text": [
      "['P50'] -    70880\n",
      "['P100', 'P1'] -     2218\n",
      "['P200', 'P2'] -      869\n",
      "['P300', 'P3'] -    10283\n",
      "['P3a'] -      819\n",
      "['P3b'] -      805\n",
      "['P400'] -      269\n",
      "['P600'] -      545\n",
      "['N50'] -      603\n",
      "['N100', 'N1'] -      919\n",
      "['N170'] -      945\n",
      "['N200', 'N2'] -      628\n",
      "['MMN', 'mismatch negativity', 'N2a'] -     2332\n",
      "['N2b'] -      496\n",
      "['N2c'] -      188\n",
      "['N270'] -       56\n",
      "['N2pc'] -      321\n",
      "['N300'] -      165\n",
      "['N400'] -     1891\n",
      "['N600'] -       12\n",
      "['C1'] -    30161\n",
      "['LPC', 'late positive component'] -     2732\n",
      "['MRPC', 'movement-related cortical potential'] -       45\n",
      "['CNV', 'contingent negative variation'] -     6490\n",
      "['PINV', 'post-imperative negative variation'] -       93\n",
      "['ERN', 'Ne', 'error related negativity'] -      918\n",
      "['ELAN', 'early left anterior negativity'] -      521\n",
      "['CPS', 'closure positive shift'] -     6649\n",
      "['LRP', 'lateralized readiness potential'] -     3371\n",
      "['LDN', 'late difference negativity'] -      578\n",
      "['ORN', 'object related negativity'] -     2537\n",
      "['SEP', 'somatosensory evoked potential'] -  2210240\n",
      "['VsEP', 'vestibular evoked potential'] -       66\n",
      "['BP', ' pre-motor potential', ' readiness potential', ' Bereitschaftspotential'] -   164599\n"
     ]
    }
   ],
   "source": [
    "# Check how many papers were found for each term - ERPs\n",
    "counts.check_counts('erp')"
   ]
  },
  {
   "cell_type": "code",
   "execution_count": 16,
   "metadata": {
    "collapsed": false
   },
   "outputs": [
    {
     "name": "stdout",
     "output_type": "stream",
     "text": [
      "language           -     144340\n",
      "memory             -     222760\n",
      "attention          -     345367\n",
      "motor              -     364520\n",
      "decision making    -     154464\n",
      "vision             -     159812\n",
      "pain               -     592870\n",
      "auditory           -     116744\n",
      "emotion            -      29502\n",
      "categorization     -      11713\n",
      "reward             -      32465\n",
      "spatial            -     230700\n",
      "somatosensory      -      34872\n",
      "face               -     169128\n",
      "cognitive          -     289037\n",
      "awareness          -     113428\n",
      "tactile            -      14359\n",
      "pain               -     592870\n",
      "learning           -     290473\n",
      "reasoning          -      16814\n",
      "social             -     691910\n"
     ]
    }
   ],
   "source": [
    "# Check how many papers were found for each term - COGs\n",
    "counts.check_counts('term')"
   ]
  },
  {
   "cell_type": "code",
   "execution_count": 17,
   "metadata": {
    "collapsed": false
   },
   "outputs": [],
   "source": [
    "# Save pickle file of results\n",
    "counts.save_pickle('test')"
   ]
  },
  {
   "cell_type": "code",
   "execution_count": 18,
   "metadata": {
    "collapsed": false
   },
   "outputs": [],
   "source": [
    "# Load from pickle file\n",
    "counts = load_pickle_counts('test')"
   ]
  },
  {
   "cell_type": "markdown",
   "metadata": {},
   "source": [
    "## TEST CODE"
   ]
  },
  {
   "cell_type": "code",
   "execution_count": null,
   "metadata": {
    "collapsed": true
   },
   "outputs": [],
   "source": [
    "# Make a wordcloud\n",
    "from wordcloud import WordCloud\n",
    "import matplotlib.pyplot as plt\n",
    "%matplotlib inline"
   ]
  },
  {
   "cell_type": "code",
   "execution_count": null,
   "metadata": {
    "collapsed": false
   },
   "outputs": [],
   "source": [
    "wordcloud = WordCloud().generate_from_frequencies(words_analysis.results[0].freqs)"
   ]
  },
  {
   "cell_type": "code",
   "execution_count": null,
   "metadata": {
    "collapsed": false
   },
   "outputs": [],
   "source": [
    "type(words_analysis.results[0].freqs)\n",
    "\n",
    "words_analysis.results[0].freqs.plot(500)"
   ]
  },
  {
   "cell_type": "code",
   "execution_count": null,
   "metadata": {
    "collapsed": true
   },
   "outputs": [],
   "source": [
    "words_analysis.results[0].freqs"
   ]
  },
  {
   "cell_type": "code",
   "execution_count": null,
   "metadata": {
    "collapsed": true
   },
   "outputs": [],
   "source": [
    "\n",
    "\n",
    "\n",
    "\n",
    "\n",
    "\n"
   ]
  },
  {
   "cell_type": "markdown",
   "metadata": {},
   "source": [
    "## Test Code"
   ]
  },
  {
   "cell_type": "code",
   "execution_count": null,
   "metadata": {
    "collapsed": true
   },
   "outputs": [],
   "source": [
    "# TEST IMPORTS\n",
    "#import requests\n",
    "#import nltk\n",
    "#from bs4 import BeautifulSoup"
   ]
  },
  {
   "cell_type": "code",
   "execution_count": null,
   "metadata": {
    "collapsed": false
   },
   "outputs": [],
   "source": [
    "\n",
    "#page = requests.get('http://eutils.ncbi.nlm.nih.gov/entrez/eutils/esearch.fcgi?db=pubmed&field=word&term=“N270”AND”Language”')\n",
    "#page = requests.get('http://eutils.ncbi.nlm.nih.gov/entrez/eutils/esearch.fcgi?db=pubmed&field=word&term=“P300”&retmax=10')\n",
    "page = requests.get('http://www.ncbi.nlm.nih.gov/pubmed/27354714')\n",
    "\n",
    "page_soup = BeautifulSoup(page.content)\n",
    "\n",
    "#counts = page_soup.find_all('count')\n",
    "\n",
    "#for i in range(0, len(counts)):\n",
    "#    count = counts[i]\n",
    "#    ext = count.text\n",
    "#    print int(ext)\n",
    "\n",
    "art_page = requests.get('http://eutils.ncbi.nlm.nih.gov/entrez/eutils/efetch.fcgi?db=pubmed&retmode=xml&id=' + id_strs)\n",
    "\n",
    "art_page_soup = BeautifulSoup(art_page.content, \"xml\")"
   ]
  },
  {
   "cell_type": "code",
   "execution_count": null,
   "metadata": {
    "collapsed": true
   },
   "outputs": [],
   "source": [
    "aa = ERPC()\n",
    "aa.set_path('Users')"
   ]
  }
 ],
 "metadata": {
  "kernelspec": {
   "display_name": "Python 2",
   "language": "python",
   "name": "python2"
  },
  "language_info": {
   "codemirror_mode": {
    "name": "ipython",
    "version": 2
   },
   "file_extension": ".py",
   "mimetype": "text/x-python",
   "name": "python",
   "nbconvert_exporter": "python",
   "pygments_lexer": "ipython2",
   "version": "2.7.11"
  }
 },
 "nbformat": 4,
 "nbformat_minor": 0
}
