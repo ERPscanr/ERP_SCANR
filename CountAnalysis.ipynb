{
 "cells": [
  {
   "cell_type": "markdown",
   "metadata": {},
   "source": [
    "## ERP SCANR\n",
    "\n",
    "\n",
    "This notebook is the overview notebook for the ERP-SCANR project (erpsc).\n",
    "\n",
    "ERPSC is an attempt to use automated web-scraping and text mining to summarize research on ERPs. \n",
    "\n",
    "Hopefully this project will serve as a type of automated meta-analysis, and also a way to pull out \n",
    "\n",
    "Currently, two approaches:\n",
    "- Co-occurence of terms analysis: check how often pre-selected cognitive terms appear in abstracts with ERP terms. \n",
    "- Words analysis: scrapes for ERP papers, pulls out words in abstracts for analysis. \n",
    "\n",
    "NOTE:\n",
    "- Known issue: Some ERP terms often return papers where the same name is used for something else. Will need some sort of quality control procedure to check that the papers that are scraped actually refer to what is wanted. \n",
    "\n",
    "This notebook is runs and displays the code. The actual code is in the 'erpsc' custom module. "
   ]
  },
  {
   "cell_type": "code",
   "execution_count": 2,
   "metadata": {
    "collapsed": false
   },
   "outputs": [],
   "source": [
    "## Imports\n",
    "\n",
    "# Import custom code\n",
    "from erpsc import *\n",
    "\n",
    "# TEST IMPORTS\n",
    "#import requests\n",
    "#import nltk\n",
    "#from bs4 import BeautifulSoup"
   ]
  },
  {
   "cell_type": "code",
   "execution_count": 7,
   "metadata": {
    "collapsed": false
   },
   "outputs": [],
   "source": [
    "## Things to search through - full set\n",
    "erps = ['P50', 'P100', 'P200', 'P300', 'P3a', 'P3b', 'P400', 'P600', 'N100', 'N170', 'N200',\\\n",
    "         'N270', 'N2pc', 'N400', 'MMN', 'LPC', 'CNV', 'ERN', 'ELAN', 'CPS', 'LRP', 'LDN', 'ORN', 'SEP']\n",
    "\n",
    "cog_terms = ['language', 'memory', 'attention', 'motor', 'decision making', 'vision', \\\n",
    "        'auditory', 'emotion', 'categorization', 'reward', 'spatial', 'somatosensory', \\\n",
    "        'cognitive', 'awareness', 'tactile', 'pain', 'learning', 'reasoning', 'social', 'action']"
   ]
  },
  {
   "cell_type": "code",
   "execution_count": 5,
   "metadata": {
    "collapsed": true
   },
   "outputs": [],
   "source": [
    "# Small test set of words\n",
    "erps = ['P50', 'P600']\n",
    "cog_terms = ['language', 'memory']"
   ]
  },
  {
   "cell_type": "markdown",
   "metadata": {},
   "source": [
    "## Co-Occurence of Term Analysis\n",
    "\n",
    "This analysis searches through pubmed for papers that contain specified ERP and COG terms. Data extracted is the count of the number of papers with both terms. This is used to infer what cognitive terms each ERP is affiliated with. \n",
    "\n",
    "NOTE:\n",
    "- COG terms here are a somewhat arbitrary selection: need a better set of terms, less arbitrarily selected. "
   ]
  },
  {
   "cell_type": "code",
   "execution_count": 8,
   "metadata": {
    "collapsed": true
   },
   "outputs": [],
   "source": [
    "# Initialize object for term count co-occurences. \n",
    "term_counts = ERPSCCount()\n",
    "\n",
    "# Set erp and cog lists as terms to use\n",
    "term_counts.set_erps(erps)\n",
    "term_counts.set_terms(cog_terms)"
   ]
  },
  {
   "cell_type": "code",
   "execution_count": 9,
   "metadata": {
    "collapsed": false
   },
   "outputs": [],
   "source": [
    "# Scrape the co-occurence of terms data\n",
    "term_counts.scrape_data()"
   ]
  },
  {
   "cell_type": "code",
   "execution_count": 10,
   "metadata": {
    "collapsed": false
   },
   "outputs": [
    {
     "name": "stdout",
     "output_type": "stream",
     "text": [
      "For the  P50   the most common association is \t auditory   with \t %06.69\n",
      "For the  P100  the most common association is \t vision     with \t %09.66\n",
      "For the  P200  the most common association is \t auditory   with \t %33.03\n",
      "For the  P300  the most common association is \t auditory   with \t %20.96\n",
      "For the  P3a   the most common association is \t auditory   with \t %51.67\n",
      "For the  P3b   the most common association is \t attention  with \t %41.82\n",
      "For the  P400  the most common association is \t attention  with \t %11.90\n",
      "For the  P600  the most common association is \t language   with \t %56.15\n",
      "For the  N100  the most common association is \t auditory   with \t %63.89\n",
      "For the  N170  the most common association is \t attention  with \t %19.11\n",
      "For the  N200  the most common association is \t auditory   with \t %34.27\n",
      "For the  N270  the most common association is \t attention  with \t %30.36\n",
      "For the  N2pc  the most common association is \t attention  with \t %89.38\n",
      "For the  N400  the most common association is \t language   with \t %43.19\n",
      "For the  MMN   the most common association is \t auditory   with \t %68.45\n",
      "For the  LPC   the most common association is \t action     with \t %07.33\n",
      "For the  CNV   the most common association is \t vision     with \t %10.12\n",
      "For the  ERN   the most common association is \t cognitive  with \t %24.56\n",
      "For the  ELAN  the most common association is \t language   with \t %13.10\n",
      "For the  CPS   the most common association is \t social     with \t %03.66\n",
      "For the  LRP   the most common association is \t motor      with \t %04.47\n",
      "For the  LDN   the most common association is \t pain       with \t %12.84\n",
      "For the  ORN   the most common association is \t action     with \t %09.30\n",
      "For the  SEP   the most common association is \t somatosensory with \t %34.67\n"
     ]
    }
   ],
   "source": [
    "# Check the most commonly associated COG term for each ERP\n",
    "term_counts.check_erps()"
   ]
  },
  {
   "cell_type": "code",
   "execution_count": 11,
   "metadata": {
    "collapsed": false
   },
   "outputs": [
    {
     "name": "stdout",
     "output_type": "stream",
     "text": [
      "For  language             the strongest associated ERP is \t P600  with \t %56.15\n",
      "For  memory               the strongest associated ERP is \t N400  with \t %22.10\n",
      "For  attention            the strongest associated ERP is \t N2pc  with \t %89.38\n",
      "For  motor                the strongest associated ERP is \t MMN   with \t %14.69\n",
      "For  decision making      the strongest associated ERP is \t ERN   with \t %05.03\n",
      "For  vision               the strongest associated ERP is \t CNV   with \t %10.12\n",
      "For  auditory             the strongest associated ERP is \t MMN   with \t %68.45\n",
      "For  emotion              the strongest associated ERP is \t N170  with \t %16.24\n",
      "For  categorization       the strongest associated ERP is \t N170  with \t %07.43\n",
      "For  reward               the strongest associated ERP is \t ERN   with \t %06.32\n",
      "For  spatial              the strongest associated ERP is \t N2pc  with \t %37.19\n",
      "For  somatosensory        the strongest associated ERP is \t SEP   with \t %34.67\n",
      "For  cognitive            the strongest associated ERP is \t N200  with \t %30.46\n",
      "For  awareness            the strongest associated ERP is \t ERN   with \t %07.13\n",
      "For  tactile              the strongest associated ERP is \t P100  with \t %01.77\n",
      "For  pain                 the strongest associated ERP is \t LDN   with \t %12.84\n",
      "For  learning             the strongest associated ERP is \t N400  with \t %12.72\n",
      "For  reasoning            the strongest associated ERP is \t N270  with \t %01.79\n",
      "For  social               the strongest associated ERP is \t N170  with \t %18.37\n",
      "For  action               the strongest associated ERP is \t ERN   with \t %18.48\n"
     ]
    }
   ],
   "source": [
    "# Check the most commonly associated ERP for each term\n",
    "term_counts.check_terms()"
   ]
  },
  {
   "cell_type": "code",
   "execution_count": 12,
   "metadata": {
    "collapsed": false
   },
   "outputs": [
    {
     "name": "stdout",
     "output_type": "stream",
     "text": [
      "The most studied ERP is  P300    with    10266 papers\n",
      "The most studied COG is  action  with   671741  papers\n"
     ]
    }
   ],
   "source": [
    "# Check the terms with the most papers\n",
    "term_counts.check_top()"
   ]
  },
  {
   "cell_type": "code",
   "execution_count": 13,
   "metadata": {
    "collapsed": false
   },
   "outputs": [
    {
     "name": "stdout",
     "output_type": "stream",
     "text": [
      "P50   -     8301\n",
      "P100  -     2205\n",
      "P200  -      866\n",
      "P300  -    10266\n",
      "P3a   -      809\n",
      "P3b   -      801\n",
      "P400  -      269\n",
      "P600  -      545\n",
      "N100  -      914\n",
      "N170  -      942\n",
      "N200  -      604\n",
      "N270  -       56\n",
      "N2pc  -      320\n",
      "N400  -     1887\n",
      "MMN   -     2301\n",
      "LPC   -     2496\n",
      "CNV   -     6455\n",
      "ERN   -      855\n",
      "ELAN  -      229\n",
      "CPS   -     6385\n",
      "LRP   -     3334\n",
      "LDN   -      553\n",
      "ORN   -     2010\n",
      "SEP   -     7281\n"
     ]
    }
   ],
   "source": [
    "# Check how many papers were found for each term - ERPs\n",
    "term_counts.check_counts('erp')"
   ]
  },
  {
   "cell_type": "code",
   "execution_count": 14,
   "metadata": {
    "collapsed": false
   },
   "outputs": [
    {
     "name": "stdout",
     "output_type": "stream",
     "text": [
      "language           -     139451\n",
      "memory             -     218308\n",
      "attention          -     344657\n",
      "motor              -     359396\n",
      "decision making    -     153343\n",
      "vision             -     138337\n",
      "auditory           -     116152\n",
      "emotion            -      27782\n",
      "categorization     -      11693\n",
      "reward             -      32414\n",
      "spatial            -     229424\n",
      "somatosensory      -      34840\n",
      "cognitive          -     260918\n",
      "awareness          -     113128\n",
      "tactile            -      14325\n",
      "pain               -     569009\n",
      "learning           -     281786\n",
      "reasoning          -      16757\n",
      "social             -     608721\n",
      "action             -     671741\n"
     ]
    }
   ],
   "source": [
    "# Check how many papers were found for each term - COGs\n",
    "term_counts.check_counts('term')"
   ]
  },
  {
   "cell_type": "code",
   "execution_count": 15,
   "metadata": {
    "collapsed": false
   },
   "outputs": [],
   "source": [
    "# Save pickle file of results\n",
    "term_counts.save_pickle()"
   ]
  },
  {
   "cell_type": "code",
   "execution_count": 16,
   "metadata": {
    "collapsed": false
   },
   "outputs": [],
   "source": [
    "# Load from pickle file\n",
    "term_counts = load_pickle_counts()"
   ]
  },
  {
   "cell_type": "markdown",
   "metadata": {},
   "source": [
    "## WORD ANALYSIS\n",
    "\n",
    "This analysis searches through pubmed for papers that mention specific ERPs. It then scrapes the titles, words, and years of all those papers such that this data can be used for further analysis. "
   ]
  },
  {
   "cell_type": "code",
   "execution_count": 6,
   "metadata": {
    "collapsed": false
   },
   "outputs": [],
   "source": [
    "# Initialize words-analysis object\n",
    "words_analysis = ERPSCWords()"
   ]
  },
  {
   "cell_type": "code",
   "execution_count": 7,
   "metadata": {
    "collapsed": false
   },
   "outputs": [],
   "source": [
    "# Set ERP terms\n",
    "words_analysis.set_erps(erps)"
   ]
  },
  {
   "cell_type": "code",
   "execution_count": 8,
   "metadata": {
    "collapsed": false
   },
   "outputs": [
    {
     "name": "stderr",
     "output_type": "stream",
     "text": [
      "/Users/thomasdonoghue/anaconda/lib/python2.7/site-packages/bs4/__init__.py:166: UserWarning: No parser was explicitly specified, so I'm using the best available HTML parser for this system (\"lxml\"). This usually isn't a problem, but if you run this code on another system, or in a different virtual environment, it may use a different parser and behave differently.\n",
      "\n",
      "To get rid of this warning, change this:\n",
      "\n",
      " BeautifulSoup([your markup])\n",
      "\n",
      "to this:\n",
      "\n",
      " BeautifulSoup([your markup], \"lxml\")\n",
      "\n",
      "  markup_type=markup_type))\n"
     ]
    }
   ],
   "source": [
    "# Scrape word data for all ERP abstracts\n",
    "words_analysis.scrape_data()"
   ]
  },
  {
   "cell_type": "code",
   "execution_count": 9,
   "metadata": {
    "collapsed": false
   },
   "outputs": [],
   "source": [
    "# Combine words from each article together\n",
    "words_analysis.combine_words()"
   ]
  },
  {
   "cell_type": "code",
   "execution_count": 10,
   "metadata": {
    "collapsed": false
   },
   "outputs": [],
   "source": [
    "# Compute frequency distributions for words for each ERP\n",
    "words_analysis.freq_dists()"
   ]
  },
  {
   "cell_type": "code",
   "execution_count": 11,
   "metadata": {
    "collapsed": false
   },
   "outputs": [
    {
     "name": "stdout",
     "output_type": "stream",
     "text": [
      "P50 :  nf-κb , expression , study , sensory , results , increased , may , gating , \n",
      "P600 :  syntactic , processing , semantic , sentences , language , n400 , erp , results , \n"
     ]
    }
   ],
   "source": [
    "# Check which words are most frequency for each ERP\n",
    "words_analysis.check_words(8)"
   ]
  },
  {
   "cell_type": "code",
   "execution_count": 23,
   "metadata": {
    "collapsed": true
   },
   "outputs": [],
   "source": [
    "# Save pickle of word object\n",
    "words_analysis.save_pickle()"
   ]
  },
  {
   "cell_type": "code",
   "execution_count": 24,
   "metadata": {
    "collapsed": true
   },
   "outputs": [],
   "source": [
    "# Load word pickle object\n",
    "words_analysis = load_pickle_words()"
   ]
  },
  {
   "cell_type": "code",
   "execution_count": null,
   "metadata": {
    "collapsed": true
   },
   "outputs": [],
   "source": [
    "\n",
    "\n",
    "\n",
    "\n",
    "\n",
    "\n"
   ]
  },
  {
   "cell_type": "code",
   "execution_count": null,
   "metadata": {
    "collapsed": false
   },
   "outputs": [],
   "source": [
    "# Test Code\n",
    "\n",
    "#page = requests.get('http://eutils.ncbi.nlm.nih.gov/entrez/eutils/esearch.fcgi?db=pubmed&field=word&term=“N270”AND”Language”')\n",
    "#page = requests.get('http://eutils.ncbi.nlm.nih.gov/entrez/eutils/esearch.fcgi?db=pubmed&field=word&term=“P300”&retmax=10')\n",
    "page = requests.get('http://www.ncbi.nlm.nih.gov/pubmed/27354714')\n",
    "\n",
    "page_soup = BeautifulSoup(page.content)\n",
    "\n",
    "#counts = page_soup.find_all('count')\n",
    "\n",
    "#for i in range(0, len(counts)):\n",
    "#    count = counts[i]\n",
    "#    ext = count.text\n",
    "#    print int(ext)\n",
    "\n",
    "art_page = requests.get('http://eutils.ncbi.nlm.nih.gov/entrez/eutils/efetch.fcgi?db=pubmed&retmode=xml&id=' + id_strs)\n",
    "\n",
    "art_page_soup = BeautifulSoup(art_page.content, \"xml\")"
   ]
  },
  {
   "cell_type": "code",
   "execution_count": null,
   "metadata": {
    "collapsed": true
   },
   "outputs": [],
   "source": [
    "aa = ERPC()\n",
    "aa.set_path('Users')"
   ]
  }
 ],
 "metadata": {
  "kernelspec": {
   "display_name": "Python 2",
   "language": "python",
   "name": "python2"
  },
  "language_info": {
   "codemirror_mode": {
    "name": "ipython",
    "version": 2
   },
   "file_extension": ".py",
   "mimetype": "text/x-python",
   "name": "python",
   "nbconvert_exporter": "python",
   "pygments_lexer": "ipython2",
   "version": "2.7.11"
  }
 },
 "nbformat": 4,
 "nbformat_minor": 0
}
