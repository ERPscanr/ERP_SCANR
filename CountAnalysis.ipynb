{
 "cells": [
  {
   "cell_type": "markdown",
   "metadata": {},
   "source": [
    "## ERP SCANR\n",
    "\n",
    "\n",
    "This notebook is the overview notebook for the ERP-SCANR project (erpsc).\n",
    "\n",
    "ERPSC is an attempt to use automated web-scraping and text mining to summarize research on ERPs. \n",
    "\n",
    "Hopefully this project will serve as a type of automated meta-analysis, and also a way to pull out \n",
    "\n",
    "Currently, two approaches:\n",
    "- Co-occurence of terms analysis: check how often pre-selected cognitive terms appear in abstracts with ERP terms. \n",
    "- Words analysis: scrapes for ERP papers, pulls out words in abstracts for analysis. \n",
    "\n",
    "NOTE:\n",
    "- Known issue: Some ERP terms often return papers where the same name is used for something else. Will need some sort of quality control procedure to check that the papers that are scraped actually refer to what is wanted. \n",
    "\n",
    "This notebook is runs and displays the code. The actual code is in the 'erpsc' custom module. "
   ]
  },
  {
   "cell_type": "code",
   "execution_count": 1,
   "metadata": {
    "collapsed": false
   },
   "outputs": [],
   "source": [
    "## Imports\n",
    "\n",
    "# Import custom code\n",
    "from erpsc import *\n",
    "\n",
    "# TEST IMPORTS\n",
    "#import requests\n",
    "#import nltk\n",
    "#from bs4 import BeautifulSoup"
   ]
  },
  {
   "cell_type": "code",
   "execution_count": 2,
   "metadata": {
    "collapsed": false
   },
   "outputs": [],
   "source": [
    "## Things to search through - full set\n",
    "erps = ['P50', 'P100', 'P200', 'P300', 'P3a', 'P3b', 'P400', 'P600', 'N50', 'N100', 'N170', 'N200', 'N2pc', 'N270', \\\n",
    "        'N300', 'N400', 'N600', 'MMN', 'LPC', 'CNV', 'ERN', 'ELAN', 'CPS', 'LRP', 'LDN', 'ORN', 'SEP', 'VsEP']\n",
    "\n",
    "cog_terms = ['language', 'memory', 'attention', 'motor', 'decision making', 'vision', 'pain', \\\n",
    "             'auditory', 'emotion', 'categorization', 'reward', 'spatial', 'somatosensory', 'face', \\\n",
    "             'cognitive', 'awareness', 'tactile', 'pain', 'learning', 'reasoning', 'social', 'action']\n",
    "\n",
    "disease_terms = ['autism', 'schizophrenia', 'parkinson', 'depression', 'anxiety', 'anorexia', 'bipolar', \\\n",
    "                 'psychosis', 'PTSD', 'alzheimer', 'dementia', 'ADHD', 'stroke', ]"
   ]
  },
  {
   "cell_type": "code",
   "execution_count": 2,
   "metadata": {
    "collapsed": true
   },
   "outputs": [],
   "source": [
    "# Small test set of words\n",
    "erps = ['N400', 'P600']\n",
    "cog_terms = ['language', 'memory']"
   ]
  },
  {
   "cell_type": "markdown",
   "metadata": {},
   "source": [
    "## Co-Occurence of Term Analysis\n",
    "\n",
    "This analysis searches through pubmed for papers that contain specified ERP and COG terms. Data extracted is the count of the number of papers with both terms. This is used to infer what cognitive terms each ERP is affiliated with. \n",
    "\n",
    "NOTE:\n",
    "- COG terms here are a somewhat arbitrary selection: need a better set of terms, less arbitrarily selected. "
   ]
  },
  {
   "cell_type": "code",
   "execution_count": 3,
   "metadata": {
    "collapsed": false
   },
   "outputs": [],
   "source": [
    "# Initialize object for term count co-occurences. \n",
    "term_counts = ERPSCCount()\n",
    "\n",
    "# Set erp and cog lists as terms to use\n",
    "term_counts.set_erps(erps)\n",
    "term_counts.set_terms(disease_terms)"
   ]
  },
  {
   "cell_type": "code",
   "execution_count": 4,
   "metadata": {
    "collapsed": false
   },
   "outputs": [
    {
     "name": "stderr",
     "output_type": "stream",
     "text": [
      "/Users/thomasdonoghue/anaconda/lib/python2.7/site-packages/bs4/__init__.py:166: UserWarning: No parser was explicitly specified, so I'm using the best available HTML parser for this system (\"lxml\"). This usually isn't a problem, but if you run this code on another system, or in a different virtual environment, it may use a different parser and behave differently.\n",
      "\n",
      "To get rid of this warning, change this:\n",
      "\n",
      " BeautifulSoup([your markup])\n",
      "\n",
      "to this:\n",
      "\n",
      " BeautifulSoup([your markup], \"lxml\")\n",
      "\n",
      "  markup_type=markup_type))\n"
     ]
    }
   ],
   "source": [
    "# Scrape the co-occurence of terms data\n",
    "term_counts.scrape_data()"
   ]
  },
  {
   "cell_type": "code",
   "execution_count": 5,
   "metadata": {
    "collapsed": false
   },
   "outputs": [
    {
     "name": "stdout",
     "output_type": "stream",
     "text": [
      "For the  P50   the most common association is \t depression with \t %10.71\n",
      "For the  P100  the most common association is \t depression with \t %06.14\n",
      "For the  P200  the most common association is \t depression with \t %09.98\n",
      "For the  P300  the most common association is \t depression with \t %09.15\n",
      "For the  P3a   the most common association is \t schizophrenia with \t %25.03\n",
      "For the  P3b   the most common association is \t depression with \t %27.05\n",
      "For the  P400  the most common association is \t depression with \t %05.42\n",
      "For the  P600  the most common association is \t bipolar    with \t %11.38\n",
      "For the  N50   the most common association is \t depression with \t %02.11\n",
      "For the  N100  the most common association is \t schizophrenia with \t %26.28\n",
      "For the  N170  the most common association is \t anxiety    with \t %20.82\n",
      "For the  N200  the most common association is \t depression with \t %22.78\n",
      "For the  N2pc  the most common association is \t bipolar    with \t %15.45\n",
      "For the  N270  the most common association is \t depression with \t %08.65\n",
      "For the  N300  the most common association is \t anxiety    with \t %15.23\n",
      "For the  N400  the most common association is \t schizophrenia with \t %16.46\n",
      "For the  N600  the most common association is \t stroke     with \t %06.45\n",
      "For the  MMN   the most common association is \t depression with \t %12.98\n",
      "For the  LPC   the most common association is \t stroke     with \t %07.87\n",
      "For the  CNV   the most common association is \t autism     with \t %20.67\n",
      "For the  ERN   the most common association is \t depression with \t %07.05\n",
      "For the  ELAN  the most common association is \t dementia   with \t %34.57\n",
      "For the  CPS   the most common association is \t depression with \t %09.48\n",
      "For the  LRP   the most common association is \t alzheimer  with \t %12.54\n",
      "For the  LDN   the most common association is \t stroke     with \t %10.38\n",
      "For the  ORN   the most common association is \t depression with \t %07.73\n",
      "For the  SEP   the most common association is \t depression with \t %08.34\n",
      "For the  VsEP  the most common association is \t depression with \t %13.56\n"
     ]
    }
   ],
   "source": [
    "# Check the most commonly associated COG term for each ERP\n",
    "term_counts.check_erps()"
   ]
  },
  {
   "cell_type": "code",
   "execution_count": 6,
   "metadata": {
    "collapsed": false
   },
   "outputs": [
    {
     "name": "stdout",
     "output_type": "stream",
     "text": [
      "For  autism               the strongest associated ERP is \t CNV   with \t %20.67\n",
      "For  schizophrenia        the strongest associated ERP is \t N100  with \t %26.28\n",
      "For  parkinson            the strongest associated ERP is \t ELAN  with \t %07.10\n",
      "For  depression           the strongest associated ERP is \t P3b   with \t %27.05\n",
      "For  anxiety              the strongest associated ERP is \t P3b   with \t %21.55\n",
      "For  anorexia             the strongest associated ERP is \t SEP   with \t %01.67\n",
      "For  bipolar              the strongest associated ERP is \t P3b   with \t %20.86\n",
      "For  psychosis            the strongest associated ERP is \t N100  with \t %12.34\n",
      "For  PTSD                 the strongest associated ERP is \t P3b   with \t %03.60\n",
      "For  alzheimer            the strongest associated ERP is \t ELAN  with \t %34.54\n",
      "For  dementia             the strongest associated ERP is \t ELAN  with \t %34.57\n",
      "For  ADHD                 the strongest associated ERP is \t P3b   with \t %12.58\n",
      "For  stroke               the strongest associated ERP is \t ELAN  with \t %16.57\n"
     ]
    }
   ],
   "source": [
    "# Check the most commonly associated ERP for each term\n",
    "term_counts.check_terms()"
   ]
  },
  {
   "cell_type": "code",
   "execution_count": 7,
   "metadata": {
    "collapsed": false
   },
   "outputs": [
    {
     "name": "stdout",
     "output_type": "stream",
     "text": [
      "The most studied ERP is  SEP     with    44007 papers\n",
      "The most studied term is  depression  with   325060  papers\n"
     ]
    }
   ],
   "source": [
    "# Check the terms with the most papers\n",
    "term_counts.check_top()"
   ]
  },
  {
   "cell_type": "code",
   "execution_count": 8,
   "metadata": {
    "collapsed": false
   },
   "outputs": [
    {
     "name": "stdout",
     "output_type": "stream",
     "text": [
      "P50   -    41358\n",
      "P100  -     7535\n",
      "P200  -     2496\n",
      "P300  -    28098\n",
      "P3a   -     1870\n",
      "P3b   -     1582\n",
      "P400  -     1217\n",
      "P600  -      791\n",
      "N50   -     6448\n",
      "N100  -     1507\n",
      "N170  -     1273\n",
      "N200  -     1045\n",
      "N2pc  -      330\n",
      "N270  -      104\n",
      "N300  -      302\n",
      "N400  -     2023\n",
      "N600  -       62\n",
      "MMN   -     8242\n",
      "LPC   -     4703\n",
      "CNV   -    10885\n",
      "ERN   -    15725\n",
      "ELAN  -     5267\n",
      "CPS   -    15524\n",
      "LRP   -     9042\n",
      "LDN   -     1300\n",
      "ORN   -     5461\n",
      "SEP   -    44007\n",
      "VsEP  -       59\n"
     ]
    }
   ],
   "source": [
    "# Check how many papers were found for each term - ERPs\n",
    "term_counts.check_counts('erp')"
   ]
  },
  {
   "cell_type": "code",
   "execution_count": 9,
   "metadata": {
    "collapsed": false
   },
   "outputs": [
    {
     "name": "stdout",
     "output_type": "stream",
     "text": [
      "autism             -      40584\n",
      "schizophrenia      -      87121\n",
      "parkinson          -      39783\n",
      "depression         -     325060\n",
      "anxiety            -     203861\n",
      "anorexia           -      45248\n",
      "bipolar            -      92698\n",
      "psychosis          -      43142\n",
      "PTSD               -      17570\n",
      "alzheimer          -      56020\n",
      "dementia           -      97140\n",
      "ADHD               -      21554\n",
      "stroke             -     235818\n"
     ]
    }
   ],
   "source": [
    "# Check how many papers were found for each term - COGs\n",
    "term_counts.check_counts('term')"
   ]
  },
  {
   "cell_type": "code",
   "execution_count": null,
   "metadata": {
    "collapsed": false
   },
   "outputs": [],
   "source": [
    "# Save pickle file of results\n",
    "term_counts.save_pickle()"
   ]
  },
  {
   "cell_type": "code",
   "execution_count": null,
   "metadata": {
    "collapsed": false
   },
   "outputs": [],
   "source": [
    "# Load from pickle file\n",
    "term_counts = load_pickle_counts()"
   ]
  },
  {
   "cell_type": "code",
   "execution_count": 3,
   "metadata": {
    "collapsed": false
   },
   "outputs": [],
   "source": []
  },
  {
   "cell_type": "code",
   "execution_count": 4,
   "metadata": {
    "collapsed": false
   },
   "outputs": [],
   "source": []
  },
  {
   "cell_type": "code",
   "execution_count": 5,
   "metadata": {
    "collapsed": false,
    "scrolled": true
   },
   "outputs": [
    {
     "name": "stderr",
     "output_type": "stream",
     "text": [
      "/Users/thomasdonoghue/anaconda/lib/python2.7/site-packages/bs4/__init__.py:166: UserWarning: No parser was explicitly specified, so I'm using the best available HTML parser for this system (\"lxml\"). This usually isn't a problem, but if you run this code on another system, or in a different virtual environment, it may use a different parser and behave differently.\n",
      "\n",
      "To get rid of this warning, change this:\n",
      "\n",
      " BeautifulSoup([your markup])\n",
      "\n",
      "to this:\n",
      "\n",
      " BeautifulSoup([your markup], \"lxml\")\n",
      "\n",
      "  markup_type=markup_type))\n"
     ]
    }
   ],
   "source": []
  },
  {
   "cell_type": "code",
   "execution_count": 6,
   "metadata": {
    "collapsed": false
   },
   "outputs": [],
   "source": []
  },
  {
   "cell_type": "code",
   "execution_count": 7,
   "metadata": {
    "collapsed": false
   },
   "outputs": [],
   "source": []
  },
  {
   "cell_type": "code",
   "execution_count": 8,
   "metadata": {
    "collapsed": false
   },
   "outputs": [
    {
     "name": "stdout",
     "output_type": "stream",
     "text": [
      "N400 :  semantic , processing , words , effect , word , results , event-related , effects , erp , study , language , participants , related , priming , showed , elicited , two , potentials , brain , information , \n",
      "P600 :  syntactic , processing , semantic , language , results , sentences , n400 , erp , event-related , elicited , sentence , effect , violations , study , effects , brain , word , two , processes , potentials , \n"
     ]
    }
   ],
   "source": []
  },
  {
   "cell_type": "code",
   "execution_count": null,
   "metadata": {
    "collapsed": true
   },
   "outputs": [],
   "source": []
  },
  {
   "cell_type": "code",
   "execution_count": null,
   "metadata": {
    "collapsed": true
   },
   "outputs": [],
   "source": []
  },
  {
   "cell_type": "code",
   "execution_count": 10,
   "metadata": {
    "collapsed": true
   },
   "outputs": [],
   "source": [
    "# Make a wordcloud\n",
    "from wordcloud import WordCloud\n",
    "import matplotlib.pyplot as plt\n",
    "%matplotlib inline"
   ]
  },
  {
   "cell_type": "code",
   "execution_count": 13,
   "metadata": {
    "collapsed": false
   },
   "outputs": [
    {
     "ename": "UnicodeEncodeError",
     "evalue": "'decimal' codec can't encode character u'\\u223c' in position 0: invalid decimal Unicode string",
     "output_type": "error",
     "traceback": [
      "\u001b[0;31m---------------------------------------------------------------------------\u001b[0m",
      "\u001b[0;31mUnicodeEncodeError\u001b[0m                        Traceback (most recent call last)",
      "\u001b[0;32m<ipython-input-13-18ae95a1d8bf>\u001b[0m in \u001b[0;36m<module>\u001b[0;34m()\u001b[0m\n\u001b[0;32m----> 1\u001b[0;31m \u001b[0mwordcloud\u001b[0m \u001b[0;34m=\u001b[0m \u001b[0mWordCloud\u001b[0m\u001b[0;34m(\u001b[0m\u001b[0;34m)\u001b[0m\u001b[0;34m.\u001b[0m\u001b[0mgenerate_from_frequencies\u001b[0m\u001b[0;34m(\u001b[0m\u001b[0mwords_analysis\u001b[0m\u001b[0;34m.\u001b[0m\u001b[0mresults\u001b[0m\u001b[0;34m[\u001b[0m\u001b[0;36m0\u001b[0m\u001b[0;34m]\u001b[0m\u001b[0;34m.\u001b[0m\u001b[0mfreqs\u001b[0m\u001b[0;34m)\u001b[0m\u001b[0;34m\u001b[0m\u001b[0m\n\u001b[0m",
      "\u001b[0;32m/Users/thomasdonoghue/anaconda/lib/python2.7/site-packages/wordcloud/wordcloud.pyc\u001b[0m in \u001b[0;36mgenerate_from_frequencies\u001b[0;34m(self, frequencies)\u001b[0m\n\u001b[1;32m    269\u001b[0m         \u001b[0mfrequencies\u001b[0m \u001b[0;34m=\u001b[0m \u001b[0mfrequencies\u001b[0m\u001b[0;34m[\u001b[0m\u001b[0;34m:\u001b[0m\u001b[0mself\u001b[0m\u001b[0;34m.\u001b[0m\u001b[0mmax_words\u001b[0m\u001b[0;34m]\u001b[0m\u001b[0;34m\u001b[0m\u001b[0m\n\u001b[1;32m    270\u001b[0m         \u001b[0;31m# largest entry will be 1\u001b[0m\u001b[0;34m\u001b[0m\u001b[0;34m\u001b[0m\u001b[0m\n\u001b[0;32m--> 271\u001b[0;31m         \u001b[0mmax_frequency\u001b[0m \u001b[0;34m=\u001b[0m \u001b[0mfloat\u001b[0m\u001b[0;34m(\u001b[0m\u001b[0mfrequencies\u001b[0m\u001b[0;34m[\u001b[0m\u001b[0;36m0\u001b[0m\u001b[0;34m]\u001b[0m\u001b[0;34m[\u001b[0m\u001b[0;36m1\u001b[0m\u001b[0;34m]\u001b[0m\u001b[0;34m)\u001b[0m\u001b[0;34m\u001b[0m\u001b[0m\n\u001b[0m\u001b[1;32m    272\u001b[0m \u001b[0;34m\u001b[0m\u001b[0m\n\u001b[1;32m    273\u001b[0m         \u001b[0mfrequencies\u001b[0m \u001b[0;34m=\u001b[0m \u001b[0;34m[\u001b[0m\u001b[0;34m(\u001b[0m\u001b[0mword\u001b[0m\u001b[0;34m,\u001b[0m \u001b[0mfreq\u001b[0m \u001b[0;34m/\u001b[0m \u001b[0mmax_frequency\u001b[0m\u001b[0;34m)\u001b[0m \u001b[0;32mfor\u001b[0m \u001b[0mword\u001b[0m\u001b[0;34m,\u001b[0m \u001b[0mfreq\u001b[0m \u001b[0;32min\u001b[0m \u001b[0mfrequencies\u001b[0m\u001b[0;34m]\u001b[0m\u001b[0;34m\u001b[0m\u001b[0m\n",
      "\u001b[0;31mUnicodeEncodeError\u001b[0m: 'decimal' codec can't encode character u'\\u223c' in position 0: invalid decimal Unicode string"
     ]
    }
   ],
   "source": [
    "wordcloud = WordCloud().generate_from_frequencies(words_analysis.results[0].freqs)"
   ]
  },
  {
   "cell_type": "code",
   "execution_count": 24,
   "metadata": {
    "collapsed": false
   },
   "outputs": [
    {
     "data": {
      "image/png": "[encoded data removed]",
      "text/plain": [
       "<matplotlib.figure.Figure at 0x13ae210d0>"
      ]
     },
     "metadata": {},
     "output_type": "display_data"
    }
   ],
   "source": [
    "type(words_analysis.results[0].freqs)\n",
    "\n",
    "words_analysis.results[0].freqs.plot(500)"
   ]
  },
  {
   "cell_type": "code",
   "execution_count": null,
   "metadata": {
    "collapsed": true
   },
   "outputs": [],
   "source": [
    "words_analysis.results[0].freqs"
   ]
  },
  {
   "cell_type": "code",
   "execution_count": null,
   "metadata": {
    "collapsed": true
   },
   "outputs": [],
   "source": [
    "\n",
    "\n",
    "\n",
    "\n",
    "\n",
    "\n"
   ]
  },
  {
   "cell_type": "markdown",
   "metadata": {},
   "source": [
    "## Test Code"
   ]
  },
  {
   "cell_type": "code",
   "execution_count": null,
   "metadata": {
    "collapsed": false
   },
   "outputs": [],
   "source": [
    "\n",
    "#page = requests.get('http://eutils.ncbi.nlm.nih.gov/entrez/eutils/esearch.fcgi?db=pubmed&field=word&term=“N270”AND”Language”')\n",
    "#page = requests.get('http://eutils.ncbi.nlm.nih.gov/entrez/eutils/esearch.fcgi?db=pubmed&field=word&term=“P300”&retmax=10')\n",
    "page = requests.get('http://www.ncbi.nlm.nih.gov/pubmed/27354714')\n",
    "\n",
    "page_soup = BeautifulSoup(page.content)\n",
    "\n",
    "#counts = page_soup.find_all('count')\n",
    "\n",
    "#for i in range(0, len(counts)):\n",
    "#    count = counts[i]\n",
    "#    ext = count.text\n",
    "#    print int(ext)\n",
    "\n",
    "art_page = requests.get('http://eutils.ncbi.nlm.nih.gov/entrez/eutils/efetch.fcgi?db=pubmed&retmode=xml&id=' + id_strs)\n",
    "\n",
    "art_page_soup = BeautifulSoup(art_page.content, \"xml\")"
   ]
  },
  {
   "cell_type": "code",
   "execution_count": null,
   "metadata": {
    "collapsed": true
   },
   "outputs": [],
   "source": [
    "aa = ERPC()\n",
    "aa.set_path('Users')"
   ]
  }
 ],
 "metadata": {
  "kernelspec": {
   "display_name": "Python 2",
   "language": "python",
   "name": "python2"
  },
  "language_info": {
   "codemirror_mode": {
    "name": "ipython",
    "version": 2
   },
   "file_extension": ".py",
   "mimetype": "text/x-python",
   "name": "python",
   "nbconvert_exporter": "python",
   "pygments_lexer": "ipython2",
   "version": "2.7.11"
  }
 },
 "nbformat": 4,
 "nbformat_minor": 0
}
