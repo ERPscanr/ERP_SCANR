{
 "cells": [
  {
   "cell_type": "markdown",
   "metadata": {},
   "source": [
    "## ERP SCANR\n",
    "\n",
    "\n",
    "This notebook is the overview notebook for the ERP-SCANR project (erpsc).\n",
    "\n",
    "ERPSC is an attempt to use automated web-scraping and text mining to summarize research on ERPs. Hopefully this project will serve as a type of automated meta-analysis, and also a way to pull out patterns in ERP research.\n",
    "\n",
    "NOTE:\n",
    "- Known issue: Some ERP terms often return papers where the same name is used for something else. Will need some sort of quality control procedure to check that the papers that are scraped actually refer to what is wanted. \n",
    "\n",
    "These notebooks just run the code and display results. The actual code is in the 'erpsc' custom module. "
   ]
  },
  {
   "cell_type": "code",
   "execution_count": 1,
   "metadata": {
    "collapsed": true
   },
   "outputs": [],
   "source": [
    "# Import custom code\n",
    "from erpsc.gen import *"
   ]
  },
  {
   "cell_type": "code",
   "execution_count": 2,
   "metadata": {
    "collapsed": true
   },
   "outputs": [],
   "source": [
    "# Load a test object to test all terms\n",
    "check = ERPSCBase()"
   ]
  },
  {
   "cell_type": "code",
   "execution_count": 3,
   "metadata": {
    "collapsed": false
   },
   "outputs": [],
   "source": [
    "# Load erps and terms from file\n",
    "check.set_erps_file('erps.txt')\n",
    "check.set_terms_file('cognitive_terms.txt')"
   ]
  },
  {
   "cell_type": "code",
   "execution_count": 4,
   "metadata": {
    "collapsed": false
   },
   "outputs": [
    {
     "name": "stdout",
     "output_type": "stream",
     "text": [
      "List of ERPs used: \n",
      "\n",
      "P50\n",
      "P100, P1\n",
      "P200, P2\n",
      "P300, P3\n",
      "P3a\n",
      "P3b\n",
      "P400\n",
      "P600\n",
      "N50\n",
      "N100, N1\n",
      "N170\n",
      "N200, N2\n",
      "MMN, mismatch negativity, N2a\n",
      "N2b\n",
      "N2c\n",
      "N270\n",
      "N2pc\n",
      "N300\n",
      "N400\n",
      "N600\n",
      "LPC, late positive component\n",
      "MRPC, movement-related cortical potential\n",
      "CNV, contingent negative variation\n",
      "PINV, post-imperative negative variation\n",
      "ERN, error related negativity\n",
      "ELAN, early left anterior negativity\n",
      "CPS, closure positive shift\n",
      "LRP, lateralized readiness potential\n",
      "LDN, late difference negativity\n",
      "ORN, object related negativity\n",
      "SEP, somatosensory evoked potential\n",
      "VsEP, vestibular evoked potential\n"
     ]
    }
   ],
   "source": [
    "# Check the ERPs that are being used. Entries in the same line as used as synonyms.\n",
    "check.check_erps()"
   ]
  },
  {
   "cell_type": "code",
   "execution_count": 5,
   "metadata": {
    "collapsed": false
   },
   "outputs": [
    {
     "name": "stdout",
     "output_type": "stream",
     "text": [
      "List of terms used: \n",
      "\n",
      "language\n",
      "memory\n",
      "attention\n",
      "motor\n",
      "decision making\n",
      "vision\n",
      "pain\n",
      "auditory\n",
      "emotion\n",
      "categorization\n",
      "reward\n",
      "spatial\n",
      "somatosensory\n",
      "face\n",
      "cognitive\n",
      "awareness\n",
      "tactile\n",
      "pain\n",
      "learning\n",
      "reasoning\n",
      "social\n"
     ]
    }
   ],
   "source": [
    "# Check the terms used\n",
    "check.check_terms()"
   ]
  },
  {
   "cell_type": "code",
   "execution_count": null,
   "metadata": {
    "collapsed": true
   },
   "outputs": [],
   "source": []
  },
  {
   "cell_type": "code",
   "execution_count": null,
   "metadata": {
    "collapsed": true
   },
   "outputs": [],
   "source": []
  }
 ],
 "metadata": {
  "kernelspec": {
   "display_name": "Python 2",
   "language": "python",
   "name": "python2"
  },
  "language_info": {
   "codemirror_mode": {
    "name": "ipython",
    "version": 2
   },
   "file_extension": ".py",
   "mimetype": "text/x-python",
   "name": "python",
   "nbconvert_exporter": "python",
   "pygments_lexer": "ipython2",
   "version": "2.7.11"
  }
 },
 "nbformat": 4,
 "nbformat_minor": 0
}
