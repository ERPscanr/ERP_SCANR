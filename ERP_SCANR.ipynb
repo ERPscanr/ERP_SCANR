{
 "cells": [
  {
   "cell_type": "markdown",
   "metadata": {},
   "source": [
    "## ERP SCANR\n",
    "\n",
    "\n",
    "."
   ]
  },
  {
   "cell_type": "code",
   "execution_count": 7,
   "metadata": {
    "collapsed": false
   },
   "outputs": [],
   "source": [
    "## Imports\n",
    "\n",
    "# Import custom code\n",
    "from erpsc import *\n",
    "\n",
    "# TEST IMPORTS\n",
    "import requests\n",
    "from bs4 import BeautifulSoup"
   ]
  },
  {
   "cell_type": "code",
   "execution_count": 2,
   "metadata": {
    "collapsed": false
   },
   "outputs": [],
   "source": [
    "## Things to search through\n",
    "erps = ['P50', 'P100', 'P200', 'P300', 'P3a', 'P3b', 'P600', 'N100', 'N170', 'N200',\\\n",
    "         'N270', 'N2pc', 'N400', 'MMN', 'LPC', 'CNV', 'ERN', 'ELAN', 'CPS', 'LRP', 'LDN']\n",
    "cogs = ['language', 'memory', 'attention', 'motor', 'decision making', 'vision', \\\n",
    "         'auditory', 'emotion', 'categorization', 'reward', 'spatial']"
   ]
  },
  {
   "cell_type": "code",
   "execution_count": 3,
   "metadata": {
    "collapsed": true
   },
   "outputs": [],
   "source": [
    "# Initialize object for term count co-occurences. \n",
    "t_counts = ERPSC_Count()\n",
    "\n",
    "# Set erp and cog lists as terms to use\n",
    "t_counts.set_erps(erps)\n",
    "t_counts.set_cogs(cogs)"
   ]
  },
  {
   "cell_type": "code",
   "execution_count": 4,
   "metadata": {
    "collapsed": false
   },
   "outputs": [],
   "source": [
    "# Scrape the co-occurence of terms data\n",
    "t_counts.scrape_data()"
   ]
  },
  {
   "cell_type": "code",
   "execution_count": 5,
   "metadata": {
    "collapsed": false
   },
   "outputs": [
    {
     "name": "stdout",
     "output_type": "stream",
     "text": [
      "For the  P50   the most common association is \t auditory   with \t %06.73\n",
      "For the  P100  the most common association is \t vision     with \t %09.73\n",
      "For the  P200  the most common association is \t auditory   with \t %32.86\n",
      "For the  P300  the most common association is \t auditory   with \t %20.98\n",
      "For the  P3a   the most common association is \t auditory   with \t %51.85\n",
      "For the  P3b   the most common association is \t attention  with \t %41.66\n",
      "For the  P600  the most common association is \t language   with \t %55.43\n",
      "For the  N100  the most common association is \t auditory   with \t %63.75\n",
      "For the  N170  the most common association is \t attention  with \t %19.07\n",
      "For the  N200  the most common association is \t auditory   with \t %34.81\n",
      "For the  N270  the most common association is \t attention  with \t %30.36\n",
      "For the  N2pc  the most common association is \t attention  with \t %88.59\n",
      "For the  N400  the most common association is \t language   with \t %43.17\n",
      "For the  MMN   the most common association is \t auditory   with \t %68.71\n",
      "For the  LPC   the most common association is \t memory     with \t %04.53\n",
      "For the  CNV   the most common association is \t vision     with \t %10.23\n",
      "For the  ERN   the most common association is \t attention  with \t %14.90\n",
      "For the  ELAN  the most common association is \t language   with \t %12.89\n",
      "For the  CPS   the most common association is \t spatial    with \t %02.09\n",
      "For the  LRP   the most common association is \t motor      with \t %04.45\n",
      "For the  LDN   the most common association is \t auditory   with \t %05.40\n"
     ]
    }
   ],
   "source": [
    "# Check the most commonly associated COG term for each ERP\n",
    "t_counts.check_erps()"
   ]
  },
  {
   "cell_type": "code",
   "execution_count": 6,
   "metadata": {
    "collapsed": false
   },
   "outputs": [
    {
     "name": "stdout",
     "output_type": "stream",
     "text": [
      "For  language             the strongest associated ERP is \t P600  with \t %55.43\n",
      "For  memory               the strongest associated ERP is \t N400  with \t %22.26\n",
      "For  attention            the strongest associated ERP is \t N2pc  with \t %88.59\n",
      "For  motor                the strongest associated ERP is \t MMN   with \t %14.46\n",
      "For  decision making      the strongest associated ERP is \t ERN   with \t %05.05\n",
      "For  vision               the strongest associated ERP is \t CNV   with \t %10.23\n",
      "For  auditory             the strongest associated ERP is \t MMN   with \t %68.71\n",
      "For  emotion              the strongest associated ERP is \t N170  with \t %15.93\n",
      "For  categorization       the strongest associated ERP is \t N170  with \t %07.37\n",
      "For  reward               the strongest associated ERP is \t ERN   with \t %06.49\n",
      "For  spatial              the strongest associated ERP is \t N2pc  with \t %36.91\n"
     ]
    }
   ],
   "source": [
    "# Check the most commonly associated ERP term for each COG\n",
    "t_counts.check_cogs()"
   ]
  },
  {
   "cell_type": "code",
   "execution_count": 7,
   "metadata": {
    "collapsed": false
   },
   "outputs": [
    {
     "name": "stdout",
     "output_type": "stream",
     "text": [
      "The most studied ERP is  P300    with    10069 papers\n",
      "The most studied COG is  motor   with   352132  papers\n"
     ]
    }
   ],
   "source": [
    "# Check the terms with the most papers\n",
    "t_counts.check_top()"
   ]
  },
  {
   "cell_type": "code",
   "execution_count": 8,
   "metadata": {
    "collapsed": false
   },
   "outputs": [
    {
     "name": "stdout",
     "output_type": "stream",
     "text": [
      "P50   -     8172\n",
      "P100  -     2169\n",
      "P200  -      852\n",
      "P300  -    10069\n",
      "P3a   -      783\n",
      "P3b   -      773\n",
      "P600  -      534\n",
      "N100  -      902\n",
      "N170  -      923\n",
      "N200  -      586\n",
      "N270  -       56\n",
      "N2pc  -      298\n",
      "N400  -     1846\n",
      "MMN   -     2234\n",
      "LPC   -     2430\n",
      "CNV   -     6229\n",
      "ERN   -      832\n",
      "ELAN  -      225\n",
      "CPS   -     6176\n",
      "LRP   -     3279\n",
      "LDN   -      537\n"
     ]
    }
   ],
   "source": [
    "# Check how many papers were found for each term - ERPs\n",
    "t_counts.check_counts('erp')"
   ]
  },
  {
   "cell_type": "code",
   "execution_count": 9,
   "metadata": {
    "collapsed": false
   },
   "outputs": [
    {
     "name": "stdout",
     "output_type": "stream",
     "text": [
      "language           -     135517\n",
      "memory             -     212937\n",
      "attention          -     335669\n",
      "motor              -     352132\n",
      "decision making    -     148987\n",
      "vision             -     135690\n",
      "auditory           -     114362\n",
      "emotion            -      26612\n",
      "categorization     -      11354\n",
      "reward             -      31388\n",
      "spatial            -     223335\n"
     ]
    }
   ],
   "source": [
    "# Check how many papers were found for each term - COGs\n",
    "t_counts.check_counts('cog')"
   ]
  },
  {
   "cell_type": "code",
   "execution_count": null,
   "metadata": {
    "collapsed": true
   },
   "outputs": [],
   "source": [
    "\n",
    "\n",
    "\n",
    "\n",
    "\n",
    "\n",
    "\n"
   ]
  },
  {
   "cell_type": "code",
   "execution_count": 8,
   "metadata": {
    "collapsed": false
   },
   "outputs": [
    {
     "name": "stdout",
     "output_type": "stream",
     "text": [
      "8172\n",
      "8172\n"
     ]
    }
   ],
   "source": [
    "# Test Code\n",
    "\n",
    "#page = requests.get('http://eutils.ncbi.nlm.nih.gov/entrez/eutils/esearch.fcgi?db=pubmed&field=word&term=“N270”AND”Language”')\n",
    "page = requests.get('http://eutils.ncbi.nlm.nih.gov/entrez/eutils/esearch.fcgi?db=pubmed&field=word&term=“P50”&retmax=50')\n",
    "\n",
    "page_soup = BeautifulSoup(page.content)\n",
    "\n",
    "counts = page_soup.find_all('count')\n",
    "\n",
    "for i in range(0, len(counts)):\n",
    "    count = counts[i]\n",
    "    ext = count.text\n",
    "    print int(ext)"
   ]
  },
  {
   "cell_type": "code",
   "execution_count": 9,
   "metadata": {
    "collapsed": false
   },
   "outputs": [
    {
     "data": {
      "text/plain": [
       "<!DOCTYPE eSearchResult PUBLIC \"-//NLM//DTD esearch 20060628//EN\" \"http://eutils.ncbi.nlm.nih.gov/eutils/dtd/20060628/esearch.dtd\">\n",
       "<html><body><esearchresult><count>8172</count><retmax>50</retmax><retstart>0</retstart><idlist>\n",
       "<id>27302421</id>\n",
       "<id>27295376</id>\n",
       "<id>27290699</id>\n",
       "<id>27287810</id>\n",
       "<id>27281270</id>\n",
       "<id>27279585</id>\n",
       "<id>27271273</id>\n",
       "<id>27268961</id>\n",
       "<id>27264783</id>\n",
       "<id>27264614</id>\n",
       "<id>27262063</id>\n",
       "<id>27256734</id>\n",
       "<id>27256730</id>\n",
       "<id>27252578</id>\n",
       "<id>27250735</id>\n",
       "<id>27243897</id>\n",
       "<id>27242078</id>\n",
       "<id>27242072</id>\n",
       "<id>27238796</id>\n",
       "<id>27234131</id>\n",
       "<id>27217271</id>\n",
       "<id>27216047</id>\n",
       "<id>27198178</id>\n",
       "<id>27197825</id>\n",
       "<id>27197812</id>\n",
       "<id>27194765</id>\n",
       "<id>27190325</id>\n",
       "<id>27183665</id>\n",
       "<id>27180104</id>\n",
       "<id>27178864</id>\n",
       "<id>27178167</id>\n",
       "<id>27176922</id>\n",
       "<id>27168850</id>\n",
       "<id>27168061</id>\n",
       "<id>27162449</id>\n",
       "<id>27161000</id>\n",
       "<id>27147748</id>\n",
       "<id>27145282</id>\n",
       "<id>27141897</id>\n",
       "<id>27139571</id>\n",
       "<id>27138602</id>\n",
       "<id>27132515</id>\n",
       "<id>27126340</id>\n",
       "<id>27122325</id>\n",
       "<id>27118659</id>\n",
       "<id>27108556</id>\n",
       "<id>27101794</id>\n",
       "<id>27098223</id>\n",
       "<id>27098148</id>\n",
       "<id>27093900</id>\n",
       "</idlist><translationset></translationset><translationstack> <termset> <term>\"P50\"[Text Word]</term> <field>Text Word</field> <count>8172</count> <explode>N</explode> </termset> <op>GROUP</op> </translationstack><querytranslation>\"P50\"[Text Word]</querytranslation></esearchresult>\n",
       "</body></html>"
      ]
     },
     "execution_count": 9,
     "metadata": {},
     "output_type": "execute_result"
    }
   ],
   "source": [
    "page_soup"
   ]
  },
  {
   "cell_type": "code",
   "execution_count": 10,
   "metadata": {
    "collapsed": true
   },
   "outputs": [],
   "source": [
    "aa = page_soup.find_all('id')"
   ]
  },
  {
   "cell_type": "code",
   "execution_count": 13,
   "metadata": {
    "collapsed": false
   },
   "outputs": [
    {
     "data": {
      "text/plain": [
       "u'27295376'"
      ]
     },
     "execution_count": 13,
     "metadata": {},
     "output_type": "execute_result"
    }
   ],
   "source": [
    "aa[1].text"
   ]
  },
  {
   "cell_type": "code",
   "execution_count": null,
   "metadata": {
    "collapsed": true
   },
   "outputs": [],
   "source": []
  },
  {
   "cell_type": "code",
   "execution_count": null,
   "metadata": {
    "collapsed": true
   },
   "outputs": [],
   "source": []
  },
  {
   "cell_type": "code",
   "execution_count": null,
   "metadata": {
    "collapsed": true
   },
   "outputs": [],
   "source": []
  }
 ],
 "metadata": {
  "kernelspec": {
   "display_name": "Python 2",
   "language": "python",
   "name": "python2"
  },
  "language_info": {
   "codemirror_mode": {
    "name": "ipython",
    "version": 2
   },
   "file_extension": ".py",
   "mimetype": "text/x-python",
   "name": "python",
   "nbconvert_exporter": "python",
   "pygments_lexer": "ipython2",
   "version": "2.7.11"
  }
 },
 "nbformat": 4,
 "nbformat_minor": 0
}
