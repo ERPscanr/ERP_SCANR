{
 "cells": [
  {
   "cell_type": "code",
   "execution_count": 1,
   "metadata": {
    "collapsed": false
   },
   "outputs": [],
   "source": [
    "## Imports\n",
    "\n",
    "#Web Data Packages\n",
    "#import lxml         \n",
    "import requests         \n",
    "from bs4 import BeautifulSoup\n",
    "\n",
    "# Other Packages\n",
    "import numpy as np\n",
    "from __future__ import division"
   ]
  },
  {
   "cell_type": "code",
   "execution_count": 2,
   "metadata": {
    "collapsed": false
   },
   "outputs": [],
   "source": [
    "## Things to search through\n",
    "erps = ['P50', 'P100', 'P200', 'P300', 'P3a', 'P3b', 'P600', 'N100', 'N170', 'N200', 'N2pc', 'N400', 'MMN', 'LPC', 'CNV', 'ERN', 'ELAN', 'CPS', 'LRP']\n",
    "cogs = ['language', 'memory', 'attention', 'motor', 'decision making', 'vision', 'auditory', 'emotion', 'categorization', 'reward', 'spatial']"
   ]
  },
  {
   "cell_type": "code",
   "execution_count": 3,
   "metadata": {
    "collapsed": false
   },
   "outputs": [],
   "source": [
    "## Initialize Things\n",
    "\n",
    "# Front part of the e-search url\n",
    "url_front = 'http://eutils.ncbi.nlm.nih.gov/entrez/eutils/esearch.fcgi?db=pubmed&field=word&term='\n",
    "\n",
    "# Get number of ERPs & COGs to search\n",
    "nERPs = len(erps)\n",
    "nCOGs = len(cogs)\n",
    "\n",
    "# Initialize vectors to store number of papers for ERPs and COGs\n",
    "ERP_papers = np.zeros([nERPs])\n",
    "COG_papers = np.zeros([nCOGs])\n",
    "\n",
    "# Initialize matrices to store data\n",
    "dat_numbers = np.zeros([nERPs, nCOGs])\n",
    "dat_percent = np.zeros([nERPs, nCOGs])"
   ]
  },
  {
   "cell_type": "code",
   "execution_count": 4,
   "metadata": {
    "collapsed": false
   },
   "outputs": [],
   "source": [
    "##\n",
    "\n",
    "for erp in erps:\n",
    "    for cog in cogs:\n",
    "        \n",
    "        # Get inds of current erp & cog\n",
    "        erp_ind = erps.index(erp)\n",
    "        cog_ind = cogs.index(cog)\n",
    "        \n",
    "        # Exact term version\n",
    "        url = url_front + '\"' + erp + '\"AND\"' + cog + '\"'\n",
    "        \n",
    "        # Non-exact term version\n",
    "        #url = url_front + erp + ' erp ' + cog\n",
    "        \n",
    "        # Pull the page, and parse with BS\n",
    "        page = requests.get(url)\n",
    "        page_soup = BeautifulSoup(page.content)\n",
    "        \n",
    "        # Get all 'count' tags\n",
    "        counts = page_soup.find_all('count')\n",
    "        \n",
    "        # Initialize empty temporary vector to hold counts\n",
    "        vec = []\n",
    "        \n",
    "        # Loop through counts, extracting into vec\n",
    "        for i in range(0, len(counts)):\n",
    "            count = counts[i]\n",
    "            ext = count.text\n",
    "            vec.append(int(ext))\n",
    "        \n",
    "        # Add the total number of papers for erp & cog\n",
    "        ERP_papers[erp_ind] = vec[1]\n",
    "        COG_papers[cog_ind] = vec[2]\n",
    "        \n",
    "        # Add the number & percent of overlapping papers\n",
    "        dat_numbers[erp_ind, cog_ind] = vec[0]\n",
    "        dat_percent[erp_ind, cog_ind] = vec[0]/vec[1]"
   ]
  },
  {
   "cell_type": "code",
   "execution_count": 5,
   "metadata": {
    "collapsed": false
   },
   "outputs": [
    {
     "name": "stdout",
     "output_type": "stream",
     "text": [
      "For the  P50   the most common association is  auditory   with %06.75\n",
      "For the  P100  the most common association is  vision     with %09.64\n",
      "For the  P200  the most common association is  auditory   with %32.81\n",
      "For the  P300  the most common association is  auditory   with %21.08\n",
      "For the  P3a   the most common association is  auditory   with %52.21\n",
      "For the  P3b   the most common association is  attention  with %41.28\n",
      "For the  P600  the most common association is  language   with %55.66\n",
      "For the  N100  the most common association is  auditory   with %63.83\n",
      "For the  N170  the most common association is  attention  with %19.37\n",
      "For the  N200  the most common association is  auditory   with %35.27\n",
      "For the  N2pc  the most common association is  attention  with %87.37\n",
      "For the  N400  the most common association is  language   with %43.10\n",
      "For the  MMN   the most common association is  auditory   with %68.75\n",
      "For the  LPC   the most common association is  memory     with %04.44\n",
      "For the  CNV   the most common association is  vision     with %10.18\n",
      "For the  ERN   the most common association is  attention  with %14.82\n",
      "For the  ELAN  the most common association is  language   with %12.95\n",
      "For the  CPS   the most common association is  spatial    with %02.10\n",
      "For the  LRP   the most common association is  motor      with %04.41\n"
     ]
    }
   ],
   "source": [
    "# Print strongest association for each ERP\n",
    "for erp in erps:\n",
    "    \n",
    "    erp_ind = erps.index(erp)\n",
    "    cog_ind = np.argmax(dat_percent[erp_ind, :])\n",
    "\n",
    "    print 'For the  {:5} the most common association is  {:10} with %{:05.2f}'.format(erp, cogs[cog_ind], dat_percent[erp_ind, cog_ind]*100)"
   ]
  },
  {
   "cell_type": "code",
   "execution_count": 6,
   "metadata": {
    "collapsed": false
   },
   "outputs": [
    {
     "name": "stdout",
     "output_type": "stream",
     "text": [
      "For  language             the strongest associated ERP is   P600  with   %55.66\n",
      "For  memory               the strongest associated ERP is   N400  with   %22.27\n",
      "For  attention            the strongest associated ERP is   N2pc  with   %87.37\n",
      "For  motor                the strongest associated ERP is   MMN   with   %14.37\n",
      "For  decision making      the strongest associated ERP is   ERN   with   %05.15\n",
      "For  vision               the strongest associated ERP is   CNV   with   %10.18\n",
      "For  auditory             the strongest associated ERP is   MMN   with   %68.75\n",
      "For  emotion              the strongest associated ERP is   N170  with   %15.54\n",
      "For  categorization       the strongest associated ERP is   N170  with   %07.55\n",
      "For  reward               the strongest associated ERP is   ERN   with   %06.41\n",
      "For  spatial              the strongest associated ERP is   N2pc  with   %36.52\n"
     ]
    }
   ],
   "source": [
    "# Print strongest associated ERP for each COG\n",
    "for cog in cogs:\n",
    "    \n",
    "    cog_ind = cogs.index(cog)\n",
    "    erp_ind = np.argmax(dat_percent[:, cog_ind])\n",
    "    \n",
    "    print 'For  {:20} the strongest associated ERP is   {:5} with   %{:05.2f}'.format(cog, erps[erp_ind], dat_percent[erp_ind, cog_ind]*100)"
   ]
  },
  {
   "cell_type": "code",
   "execution_count": 7,
   "metadata": {
    "collapsed": false
   },
   "outputs": [
    {
     "name": "stdout",
     "output_type": "stream",
     "text": [
      "The most studied ERP is  P300    with      9865  papers\n",
      "The most studied COG is  motor   with    345239  papers\n"
     ]
    }
   ],
   "source": [
    "print 'The most studied ERP is  {:6}  with  {:8.0f}  papers'.format(erps[np.argmax(ERP_papers)], ERP_papers[np.argmax(ERP_papers)])\n",
    "print 'The most studied COG is  {:6}  with  {:8.0f}  papers'.format(cogs[np.argmax(COG_papers)], COG_papers[np.argmax(COG_papers)])"
   ]
  },
  {
   "cell_type": "code",
   "execution_count": 8,
   "metadata": {
    "collapsed": false
   },
   "outputs": [
    {
     "name": "stdout",
     "output_type": "stream",
     "text": [
      "P50   -     8032\n",
      "P100  -     2137\n",
      "P200  -      835\n",
      "P300  -     9865\n",
      "P3a   -      768\n",
      "P3b   -      751\n",
      "P600  -      521\n",
      "N100  -      882\n",
      "N170  -      914\n",
      "N200  -      567\n",
      "N2pc  -      293\n",
      "N400  -     1805\n",
      "MMN   -     2192\n",
      "LPC   -     2366\n",
      "CNV   -     5970\n",
      "ERN   -      796\n",
      "ELAN  -      224\n",
      "CPS   -     6014\n",
      "LRP   -     3223\n"
     ]
    }
   ],
   "source": [
    "for erp in erps:\n",
    "    erp_ind = erps.index(erp)\n",
    "    print '{:5} - {:8.0f}'.format(erp, ERP_papers[erp_ind])"
   ]
  },
  {
   "cell_type": "code",
   "execution_count": 9,
   "metadata": {
    "collapsed": false
   },
   "outputs": [
    {
     "name": "stdout",
     "output_type": "stream",
     "text": [
      "language           -     131880\n",
      "memory             -     207980\n",
      "attention          -     327160\n",
      "motor              -     345239\n",
      "decision making    -     144828\n",
      "vision             -     133321\n",
      "auditory           -     112603\n",
      "emotion            -      25577\n",
      "categorization     -      11075\n",
      "reward             -      30520\n",
      "spatial            -     217492\n"
     ]
    }
   ],
   "source": [
    "for cog in cogs:\n",
    "    cog_ind = cogs.index(cog)\n",
    "    print '{:18} - {:10.0f}'.format(cog, COG_papers[cog_ind])"
   ]
  },
  {
   "cell_type": "code",
   "execution_count": null,
   "metadata": {
    "collapsed": true
   },
   "outputs": [],
   "source": [
    "\n",
    "\n",
    "\n",
    "\n",
    "\n",
    "\n",
    "\n"
   ]
  },
  {
   "cell_type": "code",
   "execution_count": null,
   "metadata": {
    "collapsed": true
   },
   "outputs": [],
   "source": [
    "# Test Code\n",
    "\n",
    "page = requests.get('http://eutils.ncbi.nlm.nih.gov/entrez/eutils/esearch.fcgi?db=pubmed&field=word&term=“N400”AND”Language”')\n",
    "\n",
    "page_soup = BeautifulSoup(page.content)\n",
    "\n",
    "counts = page_soup.find_all('count')\n",
    "\n",
    "for i in range(0, len(counts)):\n",
    "    count = counts[i]\n",
    "    ext = count.text\n",
    "    print int(ext)"
   ]
  }
 ],
 "metadata": {
  "kernelspec": {
   "display_name": "Python 2",
   "language": "python",
   "name": "python2"
  },
  "language_info": {
   "codemirror_mode": {
    "name": "ipython",
    "version": 2
   },
   "file_extension": ".py",
   "mimetype": "text/x-python",
   "name": "python",
   "nbconvert_exporter": "python",
   "pygments_lexer": "ipython2",
   "version": "2.7.11"
  }
 },
 "nbformat": 4,
 "nbformat_minor": 0
}
