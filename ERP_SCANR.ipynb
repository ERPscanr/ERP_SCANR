{
 "cells": [
  {
   "cell_type": "markdown",
   "metadata": {},
   "source": [
    "## ERP SCANR\n",
    "\n",
    "\n",
    "."
   ]
  },
  {
   "cell_type": "code",
   "execution_count": 1,
   "metadata": {
    "collapsed": false
   },
   "outputs": [],
   "source": [
    "## Imports\n",
    "\n",
    "# Import custom code\n",
    "from erpsc import *\n",
    "\n",
    "# TEST IMPORTS\n",
    "import requests\n",
    "from bs4 import BeautifulSoup"
   ]
  },
  {
   "cell_type": "code",
   "execution_count": 2,
   "metadata": {
    "collapsed": false
   },
   "outputs": [],
   "source": [
    "## Things to search through - full set\n",
    "erps = ['P50', 'P100', 'P200', 'P300', 'P3a', 'P3b', 'P600', 'N100', 'N170', 'N200',\\\n",
    "         'N270', 'N2pc', 'N400', 'MMN', 'LPC', 'CNV', 'ERN', 'ELAN', 'CPS', 'LRP', 'LDN']\n",
    "cogs = ['language', 'memory', 'attention', 'motor', 'decision making', 'vision', \\\n",
    "         'auditory', 'emotion', 'categorization', 'reward', 'spatial']"
   ]
  },
  {
   "cell_type": "code",
   "execution_count": 3,
   "metadata": {
    "collapsed": true
   },
   "outputs": [],
   "source": [
    "# Small test set of words\n",
    "erps = ['P300', 'P600']\n",
    "cogs = ['language', 'memory']"
   ]
  },
  {
   "cell_type": "markdown",
   "metadata": {},
   "source": [
    "## Co-Occurence of Term Analysis\n",
    "\n",
    "."
   ]
  },
  {
   "cell_type": "code",
   "execution_count": 5,
   "metadata": {
    "collapsed": true
   },
   "outputs": [],
   "source": [
    "# Initialize object for term count co-occurences. \n",
    "term_counts = ERPSC_Count()\n",
    "\n",
    "# Set erp and cog lists as terms to use\n",
    "term_counts.set_erps(erps)\n",
    "term_counts.set_cogs(cogs)"
   ]
  },
  {
   "cell_type": "code",
   "execution_count": 6,
   "metadata": {
    "collapsed": false
   },
   "outputs": [],
   "source": [
    "# Scrape the co-occurence of terms data\n",
    "term_counts.scrape_data()"
   ]
  },
  {
   "cell_type": "code",
   "execution_count": 7,
   "metadata": {
    "collapsed": false
   },
   "outputs": [
    {
     "name": "stdout",
     "output_type": "stream",
     "text": [
      "For the  P50   the most common association is \t memory     with \t %01.39\n",
      "For the  P100  the most common association is \t memory     with \t %02.44\n"
     ]
    }
   ],
   "source": [
    "# Check the most commonly associated COG term for each ERP\n",
    "term_counts.check_erps()"
   ]
  },
  {
   "cell_type": "code",
   "execution_count": 8,
   "metadata": {
    "collapsed": false
   },
   "outputs": [
    {
     "name": "stdout",
     "output_type": "stream",
     "text": [
      "For  language             the strongest associated ERP is \t P100  with \t %00.60\n",
      "For  memory               the strongest associated ERP is \t P100  with \t %02.44\n"
     ]
    }
   ],
   "source": [
    "# Check the most commonly associated ERP term for each COG\n",
    "term_counts.check_cogs()"
   ]
  },
  {
   "cell_type": "code",
   "execution_count": 9,
   "metadata": {
    "collapsed": false
   },
   "outputs": [
    {
     "name": "stdout",
     "output_type": "stream",
     "text": [
      "The most studied ERP is  P50     with     8177 papers\n",
      "The most studied COG is  memory  with   213047  papers\n"
     ]
    }
   ],
   "source": [
    "# Check the terms with the most papers\n",
    "term_counts.check_top()"
   ]
  },
  {
   "cell_type": "code",
   "execution_count": 10,
   "metadata": {
    "collapsed": false
   },
   "outputs": [
    {
     "name": "stdout",
     "output_type": "stream",
     "text": [
      "P50   -     8177\n",
      "P100  -     2171\n"
     ]
    }
   ],
   "source": [
    "# Check how many papers were found for each term - ERPs\n",
    "term_counts.check_counts('erp')"
   ]
  },
  {
   "cell_type": "code",
   "execution_count": 11,
   "metadata": {
    "collapsed": false
   },
   "outputs": [
    {
     "name": "stdout",
     "output_type": "stream",
     "text": [
      "language           -     135605\n",
      "memory             -     213047\n"
     ]
    }
   ],
   "source": [
    "# Check how many papers were found for each term - COGs\n",
    "term_counts.check_counts('cog')"
   ]
  },
  {
   "cell_type": "code",
   "execution_count": 12,
   "metadata": {
    "collapsed": false
   },
   "outputs": [],
   "source": [
    "# Save pickle file of results\n",
    "term_counts.save_pickle()"
   ]
  },
  {
   "cell_type": "code",
   "execution_count": 13,
   "metadata": {
    "collapsed": false
   },
   "outputs": [],
   "source": [
    "# Load from pickle file\n",
    "term_counts = load_pickle_counts()"
   ]
  },
  {
   "cell_type": "markdown",
   "metadata": {},
   "source": [
    "## WORD ANALYSIS\n",
    "\n",
    "."
   ]
  },
  {
   "cell_type": "code",
   "execution_count": 12,
   "metadata": {
    "collapsed": true
   },
   "outputs": [],
   "source": [
    "# Initialize words-analysis object\n",
    "words_anal = ERPSC_Words()"
   ]
  },
  {
   "cell_type": "code",
   "execution_count": 13,
   "metadata": {
    "collapsed": false
   },
   "outputs": [],
   "source": [
    "# Set ERP and COG terms\n",
    "words_anal.set_erps(erps)\n",
    "#words_anal.set_cogs(cogs)"
   ]
  },
  {
   "cell_type": "code",
   "execution_count": 14,
   "metadata": {
    "collapsed": false
   },
   "outputs": [],
   "source": [
    "# Scrape word data for all ERP abstracts\n",
    "words_anal.scrape_data()"
   ]
  },
  {
   "cell_type": "code",
   "execution_count": 15,
   "metadata": {
    "collapsed": false
   },
   "outputs": [
    {
     "data": {
      "text/plain": [
       "'P600'"
      ]
     },
     "execution_count": 15,
     "metadata": {},
     "output_type": "execute_result"
    }
   ],
   "source": [
    "words_anal.results[1].erp"
   ]
  },
  {
   "cell_type": "code",
   "execution_count": null,
   "metadata": {
    "collapsed": false
   },
   "outputs": [],
   "source": [
    "ts = list()\n",
    "ws = list()\n",
    "for i in range(0, words_anal.nArticles):\n",
    "    ts.append(words_anal.titles[i].text)\n",
    "    ws.append(words_anal.words[i].text)\n",
    "    \n",
    "print ws[10]"
   ]
  },
  {
   "cell_type": "code",
   "execution_count": 10,
   "metadata": {
    "collapsed": false
   },
   "outputs": [
    {
     "name": "stdout",
     "output_type": "stream",
     "text": [
      "100\n"
     ]
    },
    {
     "data": {
      "text/plain": [
       "list"
      ]
     },
     "execution_count": 10,
     "metadata": {},
     "output_type": "execute_result"
    }
   ],
   "source": [
    "print(len(words_anal.words))\n",
    "type(words_anal.words)"
   ]
  },
  {
   "cell_type": "code",
   "execution_count": 7,
   "metadata": {
    "collapsed": false
   },
   "outputs": [
    {
     "data": {
      "text/plain": [
       "10"
      ]
     },
     "execution_count": 7,
     "metadata": {},
     "output_type": "execute_result"
    }
   ],
   "source": [
    "words_anal.nArticles"
   ]
  },
  {
   "cell_type": "code",
   "execution_count": null,
   "metadata": {
    "collapsed": true
   },
   "outputs": [],
   "source": [
    "\n",
    "\n",
    "\n",
    "\n",
    "\n",
    "\n",
    "\n"
   ]
  },
  {
   "cell_type": "code",
   "execution_count": 10,
   "metadata": {
    "collapsed": false
   },
   "outputs": [
    {
     "name": "stdout",
     "output_type": "stream",
     "text": [
      "10085\n",
      "10085\n"
     ]
    }
   ],
   "source": [
    "# Test Code\n",
    "\n",
    "#page = requests.get('http://eutils.ncbi.nlm.nih.gov/entrez/eutils/esearch.fcgi?db=pubmed&field=word&term=“N270”AND”Language”')\n",
    "page = requests.get('http://eutils.ncbi.nlm.nih.gov/entrez/eutils/esearch.fcgi?db=pubmed&field=word&term=“P300”&retmax=10')\n",
    "\n",
    "page_soup = BeautifulSoup(page.content)\n",
    "\n",
    "counts = page_soup.find_all('count')\n",
    "\n",
    "for i in range(0, len(counts)):\n",
    "    count = counts[i]\n",
    "    ext = count.text\n",
    "    print int(ext)"
   ]
  },
  {
   "cell_type": "code",
   "execution_count": 11,
   "metadata": {
    "collapsed": false
   },
   "outputs": [
    {
     "data": {
      "text/plain": [
       "<!DOCTYPE eSearchResult PUBLIC \"-//NLM//DTD esearch 20060628//EN\" \"http://eutils.ncbi.nlm.nih.gov/eutils/dtd/20060628/esearch.dtd\">\n",
       "<html><body><esearchresult><count>10085</count><retmax>10</retmax><retstart>0</retstart><idlist>\n",
       "<id>27332697</id>\n",
       "<id>27329809</id>\n",
       "<id>27326936</id>\n",
       "<id>27323858</id>\n",
       "<id>27322077</id>\n",
       "<id>27320013</id>\n",
       "<id>27318633</id>\n",
       "<id>27315489</id>\n",
       "<id>27313523</id>\n",
       "<id>27312341</id>\n",
       "</idlist><translationset></translationset><translationstack> <termset> <term>\"P300\"[Text Word]</term> <field>Text Word</field> <count>10085</count> <explode>N</explode> </termset> <op>GROUP</op> </translationstack><querytranslation>\"P300\"[Text Word]</querytranslation></esearchresult>\n",
       "</body></html>"
      ]
     },
     "execution_count": 11,
     "metadata": {},
     "output_type": "execute_result"
    }
   ],
   "source": [
    "page_soup"
   ]
  },
  {
   "cell_type": "code",
   "execution_count": 12,
   "metadata": {
    "collapsed": true
   },
   "outputs": [],
   "source": [
    "ids = page_soup.find_all('id')"
   ]
  },
  {
   "cell_type": "code",
   "execution_count": 13,
   "metadata": {
    "collapsed": false
   },
   "outputs": [
    {
     "name": "stdout",
     "output_type": "stream",
     "text": [
      "[<id>27332697</id>, <id>27329809</id>, <id>27326936</id>, <id>27323858</id>, <id>27322077</id>, <id>27320013</id>, <id>27318633</id>, <id>27315489</id>, <id>27313523</id>, <id>27312341</id>]\n"
     ]
    },
    {
     "data": {
      "text/plain": [
       "10"
      ]
     },
     "execution_count": 13,
     "metadata": {},
     "output_type": "execute_result"
    }
   ],
   "source": [
    "print(ids)\n",
    "len(ids)"
   ]
  },
  {
   "cell_type": "code",
   "execution_count": 16,
   "metadata": {
    "collapsed": true
   },
   "outputs": [],
   "source": [
    "def _ids_to_str(ids):\n",
    "    \"\"\"Takes a list of pubmed ids, returns a str of the ids separated by commas. \"\"\"\n",
    "    \n",
    "    # Check how many ids in list\n",
    "    nIds = len(ids)\n",
    "    \n",
    "    # Initialize string with first id\n",
    "    ids_str = str(ids[0].text)\n",
    "    \n",
    "    # Loop through rest of the id's, appending to end of id_str\n",
    "    for i in range(1, nIds):\n",
    "        ids_str = ids_str + ',' + str(ids[i].text)\n",
    "        \n",
    "    # Return string of ids\n",
    "    return ids_str"
   ]
  },
  {
   "cell_type": "code",
   "execution_count": 41,
   "metadata": {
    "collapsed": false
   },
   "outputs": [
    {
     "name": "stdout",
     "output_type": "stream",
     "text": [
      "17\n",
      "<type 'str'>\n"
     ]
    }
   ],
   "source": [
    "# Test ids to str\n",
    "id_strs = _ids_to_str(ids[2:4])\n",
    "\n",
    "print(len(id_strs))\n",
    "print(type(id_strs))"
   ]
  },
  {
   "cell_type": "code",
   "execution_count": null,
   "metadata": {
    "collapsed": true
   },
   "outputs": [],
   "source": []
  },
  {
   "cell_type": "code",
   "execution_count": 42,
   "metadata": {
    "collapsed": false
   },
   "outputs": [],
   "source": [
    "art_page = requests.get('http://eutils.ncbi.nlm.nih.gov/entrez/eutils/efetch.fcgi?db=pubmed&retmode=xml&id=' + id_strs)\n",
    "\n",
    "art_page_soup = BeautifulSoup(art_page.content, \"xml\")"
   ]
  },
  {
   "cell_type": "code",
   "execution_count": 43,
   "metadata": {
    "collapsed": false
   },
   "outputs": [
    {
     "data": {
      "text/plain": [
       "<?xml version=\"1.0\" encoding=\"utf-8\"?>\n",
       "<!DOCTYPE PubmedArticleSet PUBLIC \"-//NLM//DTD PubMedArticle, 1st January 2016//EN\" \"http://www.ncbi.nlm.nih.gov/corehtml/query/DTD/pubmed_160101.dtd\">\n",
       "<PubmedArticleSet>\n",
       "<PubmedArticle>\n",
       "<MedlineCitation Owner=\"NLM\" Status=\"Publisher\">\n",
       "<PMID Version=\"1\">27326936</PMID>\n",
       "<DateCreated>\n",
       "<Year>2016</Year>\n",
       "<Month>6</Month>\n",
       "<Day>21</Day>\n",
       "</DateCreated>\n",
       "<DateRevised>\n",
       "<Year>2016</Year>\n",
       "<Month>6</Month>\n",
       "<Day>21</Day>\n",
       "</DateRevised>\n",
       "<Article PubModel=\"Print\">\n",
       "<Journal>\n",
       "<ISSN IssnType=\"Electronic\">1878-1551</ISSN>\n",
       "<JournalIssue CitedMedium=\"Internet\">\n",
       "<Volume>37</Volume>\n",
       "<Issue>6</Issue>\n",
       "<PubDate>\n",
       "<Year>2016</Year>\n",
       "<Month>Jun</Month>\n",
       "<Day>20</Day>\n",
       "</PubDate>\n",
       "</JournalIssue>\n",
       "<Title>Developmental cell</Title>\n",
       "<ISOAbbreviation>Dev. Cell</ISOAbbreviation>\n",
       "</Journal>\n",
       "<ArticleTitle>Hdac3 Interaction with p300 Histone Acetyltransferase Regulates the Oligodendrocyte and Astrocyte Lineage Fate Switch.</ArticleTitle>\n",
       "<Pagination>\n",
       "<MedlinePgn>582</MedlinePgn>\n",
       "</Pagination>\n",
       "<ELocationID EIdType=\"pii\">S1534-5807(16)30373-2</ELocationID>\n",
       "<ELocationID EIdType=\"doi\">10.1016/j.devcel.2016.06.004</ELocationID>\n",
       "<AuthorList>\n",
       "<Author>\n",
       "<LastName>Zhang</LastName>\n",
       "<ForeName>Liguo</ForeName>\n",
       "<Initials>L</Initials>\n",
       "</Author>\n",
       "<Author>\n",
       "<LastName>He</LastName>\n",
       "<ForeName>Xuelian</ForeName>\n",
       "<Initials>X</Initials>\n",
       "</Author>\n",
       "<Author>\n",
       "<LastName>Liu</LastName>\n",
       "<ForeName>Lei</ForeName>\n",
       "<Initials>L</Initials>\n",
       "</Author>\n",
       "<Author>\n",
       "<LastName>Jiang</LastName>\n",
       "<ForeName>Minqing</ForeName>\n",
       "<Initials>M</Initials>\n",
       "</Author>\n",
       "<Author>\n",
       "<LastName>Zhao</LastName>\n",
       "<ForeName>Chuntao</ForeName>\n",
       "<Initials>C</Initials>\n",
       "</Author>\n",
       "<Author>\n",
       "<LastName>Wang</LastName>\n",
       "<ForeName>Haibo</ForeName>\n",
       "<Initials>H</Initials>\n",
       "</Author>\n",
       "<Author>\n",
       "<LastName>He</LastName>\n",
       "<ForeName>Danyang</ForeName>\n",
       "<Initials>D</Initials>\n",
       "</Author>\n",
       "<Author>\n",
       "<LastName>Zheng</LastName>\n",
       "<ForeName>Tao</ForeName>\n",
       "<Initials>T</Initials>\n",
       "</Author>\n",
       "<Author>\n",
       "<LastName>Zhou</LastName>\n",
       "<ForeName>Xianyao</ForeName>\n",
       "<Initials>X</Initials>\n",
       "</Author>\n",
       "<Author>\n",
       "<LastName>Hassan</LastName>\n",
       "<ForeName>Aishlin</ForeName>\n",
       "<Initials>A</Initials>\n",
       "</Author>\n",
       "<Author>\n",
       "<LastName>Ma</LastName>\n",
       "<ForeName>Zhixing</ForeName>\n",
       "<Initials>Z</Initials>\n",
       "</Author>\n",
       "<Author>\n",
       "<LastName>Xin</LastName>\n",
       "<ForeName>Mei</ForeName>\n",
       "<Initials>M</Initials>\n",
       "</Author>\n",
       "<Author>\n",
       "<LastName>Sun</LastName>\n",
       "<ForeName>Zheng</ForeName>\n",
       "<Initials>Z</Initials>\n",
       "</Author>\n",
       "<Author>\n",
       "<LastName>Lazar</LastName>\n",
       "<ForeName>Mitchell A</ForeName>\n",
       "<Initials>MA</Initials>\n",
       "</Author>\n",
       "<Author>\n",
       "<LastName>Goldman</LastName>\n",
       "<ForeName>Steven A</ForeName>\n",
       "<Initials>SA</Initials>\n",
       "</Author>\n",
       "<Author>\n",
       "<LastName>Olson</LastName>\n",
       "<ForeName>Eric N</ForeName>\n",
       "<Initials>EN</Initials>\n",
       "</Author>\n",
       "<Author>\n",
       "<LastName>Richard Lu</LastName>\n",
       "<ForeName>Q</ForeName>\n",
       "<Initials>Q</Initials>\n",
       "</Author>\n",
       "</AuthorList>\n",
       "<Language>ENG</Language>\n",
       "<PublicationTypeList>\n",
       "<PublicationType UI=\"\">PUBLISHED ERRATUM</PublicationType>\n",
       "</PublicationTypeList>\n",
       "</Article>\n",
       "<MedlineJournalInfo>\n",
       "<MedlineTA>Dev Cell</MedlineTA>\n",
       "<NlmUniqueID>101120028</NlmUniqueID>\n",
       "<ISSNLinking>1534-5807</ISSNLinking>\n",
       "</MedlineJournalInfo>\n",
       "</MedlineCitation>\n",
       "<PubmedData>\n",
       "<History>\n",
       "<PubMedPubDate PubStatus=\"entrez\">\n",
       "<Year>2016</Year>\n",
       "<Month>6</Month>\n",
       "<Day>22</Day>\n",
       "<Hour>6</Hour>\n",
       "<Minute>0</Minute>\n",
       "</PubMedPubDate>\n",
       "<PubMedPubDate PubStatus=\"pubmed\">\n",
       "<Year>2016</Year>\n",
       "<Month>6</Month>\n",
       "<Day>22</Day>\n",
       "<Hour>6</Hour>\n",
       "<Minute>0</Minute>\n",
       "</PubMedPubDate>\n",
       "<PubMedPubDate PubStatus=\"medline\">\n",
       "<Year>2016</Year>\n",
       "<Month>6</Month>\n",
       "<Day>22</Day>\n",
       "<Hour>6</Hour>\n",
       "<Minute>0</Minute>\n",
       "</PubMedPubDate>\n",
       "</History>\n",
       "<PublicationStatus>ppublish</PublicationStatus>\n",
       "<ArticleIdList>\n",
       "<ArticleId IdType=\"pii\">S1534-5807(16)30373-2</ArticleId>\n",
       "<ArticleId IdType=\"doi\">10.1016/j.devcel.2016.06.004</ArticleId>\n",
       "<ArticleId IdType=\"pubmed\">27326936</ArticleId>\n",
       "</ArticleIdList>\n",
       "</PubmedData>\n",
       "</PubmedArticle>\n",
       "<PubmedArticle>\n",
       "<MedlineCitation Owner=\"NLM\" Status=\"Publisher\">\n",
       "<PMID Version=\"1\">27323858</PMID>\n",
       "<DateCreated>\n",
       "<Year>2016</Year>\n",
       "<Month>6</Month>\n",
       "<Day>21</Day>\n",
       "</DateCreated>\n",
       "<DateRevised>\n",
       "<Year>2016</Year>\n",
       "<Month>6</Month>\n",
       "<Day>21</Day>\n",
       "</DateRevised>\n",
       "<Article PubModel=\"Print-Electronic\">\n",
       "<Journal>\n",
       "<ISSN IssnType=\"Electronic\">1949-2553</ISSN>\n",
       "<JournalIssue CitedMedium=\"Internet\">\n",
       "<PubDate>\n",
       "<Year>2016</Year>\n",
       "<Month>Jun</Month>\n",
       "<Day>14</Day>\n",
       "</PubDate>\n",
       "</JournalIssue>\n",
       "<Title>Oncotarget</Title>\n",
       "<ISOAbbreviation>Oncotarget</ISOAbbreviation>\n",
       "</Journal>\n",
       "<ArticleTitle>Tyrosine phosphorylation regulates ERβ ubiquitination, protein turnover, and inhibition of breast cancer.</ArticleTitle>\n",
       "<Pagination>\n",
       "<MedlinePgn/>\n",
       "</Pagination>\n",
       "<ELocationID EIdType=\"doi\">10.18632/oncotarget.10018</ELocationID>\n",
       "<Abstract>\n",
       "<AbstractText NlmCategory=\"UNASSIGNED\">Unlike estrogen receptor α (ERα) that predominantly promotes hormone-dependent breast tumor growth, ERβ exhibits antitumor effects in a variety of cancer types. We recently identified a phosphotyrosine residue in ERβ, but not ERα, that dictates ERβ transcriptional activity and antitumor function. We show here that this ER isotype-specific phosphotyrosine switch is important for regulating ERβ activity in cell proliferation, migration, and invasion. At the mechanistic level, phosphorylated ERβ, which recruits transcriptional coactivator p300, is in turn targeted by p300 for ubiquitination and proteasome-dependent protein turnover. Furthermore, ERβ-specific agonists such as S-equol enhance ERβ phosphorylation, suggesting a crosstalk between ligand- and posttranslational modification-dependent ERβ activation. Inhibition of xenograft tumor growth by S-equol is associated with reduced tumor Ki-67 expression and elevated ERβ tyrosine phosphorylation. Taken together, our data support the notion that phosphotyrosine-dependent ERβ signaling is an attractive target for anticancer treatment.</AbstractText>\n",
       "</Abstract>\n",
       "<AuthorList>\n",
       "<Author>\n",
       "<LastName>Yuan</LastName>\n",
       "<ForeName>Bin</ForeName>\n",
       "<Initials>B</Initials>\n",
       "<AffiliationInfo>\n",
       "<Affiliation>Department of Medical Molecular Biology, Beijing Institute of Biotechnology, Collaborative Innovation Center for Cancer Medicine, Beijing, China.</Affiliation>\n",
       "</AffiliationInfo>\n",
       "<AffiliationInfo>\n",
       "<Affiliation>Institute of Cancer Stem Cell, Cancer Center, Dalian Medical University, Liaoning, China.</Affiliation>\n",
       "</AffiliationInfo>\n",
       "<AffiliationInfo>\n",
       "<Affiliation>Department of Molecular Medicine, University of Texas Health Science Center at San Antonio, San Antonio, TX, USA.</Affiliation>\n",
       "</AffiliationInfo>\n",
       "</Author>\n",
       "<Author>\n",
       "<LastName>Cheng</LastName>\n",
       "<ForeName>Long</ForeName>\n",
       "<Initials>L</Initials>\n",
       "<AffiliationInfo>\n",
       "<Affiliation>Department of Medical Molecular Biology, Beijing Institute of Biotechnology, Collaborative Innovation Center for Cancer Medicine, Beijing, China.</Affiliation>\n",
       "</AffiliationInfo>\n",
       "</Author>\n",
       "<Author>\n",
       "<LastName>Gupta</LastName>\n",
       "<ForeName>Kshama</ForeName>\n",
       "<Initials>K</Initials>\n",
       "<AffiliationInfo>\n",
       "<Affiliation>Department of Molecular Medicine, University of Texas Health Science Center at San Antonio, San Antonio, TX, USA.</Affiliation>\n",
       "</AffiliationInfo>\n",
       "</Author>\n",
       "<Author>\n",
       "<LastName>Chiang</LastName>\n",
       "<ForeName>Huai-Chin</ForeName>\n",
       "<Initials>HC</Initials>\n",
       "<AffiliationInfo>\n",
       "<Affiliation>Department of Molecular Medicine, University of Texas Health Science Center at San Antonio, San Antonio, TX, USA.</Affiliation>\n",
       "</AffiliationInfo>\n",
       "</Author>\n",
       "<Author>\n",
       "<LastName>Gupta</LastName>\n",
       "<ForeName>Harshita B</ForeName>\n",
       "<Initials>HB</Initials>\n",
       "<AffiliationInfo>\n",
       "<Affiliation>Department of Medicine, University of Texas Health Science Center at San Antonio, San Antonio, TX, USA.</Affiliation>\n",
       "</AffiliationInfo>\n",
       "</Author>\n",
       "<Author>\n",
       "<LastName>Sareddy</LastName>\n",
       "<ForeName>Gangadhara R</ForeName>\n",
       "<Initials>GR</Initials>\n",
       "<AffiliationInfo>\n",
       "<Affiliation>Department of Obstetrics and Gynecology, University of Texas Health Science Center at San Antonio, San Antonio, TX, USA.</Affiliation>\n",
       "</AffiliationInfo>\n",
       "</Author>\n",
       "<Author>\n",
       "<LastName>Wang</LastName>\n",
       "<ForeName>Degeng</ForeName>\n",
       "<Initials>D</Initials>\n",
       "<AffiliationInfo>\n",
       "<Affiliation>Department of Epidemiology and Biostatistics, University of Texas Health Science Center at San Antonio, San Antonio, TX, USA.</Affiliation>\n",
       "</AffiliationInfo>\n",
       "</Author>\n",
       "<Author>\n",
       "<LastName>Lathrop</LastName>\n",
       "<ForeName>Kate</ForeName>\n",
       "<Initials>K</Initials>\n",
       "<AffiliationInfo>\n",
       "<Affiliation>Department of Medicine, University of Texas Health Science Center at San Antonio, San Antonio, TX, USA.</Affiliation>\n",
       "</AffiliationInfo>\n",
       "</Author>\n",
       "<Author>\n",
       "<LastName>Elledge</LastName>\n",
       "<ForeName>Richard</ForeName>\n",
       "<Initials>R</Initials>\n",
       "<AffiliationInfo>\n",
       "<Affiliation>Department of Medicine, University of Texas Health Science Center at San Antonio, San Antonio, TX, USA.</Affiliation>\n",
       "</AffiliationInfo>\n",
       "</Author>\n",
       "<Author>\n",
       "<LastName>Wang</LastName>\n",
       "<ForeName>Pei</ForeName>\n",
       "<Initials>P</Initials>\n",
       "<AffiliationInfo>\n",
       "<Affiliation>Department of Cellular and Structural Biology Cancer Therapy and Research Center, University of Texas Health Science Center at San Antonio, San Antonio, TX, USA.</Affiliation>\n",
       "</AffiliationInfo>\n",
       "</Author>\n",
       "<Author>\n",
       "<LastName>McHardy</LastName>\n",
       "<ForeName>Stanton</ForeName>\n",
       "<Initials>S</Initials>\n",
       "<AffiliationInfo>\n",
       "<Affiliation>Center for Innovative Drug Discovery, University of Texas at San Antonio, San Antonio, TX, USA.</Affiliation>\n",
       "</AffiliationInfo>\n",
       "</Author>\n",
       "<Author>\n",
       "<LastName>Vadlamudi</LastName>\n",
       "<ForeName>Ratna</ForeName>\n",
       "<Initials>R</Initials>\n",
       "<AffiliationInfo>\n",
       "<Affiliation>Department of Obstetrics and Gynecology, University of Texas Health Science Center at San Antonio, San Antonio, TX, USA.</Affiliation>\n",
       "</AffiliationInfo>\n",
       "</Author>\n",
       "<Author>\n",
       "<LastName>Curiel</LastName>\n",
       "<ForeName>Tyler J</ForeName>\n",
       "<Initials>TJ</Initials>\n",
       "<AffiliationInfo>\n",
       "<Affiliation>Department of Medicine, University of Texas Health Science Center at San Antonio, San Antonio, TX, USA.</Affiliation>\n",
       "</AffiliationInfo>\n",
       "</Author>\n",
       "<Author>\n",
       "<LastName>Hu</LastName>\n",
       "<ForeName>Yanfen</ForeName>\n",
       "<Initials>Y</Initials>\n",
       "<AffiliationInfo>\n",
       "<Affiliation>Department of Molecular Medicine, University of Texas Health Science Center at San Antonio, San Antonio, TX, USA.</Affiliation>\n",
       "</AffiliationInfo>\n",
       "</Author>\n",
       "<Author>\n",
       "<LastName>Ye</LastName>\n",
       "<ForeName>Qinong</ForeName>\n",
       "<Initials>Q</Initials>\n",
       "<AffiliationInfo>\n",
       "<Affiliation>Department of Medical Molecular Biology, Beijing Institute of Biotechnology, Collaborative Innovation Center for Cancer Medicine, Beijing, China.</Affiliation>\n",
       "</AffiliationInfo>\n",
       "<AffiliationInfo>\n",
       "<Affiliation>Institute of Cancer Stem Cell, Cancer Center, Dalian Medical University, Liaoning, China.</Affiliation>\n",
       "</AffiliationInfo>\n",
       "</Author>\n",
       "<Author>\n",
       "<LastName>Li</LastName>\n",
       "<ForeName>Rong</ForeName>\n",
       "<Initials>R</Initials>\n",
       "<AffiliationInfo>\n",
       "<Affiliation>Department of Molecular Medicine, University of Texas Health Science Center at San Antonio, San Antonio, TX, USA.</Affiliation>\n",
       "</AffiliationInfo>\n",
       "</Author>\n",
       "</AuthorList>\n",
       "<Language>ENG</Language>\n",
       "<PublicationTypeList>\n",
       "<PublicationType UI=\"\">JOURNAL ARTICLE</PublicationType>\n",
       "</PublicationTypeList>\n",
       "<ArticleDate DateType=\"Electronic\">\n",
       "<Year>2016</Year>\n",
       "<Month>6</Month>\n",
       "<Day>14</Day>\n",
       "</ArticleDate>\n",
       "</Article>\n",
       "<MedlineJournalInfo>\n",
       "<MedlineTA>Oncotarget</MedlineTA>\n",
       "<NlmUniqueID>101532965</NlmUniqueID>\n",
       "<ISSNLinking>1949-2553</ISSNLinking>\n",
       "</MedlineJournalInfo>\n",
       "<KeywordList Owner=\"NOTNLM\">\n",
       "<Keyword MajorTopicYN=\"N\">ERβ</Keyword>\n",
       "<Keyword MajorTopicYN=\"N\">antitumor activity</Keyword>\n",
       "<Keyword MajorTopicYN=\"N\">protein turnover</Keyword>\n",
       "<Keyword MajorTopicYN=\"N\">tyrosine phosphorylation</Keyword>\n",
       "<Keyword MajorTopicYN=\"N\">ubiquitination</Keyword>\n",
       "</KeywordList>\n",
       "</MedlineCitation>\n",
       "<PubmedData>\n",
       "<History>\n",
       "<PubMedPubDate PubStatus=\"received\">\n",
       "<Year>2015</Year>\n",
       "<Month>11</Month>\n",
       "<Day>22</Day>\n",
       "</PubMedPubDate>\n",
       "<PubMedPubDate PubStatus=\"accepted\">\n",
       "<Year>2016</Year>\n",
       "<Month>5</Month>\n",
       "<Day>23</Day>\n",
       "</PubMedPubDate>\n",
       "<PubMedPubDate PubStatus=\"entrez\">\n",
       "<Year>2016</Year>\n",
       "<Month>6</Month>\n",
       "<Day>22</Day>\n",
       "<Hour>6</Hour>\n",
       "<Minute>0</Minute>\n",
       "</PubMedPubDate>\n",
       "<PubMedPubDate PubStatus=\"pubmed\">\n",
       "<Year>2016</Year>\n",
       "<Month>6</Month>\n",
       "<Day>22</Day>\n",
       "<Hour>6</Hour>\n",
       "<Minute>0</Minute>\n",
       "</PubMedPubDate>\n",
       "<PubMedPubDate PubStatus=\"medline\">\n",
       "<Year>2016</Year>\n",
       "<Month>6</Month>\n",
       "<Day>22</Day>\n",
       "<Hour>6</Hour>\n",
       "<Minute>0</Minute>\n",
       "</PubMedPubDate>\n",
       "</History>\n",
       "<PublicationStatus>aheadofprint</PublicationStatus>\n",
       "<ArticleIdList>\n",
       "<ArticleId IdType=\"pii\">10018</ArticleId>\n",
       "<ArticleId IdType=\"doi\">10.18632/oncotarget.10018</ArticleId>\n",
       "<ArticleId IdType=\"pubmed\">27323858</ArticleId>\n",
       "</ArticleIdList>\n",
       "</PubmedData>\n",
       "</PubmedArticle>\n",
       "</PubmedArticleSet>"
      ]
     },
     "execution_count": 43,
     "metadata": {},
     "output_type": "execute_result"
    }
   ],
   "source": [
    "art_page_soup"
   ]
  },
  {
   "cell_type": "code",
   "execution_count": 46,
   "metadata": {
    "collapsed": false
   },
   "outputs": [
    {
     "name": "stdout",
     "output_type": "stream",
     "text": [
      "2\n"
     ]
    }
   ],
   "source": [
    "articles = art_page_soup.findAll('PubmedArticle')\n",
    "nArticles = len(articles)\n",
    "print(nArticles)"
   ]
  },
  {
   "cell_type": "code",
   "execution_count": 51,
   "metadata": {
    "collapsed": false
   },
   "outputs": [
    {
     "data": {
      "text/plain": [
       "<Year>2016</Year>"
      ]
     },
     "execution_count": 51,
     "metadata": {},
     "output_type": "execute_result"
    }
   ],
   "source": [
    "articles[0].find('DateCreated').find('Year')"
   ]
  },
  {
   "cell_type": "code",
   "execution_count": 45,
   "metadata": {
    "collapsed": false
   },
   "outputs": [
    {
     "name": "stdout",
     "output_type": "stream",
     "text": [
      "1\n",
      "[<AbstractText NlmCategory=\"UNASSIGNED\">Unlike estrogen receptor α (ERα) that predominantly promotes hormone-dependent breast tumor growth, ERβ exhibits antitumor effects in a variety of cancer types. We recently identified a phosphotyrosine residue in ERβ, but not ERα, that dictates ERβ transcriptional activity and antitumor function. We show here that this ER isotype-specific phosphotyrosine switch is important for regulating ERβ activity in cell proliferation, migration, and invasion. At the mechanistic level, phosphorylated ERβ, which recruits transcriptional coactivator p300, is in turn targeted by p300 for ubiquitination and proteasome-dependent protein turnover. Furthermore, ERβ-specific agonists such as S-equol enhance ERβ phosphorylation, suggesting a crosstalk between ligand- and posttranslational modification-dependent ERβ activation. Inhibition of xenograft tumor growth by S-equol is associated with reduced tumor Ki-67 expression and elevated ERβ tyrosine phosphorylation. Taken together, our data support the notion that phosphotyrosine-dependent ERβ signaling is an attractive target for anticancer treatment.</AbstractText>]\n",
      "<type 'unicode'>\n",
      "2016\n"
     ]
    }
   ],
   "source": [
    "title = art_page_soup.findAll('ArticleTitle')\n",
    "#print(len(title))\n",
    "#print(title)\n",
    "\n",
    "abstract_text = art_page_soup.findAll('AbstractText')\n",
    "print(len(abstract_text))\n",
    "print(abstract_text)\n",
    "\n",
    "#years = art_page_soup.findAll('DateCreated')\n",
    "#print(len(years))\n",
    "#print(years)\n",
    "\n",
    "#print(type(years))\n",
    "#art_page_soup.findChild?\n",
    "\n",
    "aa = art_page_soup.findChild('DateCreated').find('Year')\n",
    "#print(aa)\n",
    "aa.find('Year')\n",
    "\n",
    "bb = art_page_soup.findChildren('DateCreated')\n",
    "#print(bb[0].find('Year'))\n",
    "##print(bb)\n",
    "\n",
    "#print(type(aa))\n",
    "#print(type(bb))\n",
    "\n",
    "#print(len(bb))\n",
    "\n",
    "#cc = bb[:].find('Year')\n",
    "\n",
    "a = bb[0].find('Year').text\n",
    "print(type(a))\n",
    "print(int(a))"
   ]
  },
  {
   "cell_type": "code",
   "execution_count": 40,
   "metadata": {
    "collapsed": false
   },
   "outputs": [],
   "source": [
    "#page_1 = requests.get('http://www.ncbi.nlm.nih.gov/pubmed/' + aa[0].text)\n",
    "#page_1_soup = BeautifulSoup(page_1.content)"
   ]
  },
  {
   "cell_type": "code",
   "execution_count": 35,
   "metadata": {
    "collapsed": false
   },
   "outputs": [],
   "source": [
    "#page_1_soup"
   ]
  },
  {
   "cell_type": "code",
   "execution_count": 31,
   "metadata": {
    "collapsed": false
   },
   "outputs": [
    {
     "name": "stdout",
     "output_type": "stream",
     "text": [
      "<title>Association of catechol-O-methyltransferase Val108/158 Met genetic polymorphism with schizophrenia, P50 sensory gating, and negative symptoms in a ...  - PubMed - NCBI\n",
      "</title>\n"
     ]
    }
   ],
   "source": [
    "title = page_1_soup.find('title')\n",
    "print title\n",
    "\n",
    "abtract = page_1_soup.find('abstracttext')"
   ]
  },
  {
   "cell_type": "code",
   "execution_count": 32,
   "metadata": {
    "collapsed": true
   },
   "outputs": [],
   "source": [
    "aa = page_1_soup.find_all('h1')"
   ]
  },
  {
   "cell_type": "code",
   "execution_count": 33,
   "metadata": {
    "collapsed": false
   },
   "outputs": [
    {
     "data": {
      "text/plain": [
       "[<h1 class=\"img_logo\"><a class=\"pmlogo offscreen\" href=\"/pubmed\" title=\"PubMed\">PubMed</a></h1>,\n",
       " <h1>Association of catechol-O-methyltransferase Val108/158 Met genetic polymorphism with schizophrenia, P50 sensory gating, and negative symptoms in a Chinese population.</h1>]"
      ]
     },
     "execution_count": 33,
     "metadata": {},
     "output_type": "execute_result"
    }
   ],
   "source": [
    "aa"
   ]
  },
  {
   "cell_type": "code",
   "execution_count": 39,
   "metadata": {
    "collapsed": true
   },
   "outputs": [],
   "source": [
    "years = list()"
   ]
  },
  {
   "cell_type": "code",
   "execution_count": 40,
   "metadata": {
    "collapsed": true
   },
   "outputs": [],
   "source": [
    "years.append(a)"
   ]
  },
  {
   "cell_type": "code",
   "execution_count": 8,
   "metadata": {
    "collapsed": true
   },
   "outputs": [],
   "source": [
    "\n",
    "a = dict()"
   ]
  },
  {
   "cell_type": "code",
   "execution_count": 9,
   "metadata": {
    "collapsed": true
   },
   "outputs": [],
   "source": [
    "a = str()"
   ]
  },
  {
   "cell_type": "code",
   "execution_count": null,
   "metadata": {
    "collapsed": true
   },
   "outputs": [],
   "source": []
  }
 ],
 "metadata": {
  "kernelspec": {
   "display_name": "Python 2",
   "language": "python",
   "name": "python2"
  },
  "language_info": {
   "codemirror_mode": {
    "name": "ipython",
    "version": 2
   },
   "file_extension": ".py",
   "mimetype": "text/x-python",
   "name": "python",
   "nbconvert_exporter": "python",
   "pygments_lexer": "ipython2",
   "version": "2.7.11"
  }
 },
 "nbformat": 4,
 "nbformat_minor": 0
}
