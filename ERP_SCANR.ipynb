{
 "cells": [
  {
   "cell_type": "markdown",
   "metadata": {},
   "source": [
    "## ERP SCANR\n",
    "\n",
    "\n",
    "."
   ]
  },
  {
   "cell_type": "code",
   "execution_count": 1,
   "metadata": {
    "collapsed": false
   },
   "outputs": [],
   "source": [
    "## Imports\n",
    "\n",
    "# Import custom code\n",
    "from erpsc import *\n",
    "\n",
    "# TEST IMPORTS\n",
    "import requests\n",
    "from bs4 import BeautifulSoup"
   ]
  },
  {
   "cell_type": "code",
   "execution_count": 2,
   "metadata": {
    "collapsed": false
   },
   "outputs": [],
   "source": [
    "## Things to search through - full set\n",
    "erps = ['P50', 'P100', 'P200', 'P300', 'P3a', 'P3b', 'P600', 'N100', 'N170', 'N200',\\\n",
    "         'N270', 'N2pc', 'N400', 'MMN', 'LPC', 'CNV', 'ERN', 'ELAN', 'CPS', 'LRP', 'LDN']\n",
    "cogs = ['language', 'memory', 'attention', 'motor', 'decision making', 'vision', \\\n",
    "         'auditory', 'emotion', 'categorization', 'reward', 'spatial']"
   ]
  },
  {
   "cell_type": "code",
   "execution_count": 4,
   "metadata": {
    "collapsed": true
   },
   "outputs": [],
   "source": [
    "# Small test set of words\n",
    "erps = ['P50', 'P100']\n",
    "cogs = ['language', 'memory']"
   ]
  },
  {
   "cell_type": "markdown",
   "metadata": {},
   "source": [
    "## Co-Occurence of Term Analysis\n",
    "\n",
    "."
   ]
  },
  {
   "cell_type": "code",
   "execution_count": 5,
   "metadata": {
    "collapsed": true
   },
   "outputs": [],
   "source": [
    "# Initialize object for term count co-occurences. \n",
    "term_counts = ERPSC_Count()\n",
    "\n",
    "# Set erp and cog lists as terms to use\n",
    "term_counts.set_erps(erps)\n",
    "term_counts.set_cogs(cogs)"
   ]
  },
  {
   "cell_type": "code",
   "execution_count": 6,
   "metadata": {
    "collapsed": false
   },
   "outputs": [],
   "source": [
    "# Scrape the co-occurence of terms data\n",
    "term_counts.scrape_data()"
   ]
  },
  {
   "cell_type": "code",
   "execution_count": 7,
   "metadata": {
    "collapsed": false
   },
   "outputs": [
    {
     "name": "stdout",
     "output_type": "stream",
     "text": [
      "For the  P50   the most common association is \t memory     with \t %01.39\n",
      "For the  P100  the most common association is \t memory     with \t %02.44\n"
     ]
    }
   ],
   "source": [
    "# Check the most commonly associated COG term for each ERP\n",
    "term_counts.check_erps()"
   ]
  },
  {
   "cell_type": "code",
   "execution_count": 8,
   "metadata": {
    "collapsed": false
   },
   "outputs": [
    {
     "name": "stdout",
     "output_type": "stream",
     "text": [
      "For  language             the strongest associated ERP is \t P100  with \t %00.60\n",
      "For  memory               the strongest associated ERP is \t P100  with \t %02.44\n"
     ]
    }
   ],
   "source": [
    "# Check the most commonly associated ERP term for each COG\n",
    "term_counts.check_cogs()"
   ]
  },
  {
   "cell_type": "code",
   "execution_count": 9,
   "metadata": {
    "collapsed": false
   },
   "outputs": [
    {
     "name": "stdout",
     "output_type": "stream",
     "text": [
      "The most studied ERP is  P50     with     8177 papers\n",
      "The most studied COG is  memory  with   213047  papers\n"
     ]
    }
   ],
   "source": [
    "# Check the terms with the most papers\n",
    "term_counts.check_top()"
   ]
  },
  {
   "cell_type": "code",
   "execution_count": 10,
   "metadata": {
    "collapsed": false
   },
   "outputs": [
    {
     "name": "stdout",
     "output_type": "stream",
     "text": [
      "P50   -     8177\n",
      "P100  -     2171\n"
     ]
    }
   ],
   "source": [
    "# Check how many papers were found for each term - ERPs\n",
    "term_counts.check_counts('erp')"
   ]
  },
  {
   "cell_type": "code",
   "execution_count": 11,
   "metadata": {
    "collapsed": false
   },
   "outputs": [
    {
     "name": "stdout",
     "output_type": "stream",
     "text": [
      "language           -     135605\n",
      "memory             -     213047\n"
     ]
    }
   ],
   "source": [
    "# Check how many papers were found for each term - COGs\n",
    "term_counts.check_counts('cog')"
   ]
  },
  {
   "cell_type": "code",
   "execution_count": 12,
   "metadata": {
    "collapsed": false
   },
   "outputs": [],
   "source": [
    "# Save pickle file of results\n",
    "term_counts.save_pickle()"
   ]
  },
  {
   "cell_type": "code",
   "execution_count": 13,
   "metadata": {
    "collapsed": false
   },
   "outputs": [],
   "source": [
    "# Test load pickle\n",
    "aa = load_pickle_counts()"
   ]
  },
  {
   "cell_type": "code",
   "execution_count": 14,
   "metadata": {
    "collapsed": false
   },
   "outputs": [
    {
     "name": "stdout",
     "output_type": "stream",
     "text": [
      "language           -     135605\n",
      "memory             -     213047\n"
     ]
    }
   ],
   "source": [
    "aa.check_counts('cog')"
   ]
  },
  {
   "cell_type": "markdown",
   "metadata": {},
   "source": [
    "## WORD ANALYSIS\n",
    "\n",
    "."
   ]
  },
  {
   "cell_type": "code",
   "execution_count": null,
   "metadata": {
    "collapsed": true
   },
   "outputs": [],
   "source": [
    "test = ERPSC_Words()"
   ]
  },
  {
   "cell_type": "code",
   "execution_count": null,
   "metadata": {
    "collapsed": true
   },
   "outputs": [],
   "source": [
    "\n",
    "\n",
    "\n",
    "\n",
    "\n",
    "\n",
    "\n"
   ]
  },
  {
   "cell_type": "code",
   "execution_count": 40,
   "metadata": {
    "collapsed": false
   },
   "outputs": [
    {
     "name": "stdout",
     "output_type": "stream",
     "text": [
      "8177\n",
      "8177\n"
     ]
    }
   ],
   "source": [
    "# Test Code\n",
    "\n",
    "#page = requests.get('http://eutils.ncbi.nlm.nih.gov/entrez/eutils/esearch.fcgi?db=pubmed&field=word&term=“N270”AND”Language”')\n",
    "page = requests.get('http://eutils.ncbi.nlm.nih.gov/entrez/eutils/esearch.fcgi?db=pubmed&field=word&term=“P50”&retmax=50')\n",
    "\n",
    "page_soup = BeautifulSoup(page.content)\n",
    "\n",
    "counts = page_soup.find_all('count')\n",
    "\n",
    "for i in range(0, len(counts)):\n",
    "    count = counts[i]\n",
    "    ext = count.text\n",
    "    print int(ext)"
   ]
  },
  {
   "cell_type": "code",
   "execution_count": 41,
   "metadata": {
    "collapsed": false
   },
   "outputs": [
    {
     "data": {
      "text/plain": [
       "<!DOCTYPE eSearchResult PUBLIC \"-//NLM//DTD esearch 20060628//EN\" \"http://eutils.ncbi.nlm.nih.gov/eutils/dtd/20060628/esearch.dtd\">\n",
       "<html><body><esearchresult><count>8177</count><retmax>50</retmax><retstart>0</retstart><idlist>\n",
       "<id>27315458</id>\n",
       "<id>27308511</id>\n",
       "<id>27302421</id>\n",
       "<id>27295376</id>\n",
       "<id>27290699</id>\n",
       "<id>27287810</id>\n",
       "<id>27281270</id>\n",
       "<id>27279585</id>\n",
       "<id>27271273</id>\n",
       "<id>27268961</id>\n",
       "<id>27264783</id>\n",
       "<id>27264614</id>\n",
       "<id>27262063</id>\n",
       "<id>27256734</id>\n",
       "<id>27256730</id>\n",
       "<id>27252578</id>\n",
       "<id>27250735</id>\n",
       "<id>27243897</id>\n",
       "<id>27242078</id>\n",
       "<id>27242072</id>\n",
       "<id>27238796</id>\n",
       "<id>27234131</id>\n",
       "<id>27217271</id>\n",
       "<id>27216047</id>\n",
       "<id>27198178</id>\n",
       "<id>27197825</id>\n",
       "<id>27197812</id>\n",
       "<id>27194765</id>\n",
       "<id>27190325</id>\n",
       "<id>27183665</id>\n",
       "<id>27180104</id>\n",
       "<id>27178864</id>\n",
       "<id>27178167</id>\n",
       "<id>27176922</id>\n",
       "<id>27168850</id>\n",
       "<id>27168061</id>\n",
       "<id>27162449</id>\n",
       "<id>27161000</id>\n",
       "<id>27147748</id>\n",
       "<id>27145282</id>\n",
       "<id>27141897</id>\n",
       "<id>27139571</id>\n",
       "<id>27138602</id>\n",
       "<id>27132515</id>\n",
       "<id>27126340</id>\n",
       "<id>27122325</id>\n",
       "<id>27118659</id>\n",
       "<id>27108556</id>\n",
       "<id>27101794</id>\n",
       "<id>27098223</id>\n",
       "</idlist><translationset></translationset><translationstack> <termset> <term>\"P50\"[Text Word]</term> <field>Text Word</field> <count>8177</count> <explode>N</explode> </termset> <op>GROUP</op> </translationstack><querytranslation>\"P50\"[Text Word]</querytranslation></esearchresult>\n",
       "</body></html>"
      ]
     },
     "execution_count": 41,
     "metadata": {},
     "output_type": "execute_result"
    }
   ],
   "source": [
    "page_soup"
   ]
  },
  {
   "cell_type": "code",
   "execution_count": 42,
   "metadata": {
    "collapsed": true
   },
   "outputs": [],
   "source": [
    "ids = page_soup.find_all('id')"
   ]
  },
  {
   "cell_type": "code",
   "execution_count": 143,
   "metadata": {
    "collapsed": false
   },
   "outputs": [
    {
     "name": "stdout",
     "output_type": "stream",
     "text": [
      "[<id>27315458</id>, <id>27308511</id>, <id>27302421</id>, <id>27295376</id>, <id>27290699</id>, <id>27287810</id>, <id>27281270</id>, <id>27279585</id>, <id>27271273</id>, <id>27268961</id>, <id>27264783</id>, <id>27264614</id>, <id>27262063</id>, <id>27256734</id>, <id>27256730</id>, <id>27252578</id>, <id>27250735</id>, <id>27243897</id>, <id>27242078</id>, <id>27242072</id>, <id>27238796</id>, <id>27234131</id>, <id>27217271</id>, <id>27216047</id>, <id>27198178</id>, <id>27197825</id>, <id>27197812</id>, <id>27194765</id>, <id>27190325</id>, <id>27183665</id>, <id>27180104</id>, <id>27178864</id>, <id>27178167</id>, <id>27176922</id>, <id>27168850</id>, <id>27168061</id>, <id>27162449</id>, <id>27161000</id>, <id>27147748</id>, <id>27145282</id>, <id>27141897</id>, <id>27139571</id>, <id>27138602</id>, <id>27132515</id>, <id>27126340</id>, <id>27122325</id>, <id>27118659</id>, <id>27108556</id>, <id>27101794</id>, <id>27098223</id>]\n"
     ]
    },
    {
     "data": {
      "text/plain": [
       "50"
      ]
     },
     "execution_count": 143,
     "metadata": {},
     "output_type": "execute_result"
    }
   ],
   "source": [
    "print(ids)\n",
    "len(ids)"
   ]
  },
  {
   "cell_type": "code",
   "execution_count": 150,
   "metadata": {
    "collapsed": false
   },
   "outputs": [
    {
     "name": "stdout",
     "output_type": "stream",
     "text": [
      "27315458\n",
      "27315458,27308511,27302421,27295376,27290699\n"
     ]
    }
   ],
   "source": [
    "aa = str(ids[0].text)\n",
    "print aa\n",
    "\n",
    "for i in range(1, 5):\n",
    "    aa = aa + ',' + ids[i].text\n",
    "    \n",
    "print aa"
   ]
  },
  {
   "cell_type": "code",
   "execution_count": 156,
   "metadata": {
    "collapsed": false
   },
   "outputs": [
    {
     "name": "stdout",
     "output_type": "stream",
     "text": [
      "27315458,27308511,27302421,27295376,27290699,27287810,27281270,27279585,27271273,27268961,27264783,27264614,27262063,27256734,27256730,27252578,27250735,27243897,27242078,27242072,27238796,27234131,27217271,27216047,27198178,27197825,27197812,27194765,27190325,27183665,27180104,27178864,27178167,27176922,27168850,27168061,27162449,27161000,27147748,27145282,27141897,27139571,27138602,27132515,27126340,27122325,27118659,27108556,27101794,27098223\n"
     ]
    }
   ],
   "source": [
    "qq = ids_to_str(ids)\n",
    "print(qq)"
   ]
  },
  {
   "cell_type": "code",
   "execution_count": 155,
   "metadata": {
    "collapsed": true
   },
   "outputs": [],
   "source": []
  },
  {
   "cell_type": "code",
   "execution_count": 99,
   "metadata": {
    "collapsed": false
   },
   "outputs": [],
   "source": [
    "art_page = requests.get('http://eutils.ncbi.nlm.nih.gov/entrez/eutils/efetch.fcgi?db=pubmed&retmode=xml&id=' + ids[0].text + ',' + ids[1].text)\n",
    "\n",
    "art_page_soup = BeautifulSoup(art_page.content, \"xml\")"
   ]
  },
  {
   "cell_type": "code",
   "execution_count": 100,
   "metadata": {
    "collapsed": false
   },
   "outputs": [
    {
     "data": {
      "text/plain": [
       "<?xml version=\"1.0\" encoding=\"utf-8\"?>\n",
       "<!DOCTYPE PubmedArticleSet PUBLIC \"-//NLM//DTD PubMedArticle, 1st January 2016//EN\" \"http://www.ncbi.nlm.nih.gov/corehtml/query/DTD/pubmed_160101.dtd\">\n",
       "<PubmedArticleSet>\n",
       "<PubmedArticle>\n",
       "<MedlineCitation Owner=\"NLM\" Status=\"Publisher\">\n",
       "<PMID Version=\"1\">27315458</PMID>\n",
       "<DateCreated>\n",
       "<Year>2016</Year>\n",
       "<Month>6</Month>\n",
       "<Day>17</Day>\n",
       "</DateCreated>\n",
       "<DateRevised>\n",
       "<Year>2016</Year>\n",
       "<Month>6</Month>\n",
       "<Day>17</Day>\n",
       "</DateRevised>\n",
       "<Article PubModel=\"Print-Electronic\">\n",
       "<Journal>\n",
       "<ISSN IssnType=\"Electronic\">1872-7123</ISSN>\n",
       "<JournalIssue CitedMedium=\"Internet\">\n",
       "<Volume>242</Volume>\n",
       "<PubDate>\n",
       "<Year>2016</Year>\n",
       "<Month>Apr</Month>\n",
       "<Day>14</Day>\n",
       "</PubDate>\n",
       "</JournalIssue>\n",
       "<Title>Psychiatry research</Title>\n",
       "<ISOAbbreviation>Psychiatry Res</ISOAbbreviation>\n",
       "</Journal>\n",
       "<ArticleTitle>Association of catechol-O-methyltransferase Val(108/158) Met genetic polymorphism with schizophrenia, P50 sensory gating, and negative symptoms in a Chinese population.</ArticleTitle>\n",
       "<Pagination>\n",
       "<MedlinePgn>271-276</MedlinePgn>\n",
       "</Pagination>\n",
       "<ELocationID EIdType=\"pii\">S0165-1781(16)30618-7</ELocationID>\n",
       "<ELocationID EIdType=\"doi\">10.1016/j.psychres.2016.04.029</ELocationID>\n",
       "<Abstract>\n",
       "<AbstractText NlmCategory=\"UNASSIGNED\">Catechol-O-methyltransferase (COMT), an enzyme involved in the degradation and inactivation of the neurotransmitter dopamine, is associated with the sensory gating phenomenon, protecting the cerebral cortex from information overload. The COMT Val(108/158)Met polymorphism is essential for prefrontal cortex processing capacity and efficiency. The current study was designed to investigate the role of COMT Val(108/158)Met polymorphism in development, sensory gating deficit, and symptoms of schizophrenia in Han Chinese population. P50 gating was determined in 139 schizophrenic patients and 165 healthy controls. Positive and Negative Syndrome Scale (PANSS) was used to assess the clinical symptomatology in 370 schizophrenic subjects. COMT Val(108/158)Met polymorphism was genotyped by PCR-restriction fragment length polymorphism (PCR-RFLP). No significant differences in COMT allele and genotype distributions were observed between schizophrenic patients and control groups. Although P50 deficits were present in patients, there was no evidence for an association between COMT Val(108/158)Met polymorphism and the P50 biomarker. Moreover, PANSS negative subscore was significantly higher in Val allele carriers than in Met/Met individuals. The present findings suggest that COMT Val(108/158)Met polymorphism may not contribute to the risk of schizophrenia and to the P50 deficits, but may contribute to the negative symptoms of schizophrenia among Han Chinese.</AbstractText>\n",
       "<CopyrightInformation>Copyright © 2016 Elsevier Ireland Ltd. All rights reserved.</CopyrightInformation>\n",
       "</Abstract>\n",
       "<AuthorList>\n",
       "<Author>\n",
       "<LastName>Mao</LastName>\n",
       "<ForeName>Qiao</ForeName>\n",
       "<Initials>Q</Initials>\n",
       "<AffiliationInfo>\n",
       "<Affiliation>Biological Psychiatry Research Center, Peking University Huilongguan Teaching Hospital, Beijing 100096, PR China.</Affiliation>\n",
       "</AffiliationInfo>\n",
       "</Author>\n",
       "<Author>\n",
       "<LastName>Tan</LastName>\n",
       "<ForeName>Yun-Long</ForeName>\n",
       "<Initials>YL</Initials>\n",
       "<AffiliationInfo>\n",
       "<Affiliation>Biological Psychiatry Research Center, Peking University Huilongguan Teaching Hospital, Beijing 100096, PR China. Electronic address: yltan21@126.com.</Affiliation>\n",
       "</AffiliationInfo>\n",
       "</Author>\n",
       "<Author>\n",
       "<LastName>Luo</LastName>\n",
       "<ForeName>Xing-Guang</ForeName>\n",
       "<Initials>XG</Initials>\n",
       "<AffiliationInfo>\n",
       "<Affiliation>Department of Psychiatry, Yale University School of Medicine, New Haven, CT, USA.</Affiliation>\n",
       "</AffiliationInfo>\n",
       "</Author>\n",
       "<Author>\n",
       "<LastName>Tian</LastName>\n",
       "<ForeName>Li</ForeName>\n",
       "<Initials>L</Initials>\n",
       "<AffiliationInfo>\n",
       "<Affiliation>Neuroscience Center, University of Helsinki, Viikinkaari 4, FIN-00014 Helsinki, Finland.</Affiliation>\n",
       "</AffiliationInfo>\n",
       "</Author>\n",
       "<Author>\n",
       "<LastName>Wang</LastName>\n",
       "<ForeName>Zhi-Ren</ForeName>\n",
       "<Initials>ZR</Initials>\n",
       "<AffiliationInfo>\n",
       "<Affiliation>Biological Psychiatry Research Center, Peking University Huilongguan Teaching Hospital, Beijing 100096, PR China.</Affiliation>\n",
       "</AffiliationInfo>\n",
       "</Author>\n",
       "<Author>\n",
       "<LastName>Tan</LastName>\n",
       "<ForeName>Shu-Ping</ForeName>\n",
       "<Initials>SP</Initials>\n",
       "<AffiliationInfo>\n",
       "<Affiliation>Biological Psychiatry Research Center, Peking University Huilongguan Teaching Hospital, Beijing 100096, PR China.</Affiliation>\n",
       "</AffiliationInfo>\n",
       "</Author>\n",
       "<Author>\n",
       "<LastName>Chen</LastName>\n",
       "<ForeName>Song</ForeName>\n",
       "<Initials>S</Initials>\n",
       "<AffiliationInfo>\n",
       "<Affiliation>Biological Psychiatry Research Center, Peking University Huilongguan Teaching Hospital, Beijing 100096, PR China.</Affiliation>\n",
       "</AffiliationInfo>\n",
       "</Author>\n",
       "<Author>\n",
       "<LastName>Yang</LastName>\n",
       "<ForeName>Gui-Gang</ForeName>\n",
       "<Initials>GG</Initials>\n",
       "<AffiliationInfo>\n",
       "<Affiliation>Biological Psychiatry Research Center, Peking University Huilongguan Teaching Hospital, Beijing 100096, PR China.</Affiliation>\n",
       "</AffiliationInfo>\n",
       "</Author>\n",
       "<Author>\n",
       "<LastName>An</LastName>\n",
       "<ForeName>Hui-Mei</ForeName>\n",
       "<Initials>HM</Initials>\n",
       "<AffiliationInfo>\n",
       "<Affiliation>Biological Psychiatry Research Center, Peking University Huilongguan Teaching Hospital, Beijing 100096, PR China.</Affiliation>\n",
       "</AffiliationInfo>\n",
       "</Author>\n",
       "<Author>\n",
       "<LastName>Yang</LastName>\n",
       "<ForeName>Fu-De</ForeName>\n",
       "<Initials>FD</Initials>\n",
       "<AffiliationInfo>\n",
       "<Affiliation>Biological Psychiatry Research Center, Peking University Huilongguan Teaching Hospital, Beijing 100096, PR China.</Affiliation>\n",
       "</AffiliationInfo>\n",
       "</Author>\n",
       "<Author>\n",
       "<LastName>Zhang</LastName>\n",
       "<ForeName>Xiang-Yang</ForeName>\n",
       "<Initials>XY</Initials>\n",
       "<AffiliationInfo>\n",
       "<Affiliation>Biological Psychiatry Research Center, Peking University Huilongguan Teaching Hospital, Beijing 100096, PR China; Department of Psychiatry and Behavioral Sciences, Harris County Psychiatric Center, The University of Texas Health Science Center at Houston, Houston, TX, USA.</Affiliation>\n",
       "</AffiliationInfo>\n",
       "</Author>\n",
       "</AuthorList>\n",
       "<Language>ENG</Language>\n",
       "<PublicationTypeList>\n",
       "<PublicationType UI=\"\">JOURNAL ARTICLE</PublicationType>\n",
       "</PublicationTypeList>\n",
       "<ArticleDate DateType=\"Electronic\">\n",
       "<Year>2016</Year>\n",
       "<Month>4</Month>\n",
       "<Day>14</Day>\n",
       "</ArticleDate>\n",
       "</Article>\n",
       "<MedlineJournalInfo>\n",
       "<MedlineTA>Psychiatry Res</MedlineTA>\n",
       "<NlmUniqueID>7911385</NlmUniqueID>\n",
       "<ISSNLinking>0165-1781</ISSNLinking>\n",
       "</MedlineJournalInfo>\n",
       "<KeywordList Owner=\"NOTNLM\">\n",
       "<Keyword MajorTopicYN=\"N\">Biomarker</Keyword>\n",
       "<Keyword MajorTopicYN=\"N\">COMT</Keyword>\n",
       "<Keyword MajorTopicYN=\"N\">Negative symptom</Keyword>\n",
       "<Keyword MajorTopicYN=\"N\">Schizophrenia</Keyword>\n",
       "<Keyword MajorTopicYN=\"N\">Sensory gating</Keyword>\n",
       "</KeywordList>\n",
       "</MedlineCitation>\n",
       "<PubmedData>\n",
       "<History>\n",
       "<PubMedPubDate PubStatus=\"received\">\n",
       "<Year>2015</Year>\n",
       "<Month>2</Month>\n",
       "<Day>4</Day>\n",
       "</PubMedPubDate>\n",
       "<PubMedPubDate PubStatus=\"revised\">\n",
       "<Year>2016</Year>\n",
       "<Month>1</Month>\n",
       "<Day>8</Day>\n",
       "</PubMedPubDate>\n",
       "<PubMedPubDate PubStatus=\"accepted\">\n",
       "<Year>2016</Year>\n",
       "<Month>4</Month>\n",
       "<Day>13</Day>\n",
       "</PubMedPubDate>\n",
       "<PubMedPubDate PubStatus=\"entrez\">\n",
       "<Year>2016</Year>\n",
       "<Month>6</Month>\n",
       "<Day>18</Day>\n",
       "<Hour>6</Hour>\n",
       "<Minute>0</Minute>\n",
       "</PubMedPubDate>\n",
       "<PubMedPubDate PubStatus=\"pubmed\">\n",
       "<Year>2016</Year>\n",
       "<Month>6</Month>\n",
       "<Day>18</Day>\n",
       "<Hour>6</Hour>\n",
       "<Minute>0</Minute>\n",
       "</PubMedPubDate>\n",
       "<PubMedPubDate PubStatus=\"medline\">\n",
       "<Year>2016</Year>\n",
       "<Month>6</Month>\n",
       "<Day>18</Day>\n",
       "<Hour>6</Hour>\n",
       "<Minute>0</Minute>\n",
       "</PubMedPubDate>\n",
       "</History>\n",
       "<PublicationStatus>aheadofprint</PublicationStatus>\n",
       "<ArticleIdList>\n",
       "<ArticleId IdType=\"pii\">S0165-1781(16)30618-7</ArticleId>\n",
       "<ArticleId IdType=\"doi\">10.1016/j.psychres.2016.04.029</ArticleId>\n",
       "<ArticleId IdType=\"pubmed\">27315458</ArticleId>\n",
       "</ArticleIdList>\n",
       "</PubmedData>\n",
       "</PubmedArticle>\n",
       "<PubmedArticle>\n",
       "<MedlineCitation Owner=\"NLM\" Status=\"PubMed-not-MEDLINE\">\n",
       "<PMID Version=\"1\">27308511</PMID>\n",
       "<DateCreated>\n",
       "<Year>2016</Year>\n",
       "<Month>06</Month>\n",
       "<Day>16</Day>\n",
       "</DateCreated>\n",
       "<DateCompleted>\n",
       "<Year>2016</Year>\n",
       "<Month>06</Month>\n",
       "<Day>16</Day>\n",
       "</DateCompleted>\n",
       "<Article PubModel=\"Electronic-eCollection\">\n",
       "<Journal>\n",
       "<ISSN IssnType=\"Electronic\">2372-3556</ISSN>\n",
       "<JournalIssue CitedMedium=\"Print\">\n",
       "<Volume>2</Volume>\n",
       "<Issue>4</Issue>\n",
       "<PubDate>\n",
       "<MedlineDate>2015 Oct-Dec</MedlineDate>\n",
       "</PubDate>\n",
       "</JournalIssue>\n",
       "<Title>Molecular &amp; cellular oncology</Title>\n",
       "<ISOAbbreviation>Mol Cell Oncol</ISOAbbreviation>\n",
       "</Journal>\n",
       "<ArticleTitle>The ubiquitin-proteasome system and activation of NF-κB: involvement of the ubiquitin ligase KPC1 in p105 processing and tumor suppression.</ArticleTitle>\n",
       "<Pagination>\n",
       "<MedlinePgn>e1054552</MedlinePgn>\n",
       "</Pagination>\n",
       "<ELocationID EIdType=\"doi\" ValidYN=\"Y\">10.1080/23723556.2015.1054552</ELocationID>\n",
       "<Abstract>\n",
       "<AbstractText>The p50 subunit of nuclear factor-kappa B (NF-κB) is generated from processing of the p105 precursor. We identified KIP1 ubiquitination-promoting complex 1 (KPC1) as the ubiquitin (Ub) ligase mediating this process. Overexpression of KPC1 results in tumor suppression, probably due to the generation of p50-p50 homodimers. It appears that high levels of KPC1 and nuclear p50 are important for maintaining the non-malignant state.</AbstractText>\n",
       "</Abstract>\n",
       "<AuthorList CompleteYN=\"Y\">\n",
       "<Author ValidYN=\"Y\">\n",
       "<LastName>Kravtsova-Ivantsiv</LastName>\n",
       "<ForeName>Yelena</ForeName>\n",
       "<Initials>Y</Initials>\n",
       "<AffiliationInfo>\n",
       "<Affiliation>The David and Janet Polak Cancer and Vascular Biology Research Center; The Rappaport Faculty of Medicine and Research Institute; Technion - Israel Institute of Technology ; Haifa, Israel.</Affiliation>\n",
       "</AffiliationInfo>\n",
       "</Author>\n",
       "<Author ValidYN=\"Y\">\n",
       "<LastName>Ciechanover</LastName>\n",
       "<ForeName>Aaron</ForeName>\n",
       "<Initials>A</Initials>\n",
       "<AffiliationInfo>\n",
       "<Affiliation>The David and Janet Polak Cancer and Vascular Biology Research Center; The Rappaport Faculty of Medicine and Research Institute; Technion - Israel Institute of Technology ; Haifa, Israel.</Affiliation>\n",
       "</AffiliationInfo>\n",
       "</Author>\n",
       "</AuthorList>\n",
       "<Language>eng</Language>\n",
       "<PublicationTypeList>\n",
       "<PublicationType UI=\"D016428\">Journal Article</PublicationType>\n",
       "</PublicationTypeList>\n",
       "<ArticleDate DateType=\"Electronic\">\n",
       "<Year>2015</Year>\n",
       "<Month>05</Month>\n",
       "<Day>26</Day>\n",
       "</ArticleDate>\n",
       "</Article>\n",
       "<MedlineJournalInfo>\n",
       "<Country>United States</Country>\n",
       "<MedlineTA>Mol Cell Oncol</MedlineTA>\n",
       "<NlmUniqueID>101642411</NlmUniqueID>\n",
       "<ISSNLinking>2372-3556</ISSNLinking>\n",
       "</MedlineJournalInfo>\n",
       "<KeywordList Owner=\"NOTNLM\">\n",
       "<Keyword MajorTopicYN=\"N\">26S proteasome</Keyword>\n",
       "<Keyword MajorTopicYN=\"N\">KPC1</Keyword>\n",
       "<Keyword MajorTopicYN=\"N\">NF-κB</Keyword>\n",
       "<Keyword MajorTopicYN=\"N\">p105</Keyword>\n",
       "<Keyword MajorTopicYN=\"N\">tumor growth regulation</Keyword>\n",
       "<Keyword MajorTopicYN=\"N\">ubiquitin</Keyword>\n",
       "</KeywordList>\n",
       "</MedlineCitation>\n",
       "<PubmedData>\n",
       "<History>\n",
       "<PubMedPubDate PubStatus=\"ecollection\">\n",
       "<Year>2015</Year>\n",
       "<Month/>\n",
       "<Day/>\n",
       "</PubMedPubDate>\n",
       "<PubMedPubDate PubStatus=\"received\">\n",
       "<Year>2015</Year>\n",
       "<Month>5</Month>\n",
       "<Day>18</Day>\n",
       "</PubMedPubDate>\n",
       "<PubMedPubDate PubStatus=\"revised\">\n",
       "<Year>2015</Year>\n",
       "<Month>5</Month>\n",
       "<Day>20</Day>\n",
       "</PubMedPubDate>\n",
       "<PubMedPubDate PubStatus=\"accepted\">\n",
       "<Year>2015</Year>\n",
       "<Month>5</Month>\n",
       "<Day>20</Day>\n",
       "</PubMedPubDate>\n",
       "<PubMedPubDate PubStatus=\"epublish\">\n",
       "<Year>2015</Year>\n",
       "<Month>5</Month>\n",
       "<Day>26</Day>\n",
       "</PubMedPubDate>\n",
       "<PubMedPubDate PubStatus=\"entrez\">\n",
       "<Year>2016</Year>\n",
       "<Month>6</Month>\n",
       "<Day>17</Day>\n",
       "<Hour>6</Hour>\n",
       "<Minute>0</Minute>\n",
       "</PubMedPubDate>\n",
       "<PubMedPubDate PubStatus=\"pubmed\">\n",
       "<Year>2016</Year>\n",
       "<Month>6</Month>\n",
       "<Day>17</Day>\n",
       "<Hour>6</Hour>\n",
       "<Minute>0</Minute>\n",
       "</PubMedPubDate>\n",
       "<PubMedPubDate PubStatus=\"medline\">\n",
       "<Year>2016</Year>\n",
       "<Month>6</Month>\n",
       "<Day>17</Day>\n",
       "<Hour>6</Hour>\n",
       "<Minute>1</Minute>\n",
       "</PubMedPubDate>\n",
       "</History>\n",
       "<PublicationStatus>epublish</PublicationStatus>\n",
       "<ArticleIdList>\n",
       "<ArticleId IdType=\"doi\">10.1080/23723556.2015.1054552</ArticleId>\n",
       "<ArticleId IdType=\"pii\">1054552</ArticleId>\n",
       "<ArticleId IdType=\"pubmed\">27308511</ArticleId>\n",
       "</ArticleIdList>\n",
       "</PubmedData>\n",
       "</PubmedArticle>\n",
       "</PubmedArticleSet>"
      ]
     },
     "execution_count": 100,
     "metadata": {},
     "output_type": "execute_result"
    }
   ],
   "source": [
    "art_page_soup"
   ]
  },
  {
   "cell_type": "code",
   "execution_count": 141,
   "metadata": {
    "collapsed": false
   },
   "outputs": [
    {
     "name": "stdout",
     "output_type": "stream",
     "text": [
      "2\n"
     ]
    }
   ],
   "source": [
    "nArticles = len(art_page_soup.findAll('PubmedArticle'))\n",
    "print(nArticles)"
   ]
  },
  {
   "cell_type": "code",
   "execution_count": 130,
   "metadata": {
    "collapsed": false
   },
   "outputs": [
    {
     "name": "stdout",
     "output_type": "stream",
     "text": [
      "[<DateCreated>\n",
      "<Year>2016</Year>\n",
      "<Month>6</Month>\n",
      "<Day>17</Day>\n",
      "</DateCreated>, <DateCreated>\n",
      "<Year>2016</Year>\n",
      "<Month>06</Month>\n",
      "<Day>16</Day>\n",
      "</DateCreated>]\n",
      "<class 'bs4.element.Tag'>\n",
      "<class 'bs4.element.ResultSet'>\n",
      "2\n"
     ]
    },
    {
     "data": {
      "text/plain": [
       "<Year>2016</Year>"
      ]
     },
     "execution_count": 130,
     "metadata": {},
     "output_type": "execute_result"
    }
   ],
   "source": [
    "title = art_page_soup.findAll('ArticleTitle')\n",
    "#print(len(title))\n",
    "#print(title)\n",
    "\n",
    "abstract_text = art_page_soup.findAll('AbstractText')\n",
    "#print(len(abstract_text))\n",
    "#print(abstract_text)\n",
    "\n",
    "years = art_page_soup.findAll('DateCreated')\n",
    "#print(len(years))\n",
    "#print(years)\n",
    "\n",
    "#print(type(years))\n",
    "#art_page_soup.findChild?\n",
    "\n",
    "aa = art_page_soup.findChild('DateCreated').find('Year')\n",
    "#print(aa)\n",
    "aa.find('Year')\n",
    "\n",
    "bb = art_page_soup.findChildren('DateCreated')\n",
    "bb[0].find('Year')\n",
    "print(bb)\n",
    "\n",
    "print(type(aa))\n",
    "print(type(bb))\n",
    "\n",
    "print(len(bb))\n"
   ]
  },
  {
   "cell_type": "code",
   "execution_count": 34,
   "metadata": {
    "collapsed": true
   },
   "outputs": [],
   "source": [
    "#page_1 = requests.get('http://www.ncbi.nlm.nih.gov/pubmed/' + aa[0].text)\n",
    "#page_1_soup = BeautifulSoup(page_1.content)"
   ]
  },
  {
   "cell_type": "code",
   "execution_count": 35,
   "metadata": {
    "collapsed": false
   },
   "outputs": [],
   "source": [
    "#page_1_soup"
   ]
  },
  {
   "cell_type": "code",
   "execution_count": 31,
   "metadata": {
    "collapsed": false
   },
   "outputs": [
    {
     "name": "stdout",
     "output_type": "stream",
     "text": [
      "<title>Association of catechol-O-methyltransferase Val108/158 Met genetic polymorphism with schizophrenia, P50 sensory gating, and negative symptoms in a ...  - PubMed - NCBI\n",
      "</title>\n"
     ]
    }
   ],
   "source": [
    "title = page_1_soup.find('title')\n",
    "print title\n",
    "\n",
    "abtract = page_1_soup.find('abstracttext')"
   ]
  },
  {
   "cell_type": "code",
   "execution_count": 32,
   "metadata": {
    "collapsed": true
   },
   "outputs": [],
   "source": [
    "aa = page_1_soup.find_all('h1')"
   ]
  },
  {
   "cell_type": "code",
   "execution_count": 33,
   "metadata": {
    "collapsed": false
   },
   "outputs": [
    {
     "data": {
      "text/plain": [
       "[<h1 class=\"img_logo\"><a class=\"pmlogo offscreen\" href=\"/pubmed\" title=\"PubMed\">PubMed</a></h1>,\n",
       " <h1>Association of catechol-O-methyltransferase Val108/158 Met genetic polymorphism with schizophrenia, P50 sensory gating, and negative symptoms in a Chinese population.</h1>]"
      ]
     },
     "execution_count": 33,
     "metadata": {},
     "output_type": "execute_result"
    }
   ],
   "source": [
    "aa"
   ]
  },
  {
   "cell_type": "code",
   "execution_count": null,
   "metadata": {
    "collapsed": true
   },
   "outputs": [],
   "source": []
  }
 ],
 "metadata": {
  "kernelspec": {
   "display_name": "Python 2",
   "language": "python",
   "name": "python2"
  },
  "language_info": {
   "codemirror_mode": {
    "name": "ipython",
    "version": 2
   },
   "file_extension": ".py",
   "mimetype": "text/x-python",
   "name": "python",
   "nbconvert_exporter": "python",
   "pygments_lexer": "ipython2",
   "version": "2.7.11"
  }
 },
 "nbformat": 4,
 "nbformat_minor": 0
}
