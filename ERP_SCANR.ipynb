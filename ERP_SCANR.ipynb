{
 "cells": [
  {
   "cell_type": "markdown",
   "metadata": {},
   "source": [
    "## ERP SCANR\n",
    "\n",
    "\n",
    "."
   ]
  },
  {
   "cell_type": "code",
   "execution_count": 1,
   "metadata": {
    "collapsed": false
   },
   "outputs": [],
   "source": [
    "## Imports\n",
    "\n",
    "# Import custom code\n",
    "from erpsc import *\n",
    "\n",
    "# TEST IMPORTS\n",
    "import requests\n",
    "from bs4 import BeautifulSoup"
   ]
  },
  {
   "cell_type": "code",
   "execution_count": 2,
   "metadata": {
    "collapsed": false
   },
   "outputs": [],
   "source": [
    "## Things to search through - full set\n",
    "erps = ['P50', 'P100', 'P200', 'P300', 'P3a', 'P3b', 'P600', 'N100', 'N170', 'N200',\\\n",
    "         'N270', 'N2pc', 'N400', 'MMN', 'LPC', 'CNV', 'ERN', 'ELAN', 'CPS', 'LRP', 'LDN']\n",
    "cogs = ['language', 'memory', 'attention', 'motor', 'decision making', 'vision', \\\n",
    "         'auditory', 'emotion', 'categorization', 'reward', 'spatial']"
   ]
  },
  {
   "cell_type": "code",
   "execution_count": 4,
   "metadata": {
    "collapsed": true
   },
   "outputs": [],
   "source": [
    "# Small test set of words\n",
    "erps = ['P50', 'P100']\n",
    "cogs = ['language', 'memory']"
   ]
  },
  {
   "cell_type": "markdown",
   "metadata": {},
   "source": [
    "## Co-Occurence of Term Analysis\n",
    "\n",
    "."
   ]
  },
  {
   "cell_type": "code",
   "execution_count": 5,
   "metadata": {
    "collapsed": true
   },
   "outputs": [],
   "source": [
    "# Initialize object for term count co-occurences. \n",
    "term_counts = ERPSC_Count()\n",
    "\n",
    "# Set erp and cog lists as terms to use\n",
    "term_counts.set_erps(erps)\n",
    "term_counts.set_cogs(cogs)"
   ]
  },
  {
   "cell_type": "code",
   "execution_count": 6,
   "metadata": {
    "collapsed": false
   },
   "outputs": [],
   "source": [
    "# Scrape the co-occurence of terms data\n",
    "term_counts.scrape_data()"
   ]
  },
  {
   "cell_type": "code",
   "execution_count": 7,
   "metadata": {
    "collapsed": false
   },
   "outputs": [
    {
     "name": "stdout",
     "output_type": "stream",
     "text": [
      "For the  P50   the most common association is \t memory     with \t %01.39\n",
      "For the  P100  the most common association is \t memory     with \t %02.44\n"
     ]
    }
   ],
   "source": [
    "# Check the most commonly associated COG term for each ERP\n",
    "term_counts.check_erps()"
   ]
  },
  {
   "cell_type": "code",
   "execution_count": 8,
   "metadata": {
    "collapsed": false
   },
   "outputs": [
    {
     "name": "stdout",
     "output_type": "stream",
     "text": [
      "For  language             the strongest associated ERP is \t P100  with \t %00.60\n",
      "For  memory               the strongest associated ERP is \t P100  with \t %02.44\n"
     ]
    }
   ],
   "source": [
    "# Check the most commonly associated ERP term for each COG\n",
    "term_counts.check_cogs()"
   ]
  },
  {
   "cell_type": "code",
   "execution_count": 9,
   "metadata": {
    "collapsed": false
   },
   "outputs": [
    {
     "name": "stdout",
     "output_type": "stream",
     "text": [
      "The most studied ERP is  P50     with     8177 papers\n",
      "The most studied COG is  memory  with   213047  papers\n"
     ]
    }
   ],
   "source": [
    "# Check the terms with the most papers\n",
    "term_counts.check_top()"
   ]
  },
  {
   "cell_type": "code",
   "execution_count": 10,
   "metadata": {
    "collapsed": false
   },
   "outputs": [
    {
     "name": "stdout",
     "output_type": "stream",
     "text": [
      "P50   -     8177\n",
      "P100  -     2171\n"
     ]
    }
   ],
   "source": [
    "# Check how many papers were found for each term - ERPs\n",
    "term_counts.check_counts('erp')"
   ]
  },
  {
   "cell_type": "code",
   "execution_count": 11,
   "metadata": {
    "collapsed": false
   },
   "outputs": [
    {
     "name": "stdout",
     "output_type": "stream",
     "text": [
      "language           -     135605\n",
      "memory             -     213047\n"
     ]
    }
   ],
   "source": [
    "# Check how many papers were found for each term - COGs\n",
    "term_counts.check_counts('cog')"
   ]
  },
  {
   "cell_type": "code",
   "execution_count": 12,
   "metadata": {
    "collapsed": false
   },
   "outputs": [],
   "source": [
    "# Save pickle file of results\n",
    "term_counts.save_pickle()"
   ]
  },
  {
   "cell_type": "code",
   "execution_count": 13,
   "metadata": {
    "collapsed": false
   },
   "outputs": [],
   "source": [
    "# Test load pickle\n",
    "aa = load_pickle_counts()"
   ]
  },
  {
   "cell_type": "code",
   "execution_count": 14,
   "metadata": {
    "collapsed": false
   },
   "outputs": [
    {
     "name": "stdout",
     "output_type": "stream",
     "text": [
      "language           -     135605\n",
      "memory             -     213047\n"
     ]
    }
   ],
   "source": [
    "aa.check_counts('cog')"
   ]
  },
  {
   "cell_type": "markdown",
   "metadata": {},
   "source": [
    "## WORD ANALYSIS\n",
    "\n",
    "."
   ]
  },
  {
   "cell_type": "code",
   "execution_count": null,
   "metadata": {
    "collapsed": true
   },
   "outputs": [],
   "source": [
    "test = ERPSC_Words()"
   ]
  },
  {
   "cell_type": "code",
   "execution_count": null,
   "metadata": {
    "collapsed": true
   },
   "outputs": [],
   "source": [
    "\n",
    "\n",
    "\n",
    "\n",
    "\n",
    "\n",
    "\n"
   ]
  },
  {
   "cell_type": "code",
   "execution_count": 17,
   "metadata": {
    "collapsed": false
   },
   "outputs": [
    {
     "name": "stdout",
     "output_type": "stream",
     "text": [
      "8177\n",
      "8177\n"
     ]
    }
   ],
   "source": [
    "# Test Code\n",
    "\n",
    "#page = requests.get('http://eutils.ncbi.nlm.nih.gov/entrez/eutils/esearch.fcgi?db=pubmed&field=word&term=“N270”AND”Language”')\n",
    "page = requests.get('http://eutils.ncbi.nlm.nih.gov/entrez/eutils/esearch.fcgi?db=pubmed&field=word&term=“P50”&retmax=50')\n",
    "\n",
    "page_soup = BeautifulSoup(page.content)\n",
    "\n",
    "counts = page_soup.find_all('count')\n",
    "\n",
    "for i in range(0, len(counts)):\n",
    "    count = counts[i]\n",
    "    ext = count.text\n",
    "    print int(ext)"
   ]
  },
  {
   "cell_type": "code",
   "execution_count": 18,
   "metadata": {
    "collapsed": false
   },
   "outputs": [
    {
     "data": {
      "text/plain": [
       "<!DOCTYPE eSearchResult PUBLIC \"-//NLM//DTD esearch 20060628//EN\" \"http://eutils.ncbi.nlm.nih.gov/eutils/dtd/20060628/esearch.dtd\">\n",
       "<html><body><esearchresult><count>8177</count><retmax>50</retmax><retstart>0</retstart><idlist>\n",
       "<id>27315458</id>\n",
       "<id>27308511</id>\n",
       "<id>27302421</id>\n",
       "<id>27295376</id>\n",
       "<id>27290699</id>\n",
       "<id>27287810</id>\n",
       "<id>27281270</id>\n",
       "<id>27279585</id>\n",
       "<id>27271273</id>\n",
       "<id>27268961</id>\n",
       "<id>27264783</id>\n",
       "<id>27264614</id>\n",
       "<id>27262063</id>\n",
       "<id>27256734</id>\n",
       "<id>27256730</id>\n",
       "<id>27252578</id>\n",
       "<id>27250735</id>\n",
       "<id>27243897</id>\n",
       "<id>27242078</id>\n",
       "<id>27242072</id>\n",
       "<id>27238796</id>\n",
       "<id>27234131</id>\n",
       "<id>27217271</id>\n",
       "<id>27216047</id>\n",
       "<id>27198178</id>\n",
       "<id>27197825</id>\n",
       "<id>27197812</id>\n",
       "<id>27194765</id>\n",
       "<id>27190325</id>\n",
       "<id>27183665</id>\n",
       "<id>27180104</id>\n",
       "<id>27178864</id>\n",
       "<id>27178167</id>\n",
       "<id>27176922</id>\n",
       "<id>27168850</id>\n",
       "<id>27168061</id>\n",
       "<id>27162449</id>\n",
       "<id>27161000</id>\n",
       "<id>27147748</id>\n",
       "<id>27145282</id>\n",
       "<id>27141897</id>\n",
       "<id>27139571</id>\n",
       "<id>27138602</id>\n",
       "<id>27132515</id>\n",
       "<id>27126340</id>\n",
       "<id>27122325</id>\n",
       "<id>27118659</id>\n",
       "<id>27108556</id>\n",
       "<id>27101794</id>\n",
       "<id>27098223</id>\n",
       "</idlist><translationset></translationset><translationstack> <termset> <term>\"P50\"[Text Word]</term> <field>Text Word</field> <count>8177</count> <explode>N</explode> </termset> <op>GROUP</op> </translationstack><querytranslation>\"P50\"[Text Word]</querytranslation></esearchresult>\n",
       "</body></html>"
      ]
     },
     "execution_count": 18,
     "metadata": {},
     "output_type": "execute_result"
    }
   ],
   "source": [
    "page_soup"
   ]
  },
  {
   "cell_type": "code",
   "execution_count": 19,
   "metadata": {
    "collapsed": true
   },
   "outputs": [],
   "source": [
    "aa = page_soup.find_all('id')"
   ]
  },
  {
   "cell_type": "code",
   "execution_count": 20,
   "metadata": {
    "collapsed": false
   },
   "outputs": [
    {
     "data": {
      "text/plain": [
       "u'27308511'"
      ]
     },
     "execution_count": 20,
     "metadata": {},
     "output_type": "execute_result"
    }
   ],
   "source": [
    "aa[1].text"
   ]
  },
  {
   "cell_type": "code",
   "execution_count": 22,
   "metadata": {
    "collapsed": false
   },
   "outputs": [
    {
     "data": {
      "text/plain": [
       "50"
      ]
     },
     "execution_count": 22,
     "metadata": {},
     "output_type": "execute_result"
    }
   ],
   "source": [
    "len(aa)"
   ]
  },
  {
   "cell_type": "code",
   "execution_count": 24,
   "metadata": {
    "collapsed": true
   },
   "outputs": [],
   "source": [
    "page_1 = requests.get('http://www.ncbi.nlm.nih.gov/pubmed/' + aa[0].text)\n",
    "page_1_soup = BeautifulSoup(page_1.content)"
   ]
  },
  {
   "cell_type": "code",
   "execution_count": 25,
   "metadata": {
    "collapsed": false
   },
   "outputs": [
    {
     "data": {
      "text/plain": [
       "<!DOCTYPE html PUBLIC \"-//W3C//DTD XHTML 1.0 Transitional//EN\" \"http://www.w3.org/TR/xhtml1/DTD/xhtml1-transitional.dtd\">\n",
       "<html xmlns=\"http://www.w3.org/1999/xhtml\">\n",
       "<head xmlns:xi=\"http://www.w3.org/2001/XInclude\"><meta content=\"text/html; charset=utf-8\" http-equiv=\"Content-Type\"/>\n",
       "<!-- meta -->\n",
       "<meta content=\"index,nofollow,noarchive\" name=\"robots\"/><meta content=\"http://www.ncbi.nlm.nih.gov/coreutils/img/pubmed256blue.png\" property=\"og:image\"/><meta content=\"https://www.ncbi.nlm.nih.gov/coreutils/img/pubmed256blue.png\" property=\"og:image:secure_url\"/>\n",
       "<meta content=\"entrez\" name=\"ncbi_app\"/><meta content=\"pubmed\" name=\"ncbi_db\"/><meta content=\"abstract\" name=\"ncbi_report\"/><meta content=\"html\" name=\"ncbi_format\"/><meta content=\"20\" name=\"ncbi_pagesize\"/><meta content=\"default\" name=\"ncbi_sortorder\"/><meta content=\"1\" name=\"ncbi_pageno\"/><meta content=\"1\" name=\"ncbi_resultcount\"/><meta content=\"retrieve\" name=\"ncbi_op\"/><meta content=\"abstract\" name=\"ncbi_pdid\"/><meta content=\"CE887D01765C69B1_0094SID\" name=\"ncbi_sessionid\"/><meta content=\"27315458\" name=\"ncbi_uidlist\"/><meta content=\"all\" name=\"ncbi_filter\"/><meta content=\"false\" name=\"ncbi_stat\"/><meta content=\"false\" name=\"ncbi_hitstat\"/>\n",
       "<!-- title -->\n",
       "<title>Association of catechol-O-methyltransferase Val108/158 Met genetic polymorphism with schizophrenia, P50 sensory gating, and negative symptoms in a ...  - PubMed - NCBI\n",
       "</title>\n",
       "<!-- Common JS and CSS -->\n",
       "<script type=\"text/javascript\">\n",
       "\t\t    var ncbi_startTime = new Date();\n",
       "\t\t</script>\n",
       "<link href=\"/feed/rss.cgi?ChanKey=PubMedNews\" rel=\"alternate\" title=\"PubMed New and Noteworthy\" type=\"application/rss+xml\"/>\n",
       "<link href=\"/corehtml/query/static/pubmedsearch.xml\" rel=\"search\" title=\"PubMed search\" type=\"application/opensearchdescription+xml\"/>\n",
       "<script src=\"//static.pubmed.gov/core/jig/1.14.7/js/jig.min.js\" type=\"text/javascript\"></script><meta content=\"Mao Q , et al.\" name=\"author\"/><meta content=\"Psychiatry Res. 2016 Apr 14;242:271-276. doi: 10.1016/j.psychres.2016.04.029. [Epub ahead of print]\" name=\"description\"/><meta content=\"Biomarker;COMT;Negative symptom;Schizophrenia;Sensory gating\" name=\"keywords\"/>\n",
       "<link href=\"//static.pubmed.gov/portal/portal3rc.fcgi/4117326/css/3881636/3579733.css\" rel=\"stylesheet\" type=\"text/css\" xml:base=\"http://127.0.0.1/sites/static/header_footer/\" xmlns=\"http://www.w3.org/1999/xhtml\"/><link href=\"//static.pubmed.gov/portal/portal3rc.fcgi/4117326/css/3529739.css\" media=\"print\" rel=\"stylesheet\" type=\"text/css\" xml:base=\"http://127.0.0.1/sites/static/header_footer/\" xmlns=\"http://www.w3.org/1999/xhtml\"/>\n",
       "<link href=\"//www.ncbi.nlm.nih.gov/favicon.ico\" rel=\"shortcut icon\"/><meta content=\"CE887D01765C618100000000005EAD55\" name=\"ncbi_phid\"/><script type=\"text/javascript\"><!--\n",
       "var ScriptUrl = 'http://www.ncbi.nlm.nih.gov/pubmed';\n",
       "var ScriptPath = '/portal/';\n",
       "var objHierarchy = {\"name\":\"EntrezSystem2\",\"type\":\"Layout\",\"realname\":\"EntrezSystem2\",\n",
       "\"children\":[{\"name\":\"EntrezSystem2.PEntrez\",\"type\":\"Cluster\",\"realname\":\"EntrezSystem2.PEntrez\",\n",
       "\"children\":[{\"name\":\"EntrezSystem2.PEntrez.DbConnector\",\"type\":\"Portlet\",\"realname\":\"EntrezSystem2.PEntrez.PEntrez.DbConnector\",\"shortname\":\"DbConnector\"},\n",
       "{\"name\":\"EntrezSystem2.PEntrez.ParamContainer\",\"type\":\"Portlet\",\"realname\":\"EntrezSystem2.PEntrez.PEntrez.ParamContainer\",\"shortname\":\"ParamContainer\"},\n",
       "{\"name\":\"EntrezSystem2.PEntrez.MyNcbi\",\"type\":\"Portlet\",\"realname\":\"EntrezSystem2.PEntrez.PEntrez.MyNcbi\",\"shortname\":\"MyNcbi\"},\n",
       "{\"name\":\"EntrezSystem2.PEntrez.UserPreferenceUrlParamContainer\",\"type\":\"Portlet\",\"realname\":\"EntrezSystem2.PEntrez.PEntrez.UserPreferenceUrlParamContainer\",\"shortname\":\"UserPreferenceUrlParamContainer\"},\n",
       "{\"name\":\"EntrezSystem2.PEntrez.GridProperty\",\"type\":\"Portlet\",\"realname\":\"EntrezSystem2.PEntrez.PEntrez.GridProperty\",\"shortname\":\"GridProperty\"},\n",
       "{\"name\":\"EntrezSystem2.PEntrez.PubMed\",\"type\":\"Cluster\",\"realname\":\"EntrezSystem2.PEntrez.PubMed\",\n",
       "\"children\":[{\"name\":\"EntrezSystem2.PEntrez.PubMed.NoPortlet\",\"type\":\"Portlet\",\"realname\":\"EntrezSystem2.PEntrez.PubMed.Entrez_Database.NoPortlet\",\"shortname\":\"NoPortlet\"},\n",
       "{\"name\":\"EntrezSystem2.PEntrez.PubMed.Pubmed_PageController\",\"type\":\"Portlet\",\"realname\":\"EntrezSystem2.PEntrez.PubMed.Pubmed_PageController\",\"shortname\":\"Pubmed_PageController\"},\n",
       "{\"name\":\"EntrezSystem2.PEntrez.PubMed.Pubmed_SearchBar\",\"type\":\"Portlet\",\"realname\":\"EntrezSystem2.PEntrez.PubMed.Pubmed_SearchBar\",\"shortname\":\"Pubmed_SearchBar\"},\n",
       "{\"name\":\"EntrezSystem2.PEntrez.PubMed.Entrez_BotRequest\",\"type\":\"Portlet\",\"realname\":\"EntrezSystem2.PEntrez.PubMed.Entrez_Database.Entrez_BotRequest\",\"shortname\":\"Entrez_BotRequest\"},\n",
       "{\"name\":\"EntrezSystem2.PEntrez.PubMed.Entrez_LimitsTab\",\"type\":\"Portlet\",\"realname\":\"EntrezSystem2.PEntrez.PubMed.Entrez_Database.Entrez_LimitsTab\",\"shortname\":\"Entrez_LimitsTab\"},\n",
       "{\"name\":\"EntrezSystem2.PEntrez.PubMed.Pubmed_Facets\",\"type\":\"Portlet\",\"realname\":\"EntrezSystem2.PEntrez.PubMed.Pubmed_Facets\",\"shortname\":\"Pubmed_Facets\"},\n",
       "{\"name\":\"EntrezSystem2.PEntrez.PubMed.Entrez_Clipboard\",\"type\":\"Portlet\",\"realname\":\"EntrezSystem2.PEntrez.PubMed.Entrez_Database.Entrez_Clipboard\",\"shortname\":\"Entrez_Clipboard\"},\n",
       "{\"name\":\"EntrezSystem2.PEntrez.PubMed.Pubmed_StaticParts\",\"type\":\"Portlet\",\"realname\":\"EntrezSystem2.PEntrez.PubMed.Pubmed_StaticParts\",\"shortname\":\"Pubmed_StaticParts\"},\n",
       "{\"name\":\"EntrezSystem2.PEntrez.PubMed.Entrez_Messages\",\"type\":\"Portlet\",\"realname\":\"EntrezSystem2.PEntrez.PubMed.Entrez_Database.Entrez_Messages\",\"shortname\":\"Entrez_Messages\"},\n",
       "{\"name\":\"EntrezSystem2.PEntrez.PubMed.NcbiJSCheck\",\"type\":\"Portlet\",\"realname\":\"EntrezSystem2.PEntrez.PubMed.Entrez_Database.NcbiJSCheck\",\"shortname\":\"NcbiJSCheck\"},\n",
       "{\"name\":\"EntrezSystem2.PEntrez.PubMed.NCBIFooter_dynamic\",\"type\":\"Cluster\",\"realname\":\"EntrezSystem2.PEntrez.PubMed.Entrez_Database.NCBIFooter_dynamic\",\n",
       "\"children\":[{\"name\":\"EntrezSystem2.PEntrez.PubMed.NCBIFooter_dynamic.Footer_ExtraData\",\"type\":\"Portlet\",\"realname\":\"EntrezSystem2.PEntrez.PubMed.Entrez_Database.NCBIFooter_dynamic.Footer_ExtraData\",\"shortname\":\"Footer_ExtraData\"},\n",
       "{\"name\":\"EntrezSystem2.PEntrez.PubMed.NCBIFooter_dynamic.NCBIFooter_dynamic\",\"type\":\"Cluster\",\"realname\":\"EntrezSystem2.PEntrez.PubMed.Entrez_Database.NCBIFooter_dynamic.NCBIFooter_dynamic\",\n",
       "\"children\":[{\"name\":\"EntrezSystem2.PEntrez.PubMed.NCBIFooter_dynamic.NCBIFooter_dynamic.NCBIBreadcrumbs\",\"type\":\"Portlet\",\"realname\":\"EntrezSystem2.PEntrez.PubMed.Entrez_Database.NCBIFooter_dynamic.NCBIFooter_dynamic.NCBIBreadcrumbs\",\"shortname\":\"NCBIBreadcrumbs\"},\n",
       "{\"name\":\"EntrezSystem2.PEntrez.PubMed.NCBIFooter_dynamic.NCBIFooter_dynamic.NCBIHelpDesk\",\"type\":\"Portlet\",\"realname\":\"EntrezSystem2.PEntrez.PubMed.Entrez_Database.NCBIFooter_dynamic.NCBIFooter_dynamic.NCBIHelpDesk\",\"shortname\":\"NCBIHelpDesk\"},\n",
       "{\"name\":\"EntrezSystem2.PEntrez.PubMed.NCBIFooter_dynamic.NCBIFooter_dynamic.NCBIApplog_NoScript_Ping\",\"type\":\"Portlet\",\"realname\":\"EntrezSystem2.PEntrez.PubMed.Entrez_Database.NCBIFooter_dynamic.NCBIFooter_dynamic.NCBIApplog_NoScript_Ping\",\"shortname\":\"NCBIApplog_NoScript_Ping\"}]}]},\n",
       "{\"name\":\"EntrezSystem2.PEntrez.PubMed.Pubmed_ResultsPanel\",\"type\":\"Cluster\",\"realname\":\"EntrezSystem2.PEntrez.PubMed.Pubmed_ResultsPanel\",\n",
       "\"children\":[{\"name\":\"EntrezSystem2.PEntrez.PubMed.Pubmed_ResultsPanel.blankToolPanel\",\"type\":\"Portlet\",\"realname\":\"EntrezSystem2.PEntrez.PubMed.Pubmed_ResultsPanel.Entrez_ResultsPanel.blankToolPanel\",\"shortname\":\"blankToolPanel\"},\n",
       "{\"name\":\"EntrezSystem2.PEntrez.PubMed.Pubmed_ResultsPanel.Pubmed_ResultsController\",\"type\":\"Portlet\",\"realname\":\"EntrezSystem2.PEntrez.PubMed.Pubmed_ResultsPanel.Pubmed_ResultsController\",\"shortname\":\"Pubmed_ResultsController\"},\n",
       "{\"name\":\"EntrezSystem2.PEntrez.PubMed.Pubmed_ResultsPanel.Entrez_Filters\",\"type\":\"Portlet\",\"realname\":\"EntrezSystem2.PEntrez.PubMed.Pubmed_ResultsPanel.Entrez_ResultsPanel.Entrez_Filters\",\"shortname\":\"Entrez_Filters\"},\n",
       "{\"name\":\"EntrezSystem2.PEntrez.PubMed.Pubmed_ResultsPanel.Entrez_Pager\",\"type\":\"Portlet\",\"realname\":\"EntrezSystem2.PEntrez.PubMed.Pubmed_ResultsPanel.Entrez_ResultsPanel.Entrez_Pager\",\"shortname\":\"Entrez_Pager\"},\n",
       "{\"name\":\"EntrezSystem2.PEntrez.PubMed.Pubmed_ResultsPanel.Pubmed_DisplayBar\",\"type\":\"Portlet\",\"realname\":\"EntrezSystem2.PEntrez.PubMed.Pubmed_ResultsPanel.Pubmed_DisplayBar\",\"shortname\":\"Pubmed_DisplayBar\"},\n",
       "{\"name\":\"EntrezSystem2.PEntrez.PubMed.Pubmed_ResultsPanel.HelpFormAttributes\",\"type\":\"Portlet\",\"realname\":\"EntrezSystem2.PEntrez.PubMed.Pubmed_ResultsPanel.Entrez_ResultsPanel.HelpFormAttributes\",\"shortname\":\"HelpFormAttributes\"},\n",
       "{\"name\":\"EntrezSystem2.PEntrez.PubMed.Pubmed_ResultsPanel.Pubmed_Collections\",\"type\":\"Portlet\",\"realname\":\"EntrezSystem2.PEntrez.PubMed.Pubmed_ResultsPanel.Pubmed_Collections\",\"shortname\":\"Pubmed_Collections\"},\n",
       "{\"name\":\"EntrezSystem2.PEntrez.PubMed.Pubmed_ResultsPanel.SpellCheck\",\"type\":\"Portlet\",\"realname\":\"EntrezSystem2.PEntrez.PubMed.Pubmed_ResultsPanel.Entrez_ResultsPanel.SpellCheck\",\"shortname\":\"SpellCheck\"},\n",
       "{\"name\":\"EntrezSystem2.PEntrez.PubMed.Pubmed_ResultsPanel.SearchEngineReferralCheck\",\"type\":\"Portlet\",\"realname\":\"EntrezSystem2.PEntrez.PubMed.Pubmed_ResultsPanel.Entrez_ResultsPanel.SearchEngineReferralCheck\",\"shortname\":\"SearchEngineReferralCheck\"},\n",
       "{\"name\":\"EntrezSystem2.PEntrez.PubMed.Pubmed_ResultsPanel.MultiSensorPortlet\",\"type\":\"Portlet\",\"realname\":\"EntrezSystem2.PEntrez.PubMed.Pubmed_ResultsPanel.Entrez_ResultsPanel.MultiSensorPortlet\",\"shortname\":\"MultiSensorPortlet\"},\n",
       "{\"name\":\"EntrezSystem2.PEntrez.PubMed.Pubmed_ResultsPanel.WrongDbSensor\",\"type\":\"Portlet\",\"realname\":\"EntrezSystem2.PEntrez.PubMed.Pubmed_ResultsPanel.Entrez_ResultsPanel.WrongDbSensor\",\"shortname\":\"WrongDbSensor\"},\n",
       "{\"name\":\"EntrezSystem2.PEntrez.PubMed.Pubmed_ResultsPanel.KnowledgePanel\",\"type\":\"Portlet\",\"realname\":\"EntrezSystem2.PEntrez.PubMed.Pubmed_ResultsPanel.Entrez_ResultsPanel.KnowledgePanel\",\"shortname\":\"KnowledgePanel\"},\n",
       "{\"name\":\"EntrezSystem2.PEntrez.PubMed.Pubmed_ResultsPanel.blank_history\",\"type\":\"Portlet\",\"realname\":\"EntrezSystem2.PEntrez.PubMed.Pubmed_ResultsPanel.blank_history\",\"shortname\":\"blank_history\"},\n",
       "{\"name\":\"EntrezSystem2.PEntrez.PubMed.Pubmed_ResultsPanel.blank_searchdetails\",\"type\":\"Portlet\",\"realname\":\"EntrezSystem2.PEntrez.PubMed.Pubmed_ResultsPanel.blank_searchdetails\",\"shortname\":\"blank_searchdetails\"},\n",
       "{\"name\":\"EntrezSystem2.PEntrez.PubMed.Pubmed_ResultsPanel.EmailTab\",\"type\":\"Portlet\",\"realname\":\"EntrezSystem2.PEntrez.PubMed.Pubmed_ResultsPanel.EmailTab\",\"shortname\":\"EmailTab\"},\n",
       "{\"name\":\"EntrezSystem2.PEntrez.PubMed.Pubmed_ResultsPanel.Order\",\"type\":\"Portlet\",\"realname\":\"EntrezSystem2.PEntrez.PubMed.Pubmed_ResultsPanel.Order\",\"shortname\":\"Order\"},\n",
       "{\"name\":\"EntrezSystem2.PEntrez.PubMed.Pubmed_ResultsPanel.SmartSearch\",\"type\":\"Portlet\",\"realname\":\"EntrezSystem2.PEntrez.PubMed.Pubmed_ResultsPanel.SmartSearch\",\"shortname\":\"SmartSearch\"},\n",
       "{\"name\":\"EntrezSystem2.PEntrez.PubMed.Pubmed_ResultsPanel.AccessionSensor\",\"type\":\"Portlet\",\"realname\":\"EntrezSystem2.PEntrez.PubMed.Pubmed_ResultsPanel.AccessionSensor\",\"shortname\":\"AccessionSensor\"},\n",
       "{\"name\":\"EntrezSystem2.PEntrez.PubMed.Pubmed_ResultsPanel.GeneSensor\",\"type\":\"Portlet\",\"realname\":\"EntrezSystem2.PEntrez.PubMed.Pubmed_ResultsPanel.GeneSensor\",\"shortname\":\"GeneSensor\"},\n",
       "{\"name\":\"EntrezSystem2.PEntrez.PubMed.Pubmed_ResultsPanel.TimelineAdPlaceHolder\",\"type\":\"Portlet\",\"realname\":\"EntrezSystem2.PEntrez.PubMed.Pubmed_ResultsPanel.TimelineAdPlaceHolder\",\"shortname\":\"TimelineAdPlaceHolder\"},\n",
       "{\"name\":\"EntrezSystem2.PEntrez.PubMed.Pubmed_ResultsPanel.Pubmed_RVAbstract\",\"type\":\"Portlet\",\"realname\":\"EntrezSystem2.PEntrez.PubMed.Pubmed_ResultsPanel.Pubmed_RVAbstract\",\"shortname\":\"Pubmed_RVAbstract\"},\n",
       "{\"name\":\"EntrezSystem2.PEntrez.PubMed.Pubmed_ResultsPanel.Pubmed_SingleItemSuplAjax\",\"type\":\"Portlet\",\"realname\":\"EntrezSystem2.PEntrez.PubMed.Pubmed_ResultsPanel.Pubmed_SingleItemSuplAjax\",\"shortname\":\"Pubmed_SingleItemSuplAjax\"}]}]}]}]};\n",
       "--></script><link href=\"//static.pubmed.gov/portal/portal3rc.fcgi/4116257/css/3808861/3917732/3974050/3751656/3395415/3318467/14534/4062871/4008682/4080916/4068423/4047629/4052581/23471/4075711/12930/4033350/3861632/4013176/4114807/4015625/3357701.css\" rel=\"stylesheet\" type=\"text/css\"/><link href=\"//static.pubmed.gov/portal/portal3rc.fcgi/4116257/css/3501913/1303451/1947359/3529739.css\" media=\"print\" rel=\"stylesheet\" type=\"text/css\"/><script type=\"text/javascript\">\n",
       "\n",
       "var ObjectLinks=[{i:0, ename: \"p$ExL\", esid:\"*\", sname: \"p$ExL\", ssid:\"*\", dname:\"p$el\", dsid:\"0\",m:\"CopyValue\",p:[],f: function(src, dst) {fn_CopyValue(src, dst);}}]\n",
       "\n",
       "\n",
       "var ActiveNames = {\"p$ExL\":1, \"EntrezSystem2.PEntrez.DbConnector.Cmd\":0, \"EntrezSystem2.PEntrez.DbConnector.Db\":0, \"EntrezSystem2.PEntrez.DbConnector.IdsFromResult\":0, \"EntrezSystem2.PEntrez.DbConnector.LastDb\":0, \"EntrezSystem2.PEntrez.DbConnector.LastIdsFromResult\":0, \"EntrezSystem2.PEntrez.DbConnector.LastQueryKey\":0, \"EntrezSystem2.PEntrez.DbConnector.LastTabCmd\":0, \"EntrezSystem2.PEntrez.DbConnector.LinkName\":0, \"EntrezSystem2.PEntrez.DbConnector.LinkReadableName\":0, \"EntrezSystem2.PEntrez.DbConnector.LinkSrcDb\":0, \"EntrezSystem2.PEntrez.DbConnector.QueryKey\":0, \"EntrezSystem2.PEntrez.DbConnector.TabCmd\":0, \"EntrezSystem2.PEntrez.DbConnector.Term\":0, \"EntrezSystem2.PEntrez.PubMed.Pubmed_PageController.PreviousPageName\":0, \"EntrezSystem2.PEntrez.PubMed.Pubmed_PageController.SpecialPageName\":0, \"EntrezSystem2.PEntrez.PubMed.Pubmed_ResultsPanel.EmailTab.Answer\":0, \"EntrezSystem2.PEntrez.PubMed.Pubmed_ResultsPanel.EmailTab.Email\":0, \"EntrezSystem2.PEntrez.PubMed.Pubmed_ResultsPanel.EmailTab.EmailCount\":0, \"EntrezSystem2.PEntrez.PubMed.Pubmed_ResultsPanel.EmailTab.EmailFormat\":0, \"EntrezSystem2.PEntrez.PubMed.Pubmed_ResultsPanel.EmailTab.EmailHID\":0, \"EntrezSystem2.PEntrez.PubMed.Pubmed_ResultsPanel.EmailTab.EmailQueryKey\":0, \"EntrezSystem2.PEntrez.PubMed.Pubmed_ResultsPanel.EmailTab.EmailReport\":0, \"EntrezSystem2.PEntrez.PubMed.Pubmed_ResultsPanel.EmailTab.EmailSort\":0, \"EntrezSystem2.PEntrez.PubMed.Pubmed_ResultsPanel.EmailTab.EmailStart\":0, \"EntrezSystem2.PEntrez.PubMed.Pubmed_ResultsPanel.EmailTab.EmailSubject\":0, \"EntrezSystem2.PEntrez.PubMed.Pubmed_ResultsPanel.EmailTab.EmailText\":0, \"EntrezSystem2.PEntrez.PubMed.Pubmed_ResultsPanel.EmailTab.Holding\":0, \"EntrezSystem2.PEntrez.PubMed.Pubmed_ResultsPanel.EmailTab.HoldingFft\":0, \"EntrezSystem2.PEntrez.PubMed.Pubmed_ResultsPanel.EmailTab.HoldingNdiSet\":0, \"EntrezSystem2.PEntrez.PubMed.Pubmed_ResultsPanel.EmailTab.Key\":0, \"EntrezSystem2.PEntrez.PubMed.Pubmed_ResultsPanel.EmailTab.OToolValue\":0, \"EntrezSystem2.PEntrez.PubMed.Pubmed_ResultsPanel.EmailTab.QueryDescription\":0, \"EntrezSystem2.PEntrez.PubMed.Pubmed_ResultsPanel.EmailTab.SubjectList\":0, \"EntrezSystem2.PEntrez.PubMed.Pubmed_ResultsPanel.Pubmed_DisplayBar.Display\":0, \"EntrezSystem2.PEntrez.PubMed.Pubmed_ResultsPanel.Pubmed_DisplayBar.FFormat\":0, \"EntrezSystem2.PEntrez.PubMed.Pubmed_ResultsPanel.Pubmed_DisplayBar.FileFormat\":0, \"EntrezSystem2.PEntrez.PubMed.Pubmed_ResultsPanel.Pubmed_DisplayBar.FileSort\":0, \"EntrezSystem2.PEntrez.PubMed.Pubmed_ResultsPanel.Pubmed_DisplayBar.Format\":0, \"EntrezSystem2.PEntrez.PubMed.Pubmed_ResultsPanel.Pubmed_DisplayBar.LastFormat\":0, \"EntrezSystem2.PEntrez.PubMed.Pubmed_ResultsPanel.Pubmed_DisplayBar.LastPageSize\":0, \"EntrezSystem2.PEntrez.PubMed.Pubmed_ResultsPanel.Pubmed_DisplayBar.LastPresentation\":0, \"EntrezSystem2.PEntrez.PubMed.Pubmed_ResultsPanel.Pubmed_DisplayBar.LastSort\":0, \"EntrezSystem2.PEntrez.PubMed.Pubmed_ResultsPanel.Pubmed_DisplayBar.PageSize\":0, \"EntrezSystem2.PEntrez.PubMed.Pubmed_ResultsPanel.Pubmed_DisplayBar.Presentation\":0, \"EntrezSystem2.PEntrez.PubMed.Pubmed_ResultsPanel.Pubmed_DisplayBar.PrevPageSize\":0, \"EntrezSystem2.PEntrez.PubMed.Pubmed_ResultsPanel.Pubmed_DisplayBar.PrevPresentation\":0, \"EntrezSystem2.PEntrez.PubMed.Pubmed_ResultsPanel.Pubmed_DisplayBar.PrevSort\":0, \"EntrezSystem2.PEntrez.PubMed.Pubmed_ResultsPanel.Pubmed_DisplayBar.SendTo\":0, \"EntrezSystem2.PEntrez.PubMed.Pubmed_ResultsPanel.Pubmed_DisplayBar.SendToSubmit\":0, \"EntrezSystem2.PEntrez.PubMed.Pubmed_ResultsPanel.Pubmed_DisplayBar.SetDisplay\":0, \"EntrezSystem2.PEntrez.PubMed.Pubmed_ResultsPanel.Pubmed_DisplayBar.Sort\":0, \"EntrezSystem2.PEntrez.PubMed.Pubmed_ResultsPanel.Pubmed_DisplayBar.sPresentation\":0, \"EntrezSystem2.PEntrez.PubMed.Pubmed_ResultsPanel.Pubmed_ResultsController.ResultCount\":0, \"EntrezSystem2.PEntrez.PubMed.Pubmed_ResultsPanel.Pubmed_ResultsController.RunLastQuery\":0};\n",
       "</script></head>\n",
       "<body>\n",
       "<div class=\"grid\">\n",
       "<div class=\"col twelve_col nomargin shadow\">\n",
       "<form action=\"/pubmed\" enctype=\"application/x-www-form-urlencoded\" id=\"EntrezForm\" method=\"post\" name=\"EntrezForm\" onsubmit=\"return false;\">\n",
       "<div xmlns:xi=\"http://www.w3.org/2001/XInclude\">\n",
       "<!-- no javascript message -->\n",
       "<noscript>\n",
       "<p class=\"nojs\">\n",
       "<strong>Warning:</strong>\n",
       "\tThe NCBI web site requires JavaScript to function. \n",
       "\t<a href=\"/guide/browsers/#enablejs\" target=\"_blank\" title=\"Learn how to enable JavaScript\">more...</a>\n",
       "</p>\n",
       "</noscript>\n",
       "<div class=\"universal_header\" id=\"universal_header\" xml:base=\"http://127.0.0.1/sites/static/header_footer/\" xmlns=\"http://www.w3.org/1999/xhtml\"><ul class=\"inline_list jig-ncbimenu ui-ncbimenu resources_list\" id=\"navcontent\"><li class=\"ui-ncbimenu-item-leaf ui-ncbimenu-item-first ui-helper-reset ui-ncbimenu-item-no-hlt\"><a accesskey=\"1\" class=\"ui-ncbimenu-link-first\" href=\"/\" id=\"ncbihome\" role=\"banner\" title=\"NCBI Home\"><span class=\"offscreen_noflow\">NCBI</span><img alt=\"NCBI Logo\" class=\"ncbi_logo\" src=\"//static.pubmed.gov/portal/portal3rc.fcgi/4117326/img/28977\" title=\"NCBI\"/></a></li><li class=\"offscreen_noflow ui-ncbimenu-item-skip access\"><a accesskey=\"3\" href=\"#maincontent\" tabindex=\"0\" title=\"Skip to the content\">Skip to main\n",
       "                        content</a></li><li class=\"offscreen_noflow ui-ncbimenu-item-skip access\"><a accesskey=\"4\" href=\"#navcontent\" tabindex=\"0\" title=\"Skip to the navigation\">Skip to\n",
       "                        navigation</a></li><li class=\"topmenu ui-helper-reset ui-ncbimenu-item-first ui-helper-reset\" id=\"resource-menu\"><a class=\"ui-ncbimenu-first-link-has-submenu ui-ncbimenu-link-first topanchor expandDown\" href=\"/static/header_footer_ajax/submenu/#resources\">Resources</a><ul id=\"resources-submenu\"><li><a href=\"/guide/all/\">All Resources</a></li><li><a href=\"#chemicals-bioassays\">Chemicals &amp; Bioassays</a><ul class=\"actual-resources-submenu chemicals-bioassays\"><li><a href=\"/biosystems/\" title=\" Database that groups biomedical literature, small molecules, and sequence data in terms of biological relationships. \">BioSystems</a></li><li><a href=\"/pcassay\" title=\" Contributed bioactivity data for PubChem Substances \">PubChem BioAssay</a></li><li><a href=\"/pccompound\" title=\" Unique, standardized chemical structures \">PubChem Compound</a></li><li><a href=\"https://pubchem.ncbi.nlm.nih.gov/search/search.cgi\" title=\" Searches PubChem Compound by chemical structure \">PubChem Structure Search</a></li><li><a href=\"/pcsubstance\" title=\" Provides information on the biological activities of small molecules. \">PubChem Substance</a></li><li><a href=\"/guide/chemicals-bioassays/\">All Chemicals &amp; Bioassays Resources...</a></li></ul></li><li><a href=\"#dna-rna\">DNA &amp; RNA</a><ul class=\"actual-resources-submenu dna-rna\"><li><a href=\"https://blast.ncbi.nlm.nih.gov/Blast.cgi\" title=\" Tool for finding local regions of sequence similarity \">BLAST (Basic Local Alignment Search Tool)</a></li><li><a href=\"https://blast.ncbi.nlm.nih.gov/Blast.cgi?CMD=Web&amp;PAGE_TYPE=BlastDocs&amp;DOC_TYPE=Download\" title=\" BLAST programs for a local computer \">BLAST (Stand-alone)</a></li><li><a href=\"/books/NBK25501/ \" title=\" URL application programming interface for searching, linking and downloading data within NCBI's Entrez system \">E-Utilities</a></li><li><a href=\"/genbank/\" title=\" DNA and RNA sequences submitted to NCBI \">GenBank</a></li><li><a href=\"/WebSub/?tool=genbank\" title=\" Web tool for simple submissions of nucleotide sequences \">GenBank: BankIt</a></li><li><a href=\"/projects/Sequin/\" title=\" Software tool for complex submissions of nucleotide sequences \">GenBank: Sequin</a></li><li><a href=\"/genbank/tbl2asn2/\" title=\" Command-line program for submitting sequence data \">GenBank: tbl2asn</a></li><li><a href=\"/tools/gbench/\" title=\" Stand-alone application for analyzing sequence data \">Genome Workbench</a></li><li><a href=\"/genomes/FLU/\" title=\" Data from the NIAID Influenza Genome Sequencing Project \">Influenza Virus</a></li><li><a href=\"/nuccore\" title=\" Nucleotide sequence data in GenBank and RefSeq \">Nucleotide Database</a></li><li><a href=\"/popset\" title=\" Sets of nucleotide sequences representing a population \">PopSet</a></li><li><a href=\"/tools/primer-blast/\" title=\" Designs PCR primers and analyzes them for target specificity using BLAST. \">Primer-BLAST</a></li><li><a href=\"/sutils/static/prosplign/prosplign.html\" title=\" Tool for aligning proteins to genomic DNA \">ProSplign</a></li><li><a href=\"/refseq/\" title=\" Curated nucleotide and protein sequences produced by NCBI \">Reference Sequence (RefSeq)</a></li><li><a href=\"/refseq/rsg/\" title=\" RefSeqGene reference standards for genomic sequences of well-characterized genes \">RefSeqGene</a></li><li><a href=\"/Traces/sra/sra.cgi?\" title=\" Database of sequences reads from next generation sequencing technologies \">Sequence Read Archive (SRA)</a></li><li><a href=\"/sutils/splign/\" title=\" Tool for aligning transcripts to genomic DNA \">Splign</a></li><li><a href=\"/Traces/trace.cgi\" title=\" DNA chromatograms, base calls, and quality estimates for single-pass reads. \">Trace Archive</a></li><li><a href=\"/unigene\" title=\" Gene-centered clusters of transcripts and ESTs \">UniGene</a></li><li><a href=\"/guide/dna-rna/\">All DNA &amp; RNA Resources...</a></li></ul></li><li><a href=\"#data-software\">Data &amp; Software</a><ul class=\"actual-resources-submenu data-software\"><li><a href=\"https://blast.ncbi.nlm.nih.gov/Blast.cgi\" title=\" Tool for finding local regions of sequence similarity \">BLAST (Basic Local Alignment Search Tool)</a></li><li><a href=\"https://blast.ncbi.nlm.nih.gov/Blast.cgi?CMD=Web&amp;PAGE_TYPE=BlastDocs&amp;DOC_TYPE=Download\" title=\" BLAST programs for a local computer \">BLAST (Stand-alone)</a></li><li><a href=\"/Structure/CN3D/cn3d.shtml\" title=\" Program for viewing 3D structures and alignments \">Cn3D</a></li><li><a href=\"/Structure/cdd/wrpsb.cgi\" title=\" Locates conserved domains within a protein sequence \">Conserved Domain Search Service (CD Search)</a></li><li><a href=\"/books/NBK25501/ \" title=\" URL application programming interface for searching, linking and downloading data within NCBI's Entrez system \">E-Utilities</a></li><li><a href=\"/WebSub/?tool=genbank\" title=\" Web tool for simple submissions of nucleotide sequences \">GenBank: BankIt</a></li><li><a href=\"/projects/Sequin/\" title=\" Software tool for complex submissions of nucleotide sequences \">GenBank: Sequin</a></li><li><a href=\"/genbank/tbl2asn2/\" title=\" Command-line program for submitting sequence data \">GenBank: tbl2asn</a></li><li><a href=\"/sutils/protmap.cgi\" title=\" Maps proteins from a COG/VOG back to its genome \">Genome ProtMap</a></li><li><a href=\"/tools/gbench/\" title=\" Stand-alone application for analyzing sequence data \">Genome Workbench</a></li><li><a href=\"/tools/primer-blast/\" title=\" Designs PCR primers and analyzes them for target specificity using BLAST. \">Primer-BLAST</a></li><li><a href=\"/sutils/static/prosplign/prosplign.html\" title=\" Tool for aligning proteins to genomic DNA \">ProSplign</a></li><li><a href=\"https://pubchem.ncbi.nlm.nih.gov/search/search.cgi\" title=\" Searches PubChem Compound by chemical structure \">PubChem Structure Search</a></li><li><a href=\"/projects/SNP/\" title=\" The SNP database tools page provides links to the general submission guidelines and to the submission handle request. \">SNP Submission Tool</a></li><li><a href=\"/sutils/splign/\" title=\" Tool for aligning transcripts to genomic DNA \">Splign</a></li><li><a href=\"/Structure/VAST/vast.html\" title=\" Tool that generates 3D structural alignments \">Vector Alignment Search Tool (VAST)</a></li><li><a href=\"/guide/data-software/\">All Data &amp; Software Resources...</a></li></ul></li><li><a href=\"#domains-structures\">Domains &amp; Structures</a><ul class=\"actual-resources-submenu domains-structures\"><li><a href=\"/biosystems/\" title=\" Database that groups biomedical literature, small molecules, and sequence data in terms of biological relationships. \">BioSystems</a></li><li><a href=\"/Structure/CN3D/cn3d.shtml\" title=\" Program for viewing 3D structures and alignments \">Cn3D</a></li><li><a href=\"/cdd\" title=\" Database of conserved protein domains represented by multiple sequence alignments \">Conserved Domain Database (CDD)</a></li><li><a href=\"/Structure/cdd/wrpsb.cgi\" title=\" Locates conserved domains within a protein sequence \">Conserved Domain Search Service (CD Search)</a></li><li><a href=\"/structure/\" title=\" Database of 3D macromolecular structures derived from PDB \">Structure (Molecular Modeling Database)</a></li><li><a href=\"/Structure/VAST/vast.html\" title=\" Tool that generates 3D structural alignments \">Vector Alignment Search Tool (VAST)</a></li><li><a href=\"/guide/domains-structures/\">All Domains &amp; Structures Resources...</a></li></ul></li><li><a href=\"#genes-expression\">Genes &amp; Expression</a><ul class=\"actual-resources-submenu genes-expression\"><li><a href=\"/biosystems/\" title=\" Database that groups biomedical literature, small molecules, and sequence data in terms of biological relationships. \">BioSystems</a></li><li><a href=\"/gap\" title=\" Genotype/Phenotype association studies \">Database of Genotypes and Phenotypes (dbGaP)</a></li><li><a href=\"/books/NBK25501/ \" title=\" URL application programming interface for searching, linking and downloading data within NCBI's Entrez system \">E-Utilities</a></li><li><a href=\"/gene\" title=\" Database of gene loci and associated transcripts and proteins \">Gene</a></li><li><a href=\"/geo/\" title=\" Gene Expression Omnibus (GEO) Database \">Gene Expression Omnibus (GEO) Database </a></li><li><a href=\"/gds\" title=\" Curated collections of gene expression data sets \">Gene Expression Omnibus (GEO) Datasets</a></li><li><a href=\"/geoprofiles/\" title=\" Database of gene expression Profiles for individual sequences \">Gene Expression Omnibus (GEO) Profiles</a></li><li><a href=\"/tools/gbench/\" title=\" Stand-alone application for analyzing sequence data \">Genome Workbench</a></li><li><a href=\"/homologene\" title=\" Sets of homologous eukaryotic genes \">HomoloGene</a></li><li><a href=\"/mapview/\" title=\" Tool for searching, viewing and downloading genomic maps and related data \">Map Viewer</a></li><li><a href=\"/omim\" title=\" Database of human genes and genetic disorders \">Online Mendelian Inheritance in Man (OMIM)</a></li><li><a href=\"/refseq/rsg/\" title=\" RefSeqGene reference standards for genomic sequences of well-characterized genes \">RefSeqGene</a></li><li><a href=\"/unigene\" title=\" Gene-centered clusters of transcripts and ESTs \">UniGene</a></li><li><a href=\"/guide/genes-expression/\">All Genes &amp; Expression Resources...</a></li></ul></li><li><a href=\"#genetics-medicine\">Genetics &amp; Medicine</a><ul class=\"actual-resources-submenu genetics-medicine\"><li><a href=\"/books\" title=\" Online biomedical books \">Bookshelf</a></li><li><a href=\"/gap\" title=\" Genotype/Phenotype association studies \">Database of Genotypes and Phenotypes (dbGaP)</a></li><li><a href=\"/gtr/\" title=\" Detailed information about genetic tests and labs \">Genetic Testing Registry</a></li><li><a href=\"/genomes/FLU/\" title=\" Data from the NIAID Influenza Genome Sequencing Project \">Influenza Virus</a></li><li><a href=\"/mapview/\" title=\" Tool for searching, viewing and downloading genomic maps and related data \">Map Viewer</a></li><li><a href=\"/omim\" title=\" Database of human genes and genetic disorders \">Online Mendelian Inheritance in Man (OMIM)</a></li><li><a href=\"/pubmed\" title=\" Biomedical literature abstracts \">PubMed</a></li><li><a href=\"/pmc/\" title=\" Free, full-text articles \">PubMed Central (PMC)</a></li><li><a href=\"/pubmed/clinical \" title=\" Directory of PubMed queries about clinical topics \">PubMed Clinical Queries</a></li><li><a href=\"/refseq/rsg/\" title=\" RefSeqGene reference standards for genomic sequences of well-characterized genes \">RefSeqGene</a></li><li><a href=\"/guide/genetics-medicine/\">All Genetics &amp; Medicine Resources...</a></li></ul></li><li><a href=\"#genomes-maps\">Genomes &amp; Maps</a><ul class=\"actual-resources-submenu genomes-maps\"><li><a href=\"/dbvar\" title=\" A database of genomic structural variation \">Database of Genomic Structural Variation (dbVar)</a></li><li><a href=\"/genbank/tbl2asn2/\" title=\" Command-line program for submitting sequence data \">GenBank: tbl2asn</a></li><li><a href=\"/sites/genome\" title=\" Curated genomic DNA sequences \">Genome</a></li><li><a href=\"/bioproject/\" title=\" Central status pages for genome sequencing projects \">Genome Project</a></li><li><a href=\"/sutils/protmap.cgi\" title=\" Maps proteins from a COG/VOG back to its genome \">Genome ProtMap</a></li><li><a href=\"/tools/gbench/\" title=\" Stand-alone application for analyzing sequence data \">Genome Workbench</a></li><li><a href=\"/genomes/FLU/\" title=\" Data from the NIAID Influenza Genome Sequencing Project \">Influenza Virus</a></li><li><a href=\"/mapview/\" title=\" Tool for searching, viewing and downloading genomic maps and related data \">Map Viewer</a></li><li><a href=\"/nuccore\" title=\" Nucleotide sequence data in GenBank and RefSeq \">Nucleotide Database</a></li><li><a href=\"/popset\" title=\" Sets of nucleotide sequences representing a population \">PopSet</a></li><li><a href=\"/sutils/static/prosplign/prosplign.html\" title=\" Tool for aligning proteins to genomic DNA \">ProSplign</a></li><li><a href=\"/Traces/sra/sra.cgi?\" title=\" Database of sequences reads from next generation sequencing technologies \">Sequence Read Archive (SRA)</a></li><li><a href=\"/sutils/splign/\" title=\" Tool for aligning transcripts to genomic DNA \">Splign</a></li><li><a href=\"/Traces/trace.cgi\" title=\" DNA chromatograms, base calls, and quality estimates for single-pass reads. \">Trace Archive</a></li><li><a href=\"/guide/genomes-maps/\">All Genomes &amp; Maps Resources...</a></li></ul></li><li><a href=\"#homology\">Homology</a><ul class=\"actual-resources-submenu homology\"><li><a href=\"https://blast.ncbi.nlm.nih.gov/Blast.cgi\" title=\" Tool for finding local regions of sequence similarity \">BLAST (Basic Local Alignment Search Tool)</a></li><li><a href=\"https://blast.ncbi.nlm.nih.gov/Blast.cgi?CMD=Web&amp;PAGE_TYPE=BlastDocs&amp;DOC_TYPE=Download\" title=\" BLAST programs for a local computer \">BLAST (Stand-alone)</a></li><li><a href=\"/sutils/blink.cgi?mode=query\" title=\" Pre-computed reports showing proteins with similar sequences \">BLAST Link (BLink)</a></li><li><a href=\"/cdd\" title=\" Database of conserved protein domains represented by multiple sequence alignments \">Conserved Domain Database (CDD)</a></li><li><a href=\"/Structure/cdd/wrpsb.cgi\" title=\" Locates conserved domains within a protein sequence \">Conserved Domain Search Service (CD Search)</a></li><li><a href=\"/sutils/protmap.cgi\" title=\" Maps proteins from a COG/VOG back to its genome \">Genome ProtMap</a></li><li><a href=\"/homologene\" title=\" Sets of homologous eukaryotic genes \">HomoloGene</a></li><li><a href=\"/proteinclusters\" title=\" Clusters of related proteins from prokaryotes and organelles \">Protein Clusters</a></li><li><a href=\"/guide/homology/\">All Homology Resources...</a></li></ul></li><li><a href=\"#literature\">Literature</a><ul class=\"actual-resources-submenu literature\"><li><a href=\"/books\" title=\" Online biomedical books \">Bookshelf</a></li><li><a href=\"/books/NBK25501/ \" title=\" URL application programming interface for searching, linking and downloading data within NCBI's Entrez system \">E-Utilities</a></li><li><a href=\"/nlmcatalog/journals\" title=\" Information on journals cited by NCBI records \">Journals in NCBI Databases</a></li><li><a href=\"/mesh\" title=\" Controlled vocabulary for MEDLINE \">MeSH Database</a></li><li><a href=\"/books/NBK143764/\" title=\" Introductory articles about NCBI resources \">NCBI Handbook</a></li><li><a href=\"/books/NBK3831/\" title=\" Online, searchable help documentation \">NCBI Help Manual</a></li><li><a href=\"/books/NBK1969/\" title=\" NCBI's monthly newsletter \">NCBI News</a></li><li><a href=\"/pubmed\" title=\" Biomedical literature abstracts \">PubMed</a></li><li><a href=\"/pmc/\" title=\" Free, full-text articles \">PubMed Central (PMC)</a></li><li><a href=\"/pubmed/clinical \" title=\" Directory of PubMed queries about clinical topics \">PubMed Clinical Queries</a></li><li><a href=\"/pubmedhealth/\" title=\" Reviews of clinical effectiveness research \">PubMed Health</a></li><li><a href=\"/guide/literature/\">All Literature Resources...</a></li></ul></li><li><a href=\"#proteins\">Proteins</a><ul class=\"actual-resources-submenu proteins\"><li><a href=\"/biosystems/\" title=\" Database that groups biomedical literature, small molecules, and sequence data in terms of biological relationships. \">BioSystems</a></li><li><a href=\"https://blast.ncbi.nlm.nih.gov/Blast.cgi\" title=\" Tool for finding local regions of sequence similarity \">BLAST (Basic Local Alignment Search Tool)</a></li><li><a href=\"https://blast.ncbi.nlm.nih.gov/Blast.cgi?CMD=Web&amp;PAGE_TYPE=BlastDocs&amp;DOC_TYPE=Download\" title=\" BLAST programs for a local computer \">BLAST (Stand-alone)</a></li><li><a href=\"/sutils/blink.cgi?mode=query\" title=\" Pre-computed reports showing proteins with similar sequences \">BLAST Link (BLink)</a></li><li><a href=\"/cdd\" title=\" Database of conserved protein domains represented by multiple sequence alignments \">Conserved Domain Database (CDD)</a></li><li><a href=\"/Structure/cdd/wrpsb.cgi\" title=\" Locates conserved domains within a protein sequence \">Conserved Domain Search Service (CD Search)</a></li><li><a href=\"/books/NBK25501/ \" title=\" URL application programming interface for searching, linking and downloading data within NCBI's Entrez system \">E-Utilities</a></li><li><a href=\"/sutils/static/prosplign/prosplign.html\" title=\" Tool for aligning proteins to genomic DNA \">ProSplign</a></li><li><a href=\"/proteinclusters\" title=\" Clusters of related proteins from prokaryotes and organelles \">Protein Clusters</a></li><li><a href=\"/protein\" title=\" Protein sequence data \">Protein Database</a></li><li><a href=\"/refseq/\" title=\" Curated nucleotide and protein sequences produced by NCBI \">Reference Sequence (RefSeq)</a></li><li><a href=\"/guide/proteins/\">All Proteins Resources...</a></li></ul></li><li><a href=\"#sequence-analysis\">Sequence Analysis</a><ul class=\"actual-resources-submenu sequence-analysis\"><li><a href=\"https://blast.ncbi.nlm.nih.gov/Blast.cgi\" title=\" Tool for finding local regions of sequence similarity \">BLAST (Basic Local Alignment Search Tool)</a></li><li><a href=\"https://blast.ncbi.nlm.nih.gov/Blast.cgi?CMD=Web&amp;PAGE_TYPE=BlastDocs&amp;DOC_TYPE=Download\" title=\" BLAST programs for a local computer \">BLAST (Stand-alone)</a></li><li><a href=\"/sutils/blink.cgi?mode=query\" title=\" Pre-computed reports showing proteins with similar sequences \">BLAST Link (BLink)</a></li><li><a href=\"/Structure/cdd/wrpsb.cgi\" title=\" Locates conserved domains within a protein sequence \">Conserved Domain Search Service (CD Search)</a></li><li><a href=\"/sutils/protmap.cgi\" title=\" Maps proteins from a COG/VOG back to its genome \">Genome ProtMap</a></li><li><a href=\"/tools/gbench/\" title=\" Stand-alone application for analyzing sequence data \">Genome Workbench</a></li><li><a href=\"/genomes/FLU/\" title=\" Data from the NIAID Influenza Genome Sequencing Project \">Influenza Virus</a></li><li><a href=\"/tools/primer-blast/\" title=\" Designs PCR primers and analyzes them for target specificity using BLAST. \">Primer-BLAST</a></li><li><a href=\"/sutils/static/prosplign/prosplign.html\" title=\" Tool for aligning proteins to genomic DNA \">ProSplign</a></li><li><a href=\"/sutils/splign/\" title=\" Tool for aligning transcripts to genomic DNA \">Splign</a></li><li><a href=\"/guide/sequence-analysis/\">All Sequence Analysis Resources...</a></li></ul></li><li><a href=\"#taxonomy\">Taxonomy</a><ul class=\"actual-resources-submenu taxonomy\"><li><a href=\"/taxonomy\" title=\" The NCBI taxonomy tree in Entrez \">Taxonomy</a></li><li><a href=\"/Taxonomy/Browser/wwwtax.cgi?mode=Root\" title=\" Displays and links Entrez data to each taxonomic node \">Taxonomy Browser</a></li><li><a href=\"/Taxonomy/CommonTree/wwwcmt.cgi\" title=\" Creates custom taxonomic trees \">Taxonomy Common Tree</a></li><li><a href=\"/guide/taxonomy/\">All Taxonomy Resources...</a></li></ul></li><li><a href=\"#training-tutorials\">Training &amp; Tutorials</a><ul class=\"actual-resources-submenu training-tutorials\"><li><a href=\"/education/\" title=\" Central page providing links to tutorials and training materials \">NCBI Education Page</a></li><li><a href=\"/books/NBK143764/\" title=\" Introductory articles about NCBI resources \">NCBI Handbook</a></li><li><a href=\"/books/NBK3831/\" title=\" Online, searchable help documentation \">NCBI Help Manual</a></li><li><a href=\"/books/NBK1969/\" title=\" NCBI's monthly newsletter \">NCBI News</a></li><li><a href=\"/guide/training-tutorials/\">All Training &amp; Tutorials Resources...</a></li></ul></li><li><a href=\"#variation\">Variation</a><ul class=\"actual-resources-submenu variation\"><li><a href=\"/dbvar\" title=\" A database of genomic structural variation \">Database of Genomic Structural Variation (dbVar)</a></li><li><a href=\"/gap\" title=\" Genotype/Phenotype association studies \">Database of Genotypes and Phenotypes (dbGaP)</a></li><li><a href=\"/snp\" title=\" Database of nucleotide sequence polymorphisms \">Database of Single Nucleotide Polymorphisms (dbSNP)</a></li><li><a href=\"/projects/SNP/\" title=\" The SNP database tools page provides links to the general submission guidelines and to the submission handle request. \">SNP Submission Tool</a></li><li><a href=\"/guide/variation/\">All Variation Resources...</a></li></ul></li></ul></li><li class=\"topmenu ui-helper-reset ui-ncbimenu-item-first\" id=\"all-howtos-menu\"><a class=\"ui-ncbimenu-first-link-has-submenu ui-ncbimenu-link-first topanchor expandDown\" href=\"/static/header_footer_ajax/submenu/#howto\">How To</a><ul id=\"howto-submenu\"><li><a href=\"/guide/all/#howtos\">All How To</a></li><li><a href=\"/guide/chemicals-bioassays/#howtos\">Chemicals &amp; Bioassays</a></li><li><a href=\"/guide/dna-rna/#howtos\">DNA &amp; RNA</a></li><li><a href=\"/guide/data-software/#howtos\">Data &amp; Software</a></li><li><a href=\"/guide/domains-structures/#howtos\">Domains &amp; Structures</a></li><li><a href=\"/guide/genes-expression/#howtos\">Genes &amp; Expression</a></li><li><a href=\"/guide/genetics-medicine/#howtos\">Genetics &amp; Medicine</a></li><li><a href=\"/guide/genomes-maps/#howtos\">Genomes &amp; Maps</a></li><li><a href=\"/guide/homology/#howtos\">Homology</a></li><li><a href=\"/guide/literature/#howtos\">Literature</a></li><li><a href=\"/guide/proteins/#howtos\">Proteins</a></li><li><a href=\"/guide/sequence-analysis/#howtos\">Sequence Analysis</a></li><li><a href=\"/guide/taxonomy/#howtos\">Taxonomy</a></li><li><a href=\"/guide/training-tutorials/#howtos\">Training &amp; Tutorials</a></li><li><a href=\"/guide/variation/#howtos\">Variation</a></li></ul></li><li class=\"offscreen_noflow ui-ncbimenu-item-skip access\"><a accesskey=\"0\" href=\"/guide/browsers/#accesskeys\" tabindex=\"0\" title=\"About My NCBI Accesskeys\">About NCBI Accesskeys</a></li></ul><div class=\"myncbi\"><span id=\"myncbiusername\" style=\"display:none\"><a href=\"/account/settings/\" id=\"mnu\" title=\"Edit account settings\"></a></span><a accesskey=\"2\" href=\"/myncbi/\" id=\"myncbi\" style=\"display:none\">My NCBI</a><a href=\"/account/\" id=\"sign_in\">Sign in to NCBI</a><a href=\"/account/signout/\" id=\"sign_out\" style=\"display:none\">Sign Out</a></div></div>\n",
       "<div class=\"header\">\n",
       "<!-- logo -->\n",
       "<div class=\"res_logo\">\n",
       "<h1 class=\"img_logo\"><a class=\"pmlogo offscreen\" href=\"/pubmed\" title=\"PubMed\">PubMed</a></h1>\n",
       "<div class=\"nlm\">\n",
       "<a href=\"http://www.nlm.nih.gov/\" title=\"National Library of Medicine\">US National Library of Medicine</a>\n",
       "<a href=\"http://www.nih.gov/\" title=\"National Institutes of Health\">National Institutes of Health</a>\n",
       "</div>\n",
       "</div>\n",
       "<!-- SearchBar -->\n",
       "<div class=\"search\"><div class=\"search_form\"><label class=\"offscreen_noflow\" for=\"database\">Search database</label><select id=\"database\"><option value=\"gquery\">All Databases</option><option value=\"assembly\">Assembly</option><option value=\"bioproject\">BioProject</option><option value=\"biosample\">BioSample</option><option value=\"biosystems\">BioSystems</option><option value=\"books\">Books</option><option value=\"clinvar\">ClinVar</option><option value=\"clone\">Clone</option><option value=\"cdd\">Conserved Domains</option><option value=\"gap\">dbGaP</option><option value=\"dbvar\">dbVar</option><option value=\"nucest\">EST</option><option value=\"gene\">Gene</option><option value=\"genome\">Genome</option><option value=\"gds\">GEO DataSets</option><option value=\"geoprofiles\">GEO Profiles</option><option value=\"nucgss\">GSS</option><option value=\"gtr\">GTR</option><option value=\"homologene\">HomoloGene</option><option data-ac_dict=\"medgen_disease_name\" value=\"medgen\">MedGen</option><option data-ac_dict=\"mesh_suggestions\" value=\"mesh\">MeSH</option><option value=\"ncbisearch\">NCBI Web Site</option><option value=\"nlmcatalog\">NLM Catalog</option><option value=\"nuccore\">Nucleotide</option><option value=\"omim\">OMIM</option><option value=\"pmc\">PMC</option><option value=\"popset\">PopSet</option><option value=\"probe\">Probe</option><option value=\"protein\">Protein</option><option value=\"proteinclusters\">Protein Clusters</option><option value=\"pcassay\">PubChem BioAssay</option><option value=\"pccompound\">PubChem Compound</option><option value=\"pcsubstance\">PubChem Substance</option><option data-ac_dict=\"pm_related_queries_2\" selected=\"selected\" value=\"pubmed\">PubMed</option><option value=\"pubmedhealth\">PubMed Health</option><option value=\"snp\">SNP</option><option value=\"sra\">SRA</option><option value=\"structure\">Structure</option><option value=\"taxonomy\">Taxonomy</option><option value=\"toolkit\">ToolKit</option><option value=\"toolkitall\">ToolKitAll</option><option value=\"toolkitbook\">ToolKitBook</option><option value=\"toolkitbookgh\">ToolKitBookgh</option><option value=\"unigene\">UniGene</option></select><div class=\"nowrap\"><label accesskey=\"/\" class=\"offscreen_noflow\" for=\"term\">Search term</label><div class=\"nowrap\"><input autocomplete=\"off\" class=\"jig-ncbiclearbutton jig-ncbiautocomplete\" data-jigconfig=\"dictionary:'pm_related_queries_2',disableUrl:'NcbiSearchBarAutoComplCtrl'\" data-sbconfig=\"ds:'no',pjs:'yes',afs:'yes'\" id=\"term\" name=\"term\" title=\"Search PubMed. Use up and down arrows to choose an item from the autocomplete.\" type=\"text\" value=\"\"/></div><button class=\"button_search nowrap\" cmd=\"go\" id=\"search\" type=\"submit\">Search</button></div></div><ul class=\"searchlinks inline_list\"><set></set><li><a href=\"/pubmed/advanced\">Advanced</a></li><li class=\"help\"><a class=\"jig-ncbihelpwindow\" href=\"/books/NBK3827/\" id=\"help\" name=\"help\" target=\"ncbihelp\">Help</a></li></ul></div>\n",
       "</div>\n",
       "<div><input name=\"EntrezSystem2.PEntrez.PubMed.Pubmed_PageController.PreviousPageName\" sid=\"1\" type=\"hidden\" value=\"results\"/><input name=\"EntrezSystem2.PEntrez.PubMed.Pubmed_PageController.SpecialPageName\" sid=\"1\" type=\"hidden\" value=\"\"/></div>\n",
       "<div class=\"\" id=\"faceted_search\">\n",
       "<h2 class=\"offscreen_noflow\">Result Filters</h2>\n",
       "</div>\n",
       "<div class=\"col nine_col\" id=\"maincontent\">\n",
       "<div class=\"content\">\n",
       "<div class=\"results_settings one_setting\"><ul class=\"inline_list left display_settings\"><li><a class=\"jig-ncbipopper\" data-jigconfig=\"triggerPosition : 'bottom center',destPosition : 'top center',destSelector : '#display_settings_menu_report',      hasArrow : false,openEvent : 'click',closeEvent : 'click',isTriggerElementCloseClick: false,addCloseButton : false,       groupName: 'entrez_pg'\" href=\"#\" id=\"EntrezSystem2.PEntrez.PubMed.Pubmed_ResultsPanel.Pubmed_DisplayBar.Display\" name=\"EntrezSystem2.PEntrez.PubMed.Pubmed_ResultsPanel.Pubmed_DisplayBar.Display\" sid=\"0\">Abstract<span class=\"tgt_dark\" href=\"#\"></span></a></li></ul><div class=\"disp_settings tabPopper\" id=\"display_settings_menu_report\"><fieldset class=\"format\"><legend>Format</legend><ul class=\"column_list\"><li><input format=\"\" id=\"docsum\" name=\"EntrezSystem2.PEntrez.PubMed.Pubmed_ResultsPanel.Pubmed_DisplayBar.sPresentation\" sid=\"1\" type=\"radio\" value=\"docsum\"/><label for=\"docsum\">Summary</label></li><li><input format=\"text\" id=\"docsumtext\" name=\"EntrezSystem2.PEntrez.PubMed.Pubmed_ResultsPanel.Pubmed_DisplayBar.sPresentation\" sid=\"2\" type=\"radio\" value=\"docsum\"/><label for=\"docsumtext\">Summary (text)</label></li><li><input checked=\"true\" format=\"\" id=\"abstract\" name=\"EntrezSystem2.PEntrez.PubMed.Pubmed_ResultsPanel.Pubmed_DisplayBar.sPresentation\" sid=\"3\" type=\"radio\" value=\"abstract\"/><label for=\"abstract\">Abstract</label></li><li><input format=\"text\" id=\"abstracttext\" name=\"EntrezSystem2.PEntrez.PubMed.Pubmed_ResultsPanel.Pubmed_DisplayBar.sPresentation\" sid=\"4\" type=\"radio\" value=\"abstract\"/><label for=\"abstracttext\">Abstract (text)</label></li><li><input format=\"text\" id=\"medlinetext\" name=\"EntrezSystem2.PEntrez.PubMed.Pubmed_ResultsPanel.Pubmed_DisplayBar.sPresentation\" sid=\"5\" type=\"radio\" value=\"medline\"/><label for=\"medlinetext\">MEDLINE</label></li><li><input format=\"text\" id=\"xmltext\" name=\"EntrezSystem2.PEntrez.PubMed.Pubmed_ResultsPanel.Pubmed_DisplayBar.sPresentation\" sid=\"6\" type=\"radio\" value=\"xml\"/><label for=\"xmltext\">XML</label></li><li><input format=\"text\" id=\"uilisttext\" name=\"EntrezSystem2.PEntrez.PubMed.Pubmed_ResultsPanel.Pubmed_DisplayBar.sPresentation\" sid=\"7\" type=\"radio\" value=\"uilist\"/><label for=\"uilisttext\">PMID List</label></li></ul></fieldset></div><div class=\"disp_settings tabPopper\" id=\"display_settings_menu_ps\"></div><div class=\"disp_settings tabPopper\" id=\"display_settings_menu_sort\"></div><button class=\"button_apply ncbipopper-close-button\" name=\"EntrezSystem2.PEntrez.PubMed.Pubmed_ResultsPanel.Pubmed_DisplayBar.SetDisplay\" sid=\"1\" style=\"display:none\">Apply</button><h4 class=\"content_header send_to align_right jig-ncbipopper\" data-jigconfig=\"triggerPosition:'bottom center', destPosition : 'top center',destSelector : '#send_to_menu', hasArrow : false,                 openEvent : 'click',closeEvent : 'click', isTriggerElementCloseClick: false, addCloseButton:true, groupName: 'entrez_pg', adjustFit:'none'\" id=\"sendto\"><a class=\"tgt_dark\" href=\"#\" sourcecontent=\"send_to_menu\">Send to:</a><script type=\"text/javascript\">\n",
       "                        jQuery(document).ready( function () {\n",
       "                            jQuery(\"#send_to_menu input[type='radio']\").click( function () {\n",
       "                                var selectedValue = jQuery(this).val().toLowerCase();\n",
       "                                var selectedDiv = jQuery(\"#send_to_menu div.\" + selectedValue);\n",
       "                                \n",
       "                                if(selectedDiv.is(\":hidden\")){ \n",
       "                                jQuery(\"#send_to_menu div.submenu:visible\").slideUp();\n",
       "                                selectedDiv.slideDown();\n",
       "                                }\n",
       "                            });\n",
       "                        \n",
       "                        });\n",
       "                        \n",
       "                        jQuery(\"#sendto\").bind(\"ncbipopperclose\", function(){\n",
       "                            jQuery(\"#send_to_menu div.submenu:visible\").css(\"display\",\"none\");\n",
       "                            jQuery(\"#send_to_menu input[type='radio']:checked\").attr(\"checked\",false);\n",
       "                        });\n",
       "                        \n",
       "                    </script></h4><div class=\"tabPopper send_to\" id=\"send_to_menu\"><fieldset><legend>Choose Destination</legend><ul class=\"column_list\"><li><input id=\"dest_File\" name=\"EntrezSystem2.PEntrez.PubMed.Pubmed_ResultsPanel.Pubmed_DisplayBar.SendTo\" sid=\"1\" type=\"radio\" value=\"File\"/><label for=\"dest_File\">File</label></li><li><input id=\"dest_AddToClipboard\" name=\"EntrezSystem2.PEntrez.PubMed.Pubmed_ResultsPanel.Pubmed_DisplayBar.SendTo\" sid=\"2\" type=\"radio\" value=\"AddToClipboard\"/><label for=\"dest_AddToClipboard\">Clipboard</label></li><li><input id=\"dest_AddToCollections\" name=\"EntrezSystem2.PEntrez.PubMed.Pubmed_ResultsPanel.Pubmed_DisplayBar.SendTo\" sid=\"3\" type=\"radio\" value=\"AddToCollections\"/><label for=\"dest_AddToCollections\">Collections</label></li><li><input id=\"dest_Mail\" name=\"EntrezSystem2.PEntrez.PubMed.Pubmed_ResultsPanel.Pubmed_DisplayBar.SendTo\" sid=\"4\" type=\"radio\" value=\"Mail\"/><label for=\"dest_Mail\">E-mail</label></li><li><input id=\"dest_Order\" name=\"EntrezSystem2.PEntrez.PubMed.Pubmed_ResultsPanel.Pubmed_DisplayBar.SendTo\" sid=\"5\" type=\"radio\" value=\"Order\"/><label for=\"dest_Order\">Order</label></li><li><input id=\"dest_AddToBibliography\" name=\"EntrezSystem2.PEntrez.PubMed.Pubmed_ResultsPanel.Pubmed_DisplayBar.SendTo\" sid=\"6\" type=\"radio\" value=\"AddToBibliography\"/><label for=\"dest_AddToBibliography\">My Bibliography</label></li><li><input id=\"dest_CitationManager\" name=\"EntrezSystem2.PEntrez.PubMed.Pubmed_ResultsPanel.Pubmed_DisplayBar.SendTo\" sid=\"7\" type=\"radio\" value=\"CitationManager\"/><label for=\"dest_CitationManager\">Citation manager</label></li></ul></fieldset><div class=\"submenu file\" id=\"submenu_File\" style=\"display: none;\"><p class=\"hidden\" id=\"submenu_File_hint\"></p><ul><li><label for=\"file_format\">Format</label><select id=\"file_format\" name=\"EntrezSystem2.PEntrez.PubMed.Pubmed_ResultsPanel.Pubmed_DisplayBar.FFormat\" sid=\"1\"><option format=\"text\" value=\"docsum\">Summary (text)</option><option format=\"text\" selected=\"selected\" value=\"abstract\">Abstract (text)</option><option format=\"text\" value=\"medline\">MEDLINE</option><option format=\"text\" value=\"xml\">XML</option><option format=\"text\" value=\"uilist\">PMID List</option><option format=\"text\" value=\"csv\">CSV</option></select></li></ul><button class=\"button_apply file ncbipopper-close-button\" cmd=\"File\" name=\"EntrezSystem2.PEntrez.PubMed.Pubmed_ResultsPanel.Pubmed_DisplayBar.SendToSubmit\" sid=\"1\" type=\"submit\">Create File</button></div><div class=\"submenu mail\" id=\"submenu_Mail\" style=\"display: none;\"><p class=\"hidden\" id=\"email_alert\"></p><ul><li id=\"email_desc\">1 selected item: 27315458</li><li><label for=\"email_format\">Format</label><select id=\"email_format\" name=\"email_format\"><option value=\"docsum\">Summary</option><option format=\"text\" value=\"docsum\">Summary (text)</option><option selected=\"selected\" value=\"abstract\">Abstract</option><option format=\"text\" value=\"abstract\">Abstract (text)</option><option format=\"text\" value=\"medline\">MEDLINE</option><option format=\"text\" value=\"xml\">XML</option><option format=\"text\" value=\"uilist\">PMID List</option></select><span><input id=\"chkSupplementalData\" name=\"chkSupplementalData\" type=\"checkbox\"/><label for=\"chkSupplementalData\">MeSH and Other Data</label></span></li><li><label for=\"email_address\">E-mail</label><input id=\"email_address\" name=\"email_address\" value=\"\"/></li><li><label for=\"email_subj\">Subject</label><input id=\"email_subj\" name=\"email_subj\" size=\"39\" value=\"1 selected item: 27315458 - PubMed\"/></li><li><label for=\"email_add_text\">Additional text</label><textarea id=\"email_add_text\" name=\"email_add_text\"></textarea></li><li id=\"captcha-segment\"><div id=\"recaptcha_div\"></div></li></ul><button class=\"button_apply email\" cmd=\"Mail\" id=\"email_submit\" name=\"EntrezSystem2.PEntrez.PubMed.Pubmed_ResultsPanel.Pubmed_DisplayBar.SendToSubmit\" qk=\"1\" sid=\"2\" type=\"submit\">E-mail</button><div><a href=\"/corehtml/query/MyNCBI/exquery/spam_note.html\" onclick=\"window.open('/corehtml/query/MyNCBI/exquery/spam_note.html','','resizable=yes,scrollbars=yes,toolbar=no,location=no,directories=no,status=no,menubar=no,copyhistory=no,alwaysRaised=yes,depend=yes,top=50,left=200,width=550,height=430');return false;\">Didn't get the message? Find out why...</a><input id=\"email_check1\" name=\"EmailCheck1\" type=\"hidden\"/><input id=\"email_check2\" name=\"EmailCheck2\" type=\"hidden\"/></div></div><div class=\"submenu addtoclipboard\" id=\"submenu_AddToClipboard\" style=\"display: none;\"><p class=\"hidden\" id=\"submenu_AddToClipboard_hint\"></p><button class=\"button_apply clipboard ncbipopper-close-button\" cmd=\"AddToClipboard\" name=\"EntrezSystem2.PEntrez.PubMed.Pubmed_ResultsPanel.Pubmed_DisplayBar.SendToSubmit\" sid=\"3\" type=\"submit\">Add to Clipboard</button></div><div class=\"submenu addtocollections\" id=\"submenu_AddToCollections\" style=\"display: none;\"><p class=\"hidden\" id=\"submenu_AddToCollections_hint\"></p><button class=\"button_apply collections ncbipopper-close-button\" cmd=\"AddToCollections\" name=\"EntrezSystem2.PEntrez.PubMed.Pubmed_ResultsPanel.Pubmed_DisplayBar.SendToSubmit\" sid=\"4\" type=\"submit\">Add to Collections</button></div><div class=\"submenu order\" id=\"submenu_Order\" style=\"display: none;\"><button class=\"button_apply order ncbipopper-close-button\" cmd=\"Order\" name=\"EntrezSystem2.PEntrez.PubMed.Pubmed_ResultsPanel.Pubmed_DisplayBar.SendToSubmit\" sid=\"5\" type=\"submit\">Order articles</button></div><div class=\"submenu addtobibliography\" id=\"submenu_AddToBibliography\" style=\"display: none;\"><p class=\"hidden\" id=\"submenu_AddToBibliography_hint\"></p><button class=\"button_apply collections ncbipopper-close-button\" cmd=\"AddToBibliography\" name=\"EntrezSystem2.PEntrez.PubMed.Pubmed_ResultsPanel.Pubmed_DisplayBar.SendToSubmit\" sid=\"6\" type=\"submit\">Add to My Bibliography</button></div><div class=\"submenu citationmanager\" id=\"submenu_CitationManager\" style=\"display: none;\"><p>Generate a file for use with external citation management software.</p><p class=\"hidden\" id=\"submenu_CitationManager_hint\"></p><button class=\"button_apply order ncbipopper-close-button\" cmd=\"CitationManager\" name=\"EntrezSystem2.PEntrez.PubMed.Pubmed_ResultsPanel.Pubmed_DisplayBar.SendToSubmit\" sid=\"7\" type=\"submit\">Create File</button></div></div><div><input name=\"EntrezSystem2.PEntrez.PubMed.Pubmed_ResultsPanel.Pubmed_DisplayBar.FileFormat\" sid=\"1\" type=\"hidden\" value=\"abstract\"/><input name=\"EntrezSystem2.PEntrez.PubMed.Pubmed_ResultsPanel.Pubmed_DisplayBar.LastPresentation\" sid=\"1\" type=\"hidden\" value=\"abstract\"/><input name=\"EntrezSystem2.PEntrez.PubMed.Pubmed_ResultsPanel.Pubmed_DisplayBar.Presentation\" sid=\"1\" type=\"hidden\" value=\"abstract\"/><input name=\"EntrezSystem2.PEntrez.PubMed.Pubmed_ResultsPanel.Pubmed_DisplayBar.PageSize\" sid=\"1\" type=\"hidden\" value=\"20\"/><input name=\"EntrezSystem2.PEntrez.PubMed.Pubmed_ResultsPanel.Pubmed_DisplayBar.LastPageSize\" sid=\"1\" type=\"hidden\" value=\"20\"/><input name=\"EntrezSystem2.PEntrez.PubMed.Pubmed_ResultsPanel.Pubmed_DisplayBar.Sort\" sid=\"1\" type=\"hidden\" value=\"\"/><input name=\"EntrezSystem2.PEntrez.PubMed.Pubmed_ResultsPanel.Pubmed_DisplayBar.LastSort\" sid=\"1\" type=\"hidden\" value=\"\"/><input name=\"EntrezSystem2.PEntrez.PubMed.Pubmed_ResultsPanel.Pubmed_DisplayBar.FileSort\" sid=\"1\" type=\"hidden\" value=\"\"/><input name=\"EntrezSystem2.PEntrez.PubMed.Pubmed_ResultsPanel.Pubmed_DisplayBar.Format\" sid=\"1\" type=\"hidden\" value=\"\"/><input name=\"EntrezSystem2.PEntrez.PubMed.Pubmed_ResultsPanel.Pubmed_DisplayBar.LastFormat\" sid=\"1\" type=\"hidden\" value=\"\"/><input name=\"EntrezSystem2.PEntrez.PubMed.Pubmed_ResultsPanel.Pubmed_DisplayBar.PrevPageSize\" sid=\"1\" type=\"hidden\" value=\"20\"/><input name=\"EntrezSystem2.PEntrez.PubMed.Pubmed_ResultsPanel.Pubmed_DisplayBar.PrevPresentation\" sid=\"1\" type=\"hidden\" value=\"abstract\"/><input name=\"EntrezSystem2.PEntrez.PubMed.Pubmed_ResultsPanel.Pubmed_DisplayBar.PrevSort\" sid=\"1\" type=\"hidden\" value=\"\"/><input id=\"coll_startindex\" name=\"CollectionStartIndex\" type=\"hidden\" value=\"1\"/><input id=\"citman_startindex\" name=\"CitationManagerStartIndex\" type=\"hidden\" value=\"1\"/><input id=\"citman_customrange\" name=\"CitationManagerCustomRange\" type=\"hidden\" value=\"false\"/></div></div>\n",
       "<div>\n",
       "</div>\n",
       "<div class=\"\">\n",
       "<div><span class=\"nowrap\" id=\"result_sel\"></span><input id=\"resultcount\" name=\"EntrezSystem2.PEntrez.PubMed.Pubmed_ResultsPanel.Pubmed_ResultsController.ResultCount\" sid=\"1\" type=\"hidden\" value=\"1\"/><input name=\"EntrezSystem2.PEntrez.PubMed.Pubmed_ResultsPanel.Pubmed_ResultsController.RunLastQuery\" sid=\"1\" type=\"hidden\"/></div>\n",
       "</div>\n",
       "<div class=\"empty\" id=\"messagearea\">\n",
       "</div>\n",
       "<div class=\"rprt_all\"><div class=\"rprt abstract\"><a href=\"#comments\" id=\"see_pmcommons\">See comment in PubMed Commons below</a><div class=\"cit\"><a abstractlink=\"yes\" alsec=\"jour\" alterm=\"Psychiatry Res.\" href=\"#\" title=\"Psychiatry research.\">Psychiatry Res.</a> 2016 Apr 14;242:271-276. doi: 10.1016/j.psychres.2016.04.029. [Epub ahead of print]</div><h1>Association of catechol-O-methyltransferase Val108/158 Met genetic polymorphism with schizophrenia, P50 sensory gating, and negative symptoms in a Chinese population.</h1><div class=\"auths\"><a href=\"/pubmed/?term=Mao%20Q%5BAuthor%5D&amp;cauthor=true&amp;cauthor_uid=27315458\">Mao Q</a><sup>1</sup>, <a href=\"/pubmed/?term=Tan%20YL%5BAuthor%5D&amp;cauthor=true&amp;cauthor_uid=27315458\">Tan YL</a><sup>2</sup>, <a href=\"/pubmed/?term=Luo%20XG%5BAuthor%5D&amp;cauthor=true&amp;cauthor_uid=27315458\">Luo XG</a><sup>3</sup>, <a href=\"/pubmed/?term=Tian%20L%5BAuthor%5D&amp;cauthor=true&amp;cauthor_uid=27315458\">Tian L</a><sup>4</sup>, <a href=\"/pubmed/?term=Wang%20ZR%5BAuthor%5D&amp;cauthor=true&amp;cauthor_uid=27315458\">Wang ZR</a><sup>1</sup>, <a href=\"/pubmed/?term=Tan%20SP%5BAuthor%5D&amp;cauthor=true&amp;cauthor_uid=27315458\">Tan SP</a><sup>1</sup>, <a href=\"/pubmed/?term=Chen%20S%5BAuthor%5D&amp;cauthor=true&amp;cauthor_uid=27315458\">Chen S</a><sup>1</sup>, <a href=\"/pubmed/?term=Yang%20GG%5BAuthor%5D&amp;cauthor=true&amp;cauthor_uid=27315458\">Yang GG</a><sup>1</sup>, <a href=\"/pubmed/?term=An%20HM%5BAuthor%5D&amp;cauthor=true&amp;cauthor_uid=27315458\">An HM</a><sup>1</sup>, <a href=\"/pubmed/?term=Yang%20FD%5BAuthor%5D&amp;cauthor=true&amp;cauthor_uid=27315458\">Yang FD</a><sup>1</sup>, <a href=\"/pubmed/?term=Zhang%20XY%5BAuthor%5D&amp;cauthor=true&amp;cauthor_uid=27315458\">Zhang XY</a><sup>5</sup>.</div><div class=\"afflist\"><h3><a class=\"jig-ncbitoggler\" href=\"#\" title=\"Open/close author information list\">Author information</a></h3><ul class=\"ui-ncbi-toggler-slave\"><li><sup>1</sup>Biological Psychiatry Research Center, Peking University Huilongguan Teaching Hospital, Beijing 100096, PR China.</li><li><sup>2</sup>Biological Psychiatry Research Center, Peking University Huilongguan Teaching Hospital, Beijing 100096, PR China. Electronic address: yltan21@126.com.</li><li><sup>3</sup>Department of Psychiatry, Yale University School of Medicine, New Haven, CT, USA.</li><li><sup>4</sup>Neuroscience Center, University of Helsinki, Viikinkaari 4, FIN-00014 Helsinki, Finland.</li><li><sup>5</sup>Biological Psychiatry Research Center, Peking University Huilongguan Teaching Hospital, Beijing 100096, PR China; Department of Psychiatry and Behavioral Sciences, Harris County Psychiatric Center, The University of Texas Health Science Center at Houston, Houston, TX, USA.</li></ul></div><div class=\"abstr\"><h3>Abstract</h3><div class=\"\"><p><abstracttext>Catechol-O-methyltransferase (COMT), an enzyme involved in the degradation and inactivation of the neurotransmitter dopamine, is associated with the sensory gating phenomenon, protecting the cerebral cortex from information overload. The COMT Val<sup>108/158</sup>Met polymorphism is essential for prefrontal cortex processing capacity and efficiency. The current study was designed to investigate the role of COMT Val<sup>108/158</sup>Met polymorphism in development, sensory gating deficit, and symptoms of schizophrenia in Han Chinese population. P50 gating was determined in 139 schizophrenic patients and 165 healthy controls. Positive and Negative Syndrome Scale (PANSS) was used to assess the clinical symptomatology in 370 schizophrenic subjects. COMT Val<sup>108/158</sup>Met polymorphism was genotyped by PCR-restriction fragment length polymorphism (PCR-RFLP). No significant differences in COMT allele and genotype distributions were observed between schizophrenic patients and control groups. Although P50 deficits were present in patients, there was no evidence for an association between COMT Val<sup>108/158</sup>Met polymorphism and the P50 biomarker. Moreover, PANSS negative subscore was significantly higher in Val allele carriers than in Met/Met individuals. The present findings suggest that COMT Val<sup>108/158</sup>Met polymorphism may not contribute to the risk of schizophrenia and to the P50 deficits, but may contribute to the negative symptoms of schizophrenia among Han Chinese.</abstracttext></p><p>Copyright © 2016 Elsevier Ireland Ltd. All rights reserved.</p></div></div><div class=\"keywords\"><h4>KEYWORDS: </h4><p>Biomarker; COMT; Negative symptom; Schizophrenia; Sensory gating</p></div><div class=\"aux\"><div class=\"resc\"><dl class=\"rprtid\"><dt>PMID:</dt> <dd>27315458</dd> <dd> [PubMed - as supplied by publisher] </dd><dd> </dd></dl></div><div class=\"links\"></div><div id=\"ncbi_share_pm\"><a class=\"ncbi_share\" data-ncbi_share_config=\"popup:false,shorten:true\" href=\"#\" ref=\"id=27315458&amp;db=pubmed\" style=\"visibility:hidden\">Share</a></div></div><div data-exp=\"true\" data-recid=\"27315458\" data-rsys=\"1\" id=\"comments_panel\"><div id=\"comments_panel_head\"><a href=\"/pubmedcommons/\" id=\"coments_panel_anchor\" name=\"comments\">PubMed Commons home</a><h2><span id=\"show_comments\" title=\"Shows comments\">\n",
       "                               PubMed Commons\n",
       "                               </span></h2></div><div class=\"ui-ncbi-toggler-slave\"><div class=\"comm_sub_header\"><span class=\"num_comments\" title=\"Number of comments on this citation\"><span class=\"count\">0</span> comments</span></div><a href=\"/pubmedcommons/help/join/\" id=\"comment_who\">How to join PubMed Commons</a><div><ul data-page=\"emb\" id=\"comment_list\"></ul></div><div id=\"comm_cite_pop\" style=\"display:none;\"><label for=\"comm_cite_pop_inp\">How to cite this comment:</label><textarea cols=\"60\" id=\"comm_cite_pop_inp\" rows=\"7\"></textarea></div></div></div><input id=\"absid\" type=\"hidden\" value=\"27315458\"/><input id=\"absdate\" type=\"hidden\" value=\"2016/6/18\"/><ul class=\"print-log\"><li></li></ul></div></div>\n",
       "<div id=\"messagearea_bottom\">\n",
       "</div>\n",
       "<div class=\" bottom\">\n",
       "</div>\n",
       "</div>\n",
       "</div>\n",
       "<div class=\"supplemental col three_col last\">\n",
       "<h2 class=\"offscreen_noflow\">Supplemental Content</h2>\n",
       "<div>\n",
       "<!--    <component id=\"Supplemental.PubReaderAd\"/>-->\n",
       "<div><div id=\"disc_col\"><a class=\"disc_col_ph\" href=\"/pubmed/?p$l=AjaxServer&amp;portlets=id=pmfavad;id=pmdiscora:db=pubmed:pmid=27315458;id=pmcommonsad:page=none;id=pmdiscopmc:db=pubmed:pmid=27315458;id=pmdiscostruct:db=pubmed:pmid=27315458;id=pmdiscodblinks:db=pubmed:pmid=27315458;id=recentactivity&amp;load=yes&amp;page=full\"><img alt=\"Loading ... \" class=\"ad_placeholder\" src=\"//static.pubmed.gov/portal/portal3rc.fcgi/4116257/img/3631476\" style=\"padding-left:6em\" title=\"Loading\"/></a></div></div>\n",
       "<!-- hidden -->\n",
       "<div><input name=\"EntrezSystem2.PEntrez.PubMed.Pubmed_ResultsPanel.EmailTab.EmailReport\" sid=\"1\" type=\"hidden\"/><input name=\"EntrezSystem2.PEntrez.PubMed.Pubmed_ResultsPanel.EmailTab.EmailFormat\" sid=\"1\" type=\"hidden\"/><input name=\"EntrezSystem2.PEntrez.PubMed.Pubmed_ResultsPanel.EmailTab.EmailCount\" sid=\"1\" type=\"hidden\"/><input name=\"EntrezSystem2.PEntrez.PubMed.Pubmed_ResultsPanel.EmailTab.EmailStart\" sid=\"1\" type=\"hidden\"/><input name=\"EntrezSystem2.PEntrez.PubMed.Pubmed_ResultsPanel.EmailTab.EmailSort\" sid=\"1\" type=\"hidden\"/><input name=\"EntrezSystem2.PEntrez.PubMed.Pubmed_ResultsPanel.EmailTab.Email\" sid=\"1\" type=\"hidden\"/><input name=\"EntrezSystem2.PEntrez.PubMed.Pubmed_ResultsPanel.EmailTab.EmailSubject\" sid=\"1\" type=\"hidden\"/><input name=\"EntrezSystem2.PEntrez.PubMed.Pubmed_ResultsPanel.EmailTab.EmailText\" sid=\"1\" type=\"hidden\"/><input name=\"EntrezSystem2.PEntrez.PubMed.Pubmed_ResultsPanel.EmailTab.EmailQueryKey\" sid=\"1\" type=\"hidden\"/><input name=\"EntrezSystem2.PEntrez.PubMed.Pubmed_ResultsPanel.EmailTab.EmailHID\" sid=\"1\" type=\"hidden\" value=\"16aQ4h-FD4I2OlzibedAct-j9uykpc9Ylbb5uoj69vkOp5zXxqB4JKAAQCMa1KFnNFISBMDUVG3XNAT_FEBQM2JSY1JvEEXQY\"/><input name=\"EntrezSystem2.PEntrez.PubMed.Pubmed_ResultsPanel.EmailTab.QueryDescription\" sid=\"1\" type=\"hidden\"/><input name=\"EntrezSystem2.PEntrez.PubMed.Pubmed_ResultsPanel.EmailTab.Key\" sid=\"1\" type=\"hidden\"/><input name=\"EntrezSystem2.PEntrez.PubMed.Pubmed_ResultsPanel.EmailTab.Answer\" sid=\"1\" type=\"hidden\"/><input name=\"EntrezSystem2.PEntrez.PubMed.Pubmed_ResultsPanel.EmailTab.Holding\" sid=\"1\" type=\"hidden\" value=\"\"/><input name=\"EntrezSystem2.PEntrez.PubMed.Pubmed_ResultsPanel.EmailTab.HoldingFft\" sid=\"1\" type=\"hidden\" value=\"\"/><input name=\"EntrezSystem2.PEntrez.PubMed.Pubmed_ResultsPanel.EmailTab.HoldingNdiSet\" sid=\"1\" type=\"hidden\" value=\"\"/><input name=\"EntrezSystem2.PEntrez.PubMed.Pubmed_ResultsPanel.EmailTab.OToolValue\" sid=\"1\" type=\"hidden\" value=\"\"/><input name=\"EntrezSystem2.PEntrez.PubMed.Pubmed_ResultsPanel.EmailTab.SubjectList\" sid=\"1\" type=\"hidden\" value=\"\"/></div>\n",
       "</div>\n",
       "</div>\n",
       "<div id=\"NCBIFooter_dynamic\">\n",
       "<div class=\"breadcrumbs\">You are here: \n",
       "            <span id=\"breadcrumb_text\"><a href=\"/guide/\">NCBI</a> &gt; <a href=\"http://www.ncbi.nlm.nih.gov/guide/literature/\">Literature</a> &gt; PubMed</span></div>\n",
       "<a class=\"help_desk jig-ncbihelpwindow\" href=\"https://support.nlm.nih.gov/ics/support/ticketnewwizard.asp?style=classic&amp;deptID=28054&amp;category=pubmed&amp;Ncbi_App=entrez&amp;Db=pubmed&amp;Page=abstract&amp;Snapshot=%2Fprojects%2Fentrez%2Fpubmed%2FPubMedGroup@1.82&amp;Time=2016-06-18T18:09:31-04:00&amp;Host=portal101&amp;ncbi_phid=CE887D01765C618100000000005EAD55&amp;ncbi_session=CE887D01765C69B1_0094SID&amp;from=http%3A%2F%2Fwww.ncbi.nlm.nih.gov%2Fpubmed%2F27315458&amp;report=abstract&amp;querykey=1&amp;query=1%20selected%20item:%2027315458;%20Page%20number:%201;%20Page%20size:%2020&amp;pmid=27315458\" id=\"help-desk-link\" target=\"_blank\">Write to the Help Desk</a>\n",
       "<noscript><img alt=\"\" src=\"/stat?jsdisabled=true&amp;ncbi_app=entrez&amp;ncbi_db=pubmed&amp;ncbi_pdid=abstract&amp;ncbi_phid=CE887D01765C618100000000005EAD55\"/></noscript>\n",
       "</div>\n",
       "<div class=\"footer\" id=\"footer\" xml:base=\"http://127.0.0.1/sites/static/header_footer/\" xmlns=\"http://www.w3.org/1999/xhtml\">\n",
       "<!--    <div class=\"breadcrumbs\">You are here: <span id=\"breadcrumb_text\"><a href=\"#\">NCBI</a></span></div>\n",
       "        <a id=\"help-desk-link\" class=\"help_desk\" target=\"_blank\">Help Desk</a>-->\n",
       "<div class=\"subfooter\">\n",
       "<h2 class=\"offscreen_noflow\">Simple NCBI Directory</h2>\n",
       "<ul class=\"foot_list\" id=\"getting_started\">\n",
       "<li><h3>Getting Started</h3></li>\n",
       "<!-- removed; hp-250           <li><a href=\"/guide/all/\">Site Map</a></li>-->\n",
       "<li><a href=\"/home/learn.shtml\">NCBI Education</a></li>\n",
       "<li><a href=\"/books/NBK3831/\">NCBI Help Manual</a></li>\n",
       "<li><a href=\"/books/NBK143764/\">NCBI Handbook</a></li>\n",
       "<li><a href=\"/home/learn.shtml\">Training &amp; Tutorials</a></li>\n",
       "<li><a href=\"/home/submit.shtml\">Submit Data</a></li>\n",
       "</ul>\n",
       "<!-- this section is re-written by an XSLT before output -->\n",
       "<ul class=\"foot_list\" id=\"resources\">\n",
       "<li><h3>Resources</h3></li>\n",
       "<!-- fill this in with categories -->\n",
       "<li><a href=\"/guide/chemicals-bioassays/\">Chemicals &amp; Bioassays</a></li><li><a href=\"/guide/data-software/\">Data &amp; Software</a></li><li><a href=\"/guide/dna-rna/\">DNA &amp; RNA</a></li><li><a href=\"/guide/domains-structures/\">Domains &amp; Structures</a></li><li><a href=\"/guide/genes-expression/\">Genes &amp; Expression</a></li><li><a href=\"/guide/genetics-medicine/\">Genetics &amp; Medicine</a></li><li><a href=\"/guide/genomes-maps/\">Genomes &amp; Maps</a></li><li><a href=\"/guide/homology/\">Homology</a></li><li><a href=\"/guide/literature/\">Literature</a></li><li><a href=\"/guide/proteins/\">Proteins</a></li><li><a href=\"/guide/sequence-analysis/\">Sequence Analysis</a></li><li><a href=\"/guide/taxonomy/\">Taxonomy</a></li><li><a href=\"/guide/variation/\">Variation</a></li></ul>\n",
       "<ul class=\"foot_list\" id=\"popular\">\n",
       "<li><h3>Popular</h3></li>\n",
       "<li><a href=\"/pubmed/\">PubMed</a></li>\n",
       "<li><a href=\"/books/\">Bookshelf</a></li>\n",
       "<li><a href=\"/pmc/\">PubMed Central</a></li>\n",
       "<li><a href=\"/pubmedhealth/\">PubMed Health</a></li>\n",
       "<li><a class=\"newdomain\" href=\"https://blast.ncbi.nlm.nih.gov/Blast.cgi\">BLAST</a></li>\n",
       "<li><a href=\"/nucleotide/\">Nucleotide</a></li>\n",
       "<li><a href=\"/genome/\">Genome</a></li>\n",
       "<li><a href=\"/snp/\">SNP</a></li>\n",
       "<li><a href=\"/gene/\">Gene</a></li>\n",
       "<li><a href=\"/protein/\">Protein</a></li>\n",
       "<li><a class=\"newdomain\" href=\"https://pubchem.ncbi.nlm.nih.gov/\">PubChem</a></li>\n",
       "</ul>\n",
       "<ul class=\"foot_list\" id=\"featured\">\n",
       "<li><h3>Featured</h3></li>\n",
       "<li><a href=\"/gtr/\">Genetic Testing Registry</a></li>\n",
       "<li><a href=\"/pubmedhealth/\">PubMed Health</a></li>\n",
       "<li><a href=\"/genbank/\">GenBank</a></li>\n",
       "<li><a href=\"/refseq/\">Reference Sequences</a></li>\n",
       "<li><a href=\"/geo/\">Gene Expression Omnibus</a></li>\n",
       "<li><a href=\"/mapview/\">Map Viewer</a></li>\n",
       "<li><a href=\"/genome/guide/human/\">Human Genome</a></li>\n",
       "<li><a href=\"/genome/guide/mouse/\">Mouse Genome</a></li>\n",
       "<li><a href=\"/genomes/FLU/\">Influenza Virus</a></li>\n",
       "<li><a href=\"/tools/primer-blast/\">Primer-BLAST</a></li>\n",
       "<li><a href=\"/Traces/sra/\">Sequence Read Archive</a></li>\n",
       "</ul>\n",
       "<ul class=\"foot_list\" id=\"info\">\n",
       "<li><h3>NCBI Information</h3></li>\n",
       "<li><a href=\"/home/about/\">About NCBI</a></li>\n",
       "<li><a href=\"/research/\">Research at NCBI</a></li>\n",
       "<li><a href=\"/news/\">NCBI News</a></li>\n",
       "<li><a href=\"ftp://ftp.ncbi.nlm.nih.gov/\">NCBI FTP Site</a></li>\n",
       "<li><a class=\"external\" href=\"https://www.facebook.com/ncbi.nlm\">NCBI on Facebook</a></li>\n",
       "<li><a class=\"external\" href=\"https://twitter.com/ncbi\">NCBI on Twitter</a></li>\n",
       "<li><a class=\"external\" href=\"https://www.youtube.com/ncbinlm\">NCBI on YouTube</a></li>\n",
       "</ul>\n",
       "</div>\n",
       "<div class=\"offscreen_noflow\" id=\"external-disclaimer\">\n",
       "        External link. Please review our <a href=\"https://www.nlm.nih.gov/privacy.html\">privacy policy</a>.\n",
       "    </div>\n",
       "<div class=\"contact_info\" id=\"ncbifooter\">\n",
       "<div id=\"footer-contents-right\">\n",
       "<div id=\"nlm_thumb_logo\">\n",
       "<a href=\"https://www.nlm.nih.gov\" title=\"NLM\">NLM</a>\n",
       "</div>\n",
       "<div id=\"nih_thumb_logo\">\n",
       "<a href=\"https://www.nih.gov\" title=\"NIH\">NIH</a>\n",
       "</div>\n",
       "<div id=\"hhs_thumb_logo\">\n",
       "<a href=\"https://www.hhs.gov\" title=\"DHHS\">DHHS</a>\n",
       "</div>\n",
       "<div id=\"usagov_thumb_logo\">\n",
       "<a href=\"https://www.usa.gov\" title=\"USA.gov\">USA.gov</a>\n",
       "</div>\n",
       "</div>\n",
       "<div id=\"footer-contents-left\">\n",
       "<p class=\"address vcard\">\n",
       "<span class=\"url\">\n",
       "<a class=\"fn url newdomain\" href=\"https://www.ncbi.nlm.nih.gov\">National Center for\n",
       "                        Biotechnology Information</a>,\n",
       "                </span> <span class=\"org url newdomain\"><a href=\"https://www.nlm.nih.gov/\">U.S. National Library of Medicine</a></span>\n",
       "<span class=\"adr\">\n",
       "<span class=\"street-address\">8600 Rockville Pike</span>, <span class=\"locality\">Bethesda</span>\n",
       "<span class=\"region\">MD</span>, <span class=\"postal-code\">20894</span>\n",
       "<span class=\"country-name\">USA</span>\n",
       "</span>\n",
       "</p>\n",
       "<a href=\"/home/about/policies.shtml\">Policies and Guidelines</a> | <a href=\"/home/about/contact.shtml\">Contact</a>\n",
       "</div>\n",
       "</div>\n",
       "<script src=\"/portal/portal3rc.fcgi/rlib/js/InstrumentOmnitureBaseJS/InstrumentNCBIConfigJS/InstrumentNCBIBaseJS/InstrumentPageStarterJS.js?v=1\" type=\"text/javascript\"> </script>\n",
       "<script src=\"/portal/portal3rc.fcgi/static/js/hfjs2.js\" type=\"text/javascript\"> </script>\n",
       "</div>\n",
       "</div>\n",
       "<div><input name=\"EntrezSystem2.PEntrez.DbConnector.Db\" sid=\"1\" type=\"hidden\" value=\"pubmed\"/><input name=\"EntrezSystem2.PEntrez.DbConnector.LastDb\" sid=\"1\" type=\"hidden\" value=\"pubmed\"/><input name=\"EntrezSystem2.PEntrez.DbConnector.Term\" sid=\"1\" type=\"hidden\" value=\"\"/><input name=\"EntrezSystem2.PEntrez.DbConnector.LastTabCmd\" sid=\"1\" type=\"hidden\" value=\"\"/><input name=\"EntrezSystem2.PEntrez.DbConnector.LastQueryKey\" sid=\"1\" type=\"hidden\" value=\"1\"/><input name=\"EntrezSystem2.PEntrez.DbConnector.IdsFromResult\" sid=\"1\" type=\"hidden\" value=\"\"/><input name=\"EntrezSystem2.PEntrez.DbConnector.LastIdsFromResult\" sid=\"1\" type=\"hidden\" value=\"\"/><input name=\"EntrezSystem2.PEntrez.DbConnector.LinkName\" sid=\"1\" type=\"hidden\"/><input name=\"EntrezSystem2.PEntrez.DbConnector.LinkReadableName\" sid=\"1\" type=\"hidden\"/><input name=\"EntrezSystem2.PEntrez.DbConnector.LinkSrcDb\" sid=\"1\" type=\"hidden\"/><input name=\"EntrezSystem2.PEntrez.DbConnector.Cmd\" sid=\"1\" type=\"hidden\"/><input name=\"EntrezSystem2.PEntrez.DbConnector.TabCmd\" sid=\"1\" type=\"hidden\"/><input name=\"EntrezSystem2.PEntrez.DbConnector.QueryKey\" sid=\"1\" type=\"hidden\"/></div>\n",
       "<input id=\"p$a\" name=\"p$a\" type=\"hidden\"/><input id=\"p$l\" name=\"p$l\" type=\"hidden\" value=\"EntrezSystem2\"/><input id=\"p$st\" name=\"p$st\" type=\"hidden\" value=\"pubmed\"/><input disabled=\"disabled\" id=\"SessionId\" name=\"SessionId\" type=\"hidden\" value=\"CE887D01765C69B1_0094SID\"/><input disabled=\"disabled\" id=\"Snapshot\" name=\"Snapshot\" type=\"hidden\" value=\"/projects/entrez/pubmed/PubMedGroup@1.82\"/></form>\n",
       "</div>\n",
       "</div>\n",
       "<!-- CE887D01765C69B1_0094SID /projects/entrez/pubmed/PubMedGroup@1.82 portal101 v4.1.r480124 Mon, Sep 28 2015 02:46:19 -->\n",
       "<script src=\"/portal/js/portal.js?v4%2E1%2Er480124+Mon%2C+Sep+28+2015+02%3A46%3A19\" type=\"text/javascript\"></script><script snapshot=\"pubmed\" src=\"//static.pubmed.gov/portal/portal3rc.fcgi/4116257/js/3812534/4087685/3812535/3759173/3990644/4078655/4010399/4110099/4080513/3990642/4069329/4083289/4076482/2486879/2600938/3758627/20927/3908752/3423/4018706/4010028/4011871/4015648/4091709/3920825/3989002/4057442/4001808.js\" type=\"text/javascript\"></script></body>\n",
       "</html>"
      ]
     },
     "execution_count": 25,
     "metadata": {},
     "output_type": "execute_result"
    }
   ],
   "source": [
    "page_1_soup"
   ]
  },
  {
   "cell_type": "code",
   "execution_count": 31,
   "metadata": {
    "collapsed": false
   },
   "outputs": [
    {
     "name": "stdout",
     "output_type": "stream",
     "text": [
      "<title>Association of catechol-O-methyltransferase Val108/158 Met genetic polymorphism with schizophrenia, P50 sensory gating, and negative symptoms in a ...  - PubMed - NCBI\n",
      "</title>\n"
     ]
    }
   ],
   "source": [
    "title = page_1_soup.find('title')\n",
    "print title\n",
    "\n",
    "abtract = page_1_soup.find('abstracttext')"
   ]
  },
  {
   "cell_type": "code",
   "execution_count": 32,
   "metadata": {
    "collapsed": true
   },
   "outputs": [],
   "source": [
    "aa = page_1_soup.find_all('h1')"
   ]
  },
  {
   "cell_type": "code",
   "execution_count": 33,
   "metadata": {
    "collapsed": false
   },
   "outputs": [
    {
     "data": {
      "text/plain": [
       "[<h1 class=\"img_logo\"><a class=\"pmlogo offscreen\" href=\"/pubmed\" title=\"PubMed\">PubMed</a></h1>,\n",
       " <h1>Association of catechol-O-methyltransferase Val108/158 Met genetic polymorphism with schizophrenia, P50 sensory gating, and negative symptoms in a Chinese population.</h1>]"
      ]
     },
     "execution_count": 33,
     "metadata": {},
     "output_type": "execute_result"
    }
   ],
   "source": [
    "aa"
   ]
  },
  {
   "cell_type": "code",
   "execution_count": null,
   "metadata": {
    "collapsed": true
   },
   "outputs": [],
   "source": []
  }
 ],
 "metadata": {
  "kernelspec": {
   "display_name": "Python 2",
   "language": "python",
   "name": "python2"
  },
  "language_info": {
   "codemirror_mode": {
    "name": "ipython",
    "version": 2
   },
   "file_extension": ".py",
   "mimetype": "text/x-python",
   "name": "python",
   "nbconvert_exporter": "python",
   "pygments_lexer": "ipython2",
   "version": "2.7.11"
  }
 },
 "nbformat": 4,
 "nbformat_minor": 0
}
