{
 "cells": [
  {
   "cell_type": "markdown",
   "metadata": {},
   "source": [
    "## ERP SCANR\n",
    "\n",
    "\n",
    "This notebook ...\n",
    "."
   ]
  },
  {
   "cell_type": "code",
   "execution_count": 2,
   "metadata": {
    "collapsed": false
   },
   "outputs": [],
   "source": [
    "## Imports\n",
    "\n",
    "# Import custom code\n",
    "from erpsc import *\n",
    "\n",
    "# TEST IMPORTS\n",
    "import requests\n",
    "import nltk\n",
    "from bs4 import BeautifulSoup"
   ]
  },
  {
   "cell_type": "code",
   "execution_count": 3,
   "metadata": {
    "collapsed": false
   },
   "outputs": [],
   "source": [
    "## Things to search through - full set\n",
    "erps = ['P50', 'P100', 'P200', 'P300', 'P3a', 'P3b', 'P600', 'N100', 'N170', 'N200',\\\n",
    "         'N270', 'N2pc', 'N400', 'MMN', 'LPC', 'CNV', 'ERN', 'ELAN', 'CPS', 'LRP', 'LDN']\n",
    "cogs = ['language', 'memory', 'attention', 'motor', 'decision making', 'vision', \\\n",
    "         'auditory', 'emotion', 'categorization', 'reward', 'spatial']"
   ]
  },
  {
   "cell_type": "code",
   "execution_count": 4,
   "metadata": {
    "collapsed": true
   },
   "outputs": [],
   "source": [
    "# Small test set of words\n",
    "erps = ['P300', 'P600']\n",
    "cogs = ['language', 'memory']"
   ]
  },
  {
   "cell_type": "markdown",
   "metadata": {},
   "source": [
    "## Co-Occurence of Term Analysis\n",
    "\n",
    "."
   ]
  },
  {
   "cell_type": "code",
   "execution_count": 5,
   "metadata": {
    "collapsed": true
   },
   "outputs": [],
   "source": [
    "# Initialize object for term count co-occurences. \n",
    "term_counts = ERPSC_Count()\n",
    "\n",
    "# Set erp and cog lists as terms to use\n",
    "term_counts.set_erps(erps)\n",
    "term_counts.set_cogs(cogs)"
   ]
  },
  {
   "cell_type": "code",
   "execution_count": 6,
   "metadata": {
    "collapsed": false
   },
   "outputs": [],
   "source": [
    "# Scrape the co-occurence of terms data\n",
    "term_counts.scrape_data()"
   ]
  },
  {
   "cell_type": "code",
   "execution_count": 7,
   "metadata": {
    "collapsed": false
   },
   "outputs": [
    {
     "name": "stdout",
     "output_type": "stream",
     "text": [
      "For the  P50   the most common association is \t memory     with \t %01.39\n",
      "For the  P100  the most common association is \t memory     with \t %02.44\n"
     ]
    }
   ],
   "source": [
    "# Check the most commonly associated COG term for each ERP\n",
    "term_counts.check_erps()"
   ]
  },
  {
   "cell_type": "code",
   "execution_count": 8,
   "metadata": {
    "collapsed": false
   },
   "outputs": [
    {
     "name": "stdout",
     "output_type": "stream",
     "text": [
      "For  language             the strongest associated ERP is \t P100  with \t %00.60\n",
      "For  memory               the strongest associated ERP is \t P100  with \t %02.44\n"
     ]
    }
   ],
   "source": [
    "# Check the most commonly associated ERP term for each COG\n",
    "term_counts.check_cogs()"
   ]
  },
  {
   "cell_type": "code",
   "execution_count": 9,
   "metadata": {
    "collapsed": false
   },
   "outputs": [
    {
     "name": "stdout",
     "output_type": "stream",
     "text": [
      "The most studied ERP is  P50     with     8177 papers\n",
      "The most studied COG is  memory  with   213047  papers\n"
     ]
    }
   ],
   "source": [
    "# Check the terms with the most papers\n",
    "term_counts.check_top()"
   ]
  },
  {
   "cell_type": "code",
   "execution_count": 10,
   "metadata": {
    "collapsed": false
   },
   "outputs": [
    {
     "name": "stdout",
     "output_type": "stream",
     "text": [
      "P50   -     8177\n",
      "P100  -     2171\n"
     ]
    }
   ],
   "source": [
    "# Check how many papers were found for each term - ERPs\n",
    "term_counts.check_counts('erp')"
   ]
  },
  {
   "cell_type": "code",
   "execution_count": 11,
   "metadata": {
    "collapsed": false
   },
   "outputs": [
    {
     "name": "stdout",
     "output_type": "stream",
     "text": [
      "language           -     135605\n",
      "memory             -     213047\n"
     ]
    }
   ],
   "source": [
    "# Check how many papers were found for each term - COGs\n",
    "term_counts.check_counts('cog')"
   ]
  },
  {
   "cell_type": "code",
   "execution_count": 12,
   "metadata": {
    "collapsed": false
   },
   "outputs": [],
   "source": [
    "# Save pickle file of results\n",
    "term_counts.save_pickle()"
   ]
  },
  {
   "cell_type": "code",
   "execution_count": 13,
   "metadata": {
    "collapsed": false
   },
   "outputs": [],
   "source": [
    "# Load from pickle file\n",
    "term_counts = load_pickle_counts()"
   ]
  },
  {
   "cell_type": "markdown",
   "metadata": {},
   "source": [
    "## WORD ANALYSIS\n",
    "\n",
    "."
   ]
  },
  {
   "cell_type": "code",
   "execution_count": 4,
   "metadata": {
    "collapsed": true
   },
   "outputs": [],
   "source": [
    "# Initialize words-analysis object\n",
    "words_analysis = ERPSC_Words()"
   ]
  },
  {
   "cell_type": "code",
   "execution_count": 5,
   "metadata": {
    "collapsed": false
   },
   "outputs": [],
   "source": [
    "# Set ERP and COG terms\n",
    "words_analysis.set_erps(erps)\n",
    "#words_analysis.set_cogs(cogs)"
   ]
  },
  {
   "cell_type": "code",
   "execution_count": 6,
   "metadata": {
    "collapsed": false
   },
   "outputs": [],
   "source": [
    "# Scrape word data for all ERP abstracts\n",
    "words_analysis.scrape_data()"
   ]
  },
  {
   "cell_type": "code",
   "execution_count": 8,
   "metadata": {
    "collapsed": false
   },
   "outputs": [],
   "source": [
    "aa = words_analysis.results[0].words[0]"
   ]
  },
  {
   "cell_type": "code",
   "execution_count": null,
   "metadata": {
    "collapsed": false
   },
   "outputs": [],
   "source": []
  },
  {
   "cell_type": "code",
   "execution_count": 14,
   "metadata": {
    "collapsed": false
   },
   "outputs": [
    {
     "data": {
      "text/plain": [
       "nltk.probability.FreqDist"
      ]
     },
     "execution_count": 14,
     "metadata": {},
     "output_type": "execute_result"
    }
   ],
   "source": [
    "cc = nltk.FreqDist(aa)\n",
    "type(cc)"
   ]
  },
  {
   "cell_type": "code",
   "execution_count": null,
   "metadata": {
    "collapsed": true
   },
   "outputs": [],
   "source": [
    "\n",
    "\n",
    "\n",
    "\n",
    "\n",
    "\n"
   ]
  },
  {
   "cell_type": "code",
   "execution_count": 1,
   "metadata": {
    "collapsed": false
   },
   "outputs": [
    {
     "ename": "NameError",
     "evalue": "name 'words_anal' is not defined",
     "output_type": "error",
     "traceback": [
      "\u001b[0;31m---------------------------------------------------------------------------\u001b[0m",
      "\u001b[0;31mNameError\u001b[0m                                 Traceback (most recent call last)",
      "\u001b[0;32m<ipython-input-1-862f90f92e2f>\u001b[0m in \u001b[0;36m<module>\u001b[0;34m()\u001b[0m\n\u001b[0;32m----> 1\u001b[0;31m \u001b[0maa\u001b[0m \u001b[0;34m=\u001b[0m \u001b[0mwords_anal\u001b[0m\u001b[0;34m.\u001b[0m\u001b[0mresults\u001b[0m\u001b[0;34m[\u001b[0m\u001b[0;36m0\u001b[0m\u001b[0;34m]\u001b[0m\u001b[0;34m.\u001b[0m\u001b[0mwords\u001b[0m\u001b[0;34m[\u001b[0m\u001b[0;36m0\u001b[0m\u001b[0;34m]\u001b[0m\u001b[0;34m\u001b[0m\u001b[0m\n\u001b[0m",
      "\u001b[0;31mNameError\u001b[0m: name 'words_anal' is not defined"
     ]
    }
   ],
   "source": [
    "aa = words_analysis.results[0].words[0]"
   ]
  },
  {
   "cell_type": "code",
   "execution_count": 9,
   "metadata": {
    "collapsed": false
   },
   "outputs": [
    {
     "data": {
      "text/plain": [
       "FreqDist({u'(h3k18)': 1,\n",
       "          u'(hat)': 1,\n",
       "          u'3-fold': 1,\n",
       "          u'a': 5,\n",
       "          u'acetylated-lys': 1,\n",
       "          u'acetylation': 5,\n",
       "          u'acetyltransferase': 1,\n",
       "          u'activates': 1,\n",
       "          u'activation': 1,\n",
       "          u'acute': 1,\n",
       "          u'addition,': 1,\n",
       "          u'allosterically': 1,\n",
       "          u'an': 1,\n",
       "          u'and': 10,\n",
       "          u'anti-proliferative': 1,\n",
       "          u'approach': 1,\n",
       "          u'are': 1,\n",
       "          u'as': 1,\n",
       "          u'be': 2,\n",
       "          u'been': 2,\n",
       "          u'bind': 1,\n",
       "          u'blots,': 1,\n",
       "          u'both': 1,\n",
       "          u'bromodomain': 3,\n",
       "          u'but': 1,\n",
       "          u'by': 3,\n",
       "          u'can': 2,\n",
       "          u'cancer': 2,\n",
       "          u'cancer.': 1,\n",
       "          u'cbp': 1,\n",
       "          u'cbp30': 1,\n",
       "          u'cbp30,': 1,\n",
       "          u'cbp30.': 1,\n",
       "          u'cells': 1,\n",
       "          u'closely': 1,\n",
       "          u'coactivators': 1,\n",
       "          u'commensurate': 1,\n",
       "          u'concentration': 1,\n",
       "          u'conserved': 1,\n",
       "          u'diseases.': 1,\n",
       "          u'does': 2,\n",
       "          u'domain': 1,\n",
       "          u'dysregulated': 1,\n",
       "          u'effects': 1,\n",
       "          u'effects.': 1,\n",
       "          u'enhances': 1,\n",
       "          u'enzymes': 1,\n",
       "          u'established': 1,\n",
       "          u'extend': 1,\n",
       "          u'findings': 1,\n",
       "          u'found': 2,\n",
       "          u'h3': 2,\n",
       "          u'h3k18': 1,\n",
       "          u'has': 1,\n",
       "          u'hat': 1,\n",
       "          u'have': 2,\n",
       "          u'here': 1,\n",
       "          u'highly': 1,\n",
       "          u'histone': 4,\n",
       "          u'i-cbp112': 8,\n",
       "          u'impact': 1,\n",
       "          u'in': 9,\n",
       "          u'including': 1,\n",
       "          u'interactions.': 1,\n",
       "          u'is': 2,\n",
       "          u'isolated': 2,\n",
       "          u'its': 1,\n",
       "          u'known': 1,\n",
       "          u'leukemia': 1,\n",
       "          u'ligand': 1,\n",
       "          u'ligands': 1,\n",
       "          u'likely': 1,\n",
       "          u'lys18': 1,\n",
       "          u'mass': 1,\n",
       "          u'modulating': 1,\n",
       "          u'molecules': 1,\n",
       "          u'multi-domain': 1,\n",
       "          u'neutralized': 1,\n",
       "          u'not': 2,\n",
       "          u'not.': 1,\n",
       "          u'novel': 1,\n",
       "          u'nucleosome': 3,\n",
       "          u'nucleosomes,': 1,\n",
       "          u'observed': 1,\n",
       "          u'of': 7,\n",
       "          u'on': 1,\n",
       "          u'other': 1,\n",
       "          u'our': 1,\n",
       "          u'p300': 2,\n",
       "          u'p300/cbp': 5,\n",
       "          u'p300/cbp.': 1,\n",
       "          u'paralogs': 1,\n",
       "          u'particularly': 1,\n",
       "          u'pharmacology': 1,\n",
       "          u'possesses': 1,\n",
       "          u'prostate': 1,\n",
       "          u'protein': 1,\n",
       "          u'proteins': 1,\n",
       "          u'range': 1,\n",
       "          u'regulation': 1,\n",
       "          u'related': 1,\n",
       "          u'requires': 1,\n",
       "          u'residues': 1,\n",
       "          u'serve': 1,\n",
       "          u'show': 2,\n",
       "          u'shown': 1,\n",
       "          u'site': 1,\n",
       "          u'small': 1,\n",
       "          u'spectrometry': 1,\n",
       "          u'stimulate': 1,\n",
       "          u'stimulates': 1,\n",
       "          u'substrate': 1,\n",
       "          u'substrate.': 1,\n",
       "          u'suggest': 1,\n",
       "          u'suggesting': 1,\n",
       "          u'that': 6,\n",
       "          u'the': 6,\n",
       "          u'through': 1,\n",
       "          u'to': 4,\n",
       "          u'transcriptional': 1,\n",
       "          u'up': 1,\n",
       "          u'using': 1,\n",
       "          u'various': 1,\n",
       "          u'vivo': 1,\n",
       "          u'we': 3,\n",
       "          u'western': 1,\n",
       "          u'while': 1,\n",
       "          u'with': 2})"
      ]
     },
     "execution_count": 9,
     "metadata": {},
     "output_type": "execute_result"
    }
   ],
   "source": [
    "FreqDist(aa)"
   ]
  },
  {
   "cell_type": "code",
   "execution_count": 77,
   "metadata": {
    "collapsed": false
   },
   "outputs": [
    {
     "data": {
      "text/plain": [
       "u'the histone acetyltransferase (hat) enzymes p300 and cbp are closely related paralogs that serve as transcriptional coactivators and have been found to be dysregulated in cancer and other diseases. p300/cbp is a multi-domain protein and possesses a highly conserved bromodomain that has been shown to bind acetylated-lys residues in both proteins and various small molecules including i-cbp112 and cbp30. here we show that the ligand i-cbp112 can stimulate nucleosome acetylation up to 3-fold while cbp30 does not. activation of p300/cbp by i-cbp112 is not observed with isolated histone h3 substrate but requires a nucleosome substrate. i-cbp112 does not impact nucleosome acetylation by the isolated p300 hat domain and the effects of i-cbp112 on p300/cbp can be neutralized by cbp30, suggesting that i-cbp112 likely allosterically activates p300/cbp through bromodomain interactions. using mass spectrometry and western blots, we have found that i-cbp112 particularly stimulates acetylation of lys18 of histone h3 (h3k18) in nucleosomes, an established in vivo site of p300/cbp. in addition, we show that i-cbp112 enhances h3k18 acetylation in acute leukemia and prostate cancer cells in a concentration range commensurate with its anti-proliferative effects. our findings extend the known pharmacology of bromodomain ligands in the regulation of p300/cbp and suggest a novel approach to modulating histone acetylation in cancer.'"
      ]
     },
     "execution_count": 77,
     "metadata": {},
     "output_type": "execute_result"
    }
   ],
   "source": [
    "bb = aa.lower()\n",
    "bb"
   ]
  },
  {
   "cell_type": "code",
   "execution_count": 72,
   "metadata": {
    "collapsed": false
   },
   "outputs": [
    {
     "data": {
      "text/plain": [
       "FreqDist({u'(H3K18)': 1,\n",
       "          u'(HAT)': 1,\n",
       "          u'3-fold': 1,\n",
       "          u'Activation': 1,\n",
       "          u'CBP': 1,\n",
       "          u'CBP30': 1,\n",
       "          u'CBP30,': 1,\n",
       "          u'CBP30.': 1,\n",
       "          u'H3': 2,\n",
       "          u'H3K18': 1,\n",
       "          u'HAT': 1,\n",
       "          u'Here': 1,\n",
       "          u'I-CBP112': 8,\n",
       "          u'In': 1,\n",
       "          u'Lys18': 1,\n",
       "          u'Our': 1,\n",
       "          u'The': 1,\n",
       "          u'Using': 1,\n",
       "          u'a': 5,\n",
       "          u'acetylated-Lys': 1,\n",
       "          u'acetylation': 5,\n",
       "          u'acetyltransferase': 1,\n",
       "          u'activates': 1,\n",
       "          u'acute': 1,\n",
       "          u'addition,': 1,\n",
       "          u'allosterically': 1,\n",
       "          u'an': 1,\n",
       "          u'and': 10,\n",
       "          u'anti-proliferative': 1,\n",
       "          u'approach': 1,\n",
       "          u'are': 1,\n",
       "          u'as': 1,\n",
       "          u'be': 2,\n",
       "          u'been': 2,\n",
       "          u'bind': 1,\n",
       "          u'blots,': 1,\n",
       "          u'both': 1,\n",
       "          u'bromodomain': 3,\n",
       "          u'but': 1,\n",
       "          u'by': 3,\n",
       "          u'can': 2,\n",
       "          u'cancer': 2,\n",
       "          u'cancer.': 1,\n",
       "          u'cells': 1,\n",
       "          u'closely': 1,\n",
       "          u'coactivators': 1,\n",
       "          u'commensurate': 1,\n",
       "          u'concentration': 1,\n",
       "          u'conserved': 1,\n",
       "          u'diseases.': 1,\n",
       "          u'does': 2,\n",
       "          u'domain': 1,\n",
       "          u'dysregulated': 1,\n",
       "          u'effects': 1,\n",
       "          u'effects.': 1,\n",
       "          u'enhances': 1,\n",
       "          u'enzymes': 1,\n",
       "          u'established': 1,\n",
       "          u'extend': 1,\n",
       "          u'findings': 1,\n",
       "          u'found': 2,\n",
       "          u'has': 1,\n",
       "          u'have': 2,\n",
       "          u'highly': 1,\n",
       "          u'histone': 4,\n",
       "          u'impact': 1,\n",
       "          u'in': 8,\n",
       "          u'including': 1,\n",
       "          u'interactions.': 1,\n",
       "          u'is': 2,\n",
       "          u'isolated': 2,\n",
       "          u'its': 1,\n",
       "          u'known': 1,\n",
       "          u'leukemia': 1,\n",
       "          u'ligand': 1,\n",
       "          u'ligands': 1,\n",
       "          u'likely': 1,\n",
       "          u'mass': 1,\n",
       "          u'modulating': 1,\n",
       "          u'molecules': 1,\n",
       "          u'multi-domain': 1,\n",
       "          u'neutralized': 1,\n",
       "          u'not': 2,\n",
       "          u'not.': 1,\n",
       "          u'novel': 1,\n",
       "          u'nucleosome': 3,\n",
       "          u'nucleosomes,': 1,\n",
       "          u'observed': 1,\n",
       "          u'of': 7,\n",
       "          u'on': 1,\n",
       "          u'other': 1,\n",
       "          u'p300': 2,\n",
       "          u'p300/CBP': 5,\n",
       "          u'p300/CBP.': 1,\n",
       "          u'paralogs': 1,\n",
       "          u'particularly': 1,\n",
       "          u'pharmacology': 1,\n",
       "          u'possesses': 1,\n",
       "          u'prostate': 1,\n",
       "          u'protein': 1,\n",
       "          u'proteins': 1,\n",
       "          u'range': 1,\n",
       "          u'regulation': 1,\n",
       "          u'related': 1,\n",
       "          u'requires': 1,\n",
       "          u'residues': 1,\n",
       "          u'serve': 1,\n",
       "          u'show': 2,\n",
       "          u'shown': 1,\n",
       "          u'site': 1,\n",
       "          u'small': 1,\n",
       "          u'spectrometry': 1,\n",
       "          u'stimulate': 1,\n",
       "          u'stimulates': 1,\n",
       "          u'substrate': 1,\n",
       "          u'substrate.': 1,\n",
       "          u'suggest': 1,\n",
       "          u'suggesting': 1,\n",
       "          u'that': 6,\n",
       "          u'the': 5,\n",
       "          u'through': 1,\n",
       "          u'to': 4,\n",
       "          u'transcriptional': 1,\n",
       "          u'up': 1,\n",
       "          u'various': 1,\n",
       "          u'vivo': 1,\n",
       "          u'we': 3,\n",
       "          u'western': 1,\n",
       "          u'while': 1,\n",
       "          u'with': 2})"
      ]
     },
     "execution_count": 72,
     "metadata": {},
     "output_type": "execute_result"
    }
   ],
   "source": [
    "FreqDist(aa)"
   ]
  },
  {
   "cell_type": "code",
   "execution_count": 26,
   "metadata": {
    "collapsed": false
   },
   "outputs": [
    {
     "name": "stdout",
     "output_type": "stream",
     "text": [
      "10087\n",
      "10087\n"
     ]
    }
   ],
   "source": [
    "# Test Code\n",
    "\n",
    "#page = requests.get('http://eutils.ncbi.nlm.nih.gov/entrez/eutils/esearch.fcgi?db=pubmed&field=word&term=“N270”AND”Language”')\n",
    "page = requests.get('http://eutils.ncbi.nlm.nih.gov/entrez/eutils/esearch.fcgi?db=pubmed&field=word&term=“P300”&retmax=10')\n",
    "\n",
    "page_soup = BeautifulSoup(page.content)\n",
    "\n",
    "counts = page_soup.find_all('count')\n",
    "\n",
    "for i in range(0, len(counts)):\n",
    "    count = counts[i]\n",
    "    ext = count.text\n",
    "    print int(ext)"
   ]
  },
  {
   "cell_type": "code",
   "execution_count": null,
   "metadata": {
    "collapsed": true
   },
   "outputs": [],
   "source": []
  },
  {
   "cell_type": "code",
   "execution_count": 42,
   "metadata": {
    "collapsed": false
   },
   "outputs": [],
   "source": [
    "art_page = requests.get('http://eutils.ncbi.nlm.nih.gov/entrez/eutils/efetch.fcgi?db=pubmed&retmode=xml&id=' + id_strs)\n",
    "\n",
    "art_page_soup = BeautifulSoup(art_page.content, \"xml\")"
   ]
  },
  {
   "cell_type": "code",
   "execution_count": null,
   "metadata": {
    "collapsed": true
   },
   "outputs": [],
   "source": []
  }
 ],
 "metadata": {
  "kernelspec": {
   "display_name": "Python 2",
   "language": "python",
   "name": "python2"
  },
  "language_info": {
   "codemirror_mode": {
    "name": "ipython",
    "version": 2
   },
   "file_extension": ".py",
   "mimetype": "text/x-python",
   "name": "python",
   "nbconvert_exporter": "python",
   "pygments_lexer": "ipython2",
   "version": "2.7.11"
  }
 },
 "nbformat": 4,
 "nbformat_minor": 0
}
