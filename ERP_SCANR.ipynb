{
 "cells": [
  {
   "cell_type": "markdown",
   "metadata": {},
   "source": [
    "## ERP SCANR\n",
    "\n",
    "\n",
    "This notebook is the overview notebook for the ERP-SCANR project (erpsc).\n",
    "\n",
    "ERPSC is an attempt to use automated web-scraping and text mining to summarize research on ERPs. \n",
    "\n",
    "Hopefully this project will serve as a type of automated meta-analysis, and also a way to pull out \n",
    "\n",
    "Currently, two approaches:\n",
    "- Co-occurence of terms analysis: check how often pre-selected cognitive terms appear in abstracts with ERP terms. \n",
    "- Words analysis: scrapes for ERP papers, pulls out words in abstracts for analysis. \n",
    "\n",
    "NOTE:\n",
    "- Known issue: Some ERP terms often return papers where the same name is used for something else. Will need some sort of quality control procedure to check that the papers that are scraped actually refer to what is wanted. \n",
    "\n",
    "This notebook is runs and displays the code. The actual code is in the 'erpsc' custom module. "
   ]
  },
  {
   "cell_type": "code",
   "execution_count": 1,
   "metadata": {
    "collapsed": false
   },
   "outputs": [],
   "source": [
    "## Imports\n",
    "\n",
    "# Import custom code\n",
    "from erpsc import *\n",
    "\n",
    "# TEST IMPORTS\n",
    "import requests\n",
    "import nltk\n",
    "from bs4 import BeautifulSoup"
   ]
  },
  {
   "cell_type": "code",
   "execution_count": 2,
   "metadata": {
    "collapsed": false
   },
   "outputs": [],
   "source": [
    "## Things to search through - full set\n",
    "erps = ['P50', 'P100', 'P200', 'P300', 'P3a', 'P3b', 'P600', 'N100', 'N170', 'N200',\\\n",
    "         'N270', 'N2pc', 'N400', 'MMN', 'LPC', 'CNV', 'ERN', 'ELAN', 'CPS', 'LRP', 'LDN']\n",
    "cogs = ['language', 'memory', 'attention', 'motor', 'decision making', 'vision', \\\n",
    "         'auditory', 'emotion', 'categorization', 'reward', 'spatial']"
   ]
  },
  {
   "cell_type": "code",
   "execution_count": 2,
   "metadata": {
    "collapsed": true
   },
   "outputs": [],
   "source": [
    "# Small test set of words\n",
    "erps = ['P300', 'P600']\n",
    "cogs = ['language', 'memory']"
   ]
  },
  {
   "cell_type": "markdown",
   "metadata": {},
   "source": [
    "## Co-Occurence of Term Analysis\n",
    "\n",
    "This analysis searches through pubmed for papers that contain specified ERP and COG terms. Data extracted is the count of the number of papers with both terms. This is used to infer what cognitive terms each ERP is affiliated with. \n",
    "\n",
    "NOTE:\n",
    "- COG terms here are a somewhat arbitrary selection: need a better set of terms, less arbitrarily selected. "
   ]
  },
  {
   "cell_type": "code",
   "execution_count": 11,
   "metadata": {
    "collapsed": true
   },
   "outputs": [],
   "source": [
    "# Initialize object for term count co-occurences. \n",
    "term_counts = ERPSC_Count()\n",
    "\n",
    "# Set erp and cog lists as terms to use\n",
    "term_counts.set_erps(erps)\n",
    "term_counts.set_cogs(cogs)"
   ]
  },
  {
   "cell_type": "code",
   "execution_count": 12,
   "metadata": {
    "collapsed": false
   },
   "outputs": [],
   "source": [
    "# Scrape the co-occurence of terms data\n",
    "term_counts.scrape_data()"
   ]
  },
  {
   "cell_type": "code",
   "execution_count": 13,
   "metadata": {
    "collapsed": false
   },
   "outputs": [
    {
     "name": "stdout",
     "output_type": "stream",
     "text": [
      "For the  P50   the most common association is \t auditory   with \t %06.72\n",
      "For the  P100  the most common association is \t vision     with \t %09.69\n",
      "For the  P200  the most common association is \t auditory   with \t %32.79\n",
      "For the  P300  the most common association is \t auditory   with \t %21.00\n",
      "For the  P3a   the most common association is \t auditory   with \t %51.98\n",
      "For the  P3b   the most common association is \t attention  with \t %41.79\n",
      "For the  P600  the most common association is \t language   with \t %55.22\n",
      "For the  N100  the most common association is \t auditory   with \t %63.75\n",
      "For the  N170  the most common association is \t attention  with \t %19.05\n",
      "For the  N200  the most common association is \t auditory   with \t %34.69\n",
      "For the  N270  the most common association is \t attention  with \t %30.36\n",
      "For the  N2pc  the most common association is \t attention  with \t %88.74\n",
      "For the  N400  the most common association is \t language   with \t %43.19\n",
      "For the  MMN   the most common association is \t auditory   with \t %68.64\n",
      "For the  LPC   the most common association is \t memory     with \t %04.55\n",
      "For the  CNV   the most common association is \t vision     with \t %10.19\n",
      "For the  ERN   the most common association is \t attention  with \t %14.97\n",
      "For the  ELAN  the most common association is \t language   with \t %12.89\n",
      "For the  CPS   the most common association is \t spatial    with \t %02.08\n",
      "For the  LRP   the most common association is \t motor      with \t %04.41\n",
      "For the  LDN   the most common association is \t auditory   with \t %05.41\n"
     ]
    }
   ],
   "source": [
    "# Check the most commonly associated COG term for each ERP\n",
    "term_counts.check_erps()"
   ]
  },
  {
   "cell_type": "code",
   "execution_count": 14,
   "metadata": {
    "collapsed": false
   },
   "outputs": [
    {
     "name": "stdout",
     "output_type": "stream",
     "text": [
      "For  language             the strongest associated ERP is \t P600  with \t %55.22\n",
      "For  memory               the strongest associated ERP is \t N400  with \t %22.27\n",
      "For  attention            the strongest associated ERP is \t N2pc  with \t %88.74\n",
      "For  motor                the strongest associated ERP is \t MMN   with \t %14.50\n",
      "For  decision making      the strongest associated ERP is \t ERN   with \t %05.15\n",
      "For  vision               the strongest associated ERP is \t CNV   with \t %10.19\n",
      "For  auditory             the strongest associated ERP is \t MMN   with \t %68.64\n",
      "For  emotion              the strongest associated ERP is \t N170  with \t %15.91\n",
      "For  categorization       the strongest associated ERP is \t N170  with \t %07.36\n",
      "For  reward               the strongest associated ERP is \t ERN   with \t %06.47\n",
      "For  spatial              the strongest associated ERP is \t N2pc  with \t %36.75\n"
     ]
    }
   ],
   "source": [
    "# Check the most commonly associated ERP term for each COG\n",
    "term_counts.check_cogs()"
   ]
  },
  {
   "cell_type": "code",
   "execution_count": 15,
   "metadata": {
    "collapsed": false
   },
   "outputs": [
    {
     "name": "stdout",
     "output_type": "stream",
     "text": [
      "The most studied ERP is  P300    with    10099 papers\n",
      "The most studied COG is  motor   with   353054  papers\n"
     ]
    }
   ],
   "source": [
    "# Check the terms with the most papers\n",
    "term_counts.check_top()"
   ]
  },
  {
   "cell_type": "code",
   "execution_count": 16,
   "metadata": {
    "collapsed": false
   },
   "outputs": [
    {
     "name": "stdout",
     "output_type": "stream",
     "text": [
      "P50   -     8190\n",
      "P100  -     2177\n",
      "P200  -      854\n",
      "P300  -    10099\n",
      "P3a   -      783\n",
      "P3b   -      773\n",
      "P600  -      536\n",
      "N100  -      902\n",
      "N170  -      924\n",
      "N200  -      588\n",
      "N270  -       56\n",
      "N2pc  -      302\n",
      "N400  -     1850\n",
      "MMN   -     2242\n",
      "LPC   -     2438\n",
      "CNV   -     6264\n",
      "ERN   -      835\n",
      "ELAN  -      225\n",
      "CPS   -     6201\n",
      "LRP   -     3287\n",
      "LDN   -      536\n"
     ]
    }
   ],
   "source": [
    "# Check how many papers were found for each term - ERPs\n",
    "term_counts.check_counts('erp')"
   ]
  },
  {
   "cell_type": "code",
   "execution_count": 17,
   "metadata": {
    "collapsed": false
   },
   "outputs": [
    {
     "name": "stdout",
     "output_type": "stream",
     "text": [
      "language           -     136063\n",
      "memory             -     213658\n",
      "attention          -     336831\n",
      "motor              -     353054\n",
      "decision making    -     149559\n",
      "vision             -     136018\n",
      "auditory           -     114602\n",
      "emotion            -      26765\n",
      "categorization     -      11404\n",
      "reward             -      31530\n",
      "spatial            -     224131\n"
     ]
    }
   ],
   "source": [
    "# Check how many papers were found for each term - COGs\n",
    "term_counts.check_counts('cog')"
   ]
  },
  {
   "cell_type": "code",
   "execution_count": 18,
   "metadata": {
    "collapsed": false
   },
   "outputs": [],
   "source": [
    "# Save pickle file of results\n",
    "term_counts.save_pickle()"
   ]
  },
  {
   "cell_type": "code",
   "execution_count": 13,
   "metadata": {
    "collapsed": false
   },
   "outputs": [],
   "source": [
    "# Load from pickle file\n",
    "term_counts = load_pickle_counts()"
   ]
  },
  {
   "cell_type": "markdown",
   "metadata": {},
   "source": [
    "## WORD ANALYSIS\n",
    "\n",
    "This analysis searches through pubmed for papers that mention specific ERPs. It then scrapes the titles, words, and years of all those papers such that this data can be used for further analysis. "
   ]
  },
  {
   "cell_type": "code",
   "execution_count": 3,
   "metadata": {
    "collapsed": false
   },
   "outputs": [],
   "source": [
    "# Initialize words-analysis object\n",
    "words_analysis = ERPSC_Words()"
   ]
  },
  {
   "cell_type": "code",
   "execution_count": 4,
   "metadata": {
    "collapsed": false
   },
   "outputs": [],
   "source": [
    "# Set ERP terms\n",
    "words_analysis.set_erps(erps)"
   ]
  },
  {
   "cell_type": "code",
   "execution_count": 5,
   "metadata": {
    "collapsed": false
   },
   "outputs": [],
   "source": [
    "# Scrape word data for all ERP abstracts\n",
    "words_analysis.scrape_data()"
   ]
  },
  {
   "cell_type": "code",
   "execution_count": 6,
   "metadata": {
    "collapsed": false
   },
   "outputs": [],
   "source": [
    "# Combine words from each article together\n",
    "words_analysis.comb_words()"
   ]
  },
  {
   "cell_type": "code",
   "execution_count": 7,
   "metadata": {
    "collapsed": false
   },
   "outputs": [],
   "source": [
    "# Compute frequency distributions for words for each ERP\n",
    "words_analysis.freq_dists()"
   ]
  },
  {
   "cell_type": "code",
   "execution_count": 12,
   "metadata": {
    "collapsed": false
   },
   "outputs": [
    {
     "name": "stdout",
     "output_type": "stream",
     "text": [
      "P50 :  nf-κb , expression , cells , cell , nuclear , study , increased , activation , protein , \n",
      "P100 :  visual , nf-κb , patients , processing , study , expression , results , cells , cell , \n",
      "P200 :  processing , study , results , auditory , patients , showed , potentials , compared , event-related , \n",
      "P300 :  expression , histone , cell , cells , results , study , protein , also , gene , \n",
      "P3a :  auditory , attention , event-related , processing , stimuli , task , study , p3b , results , \n",
      "P3b :  event-related , processing , task , study , results , erp , amplitude , p3a , cognitive , \n",
      "P600 :  syntactic , processing , semantic , results , sentences , language , erp , n400 , event-related , \n",
      "N100 :  auditory , study , amplitude , processing , potentials , patients , sensory , results , response , \n",
      "N170 :  face , faces , processing , visual , facial , early , emotional , event-related , results , \n",
      "N200 :  p300 , patients , potentials , event-related , amplitude , processing , cognitive , erp , results , \n",
      "N270 :  conflict , visual , two , processing , different , subjects , stimuli , condition , stimulus , \n",
      "N2pc :  target , attention , visual , attentional , search , results , selection , targets , task , \n",
      "N400 :  semantic , words , processing , effect , word , results , effects , erp , event-related , \n",
      "MMN :  auditory , mismatch , negativity , processing , response , (mmn) , patients , study , results , \n",
      "LPC :  results , study , cells , (lpc) , lipid , effects , using , increased , liver , \n",
      "CNV :  number , copy , patients , cnvs , choroidal , genetic , genes , associated , (cnv) , \n",
      "ERN :  error , error-related , negativity , monitoring , performance , response , task , results , errors , \n",
      "ELAN :  patients , study , treatment , clinical , used , early , using , results , also , \n",
      "CPS :  (cps) , study , cp , using , patients , results , high , also , two , \n",
      "LRP :  expression , cell , protein , cells , results , cancer , study , response , radical , \n",
      "LDN :  donor , nephrectomy , laparoscopic , (ldn) , bmp , study , expression , cells , renal , \n"
     ]
    }
   ],
   "source": [
    "# Check which words are most frequency for each ERP\n",
    "words_analysis.check_words(9)"
   ]
  },
  {
   "cell_type": "code",
   "execution_count": 39,
   "metadata": {
    "collapsed": true
   },
   "outputs": [],
   "source": [
    "# Save pickle of word object\n",
    "words_analysis.save_pickle()"
   ]
  },
  {
   "cell_type": "code",
   "execution_count": 2,
   "metadata": {
    "collapsed": true
   },
   "outputs": [],
   "source": [
    "# Load word pickle object\n",
    "words_analysis = load_pickle_words()"
   ]
  },
  {
   "cell_type": "code",
   "execution_count": null,
   "metadata": {
    "collapsed": true
   },
   "outputs": [],
   "source": [
    "\n",
    "\n",
    "\n",
    "\n",
    "\n",
    "\n"
   ]
  },
  {
   "cell_type": "code",
   "execution_count": 9,
   "metadata": {
    "collapsed": false
   },
   "outputs": [],
   "source": [
    "# Test Code\n",
    "\n",
    "#page = requests.get('http://eutils.ncbi.nlm.nih.gov/entrez/eutils/esearch.fcgi?db=pubmed&field=word&term=“N270”AND”Language”')\n",
    "#page = requests.get('http://eutils.ncbi.nlm.nih.gov/entrez/eutils/esearch.fcgi?db=pubmed&field=word&term=“P300”&retmax=10')\n",
    "page = requests.get('http://www.ncbi.nlm.nih.gov/pubmed/27354714')\n",
    "\n",
    "page_soup = BeautifulSoup(page.content)\n",
    "\n",
    "#counts = page_soup.find_all('count')\n",
    "\n",
    "#for i in range(0, len(counts)):\n",
    "#    count = counts[i]\n",
    "#    ext = count.text\n",
    "#    print int(ext)\n",
    "\n",
    "art_page = requests.get('http://eutils.ncbi.nlm.nih.gov/entrez/eutils/efetch.fcgi?db=pubmed&retmode=xml&id=' + id_strs)\n",
    "\n",
    "art_page_soup = BeautifulSoup(art_page.content, \"xml\")"
   ]
  },
  {
   "cell_type": "code",
   "execution_count": null,
   "metadata": {
    "collapsed": true
   },
   "outputs": [],
   "source": []
  }
 ],
 "metadata": {
  "kernelspec": {
   "display_name": "Python 2",
   "language": "python",
   "name": "python2"
  },
  "language_info": {
   "codemirror_mode": {
    "name": "ipython",
    "version": 2
   },
   "file_extension": ".py",
   "mimetype": "text/x-python",
   "name": "python",
   "nbconvert_exporter": "python",
   "pygments_lexer": "ipython2",
   "version": "2.7.11"
  }
 },
 "nbformat": 4,
 "nbformat_minor": 0
}
