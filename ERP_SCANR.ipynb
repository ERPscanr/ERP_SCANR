{
 "cells": [
  {
   "cell_type": "markdown",
   "metadata": {},
   "source": [
    "## ERP SCANR\n",
    "\n",
    "\n",
    "."
   ]
  },
  {
   "cell_type": "code",
   "execution_count": 2,
   "metadata": {
    "collapsed": false
   },
   "outputs": [],
   "source": [
    "## Imports\n",
    "\n",
    "# Import custom code\n",
    "from erpsc import *"
   ]
  },
  {
   "cell_type": "code",
   "execution_count": 3,
   "metadata": {
    "collapsed": false
   },
   "outputs": [],
   "source": [
    "## Things to search through\n",
    "erps = ['P50', 'P100', 'P200', 'P300', 'P3a', 'P3b', 'P600', 'N100', 'N170', \\\n",
    "        'N200', 'N2pc', 'N400', 'MMN', 'LPC', 'CNV', 'ERN', 'ELAN', 'CPS', 'LRP']\n",
    "cogs = ['language', 'memory', 'attention', 'motor', 'decision making', 'vision', \\\n",
    "        'auditory', 'emotion', 'categorization', 'reward', 'spatial']"
   ]
  },
  {
   "cell_type": "code",
   "execution_count": 4,
   "metadata": {
    "collapsed": true
   },
   "outputs": [],
   "source": [
    "# Initialize object for term count co-occurences. \n",
    "t_counts = ERPSC_Count()\n",
    "\n",
    "# Set erp and cog lists as terms to use\n",
    "t_counts.set_erps(erps)\n",
    "t_counts.set_cogs(cogs)"
   ]
  },
  {
   "cell_type": "code",
   "execution_count": 5,
   "metadata": {
    "collapsed": false
   },
   "outputs": [],
   "source": [
    "# \n",
    "t_counts.scrape_data()"
   ]
  },
  {
   "cell_type": "code",
   "execution_count": 6,
   "metadata": {
    "collapsed": false
   },
   "outputs": [
    {
     "name": "stdout",
     "output_type": "stream",
     "text": [
      "For the  P50   the most common association is  auditory   with %06.73\n",
      "For the  P100  the most common association is  vision     with %09.73\n",
      "For the  P200  the most common association is  auditory   with %32.86\n",
      "For the  P300  the most common association is  auditory   with %20.98\n",
      "For the  P3a   the most common association is  auditory   with %51.85\n",
      "For the  P3b   the most common association is  attention  with %41.66\n",
      "For the  P600  the most common association is  language   with %55.43\n",
      "For the  N100  the most common association is  auditory   with %63.75\n",
      "For the  N170  the most common association is  attention  with %19.07\n",
      "For the  N200  the most common association is  auditory   with %34.81\n",
      "For the  N2pc  the most common association is  attention  with %88.59\n",
      "For the  N400  the most common association is  language   with %43.17\n",
      "For the  MMN   the most common association is  auditory   with %68.71\n",
      "For the  LPC   the most common association is  memory     with %04.53\n",
      "For the  CNV   the most common association is  vision     with %10.23\n",
      "For the  ERN   the most common association is  attention  with %14.90\n",
      "For the  ELAN  the most common association is  language   with %12.89\n",
      "For the  CPS   the most common association is  spatial    with %02.09\n",
      "For the  LRP   the most common association is  motor      with %04.45\n"
     ]
    }
   ],
   "source": [
    "# Check the most commonly associated COG term for each ERP\n",
    "t_counts.check_erps()"
   ]
  },
  {
   "cell_type": "code",
   "execution_count": 6,
   "metadata": {
    "collapsed": false
   },
   "outputs": [
    {
     "name": "stdout",
     "output_type": "stream",
     "text": [
      "For  language             the strongest associated ERP is   P600  with   %55.43\n",
      "For  memory               the strongest associated ERP is   N400  with   %22.28\n",
      "For  attention            the strongest associated ERP is   N2pc  with   %88.59\n",
      "For  motor                the strongest associated ERP is   MMN   with   %14.46\n",
      "For  decision making      the strongest associated ERP is   ERN   with   %05.05\n",
      "For  vision               the strongest associated ERP is   CNV   with   %10.23\n",
      "For  auditory             the strongest associated ERP is   MMN   with   %68.70\n",
      "For  emotion              the strongest associated ERP is   N170  with   %15.94\n",
      "For  categorization       the strongest associated ERP is   N170  with   %07.38\n",
      "For  reward               the strongest associated ERP is   ERN   with   %06.50\n",
      "For  spatial              the strongest associated ERP is   N2pc  with   %36.91\n"
     ]
    }
   ],
   "source": [
    "# Check the most commonly associated ERP term for each COG\n",
    "t_counts.check_cogs()"
   ]
  },
  {
   "cell_type": "code",
   "execution_count": 8,
   "metadata": {
    "collapsed": false
   },
   "outputs": [
    {
     "name": "stdout",
     "output_type": "stream",
     "text": [
      "The most studied ERP is  P300    with     10069  papers\n",
      "The most studied COG is  motor   with    352132  papers\n"
     ]
    }
   ],
   "source": [
    "# Check the terms with the most papers\n",
    "t_counts.check_top()"
   ]
  },
  {
   "cell_type": "code",
   "execution_count": 9,
   "metadata": {
    "collapsed": false
   },
   "outputs": [
    {
     "name": "stdout",
     "output_type": "stream",
     "text": [
      "P50   -     8172\n",
      "P100  -     2169\n",
      "P200  -      852\n",
      "P300  -    10069\n",
      "P3a   -      783\n",
      "P3b   -      773\n",
      "P600  -      534\n",
      "N100  -      902\n",
      "N170  -      923\n",
      "N200  -      586\n",
      "N2pc  -      298\n",
      "N400  -     1846\n",
      "MMN   -     2234\n",
      "LPC   -     2430\n",
      "CNV   -     6229\n",
      "ERN   -      832\n",
      "ELAN  -      225\n",
      "CPS   -     6176\n",
      "LRP   -     3279\n"
     ]
    }
   ],
   "source": [
    "# Check how many papers were found for each term - ERPs\n",
    "t_counts.check_counts('erp')"
   ]
  },
  {
   "cell_type": "code",
   "execution_count": 9,
   "metadata": {
    "collapsed": false
   },
   "outputs": [
    {
     "name": "stdout",
     "output_type": "stream",
     "text": [
      "language           -     135461\n",
      "memory             -     212839\n",
      "attention          -     335525\n",
      "motor              -     352011\n",
      "decision making    -     148901\n",
      "vision             -     135650\n",
      "auditory           -     114337\n",
      "emotion            -      26590\n",
      "categorization     -      11342\n",
      "reward             -      31372\n",
      "spatial            -     223226\n"
     ]
    }
   ],
   "source": [
    "# Check how many papers were found for each term - COGs\n",
    "t_counts.check_counts('cog')"
   ]
  },
  {
   "cell_type": "code",
   "execution_count": null,
   "metadata": {
    "collapsed": true
   },
   "outputs": [],
   "source": []
  },
  {
   "cell_type": "code",
   "execution_count": null,
   "metadata": {
    "collapsed": true
   },
   "outputs": [],
   "source": [
    "\n",
    "\n",
    "\n",
    "\n",
    "\n",
    "\n",
    "\n"
   ]
  },
  {
   "cell_type": "code",
   "execution_count": null,
   "metadata": {
    "collapsed": true
   },
   "outputs": [],
   "source": [
    "# Test Code\n",
    "\n",
    "page = requests.get('http://eutils.ncbi.nlm.nih.gov/entrez/eutils/esearch.fcgi?db=pubmed&field=word&term=“N400”AND”Language”')\n",
    "\n",
    "page_soup = BeautifulSoup(page.content)\n",
    "\n",
    "counts = page_soup.find_all('count')\n",
    "\n",
    "for i in range(0, len(counts)):\n",
    "    count = counts[i]\n",
    "    ext = count.text\n",
    "    print int(ext)"
   ]
  }
 ],
 "metadata": {
  "kernelspec": {
   "display_name": "Python 2",
   "language": "python",
   "name": "python2"
  },
  "language_info": {
   "codemirror_mode": {
    "name": "ipython",
    "version": 2
   },
   "file_extension": ".py",
   "mimetype": "text/x-python",
   "name": "python",
   "nbconvert_exporter": "python",
   "pygments_lexer": "ipython2",
   "version": "2.7.11"
  }
 },
 "nbformat": 4,
 "nbformat_minor": 0
}
